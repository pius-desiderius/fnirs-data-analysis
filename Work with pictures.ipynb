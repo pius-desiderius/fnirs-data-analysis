{
 "cells": [
  {
   "cell_type": "code",
   "execution_count": 1,
   "id": "dd8400fb",
   "metadata": {},
   "outputs": [],
   "source": [
    "from PIL import Image, ImageDraw\n",
    "\n",
    "def create_collage(image_paths, blacklist, collage_size=(3200, 2000), frame_size=(640, 500), \n",
    "                   cols=5, bg_color=(255, 255, 255), border_color=(255, 0, 0)):\n",
    "    # Create a blank canvas for the collage\n",
    "    collage = Image.new('RGB', collage_size, color=bg_color)\n",
    "\n",
    "    # Loop through each image path\n",
    "    for idx, img_path in enumerate(image_paths):\n",
    "        # Open the image\n",
    "        img = Image.open(img_path)\n",
    "        \n",
    "        # Check if the image path contains any string from the blacklist\n",
    "        if any(word in img_path for word in blacklist):\n",
    "            # Add a border to the image with the specified color\n",
    "            img = add_border(img, border_color)\n",
    "        \n",
    "        # Calculate the position to paste the image\n",
    "        x = (idx % cols) * frame_size[0]\n",
    "        y = (idx // cols) * frame_size[1]\n",
    "        \n",
    "        # Resize the image to fit the frame\n",
    "        img.thumbnail(frame_size)\n",
    "        \n",
    "        # Paste the resized image onto the collage\n",
    "        collage.paste(img, (x, y))\n",
    "\n",
    "    # Display the collage\n",
    "    return collage\n",
    "    \n",
    "def add_border(img, color, thickness=10):\n",
    "    # Create a copy of the image with a border\n",
    "    img_with_border = Image.new('RGB', (img.width + thickness * 2, img.height + thickness * 2), color)\n",
    "    img_with_border.paste(img, (thickness, thickness))\n",
    "    return img_with_border\n"
   ]
  },
  {
   "cell_type": "code",
   "execution_count": 2,
   "id": "35c65bd5",
   "metadata": {},
   "outputs": [],
   "source": [
    "from PIL import Image\n",
    "def join_images(path1, path2, savepath):\n",
    "    image1 = Image.open(path1)\n",
    "    image2 = Image.open(path2)\n",
    "    image1_size = image1.size\n",
    "    new_image = Image.new('RGB',(2*image1_size[0], image1_size[1]), (250,250,250))\n",
    "    new_image.paste(image1,(0,0))\n",
    "    new_image.paste(image2,(image1_size[0],0))\n",
    "    new_image.save(savepath,\"PNG\")\n"
   ]
  },
  {
   "cell_type": "code",
   "execution_count": 5,
   "id": "0a19787c",
   "metadata": {},
   "outputs": [],
   "source": [
    "a = join_images('/home/avaldamon/Desktop/mean_pictures/delta/HAEMO_MI_M1S1.png',\n",
    "               '/home/avaldamon/Desktop/mean_pictures/delta/HAEMO_TI_M1S1.png',\n",
    "               '/home/avaldamon/Desktop/mean_pictures/delta/joined_curves.png')\n",
    "\n",
    "a = join_images('/home/avaldamon/Desktop/mean_pictures/delta/TOPO_DELTA_MI.png',\n",
    "               '/home/avaldamon/Desktop/mean_pictures/delta/TOPO_DELTA_TI.png',\n",
    "               '/home/avaldamon/Desktop/mean_pictures/delta/joined_topos.png')\n"
   ]
  },
  {
   "cell_type": "code",
   "execution_count": 4,
   "id": "63ebf696",
   "metadata": {},
   "outputs": [],
   "source": [
    "import numpy as np\n",
    "\n",
    "arr1 = np.load('/mnt/diskus/fnirs_pics/relation_np/AA_ME_rel_left.npy')\n",
    "arr2 = np.load('/mnt/diskus/fnirs_pics/relation_np/AA_MI_rel_left.npy')\n",
    "arr3 = np.load('/mnt/diskus/fnirs_pics/relation_np/AA_TS_rel_left.npy')\n",
    "arr4 = np.load('/mnt/diskus/fnirs_pics/relation_np/AA_TI_rel_left.npy')\n",
    "\n"
   ]
  },
  {
   "cell_type": "code",
   "execution_count": 2,
   "id": "161962a8",
   "metadata": {},
   "outputs": [
    {
     "name": "stdout",
     "output_type": "stream",
     "text": [
      "Using matplotlib backend: QtAgg\n"
     ]
    }
   ],
   "source": [
    "%matplotlib auto"
   ]
  },
  {
   "cell_type": "code",
   "execution_count": 5,
   "id": "7fc1d979",
   "metadata": {},
   "outputs": [],
   "source": [
    "import os\n",
    "import logging\n",
    "import matplotlib\n",
    "from functions_fnirs import *\n",
    "from ROI import different_hb, different_roi, SMZ_LEFT_ROI_HBO\n",
    "from mpl_toolkits.axes_grid1.inset_locator import inset_axes\n",
    "from plotting_params import *\n",
    "from meta import DIRS_TO_SAVE_STUFF\n",
    "\n",
    "plt.ioff()\n",
    "\n",
    "fnirs_colors = dict(\n",
    "    hbo='#C91111',\n",
    "    hbt= '#A4C210',\n",
    "    hbr='#135181',\n",
    "  )\n",
    "\n",
    "TMIN  = float(-2)\n",
    "TMAX = float(14.5)\n",
    "BASELINE = (-1., 0.5)\n",
    "SFREQ = 2\n",
    "curves_hb = 'hbo'\n",
    "logging.basicConfig(filename=\"../fnirs_infos/log_runtime.txt\", format=\"%(message)s\", filemode=\"w\", level=logging.INFO)\n",
    "\n",
    "fnirs_dir = \"/mnt/diskus/fNIRS data ME_MI_TS_TI_SA\"\n",
    "subfolders = fast_scandir(fnirs_dir)\n",
    "subfolders = sorted(subfolders[20:])\n",
    "# print(subfolders)\n",
    "\n",
    "for items in DIRS_TO_SAVE_STUFF.values():\n",
    "    os.makedirs(items, exist_ok=True)"
   ]
  },
  {
   "cell_type": "code",
   "execution_count": 38,
   "id": "80caed5f",
   "metadata": {},
   "outputs": [
    {
     "name": "stdout",
     "output_type": "stream",
     "text": [
      "Loading /mnt/diskus/fNIRS data ME_MI_TS_TI_SA/MK/MK_MI\n",
      "Reading 0 ... 6660  =      0.000 ...   654.705 secs...\n",
      "Setting channel interpolation method to {'fnirs': 'nearest'}.\n",
      "Interpolating bad channels.\n",
      "    Automatic origin fit: head of radius 91.4 mm\n"
     ]
    },
    {
     "name": "stderr",
     "output_type": "stream",
     "text": [
      "/tmp/ipykernel_11946/3208288300.py:26: FutureWarning: The default for pick_channels will change from ordered=False to ordered=True in 1.5 and this will result in a change of behavior because the resulting channel order will not match. Either use a channel order that matches your instance or pass ordered=False.\n",
      "  raw_od.interpolate_bads()\n"
     ]
    }
   ],
   "source": [
    "raw_intensity = mne.io.read_raw_nirx('/mnt/diskus/fNIRS data ME_MI_TS_TI_SA/MK/MK_MI')\n",
    "raw_od = optical_density(raw_intensity) #from row wavelength data\n",
    "raw_od.apply_function(detrender, picks=raw_od.ch_names)\n",
    "raw_od.apply_function(detrender, picks=raw_od.ch_names)\n",
    "raw_od_shorts = mne_nirs.channels.get_short_channels(raw_od)\n",
    "raw_od.drop_channels(DROP_CHANS) #we had a non-existent channel\n",
    "raw_od = raw_od.filter(**FILTER_DICT)\n",
    "raw_od = mne_nirs.signal_enhancement.short_channel_regression(raw_od)\n",
    "raw_od = mne_nirs.channels.get_long_channels(raw_od)\n",
    "raw_od = temporal_derivative_distribution_repair(raw_od)\n",
    "raw_od = temporal_derivative_distribution_repair(raw_od)\n",
    "\n",
    "channel_std = np.abs(scipy.stats.skew(raw_od.copy().pick([i for i in raw_od.ch_names if '760' in i]).get_data(), \n",
    "                     axis=(1)))\n",
    "# print(channel_std)\n",
    "biggest_indices = np.argpartition(channel_std, -20)[-20:]\n",
    "# smallest_indices = np.argpartition(channel_std,  5)[:5]\n",
    "biggest_indices_list = biggest_indices.tolist()\n",
    "deviant_channels_idx = biggest_indices_list\n",
    "\n",
    "bad_channels_hbo = [raw_od.copy().pick([i for i in raw_od.ch_names if '760' in i]).ch_names[i]\n",
    "               for i in deviant_channels_idx]\n",
    "bad_channels_hbr = [i.replace('760', '850') for i in bad_channels_hbo]\n",
    "bad_channels = bad_channels_hbo + bad_channels_hbr\n",
    "raw_od.info['bads'] = bad_channels\n",
    "raw_od.interpolate_bads()\n",
    "\n",
    "raw_haemo = beer_lambert_law(raw_od, ppf=0.1) #from wavelength to HbO\\HbR\n",
    "raw_haemo = enhance_negative_correlation(raw_haemo)"
   ]
  },
  {
   "cell_type": "code",
   "execution_count": 41,
   "id": "99109ba6",
   "metadata": {},
   "outputs": [
    {
     "data": {
      "text/plain": [
       "['S11_D8 760',\n",
       " 'S11_D8 850',\n",
       " 'S17_D24 760',\n",
       " 'S17_D24 850',\n",
       " 'S21_D24 760',\n",
       " 'S21_D24 850',\n",
       " 'S23_D22 760',\n",
       " 'S23_D22 850',\n",
       " 'S24_D27 760',\n",
       " 'S24_D27 850',\n",
       " 'S26_D25 760',\n",
       " 'S26_D25 850',\n",
       " 'S26_D29 760',\n",
       " 'S26_D29 850',\n",
       " 'S30_D29 760',\n",
       " 'S30_D29 850',\n",
       " 'S32_D28 760',\n",
       " 'S32_D28 850',\n",
       " 'S32_D31 760',\n",
       " 'S32_D31 850',\n",
       " 'S3_D1 760',\n",
       " 'S3_D1 850',\n",
       " 'S3_D4 760',\n",
       " 'S3_D4 850',\n",
       " 'S5_D6 760',\n",
       " 'S5_D6 850',\n",
       " 'S6_D3 760',\n",
       " 'S6_D3 850',\n",
       " 'S7_D11 760',\n",
       " 'S7_D11 850',\n",
       " 'S7_D8 760',\n",
       " 'S7_D8 850',\n",
       " 'S7_D9 760',\n",
       " 'S7_D9 850',\n",
       " 'S8_D15 760',\n",
       " 'S8_D15 850',\n",
       " 'S8_D5 760',\n",
       " 'S8_D5 850',\n",
       " 'S8_D9 760',\n",
       " 'S8_D9 850']"
      ]
     },
     "execution_count": 41,
     "metadata": {},
     "output_type": "execute_result"
    }
   ],
   "source": [
    "sorted(bad_channels)"
   ]
  },
  {
   "cell_type": "code",
   "execution_count": 25,
   "id": "82d64c14",
   "metadata": {},
   "outputs": [
    {
     "data": {
      "image/png": "[encoded data removed]",
      "text/plain": [
       "<MNEBrowseFigure size 1920x1052 with 4 Axes>"
      ]
     },
     "execution_count": 25,
     "metadata": {},
     "output_type": "execute_result"
    },
    {
     "name": "stdout",
     "output_type": "stream",
     "text": [
      "Channels marked as bad:\n",
      "none\n"
     ]
    }
   ],
   "source": [
    "raw_haemo.plot()"
   ]
  },
  {
   "cell_type": "code",
   "execution_count": 3,
   "id": "b7a7e6f2",
   "metadata": {},
   "outputs": [
    {
     "name": "stdout",
     "output_type": "stream",
     "text": [
      "['/mnt/diskus/fNIRS data ME_MI_TS_TI_SA/AA/AA_ME', '/mnt/diskus/fNIRS data ME_MI_TS_TI_SA/AA/AA_MI', '/mnt/diskus/fNIRS data ME_MI_TS_TI_SA/AA/AA_SA', '/mnt/diskus/fNIRS data ME_MI_TS_TI_SA/AA/AA_TI', '/mnt/diskus/fNIRS data ME_MI_TS_TI_SA/AA/AA_TS', '/mnt/diskus/fNIRS data ME_MI_TS_TI_SA/AB/AB_ME', '/mnt/diskus/fNIRS data ME_MI_TS_TI_SA/AB/AB_MI', '/mnt/diskus/fNIRS data ME_MI_TS_TI_SA/AB/AB_SA', '/mnt/diskus/fNIRS data ME_MI_TS_TI_SA/AB/AB_TI', '/mnt/diskus/fNIRS data ME_MI_TS_TI_SA/AB/AB_TS', '/mnt/diskus/fNIRS data ME_MI_TS_TI_SA/AL/AL_ME', '/mnt/diskus/fNIRS data ME_MI_TS_TI_SA/AL/AL_MI', '/mnt/diskus/fNIRS data ME_MI_TS_TI_SA/AL/AL_SA', '/mnt/diskus/fNIRS data ME_MI_TS_TI_SA/AL/AL_TI', '/mnt/diskus/fNIRS data ME_MI_TS_TI_SA/AL/AL_TS', '/mnt/diskus/fNIRS data ME_MI_TS_TI_SA/AM/AM_ME', '/mnt/diskus/fNIRS data ME_MI_TS_TI_SA/AM/AM_MI', '/mnt/diskus/fNIRS data ME_MI_TS_TI_SA/AM/AM_SA', '/mnt/diskus/fNIRS data ME_MI_TS_TI_SA/AM/AM_TI', '/mnt/diskus/fNIRS data ME_MI_TS_TI_SA/AM/AM_TS', '/mnt/diskus/fNIRS data ME_MI_TS_TI_SA/DK/DK_ME', '/mnt/diskus/fNIRS data ME_MI_TS_TI_SA/DK/DK_MI', '/mnt/diskus/fNIRS data ME_MI_TS_TI_SA/DK/DK_SA', '/mnt/diskus/fNIRS data ME_MI_TS_TI_SA/DK/DK_TI', '/mnt/diskus/fNIRS data ME_MI_TS_TI_SA/DK/DK_TS', '/mnt/diskus/fNIRS data ME_MI_TS_TI_SA/DT/DT_ME', '/mnt/diskus/fNIRS data ME_MI_TS_TI_SA/DT/DT_MI', '/mnt/diskus/fNIRS data ME_MI_TS_TI_SA/DT/DT_SA', '/mnt/diskus/fNIRS data ME_MI_TS_TI_SA/DT/DT_TI', '/mnt/diskus/fNIRS data ME_MI_TS_TI_SA/DT/DT_TS', '/mnt/diskus/fNIRS data ME_MI_TS_TI_SA/EI/EI_ME', '/mnt/diskus/fNIRS data ME_MI_TS_TI_SA/EI/EI_MI', '/mnt/diskus/fNIRS data ME_MI_TS_TI_SA/EI/EI_SA', '/mnt/diskus/fNIRS data ME_MI_TS_TI_SA/EI/EI_TI', '/mnt/diskus/fNIRS data ME_MI_TS_TI_SA/EI/EI_TS', '/mnt/diskus/fNIRS data ME_MI_TS_TI_SA/ET/ET_ME', '/mnt/diskus/fNIRS data ME_MI_TS_TI_SA/ET/ET_MI', '/mnt/diskus/fNIRS data ME_MI_TS_TI_SA/ET/ET_SA', '/mnt/diskus/fNIRS data ME_MI_TS_TI_SA/ET/ET_TI', '/mnt/diskus/fNIRS data ME_MI_TS_TI_SA/ET/ET_TS', '/mnt/diskus/fNIRS data ME_MI_TS_TI_SA/GF/GF_ME', '/mnt/diskus/fNIRS data ME_MI_TS_TI_SA/GF/GF_MI', '/mnt/diskus/fNIRS data ME_MI_TS_TI_SA/GF/GF_SA', '/mnt/diskus/fNIRS data ME_MI_TS_TI_SA/GF/GF_TI', '/mnt/diskus/fNIRS data ME_MI_TS_TI_SA/GF/GF_TS', '/mnt/diskus/fNIRS data ME_MI_TS_TI_SA/IM/IM_ME', '/mnt/diskus/fNIRS data ME_MI_TS_TI_SA/IM/IM_MI', '/mnt/diskus/fNIRS data ME_MI_TS_TI_SA/IM/IM_SA', '/mnt/diskus/fNIRS data ME_MI_TS_TI_SA/IM/IM_TI', '/mnt/diskus/fNIRS data ME_MI_TS_TI_SA/IM/IM_TS', '/mnt/diskus/fNIRS data ME_MI_TS_TI_SA/IV/IV_ME', '/mnt/diskus/fNIRS data ME_MI_TS_TI_SA/IV/IV_MI', '/mnt/diskus/fNIRS data ME_MI_TS_TI_SA/IV/IV_SA', '/mnt/diskus/fNIRS data ME_MI_TS_TI_SA/IV/IV_TI', '/mnt/diskus/fNIRS data ME_MI_TS_TI_SA/IV/IV_TS', '/mnt/diskus/fNIRS data ME_MI_TS_TI_SA/LJ/LJ_ME', '/mnt/diskus/fNIRS data ME_MI_TS_TI_SA/LJ/LJ_MI', '/mnt/diskus/fNIRS data ME_MI_TS_TI_SA/LJ/LJ_SA', '/mnt/diskus/fNIRS data ME_MI_TS_TI_SA/LJ/LJ_TI', '/mnt/diskus/fNIRS data ME_MI_TS_TI_SA/LJ/LJ_TS', '/mnt/diskus/fNIRS data ME_MI_TS_TI_SA/MK/MK_ME', '/mnt/diskus/fNIRS data ME_MI_TS_TI_SA/MK/MK_MI', '/mnt/diskus/fNIRS data ME_MI_TS_TI_SA/MK/MK_SA', '/mnt/diskus/fNIRS data ME_MI_TS_TI_SA/MK/MK_TI', '/mnt/diskus/fNIRS data ME_MI_TS_TI_SA/MK/MK_TS', '/mnt/diskus/fNIRS data ME_MI_TS_TI_SA/MM/MM_ME', '/mnt/diskus/fNIRS data ME_MI_TS_TI_SA/MM/MM_MI', '/mnt/diskus/fNIRS data ME_MI_TS_TI_SA/MM/MM_SA', '/mnt/diskus/fNIRS data ME_MI_TS_TI_SA/MM/MM_TI', '/mnt/diskus/fNIRS data ME_MI_TS_TI_SA/MM/MM_TS', '/mnt/diskus/fNIRS data ME_MI_TS_TI_SA/NB/NB_ME', '/mnt/diskus/fNIRS data ME_MI_TS_TI_SA/NB/NB_MI', '/mnt/diskus/fNIRS data ME_MI_TS_TI_SA/NB/NB_SA', '/mnt/diskus/fNIRS data ME_MI_TS_TI_SA/NB/NB_TI', '/mnt/diskus/fNIRS data ME_MI_TS_TI_SA/NB/NB_TS', '/mnt/diskus/fNIRS data ME_MI_TS_TI_SA/NS/NS_ME', '/mnt/diskus/fNIRS data ME_MI_TS_TI_SA/NS/NS_MI', '/mnt/diskus/fNIRS data ME_MI_TS_TI_SA/NS/NS_SA', '/mnt/diskus/fNIRS data ME_MI_TS_TI_SA/NS/NS_TI', '/mnt/diskus/fNIRS data ME_MI_TS_TI_SA/NS/NS_TS', '/mnt/diskus/fNIRS data ME_MI_TS_TI_SA/OK/OK_ME', '/mnt/diskus/fNIRS data ME_MI_TS_TI_SA/OK/OK_MI', '/mnt/diskus/fNIRS data ME_MI_TS_TI_SA/OK/OK_SA', '/mnt/diskus/fNIRS data ME_MI_TS_TI_SA/OK/OK_TI', '/mnt/diskus/fNIRS data ME_MI_TS_TI_SA/OK/OK_TS', '/mnt/diskus/fNIRS data ME_MI_TS_TI_SA/OP/OP_ME', '/mnt/diskus/fNIRS data ME_MI_TS_TI_SA/OP/OP_MI', '/mnt/diskus/fNIRS data ME_MI_TS_TI_SA/OP/OP_SA', '/mnt/diskus/fNIRS data ME_MI_TS_TI_SA/OP/OP_TI', '/mnt/diskus/fNIRS data ME_MI_TS_TI_SA/OP/OP_TS', '/mnt/diskus/fNIRS data ME_MI_TS_TI_SA/VL/VL_ME', '/mnt/diskus/fNIRS data ME_MI_TS_TI_SA/VL/VL_MI', '/mnt/diskus/fNIRS data ME_MI_TS_TI_SA/VL/VL_SA', '/mnt/diskus/fNIRS data ME_MI_TS_TI_SA/VL/VL_TI', '/mnt/diskus/fNIRS data ME_MI_TS_TI_SA/VL/VL_TS', '/mnt/diskus/fNIRS data ME_MI_TS_TI_SA/VP/VP_ME', '/mnt/diskus/fNIRS data ME_MI_TS_TI_SA/VP/VP_MI', '/mnt/diskus/fNIRS data ME_MI_TS_TI_SA/VP/VP_SA', '/mnt/diskus/fNIRS data ME_MI_TS_TI_SA/VP/VP_TI', '/mnt/diskus/fNIRS data ME_MI_TS_TI_SA/VP/VP_TS']\n",
      "AA_ME\n",
      "Setting channel interpolation method to {'fnirs': 'nearest'}.\n",
      "Interpolating bad channels.\n",
      "    Automatic origin fit: head of radius 91.4 mm\n"
     ]
    },
    {
     "name": "stderr",
     "output_type": "stream",
     "text": [
      "/mnt/diskus/fnirs-data-analysis-git/functions_fnirs.py:180: FutureWarning: The default for pick_channels will change from ordered=False to ordered=True in 1.5 and this will result in a change of behavior because the resulting channel order will not match. Either use a channel order that matches your instance or pass ordered=False.\n",
      "  raw_od.interpolate_bads()\n"
     ]
    },
    {
     "name": "stdout",
     "output_type": "stream",
     "text": [
      "NOTE: pick_types() is a legacy function. New code should use inst.pick(...).\n",
      "NOTE: pick_types() is a legacy function. New code should use inst.pick(...).\n",
      "M1_evoked_rest (20, 33)\n",
      "Peak time 6.0 rel peak time 6.0\n",
      "(20, 33)\n"
     ]
    },
    {
     "name": "stderr",
     "output_type": "stream",
     "text": [
      "/mnt/diskus/fnirs-data-analysis-git/functions_fnirs.py:430: FutureWarning: The current default of copy=False will change to copy=True in 1.7. Set the value of copy explicitly to avoid this warning\n",
      "  smr_epochs, rest_epochs = smr_epochs.get_data(), rest_epochs.get_data()\n",
      "/mnt/diskus/fnirs-data-analysis-git/functions_fnirs.py:430: FutureWarning: The current default of copy=False will change to copy=True in 1.7. Set the value of copy explicitly to avoid this warning\n",
      "  smr_epochs, rest_epochs = smr_epochs.get_data(), rest_epochs.get_data()\n",
      "/mnt/diskus/fnirs-data-analysis-git/functions_fnirs.py:562: FutureWarning: The default for pick_channels will change from ordered=False to ordered=True in 1.5 and this will result in a change of behavior because the resulting channel order will not match. Either use a channel order that matches your instance or pass ordered=False.\n",
      "  return mne.pick_channels(info['ch_names'], include=channel_names)\n",
      "/mnt/diskus/fnirs-data-analysis-git/functions_fnirs.py:562: FutureWarning: The default for pick_channels will change from ordered=False to ordered=True in 1.5 and this will result in a change of behavior because the resulting channel order will not match. Either use a channel order that matches your instance or pass ordered=False.\n",
      "  return mne.pick_channels(info['ch_names'], include=channel_names)\n",
      "/mnt/diskus/fnirs-data-analysis-git/functions_fnirs.py:562: FutureWarning: The default for pick_channels will change from ordered=False to ordered=True in 1.5 and this will result in a change of behavior because the resulting channel order will not match. Either use a channel order that matches your instance or pass ordered=False.\n",
      "  return mne.pick_channels(info['ch_names'], include=channel_names)\n",
      "/mnt/diskus/fnirs-data-analysis-git/functions_fnirs.py:562: FutureWarning: The default for pick_channels will change from ordered=False to ordered=True in 1.5 and this will result in a change of behavior because the resulting channel order will not match. Either use a channel order that matches your instance or pass ordered=False.\n",
      "  return mne.pick_channels(info['ch_names'], include=channel_names)\n",
      "/mnt/diskus/fnirs-data-analysis-git/functions_fnirs.py:562: FutureWarning: The default for pick_channels will change from ordered=False to ordered=True in 1.5 and this will result in a change of behavior because the resulting channel order will not match. Either use a channel order that matches your instance or pass ordered=False.\n",
      "  return mne.pick_channels(info['ch_names'], include=channel_names)\n",
      "/mnt/diskus/fnirs-data-analysis-git/functions_fnirs.py:562: FutureWarning: The default for pick_channels will change from ordered=False to ordered=True in 1.5 and this will result in a change of behavior because the resulting channel order will not match. Either use a channel order that matches your instance or pass ordered=False.\n",
      "  return mne.pick_channels(info['ch_names'], include=channel_names)\n",
      "/mnt/diskus/fnirs-data-analysis-git/functions_fnirs.py:562: FutureWarning: The default for pick_channels will change from ordered=False to ordered=True in 1.5 and this will result in a change of behavior because the resulting channel order will not match. Either use a channel order that matches your instance or pass ordered=False.\n",
      "  return mne.pick_channels(info['ch_names'], include=channel_names)\n",
      "/mnt/diskus/fnirs-data-analysis-git/functions_fnirs.py:562: FutureWarning: The default for pick_channels will change from ordered=False to ordered=True in 1.5 and this will result in a change of behavior because the resulting channel order will not match. Either use a channel order that matches your instance or pass ordered=False.\n",
      "  return mne.pick_channels(info['ch_names'], include=channel_names)\n",
      "/mnt/diskus/fnirs-data-analysis-git/functions_fnirs.py:562: FutureWarning: The default for pick_channels will change from ordered=False to ordered=True in 1.5 and this will result in a change of behavior because the resulting channel order will not match. Either use a channel order that matches your instance or pass ordered=False.\n",
      "  return mne.pick_channels(info['ch_names'], include=channel_names)\n"
     ]
    },
    {
     "name": "stdout",
     "output_type": "stream",
     "text": [
      "AA_MI\n",
      "Setting channel interpolation method to {'fnirs': 'nearest'}.\n",
      "Interpolating bad channels.\n",
      "    Automatic origin fit: head of radius 91.4 mm\n"
     ]
    },
    {
     "name": "stderr",
     "output_type": "stream",
     "text": [
      "/mnt/diskus/fnirs-data-analysis-git/functions_fnirs.py:180: FutureWarning: The default for pick_channels will change from ordered=False to ordered=True in 1.5 and this will result in a change of behavior because the resulting channel order will not match. Either use a channel order that matches your instance or pass ordered=False.\n",
      "  raw_od.interpolate_bads()\n"
     ]
    },
    {
     "name": "stdout",
     "output_type": "stream",
     "text": [
      "NOTE: pick_types() is a legacy function. New code should use inst.pick(...).\n",
      "NOTE: pick_types() is a legacy function. New code should use inst.pick(...).\n",
      "M1_evoked_rest (20, 33)\n",
      "Peak time 10.0 rel peak time 10.0\n",
      "(20, 33)\n"
     ]
    },
    {
     "name": "stderr",
     "output_type": "stream",
     "text": [
      "/mnt/diskus/fnirs-data-analysis-git/functions_fnirs.py:430: FutureWarning: The current default of copy=False will change to copy=True in 1.7. Set the value of copy explicitly to avoid this warning\n",
      "  smr_epochs, rest_epochs = smr_epochs.get_data(), rest_epochs.get_data()\n",
      "/mnt/diskus/fnirs-data-analysis-git/functions_fnirs.py:430: FutureWarning: The current default of copy=False will change to copy=True in 1.7. Set the value of copy explicitly to avoid this warning\n",
      "  smr_epochs, rest_epochs = smr_epochs.get_data(), rest_epochs.get_data()\n",
      "/mnt/diskus/fnirs-data-analysis-git/functions_fnirs.py:562: FutureWarning: The default for pick_channels will change from ordered=False to ordered=True in 1.5 and this will result in a change of behavior because the resulting channel order will not match. Either use a channel order that matches your instance or pass ordered=False.\n",
      "  return mne.pick_channels(info['ch_names'], include=channel_names)\n",
      "/mnt/diskus/fnirs-data-analysis-git/functions_fnirs.py:562: FutureWarning: The default for pick_channels will change from ordered=False to ordered=True in 1.5 and this will result in a change of behavior because the resulting channel order will not match. Either use a channel order that matches your instance or pass ordered=False.\n",
      "  return mne.pick_channels(info['ch_names'], include=channel_names)\n",
      "/mnt/diskus/fnirs-data-analysis-git/functions_fnirs.py:562: FutureWarning: The default for pick_channels will change from ordered=False to ordered=True in 1.5 and this will result in a change of behavior because the resulting channel order will not match. Either use a channel order that matches your instance or pass ordered=False.\n",
      "  return mne.pick_channels(info['ch_names'], include=channel_names)\n",
      "/mnt/diskus/fnirs-data-analysis-git/functions_fnirs.py:562: FutureWarning: The default for pick_channels will change from ordered=False to ordered=True in 1.5 and this will result in a change of behavior because the resulting channel order will not match. Either use a channel order that matches your instance or pass ordered=False.\n",
      "  return mne.pick_channels(info['ch_names'], include=channel_names)\n",
      "/mnt/diskus/fnirs-data-analysis-git/functions_fnirs.py:562: FutureWarning: The default for pick_channels will change from ordered=False to ordered=True in 1.5 and this will result in a change of behavior because the resulting channel order will not match. Either use a channel order that matches your instance or pass ordered=False.\n",
      "  return mne.pick_channels(info['ch_names'], include=channel_names)\n",
      "/mnt/diskus/fnirs-data-analysis-git/functions_fnirs.py:562: FutureWarning: The default for pick_channels will change from ordered=False to ordered=True in 1.5 and this will result in a change of behavior because the resulting channel order will not match. Either use a channel order that matches your instance or pass ordered=False.\n",
      "  return mne.pick_channels(info['ch_names'], include=channel_names)\n",
      "/mnt/diskus/fnirs-data-analysis-git/functions_fnirs.py:562: FutureWarning: The default for pick_channels will change from ordered=False to ordered=True in 1.5 and this will result in a change of behavior because the resulting channel order will not match. Either use a channel order that matches your instance or pass ordered=False.\n",
      "  return mne.pick_channels(info['ch_names'], include=channel_names)\n",
      "/mnt/diskus/fnirs-data-analysis-git/functions_fnirs.py:562: FutureWarning: The default for pick_channels will change from ordered=False to ordered=True in 1.5 and this will result in a change of behavior because the resulting channel order will not match. Either use a channel order that matches your instance or pass ordered=False.\n",
      "  return mne.pick_channels(info['ch_names'], include=channel_names)\n",
      "/mnt/diskus/fnirs-data-analysis-git/functions_fnirs.py:562: FutureWarning: The default for pick_channels will change from ordered=False to ordered=True in 1.5 and this will result in a change of behavior because the resulting channel order will not match. Either use a channel order that matches your instance or pass ordered=False.\n",
      "  return mne.pick_channels(info['ch_names'], include=channel_names)\n"
     ]
    },
    {
     "name": "stdout",
     "output_type": "stream",
     "text": [
      "AA_SA\n",
      "Setting channel interpolation method to {'fnirs': 'nearest'}.\n",
      "Interpolating bad channels.\n",
      "    Automatic origin fit: head of radius 91.4 mm\n"
     ]
    },
    {
     "name": "stderr",
     "output_type": "stream",
     "text": [
      "/mnt/diskus/fnirs-data-analysis-git/functions_fnirs.py:180: FutureWarning: The default for pick_channels will change from ordered=False to ordered=True in 1.5 and this will result in a change of behavior because the resulting channel order will not match. Either use a channel order that matches your instance or pass ordered=False.\n",
      "  raw_od.interpolate_bads()\n"
     ]
    },
    {
     "name": "stdout",
     "output_type": "stream",
     "text": [
      "NOTE: pick_types() is a legacy function. New code should use inst.pick(...).\n",
      "NOTE: pick_types() is a legacy function. New code should use inst.pick(...).\n",
      "M1_evoked_rest (20, 33)\n",
      "Peak time 10.0 rel peak time 10.0\n",
      "(20, 33)\n"
     ]
    },
    {
     "name": "stderr",
     "output_type": "stream",
     "text": [
      "/mnt/diskus/fnirs-data-analysis-git/functions_fnirs.py:430: FutureWarning: The current default of copy=False will change to copy=True in 1.7. Set the value of copy explicitly to avoid this warning\n",
      "  smr_epochs, rest_epochs = smr_epochs.get_data(), rest_epochs.get_data()\n",
      "/mnt/diskus/fnirs-data-analysis-git/functions_fnirs.py:430: FutureWarning: The current default of copy=False will change to copy=True in 1.7. Set the value of copy explicitly to avoid this warning\n",
      "  smr_epochs, rest_epochs = smr_epochs.get_data(), rest_epochs.get_data()\n",
      "/mnt/diskus/fnirs-data-analysis-git/functions_fnirs.py:562: FutureWarning: The default for pick_channels will change from ordered=False to ordered=True in 1.5 and this will result in a change of behavior because the resulting channel order will not match. Either use a channel order that matches your instance or pass ordered=False.\n",
      "  return mne.pick_channels(info['ch_names'], include=channel_names)\n",
      "/mnt/diskus/fnirs-data-analysis-git/functions_fnirs.py:562: FutureWarning: The default for pick_channels will change from ordered=False to ordered=True in 1.5 and this will result in a change of behavior because the resulting channel order will not match. Either use a channel order that matches your instance or pass ordered=False.\n",
      "  return mne.pick_channels(info['ch_names'], include=channel_names)\n",
      "/mnt/diskus/fnirs-data-analysis-git/functions_fnirs.py:562: FutureWarning: The default for pick_channels will change from ordered=False to ordered=True in 1.5 and this will result in a change of behavior because the resulting channel order will not match. Either use a channel order that matches your instance or pass ordered=False.\n",
      "  return mne.pick_channels(info['ch_names'], include=channel_names)\n",
      "/mnt/diskus/fnirs-data-analysis-git/functions_fnirs.py:562: FutureWarning: The default for pick_channels will change from ordered=False to ordered=True in 1.5 and this will result in a change of behavior because the resulting channel order will not match. Either use a channel order that matches your instance or pass ordered=False.\n",
      "  return mne.pick_channels(info['ch_names'], include=channel_names)\n",
      "/mnt/diskus/fnirs-data-analysis-git/functions_fnirs.py:562: FutureWarning: The default for pick_channels will change from ordered=False to ordered=True in 1.5 and this will result in a change of behavior because the resulting channel order will not match. Either use a channel order that matches your instance or pass ordered=False.\n",
      "  return mne.pick_channels(info['ch_names'], include=channel_names)\n",
      "/mnt/diskus/fnirs-data-analysis-git/functions_fnirs.py:562: FutureWarning: The default for pick_channels will change from ordered=False to ordered=True in 1.5 and this will result in a change of behavior because the resulting channel order will not match. Either use a channel order that matches your instance or pass ordered=False.\n",
      "  return mne.pick_channels(info['ch_names'], include=channel_names)\n",
      "/mnt/diskus/fnirs-data-analysis-git/functions_fnirs.py:562: FutureWarning: The default for pick_channels will change from ordered=False to ordered=True in 1.5 and this will result in a change of behavior because the resulting channel order will not match. Either use a channel order that matches your instance or pass ordered=False.\n",
      "  return mne.pick_channels(info['ch_names'], include=channel_names)\n",
      "/mnt/diskus/fnirs-data-analysis-git/functions_fnirs.py:562: FutureWarning: The default for pick_channels will change from ordered=False to ordered=True in 1.5 and this will result in a change of behavior because the resulting channel order will not match. Either use a channel order that matches your instance or pass ordered=False.\n",
      "  return mne.pick_channels(info['ch_names'], include=channel_names)\n",
      "/mnt/diskus/fnirs-data-analysis-git/functions_fnirs.py:562: FutureWarning: The default for pick_channels will change from ordered=False to ordered=True in 1.5 and this will result in a change of behavior because the resulting channel order will not match. Either use a channel order that matches your instance or pass ordered=False.\n",
      "  return mne.pick_channels(info['ch_names'], include=channel_names)\n"
     ]
    },
    {
     "name": "stdout",
     "output_type": "stream",
     "text": [
      "AA_TI\n",
      "Setting channel interpolation method to {'fnirs': 'nearest'}.\n",
      "Interpolating bad channels.\n",
      "    Automatic origin fit: head of radius 91.4 mm\n"
     ]
    },
    {
     "name": "stderr",
     "output_type": "stream",
     "text": [
      "/mnt/diskus/fnirs-data-analysis-git/functions_fnirs.py:180: FutureWarning: The default for pick_channels will change from ordered=False to ordered=True in 1.5 and this will result in a change of behavior because the resulting channel order will not match. Either use a channel order that matches your instance or pass ordered=False.\n",
      "  raw_od.interpolate_bads()\n"
     ]
    },
    {
     "name": "stdout",
     "output_type": "stream",
     "text": [
      "NOTE: pick_types() is a legacy function. New code should use inst.pick(...).\n",
      "NOTE: pick_types() is a legacy function. New code should use inst.pick(...).\n",
      "M1_evoked_rest (20, 33)\n",
      "Peak time 10.0 rel peak time 10.5\n",
      "(20, 33)\n"
     ]
    },
    {
     "name": "stderr",
     "output_type": "stream",
     "text": [
      "/mnt/diskus/fnirs-data-analysis-git/functions_fnirs.py:430: FutureWarning: The current default of copy=False will change to copy=True in 1.7. Set the value of copy explicitly to avoid this warning\n",
      "  smr_epochs, rest_epochs = smr_epochs.get_data(), rest_epochs.get_data()\n",
      "/mnt/diskus/fnirs-data-analysis-git/functions_fnirs.py:430: FutureWarning: The current default of copy=False will change to copy=True in 1.7. Set the value of copy explicitly to avoid this warning\n",
      "  smr_epochs, rest_epochs = smr_epochs.get_data(), rest_epochs.get_data()\n",
      "/mnt/diskus/fnirs-data-analysis-git/functions_fnirs.py:562: FutureWarning: The default for pick_channels will change from ordered=False to ordered=True in 1.5 and this will result in a change of behavior because the resulting channel order will not match. Either use a channel order that matches your instance or pass ordered=False.\n",
      "  return mne.pick_channels(info['ch_names'], include=channel_names)\n",
      "/mnt/diskus/fnirs-data-analysis-git/functions_fnirs.py:562: FutureWarning: The default for pick_channels will change from ordered=False to ordered=True in 1.5 and this will result in a change of behavior because the resulting channel order will not match. Either use a channel order that matches your instance or pass ordered=False.\n",
      "  return mne.pick_channels(info['ch_names'], include=channel_names)\n",
      "/mnt/diskus/fnirs-data-analysis-git/functions_fnirs.py:562: FutureWarning: The default for pick_channels will change from ordered=False to ordered=True in 1.5 and this will result in a change of behavior because the resulting channel order will not match. Either use a channel order that matches your instance or pass ordered=False.\n",
      "  return mne.pick_channels(info['ch_names'], include=channel_names)\n",
      "/mnt/diskus/fnirs-data-analysis-git/functions_fnirs.py:562: FutureWarning: The default for pick_channels will change from ordered=False to ordered=True in 1.5 and this will result in a change of behavior because the resulting channel order will not match. Either use a channel order that matches your instance or pass ordered=False.\n",
      "  return mne.pick_channels(info['ch_names'], include=channel_names)\n",
      "/mnt/diskus/fnirs-data-analysis-git/functions_fnirs.py:562: FutureWarning: The default for pick_channels will change from ordered=False to ordered=True in 1.5 and this will result in a change of behavior because the resulting channel order will not match. Either use a channel order that matches your instance or pass ordered=False.\n",
      "  return mne.pick_channels(info['ch_names'], include=channel_names)\n",
      "/mnt/diskus/fnirs-data-analysis-git/functions_fnirs.py:562: FutureWarning: The default for pick_channels will change from ordered=False to ordered=True in 1.5 and this will result in a change of behavior because the resulting channel order will not match. Either use a channel order that matches your instance or pass ordered=False.\n",
      "  return mne.pick_channels(info['ch_names'], include=channel_names)\n",
      "/mnt/diskus/fnirs-data-analysis-git/functions_fnirs.py:562: FutureWarning: The default for pick_channels will change from ordered=False to ordered=True in 1.5 and this will result in a change of behavior because the resulting channel order will not match. Either use a channel order that matches your instance or pass ordered=False.\n",
      "  return mne.pick_channels(info['ch_names'], include=channel_names)\n",
      "/mnt/diskus/fnirs-data-analysis-git/functions_fnirs.py:562: FutureWarning: The default for pick_channels will change from ordered=False to ordered=True in 1.5 and this will result in a change of behavior because the resulting channel order will not match. Either use a channel order that matches your instance or pass ordered=False.\n",
      "  return mne.pick_channels(info['ch_names'], include=channel_names)\n",
      "/mnt/diskus/fnirs-data-analysis-git/functions_fnirs.py:562: FutureWarning: The default for pick_channels will change from ordered=False to ordered=True in 1.5 and this will result in a change of behavior because the resulting channel order will not match. Either use a channel order that matches your instance or pass ordered=False.\n",
      "  return mne.pick_channels(info['ch_names'], include=channel_names)\n"
     ]
    },
    {
     "name": "stdout",
     "output_type": "stream",
     "text": [
      "AA_TS\n",
      "Setting channel interpolation method to {'fnirs': 'nearest'}.\n",
      "Interpolating bad channels.\n",
      "    Automatic origin fit: head of radius 91.4 mm\n"
     ]
    },
    {
     "name": "stderr",
     "output_type": "stream",
     "text": [
      "/mnt/diskus/fnirs-data-analysis-git/functions_fnirs.py:180: FutureWarning: The default for pick_channels will change from ordered=False to ordered=True in 1.5 and this will result in a change of behavior because the resulting channel order will not match. Either use a channel order that matches your instance or pass ordered=False.\n",
      "  raw_od.interpolate_bads()\n"
     ]
    },
    {
     "name": "stdout",
     "output_type": "stream",
     "text": [
      "NOTE: pick_types() is a legacy function. New code should use inst.pick(...).\n",
      "NOTE: pick_types() is a legacy function. New code should use inst.pick(...).\n",
      "M1_evoked_rest (20, 33)\n",
      "Peak time 9.0 rel peak time 10.0\n",
      "(20, 33)\n"
     ]
    },
    {
     "name": "stderr",
     "output_type": "stream",
     "text": [
      "/mnt/diskus/fnirs-data-analysis-git/functions_fnirs.py:430: FutureWarning: The current default of copy=False will change to copy=True in 1.7. Set the value of copy explicitly to avoid this warning\n",
      "  smr_epochs, rest_epochs = smr_epochs.get_data(), rest_epochs.get_data()\n",
      "/mnt/diskus/fnirs-data-analysis-git/functions_fnirs.py:430: FutureWarning: The current default of copy=False will change to copy=True in 1.7. Set the value of copy explicitly to avoid this warning\n",
      "  smr_epochs, rest_epochs = smr_epochs.get_data(), rest_epochs.get_data()\n",
      "/mnt/diskus/fnirs-data-analysis-git/functions_fnirs.py:562: FutureWarning: The default for pick_channels will change from ordered=False to ordered=True in 1.5 and this will result in a change of behavior because the resulting channel order will not match. Either use a channel order that matches your instance or pass ordered=False.\n",
      "  return mne.pick_channels(info['ch_names'], include=channel_names)\n",
      "/mnt/diskus/fnirs-data-analysis-git/functions_fnirs.py:562: FutureWarning: The default for pick_channels will change from ordered=False to ordered=True in 1.5 and this will result in a change of behavior because the resulting channel order will not match. Either use a channel order that matches your instance or pass ordered=False.\n",
      "  return mne.pick_channels(info['ch_names'], include=channel_names)\n",
      "/mnt/diskus/fnirs-data-analysis-git/functions_fnirs.py:562: FutureWarning: The default for pick_channels will change from ordered=False to ordered=True in 1.5 and this will result in a change of behavior because the resulting channel order will not match. Either use a channel order that matches your instance or pass ordered=False.\n",
      "  return mne.pick_channels(info['ch_names'], include=channel_names)\n",
      "/mnt/diskus/fnirs-data-analysis-git/functions_fnirs.py:562: FutureWarning: The default for pick_channels will change from ordered=False to ordered=True in 1.5 and this will result in a change of behavior because the resulting channel order will not match. Either use a channel order that matches your instance or pass ordered=False.\n",
      "  return mne.pick_channels(info['ch_names'], include=channel_names)\n",
      "/mnt/diskus/fnirs-data-analysis-git/functions_fnirs.py:562: FutureWarning: The default for pick_channels will change from ordered=False to ordered=True in 1.5 and this will result in a change of behavior because the resulting channel order will not match. Either use a channel order that matches your instance or pass ordered=False.\n",
      "  return mne.pick_channels(info['ch_names'], include=channel_names)\n",
      "/mnt/diskus/fnirs-data-analysis-git/functions_fnirs.py:562: FutureWarning: The default for pick_channels will change from ordered=False to ordered=True in 1.5 and this will result in a change of behavior because the resulting channel order will not match. Either use a channel order that matches your instance or pass ordered=False.\n",
      "  return mne.pick_channels(info['ch_names'], include=channel_names)\n",
      "/mnt/diskus/fnirs-data-analysis-git/functions_fnirs.py:562: FutureWarning: The default for pick_channels will change from ordered=False to ordered=True in 1.5 and this will result in a change of behavior because the resulting channel order will not match. Either use a channel order that matches your instance or pass ordered=False.\n",
      "  return mne.pick_channels(info['ch_names'], include=channel_names)\n",
      "/mnt/diskus/fnirs-data-analysis-git/functions_fnirs.py:562: FutureWarning: The default for pick_channels will change from ordered=False to ordered=True in 1.5 and this will result in a change of behavior because the resulting channel order will not match. Either use a channel order that matches your instance or pass ordered=False.\n",
      "  return mne.pick_channels(info['ch_names'], include=channel_names)\n",
      "/mnt/diskus/fnirs-data-analysis-git/functions_fnirs.py:562: FutureWarning: The default for pick_channels will change from ordered=False to ordered=True in 1.5 and this will result in a change of behavior because the resulting channel order will not match. Either use a channel order that matches your instance or pass ordered=False.\n",
      "  return mne.pick_channels(info['ch_names'], include=channel_names)\n"
     ]
    },
    {
     "name": "stdout",
     "output_type": "stream",
     "text": [
      "AB_ME\n",
      "Setting channel interpolation method to {'fnirs': 'nearest'}.\n",
      "Interpolating bad channels.\n",
      "    Automatic origin fit: head of radius 91.6 mm\n"
     ]
    },
    {
     "name": "stderr",
     "output_type": "stream",
     "text": [
      "/mnt/diskus/fnirs-data-analysis-git/functions_fnirs.py:180: FutureWarning: The default for pick_channels will change from ordered=False to ordered=True in 1.5 and this will result in a change of behavior because the resulting channel order will not match. Either use a channel order that matches your instance or pass ordered=False.\n",
      "  raw_od.interpolate_bads()\n"
     ]
    },
    {
     "name": "stdout",
     "output_type": "stream",
     "text": [
      "NOTE: pick_types() is a legacy function. New code should use inst.pick(...).\n",
      "NOTE: pick_types() is a legacy function. New code should use inst.pick(...).\n",
      "M1_evoked_rest (20, 33)\n",
      "Peak time 6.5 rel peak time 6.5\n",
      "(20, 33)\n"
     ]
    },
    {
     "name": "stderr",
     "output_type": "stream",
     "text": [
      "/mnt/diskus/fnirs-data-analysis-git/functions_fnirs.py:430: FutureWarning: The current default of copy=False will change to copy=True in 1.7. Set the value of copy explicitly to avoid this warning\n",
      "  smr_epochs, rest_epochs = smr_epochs.get_data(), rest_epochs.get_data()\n",
      "/mnt/diskus/fnirs-data-analysis-git/functions_fnirs.py:430: FutureWarning: The current default of copy=False will change to copy=True in 1.7. Set the value of copy explicitly to avoid this warning\n",
      "  smr_epochs, rest_epochs = smr_epochs.get_data(), rest_epochs.get_data()\n",
      "/mnt/diskus/fnirs-data-analysis-git/functions_fnirs.py:562: FutureWarning: The default for pick_channels will change from ordered=False to ordered=True in 1.5 and this will result in a change of behavior because the resulting channel order will not match. Either use a channel order that matches your instance or pass ordered=False.\n",
      "  return mne.pick_channels(info['ch_names'], include=channel_names)\n",
      "/mnt/diskus/fnirs-data-analysis-git/functions_fnirs.py:562: FutureWarning: The default for pick_channels will change from ordered=False to ordered=True in 1.5 and this will result in a change of behavior because the resulting channel order will not match. Either use a channel order that matches your instance or pass ordered=False.\n",
      "  return mne.pick_channels(info['ch_names'], include=channel_names)\n",
      "/mnt/diskus/fnirs-data-analysis-git/functions_fnirs.py:562: FutureWarning: The default for pick_channels will change from ordered=False to ordered=True in 1.5 and this will result in a change of behavior because the resulting channel order will not match. Either use a channel order that matches your instance or pass ordered=False.\n",
      "  return mne.pick_channels(info['ch_names'], include=channel_names)\n",
      "/mnt/diskus/fnirs-data-analysis-git/functions_fnirs.py:562: FutureWarning: The default for pick_channels will change from ordered=False to ordered=True in 1.5 and this will result in a change of behavior because the resulting channel order will not match. Either use a channel order that matches your instance or pass ordered=False.\n",
      "  return mne.pick_channels(info['ch_names'], include=channel_names)\n",
      "/mnt/diskus/fnirs-data-analysis-git/functions_fnirs.py:562: FutureWarning: The default for pick_channels will change from ordered=False to ordered=True in 1.5 and this will result in a change of behavior because the resulting channel order will not match. Either use a channel order that matches your instance or pass ordered=False.\n",
      "  return mne.pick_channels(info['ch_names'], include=channel_names)\n",
      "/mnt/diskus/fnirs-data-analysis-git/functions_fnirs.py:562: FutureWarning: The default for pick_channels will change from ordered=False to ordered=True in 1.5 and this will result in a change of behavior because the resulting channel order will not match. Either use a channel order that matches your instance or pass ordered=False.\n",
      "  return mne.pick_channels(info['ch_names'], include=channel_names)\n",
      "/mnt/diskus/fnirs-data-analysis-git/functions_fnirs.py:562: FutureWarning: The default for pick_channels will change from ordered=False to ordered=True in 1.5 and this will result in a change of behavior because the resulting channel order will not match. Either use a channel order that matches your instance or pass ordered=False.\n",
      "  return mne.pick_channels(info['ch_names'], include=channel_names)\n",
      "/mnt/diskus/fnirs-data-analysis-git/functions_fnirs.py:562: FutureWarning: The default for pick_channels will change from ordered=False to ordered=True in 1.5 and this will result in a change of behavior because the resulting channel order will not match. Either use a channel order that matches your instance or pass ordered=False.\n",
      "  return mne.pick_channels(info['ch_names'], include=channel_names)\n",
      "/mnt/diskus/fnirs-data-analysis-git/functions_fnirs.py:562: FutureWarning: The default for pick_channels will change from ordered=False to ordered=True in 1.5 and this will result in a change of behavior because the resulting channel order will not match. Either use a channel order that matches your instance or pass ordered=False.\n",
      "  return mne.pick_channels(info['ch_names'], include=channel_names)\n"
     ]
    },
    {
     "name": "stdout",
     "output_type": "stream",
     "text": [
      "AB_MI\n",
      "Setting channel interpolation method to {'fnirs': 'nearest'}.\n",
      "Interpolating bad channels.\n",
      "    Automatic origin fit: head of radius 91.6 mm\n"
     ]
    },
    {
     "name": "stderr",
     "output_type": "stream",
     "text": [
      "/mnt/diskus/fnirs-data-analysis-git/functions_fnirs.py:180: FutureWarning: The default for pick_channels will change from ordered=False to ordered=True in 1.5 and this will result in a change of behavior because the resulting channel order will not match. Either use a channel order that matches your instance or pass ordered=False.\n",
      "  raw_od.interpolate_bads()\n"
     ]
    },
    {
     "name": "stdout",
     "output_type": "stream",
     "text": [
      "NOTE: pick_types() is a legacy function. New code should use inst.pick(...).\n",
      "NOTE: pick_types() is a legacy function. New code should use inst.pick(...).\n",
      "M1_evoked_rest (20, 33)\n",
      "Peak time 9.0 rel peak time 9.0\n",
      "(20, 33)\n"
     ]
    },
    {
     "name": "stderr",
     "output_type": "stream",
     "text": [
      "/mnt/diskus/fnirs-data-analysis-git/functions_fnirs.py:430: FutureWarning: The current default of copy=False will change to copy=True in 1.7. Set the value of copy explicitly to avoid this warning\n",
      "  smr_epochs, rest_epochs = smr_epochs.get_data(), rest_epochs.get_data()\n",
      "/mnt/diskus/fnirs-data-analysis-git/functions_fnirs.py:430: FutureWarning: The current default of copy=False will change to copy=True in 1.7. Set the value of copy explicitly to avoid this warning\n",
      "  smr_epochs, rest_epochs = smr_epochs.get_data(), rest_epochs.get_data()\n",
      "/mnt/diskus/fnirs-data-analysis-git/functions_fnirs.py:562: FutureWarning: The default for pick_channels will change from ordered=False to ordered=True in 1.5 and this will result in a change of behavior because the resulting channel order will not match. Either use a channel order that matches your instance or pass ordered=False.\n",
      "  return mne.pick_channels(info['ch_names'], include=channel_names)\n",
      "/mnt/diskus/fnirs-data-analysis-git/functions_fnirs.py:562: FutureWarning: The default for pick_channels will change from ordered=False to ordered=True in 1.5 and this will result in a change of behavior because the resulting channel order will not match. Either use a channel order that matches your instance or pass ordered=False.\n",
      "  return mne.pick_channels(info['ch_names'], include=channel_names)\n",
      "/mnt/diskus/fnirs-data-analysis-git/functions_fnirs.py:562: FutureWarning: The default for pick_channels will change from ordered=False to ordered=True in 1.5 and this will result in a change of behavior because the resulting channel order will not match. Either use a channel order that matches your instance or pass ordered=False.\n",
      "  return mne.pick_channels(info['ch_names'], include=channel_names)\n",
      "/mnt/diskus/fnirs-data-analysis-git/functions_fnirs.py:562: FutureWarning: The default for pick_channels will change from ordered=False to ordered=True in 1.5 and this will result in a change of behavior because the resulting channel order will not match. Either use a channel order that matches your instance or pass ordered=False.\n",
      "  return mne.pick_channels(info['ch_names'], include=channel_names)\n",
      "/mnt/diskus/fnirs-data-analysis-git/functions_fnirs.py:562: FutureWarning: The default for pick_channels will change from ordered=False to ordered=True in 1.5 and this will result in a change of behavior because the resulting channel order will not match. Either use a channel order that matches your instance or pass ordered=False.\n",
      "  return mne.pick_channels(info['ch_names'], include=channel_names)\n",
      "/mnt/diskus/fnirs-data-analysis-git/functions_fnirs.py:562: FutureWarning: The default for pick_channels will change from ordered=False to ordered=True in 1.5 and this will result in a change of behavior because the resulting channel order will not match. Either use a channel order that matches your instance or pass ordered=False.\n",
      "  return mne.pick_channels(info['ch_names'], include=channel_names)\n",
      "/mnt/diskus/fnirs-data-analysis-git/functions_fnirs.py:562: FutureWarning: The default for pick_channels will change from ordered=False to ordered=True in 1.5 and this will result in a change of behavior because the resulting channel order will not match. Either use a channel order that matches your instance or pass ordered=False.\n",
      "  return mne.pick_channels(info['ch_names'], include=channel_names)\n",
      "/mnt/diskus/fnirs-data-analysis-git/functions_fnirs.py:562: FutureWarning: The default for pick_channels will change from ordered=False to ordered=True in 1.5 and this will result in a change of behavior because the resulting channel order will not match. Either use a channel order that matches your instance or pass ordered=False.\n",
      "  return mne.pick_channels(info['ch_names'], include=channel_names)\n",
      "/mnt/diskus/fnirs-data-analysis-git/functions_fnirs.py:562: FutureWarning: The default for pick_channels will change from ordered=False to ordered=True in 1.5 and this will result in a change of behavior because the resulting channel order will not match. Either use a channel order that matches your instance or pass ordered=False.\n",
      "  return mne.pick_channels(info['ch_names'], include=channel_names)\n"
     ]
    },
    {
     "name": "stdout",
     "output_type": "stream",
     "text": [
      "AB_SA\n",
      "Setting channel interpolation method to {'fnirs': 'nearest'}.\n",
      "Interpolating bad channels.\n",
      "    Automatic origin fit: head of radius 91.6 mm\n"
     ]
    },
    {
     "name": "stderr",
     "output_type": "stream",
     "text": [
      "/mnt/diskus/fnirs-data-analysis-git/functions_fnirs.py:180: FutureWarning: The default for pick_channels will change from ordered=False to ordered=True in 1.5 and this will result in a change of behavior because the resulting channel order will not match. Either use a channel order that matches your instance or pass ordered=False.\n",
      "  raw_od.interpolate_bads()\n"
     ]
    },
    {
     "name": "stdout",
     "output_type": "stream",
     "text": [
      "NOTE: pick_types() is a legacy function. New code should use inst.pick(...).\n",
      "NOTE: pick_types() is a legacy function. New code should use inst.pick(...).\n",
      "M1_evoked_rest (20, 33)\n",
      "Peak time 9.5 rel peak time 10.0\n",
      "(20, 33)\n"
     ]
    },
    {
     "name": "stderr",
     "output_type": "stream",
     "text": [
      "/mnt/diskus/fnirs-data-analysis-git/functions_fnirs.py:430: FutureWarning: The current default of copy=False will change to copy=True in 1.7. Set the value of copy explicitly to avoid this warning\n",
      "  smr_epochs, rest_epochs = smr_epochs.get_data(), rest_epochs.get_data()\n",
      "/mnt/diskus/fnirs-data-analysis-git/functions_fnirs.py:430: FutureWarning: The current default of copy=False will change to copy=True in 1.7. Set the value of copy explicitly to avoid this warning\n",
      "  smr_epochs, rest_epochs = smr_epochs.get_data(), rest_epochs.get_data()\n",
      "/mnt/diskus/fnirs-data-analysis-git/functions_fnirs.py:562: FutureWarning: The default for pick_channels will change from ordered=False to ordered=True in 1.5 and this will result in a change of behavior because the resulting channel order will not match. Either use a channel order that matches your instance or pass ordered=False.\n",
      "  return mne.pick_channels(info['ch_names'], include=channel_names)\n",
      "/mnt/diskus/fnirs-data-analysis-git/functions_fnirs.py:562: FutureWarning: The default for pick_channels will change from ordered=False to ordered=True in 1.5 and this will result in a change of behavior because the resulting channel order will not match. Either use a channel order that matches your instance or pass ordered=False.\n",
      "  return mne.pick_channels(info['ch_names'], include=channel_names)\n",
      "/mnt/diskus/fnirs-data-analysis-git/functions_fnirs.py:562: FutureWarning: The default for pick_channels will change from ordered=False to ordered=True in 1.5 and this will result in a change of behavior because the resulting channel order will not match. Either use a channel order that matches your instance or pass ordered=False.\n",
      "  return mne.pick_channels(info['ch_names'], include=channel_names)\n",
      "/mnt/diskus/fnirs-data-analysis-git/functions_fnirs.py:562: FutureWarning: The default for pick_channels will change from ordered=False to ordered=True in 1.5 and this will result in a change of behavior because the resulting channel order will not match. Either use a channel order that matches your instance or pass ordered=False.\n",
      "  return mne.pick_channels(info['ch_names'], include=channel_names)\n",
      "/mnt/diskus/fnirs-data-analysis-git/functions_fnirs.py:562: FutureWarning: The default for pick_channels will change from ordered=False to ordered=True in 1.5 and this will result in a change of behavior because the resulting channel order will not match. Either use a channel order that matches your instance or pass ordered=False.\n",
      "  return mne.pick_channels(info['ch_names'], include=channel_names)\n",
      "/mnt/diskus/fnirs-data-analysis-git/functions_fnirs.py:562: FutureWarning: The default for pick_channels will change from ordered=False to ordered=True in 1.5 and this will result in a change of behavior because the resulting channel order will not match. Either use a channel order that matches your instance or pass ordered=False.\n",
      "  return mne.pick_channels(info['ch_names'], include=channel_names)\n",
      "/mnt/diskus/fnirs-data-analysis-git/functions_fnirs.py:562: FutureWarning: The default for pick_channels will change from ordered=False to ordered=True in 1.5 and this will result in a change of behavior because the resulting channel order will not match. Either use a channel order that matches your instance or pass ordered=False.\n",
      "  return mne.pick_channels(info['ch_names'], include=channel_names)\n",
      "/mnt/diskus/fnirs-data-analysis-git/functions_fnirs.py:562: FutureWarning: The default for pick_channels will change from ordered=False to ordered=True in 1.5 and this will result in a change of behavior because the resulting channel order will not match. Either use a channel order that matches your instance or pass ordered=False.\n",
      "  return mne.pick_channels(info['ch_names'], include=channel_names)\n",
      "/mnt/diskus/fnirs-data-analysis-git/functions_fnirs.py:562: FutureWarning: The default for pick_channels will change from ordered=False to ordered=True in 1.5 and this will result in a change of behavior because the resulting channel order will not match. Either use a channel order that matches your instance or pass ordered=False.\n",
      "  return mne.pick_channels(info['ch_names'], include=channel_names)\n"
     ]
    },
    {
     "name": "stdout",
     "output_type": "stream",
     "text": [
      "AB_TI\n",
      "Setting channel interpolation method to {'fnirs': 'nearest'}.\n",
      "Interpolating bad channels.\n",
      "    Automatic origin fit: head of radius 91.6 mm\n"
     ]
    },
    {
     "name": "stderr",
     "output_type": "stream",
     "text": [
      "/mnt/diskus/fnirs-data-analysis-git/functions_fnirs.py:180: FutureWarning: The default for pick_channels will change from ordered=False to ordered=True in 1.5 and this will result in a change of behavior because the resulting channel order will not match. Either use a channel order that matches your instance or pass ordered=False.\n",
      "  raw_od.interpolate_bads()\n"
     ]
    },
    {
     "name": "stdout",
     "output_type": "stream",
     "text": [
      "NOTE: pick_types() is a legacy function. New code should use inst.pick(...).\n",
      "NOTE: pick_types() is a legacy function. New code should use inst.pick(...).\n",
      "M1_evoked_rest (20, 33)\n",
      "Peak time 7.0 rel peak time 5.5\n",
      "(20, 33)\n"
     ]
    },
    {
     "name": "stderr",
     "output_type": "stream",
     "text": [
      "/mnt/diskus/fnirs-data-analysis-git/functions_fnirs.py:430: FutureWarning: The current default of copy=False will change to copy=True in 1.7. Set the value of copy explicitly to avoid this warning\n",
      "  smr_epochs, rest_epochs = smr_epochs.get_data(), rest_epochs.get_data()\n",
      "/mnt/diskus/fnirs-data-analysis-git/functions_fnirs.py:430: FutureWarning: The current default of copy=False will change to copy=True in 1.7. Set the value of copy explicitly to avoid this warning\n",
      "  smr_epochs, rest_epochs = smr_epochs.get_data(), rest_epochs.get_data()\n",
      "/mnt/diskus/fnirs-data-analysis-git/functions_fnirs.py:562: FutureWarning: The default for pick_channels will change from ordered=False to ordered=True in 1.5 and this will result in a change of behavior because the resulting channel order will not match. Either use a channel order that matches your instance or pass ordered=False.\n",
      "  return mne.pick_channels(info['ch_names'], include=channel_names)\n",
      "/mnt/diskus/fnirs-data-analysis-git/functions_fnirs.py:562: FutureWarning: The default for pick_channels will change from ordered=False to ordered=True in 1.5 and this will result in a change of behavior because the resulting channel order will not match. Either use a channel order that matches your instance or pass ordered=False.\n",
      "  return mne.pick_channels(info['ch_names'], include=channel_names)\n",
      "/mnt/diskus/fnirs-data-analysis-git/functions_fnirs.py:562: FutureWarning: The default for pick_channels will change from ordered=False to ordered=True in 1.5 and this will result in a change of behavior because the resulting channel order will not match. Either use a channel order that matches your instance or pass ordered=False.\n",
      "  return mne.pick_channels(info['ch_names'], include=channel_names)\n",
      "/mnt/diskus/fnirs-data-analysis-git/functions_fnirs.py:562: FutureWarning: The default for pick_channels will change from ordered=False to ordered=True in 1.5 and this will result in a change of behavior because the resulting channel order will not match. Either use a channel order that matches your instance or pass ordered=False.\n",
      "  return mne.pick_channels(info['ch_names'], include=channel_names)\n",
      "/mnt/diskus/fnirs-data-analysis-git/functions_fnirs.py:562: FutureWarning: The default for pick_channels will change from ordered=False to ordered=True in 1.5 and this will result in a change of behavior because the resulting channel order will not match. Either use a channel order that matches your instance or pass ordered=False.\n",
      "  return mne.pick_channels(info['ch_names'], include=channel_names)\n",
      "/mnt/diskus/fnirs-data-analysis-git/functions_fnirs.py:562: FutureWarning: The default for pick_channels will change from ordered=False to ordered=True in 1.5 and this will result in a change of behavior because the resulting channel order will not match. Either use a channel order that matches your instance or pass ordered=False.\n",
      "  return mne.pick_channels(info['ch_names'], include=channel_names)\n",
      "/mnt/diskus/fnirs-data-analysis-git/functions_fnirs.py:562: FutureWarning: The default for pick_channels will change from ordered=False to ordered=True in 1.5 and this will result in a change of behavior because the resulting channel order will not match. Either use a channel order that matches your instance or pass ordered=False.\n",
      "  return mne.pick_channels(info['ch_names'], include=channel_names)\n",
      "/mnt/diskus/fnirs-data-analysis-git/functions_fnirs.py:562: FutureWarning: The default for pick_channels will change from ordered=False to ordered=True in 1.5 and this will result in a change of behavior because the resulting channel order will not match. Either use a channel order that matches your instance or pass ordered=False.\n",
      "  return mne.pick_channels(info['ch_names'], include=channel_names)\n",
      "/mnt/diskus/fnirs-data-analysis-git/functions_fnirs.py:562: FutureWarning: The default for pick_channels will change from ordered=False to ordered=True in 1.5 and this will result in a change of behavior because the resulting channel order will not match. Either use a channel order that matches your instance or pass ordered=False.\n",
      "  return mne.pick_channels(info['ch_names'], include=channel_names)\n"
     ]
    },
    {
     "name": "stdout",
     "output_type": "stream",
     "text": [
      "AB_TS\n",
      "Setting channel interpolation method to {'fnirs': 'nearest'}.\n",
      "Interpolating bad channels.\n",
      "    Automatic origin fit: head of radius 91.6 mm\n"
     ]
    },
    {
     "name": "stderr",
     "output_type": "stream",
     "text": [
      "/mnt/diskus/fnirs-data-analysis-git/functions_fnirs.py:180: FutureWarning: The default for pick_channels will change from ordered=False to ordered=True in 1.5 and this will result in a change of behavior because the resulting channel order will not match. Either use a channel order that matches your instance or pass ordered=False.\n",
      "  raw_od.interpolate_bads()\n"
     ]
    },
    {
     "name": "stdout",
     "output_type": "stream",
     "text": [
      "NOTE: pick_types() is a legacy function. New code should use inst.pick(...).\n",
      "NOTE: pick_types() is a legacy function. New code should use inst.pick(...).\n",
      "M1_evoked_rest (20, 33)\n",
      "Peak time 7.5 rel peak time 4.5\n",
      "(20, 33)\n"
     ]
    },
    {
     "name": "stderr",
     "output_type": "stream",
     "text": [
      "/mnt/diskus/fnirs-data-analysis-git/functions_fnirs.py:430: FutureWarning: The current default of copy=False will change to copy=True in 1.7. Set the value of copy explicitly to avoid this warning\n",
      "  smr_epochs, rest_epochs = smr_epochs.get_data(), rest_epochs.get_data()\n",
      "/mnt/diskus/fnirs-data-analysis-git/functions_fnirs.py:430: FutureWarning: The current default of copy=False will change to copy=True in 1.7. Set the value of copy explicitly to avoid this warning\n",
      "  smr_epochs, rest_epochs = smr_epochs.get_data(), rest_epochs.get_data()\n",
      "/mnt/diskus/fnirs-data-analysis-git/functions_fnirs.py:562: FutureWarning: The default for pick_channels will change from ordered=False to ordered=True in 1.5 and this will result in a change of behavior because the resulting channel order will not match. Either use a channel order that matches your instance or pass ordered=False.\n",
      "  return mne.pick_channels(info['ch_names'], include=channel_names)\n",
      "/mnt/diskus/fnirs-data-analysis-git/functions_fnirs.py:562: FutureWarning: The default for pick_channels will change from ordered=False to ordered=True in 1.5 and this will result in a change of behavior because the resulting channel order will not match. Either use a channel order that matches your instance or pass ordered=False.\n",
      "  return mne.pick_channels(info['ch_names'], include=channel_names)\n",
      "/mnt/diskus/fnirs-data-analysis-git/functions_fnirs.py:562: FutureWarning: The default for pick_channels will change from ordered=False to ordered=True in 1.5 and this will result in a change of behavior because the resulting channel order will not match. Either use a channel order that matches your instance or pass ordered=False.\n",
      "  return mne.pick_channels(info['ch_names'], include=channel_names)\n",
      "/mnt/diskus/fnirs-data-analysis-git/functions_fnirs.py:562: FutureWarning: The default for pick_channels will change from ordered=False to ordered=True in 1.5 and this will result in a change of behavior because the resulting channel order will not match. Either use a channel order that matches your instance or pass ordered=False.\n",
      "  return mne.pick_channels(info['ch_names'], include=channel_names)\n",
      "/mnt/diskus/fnirs-data-analysis-git/functions_fnirs.py:562: FutureWarning: The default for pick_channels will change from ordered=False to ordered=True in 1.5 and this will result in a change of behavior because the resulting channel order will not match. Either use a channel order that matches your instance or pass ordered=False.\n",
      "  return mne.pick_channels(info['ch_names'], include=channel_names)\n",
      "/mnt/diskus/fnirs-data-analysis-git/functions_fnirs.py:562: FutureWarning: The default for pick_channels will change from ordered=False to ordered=True in 1.5 and this will result in a change of behavior because the resulting channel order will not match. Either use a channel order that matches your instance or pass ordered=False.\n",
      "  return mne.pick_channels(info['ch_names'], include=channel_names)\n",
      "/mnt/diskus/fnirs-data-analysis-git/functions_fnirs.py:562: FutureWarning: The default for pick_channels will change from ordered=False to ordered=True in 1.5 and this will result in a change of behavior because the resulting channel order will not match. Either use a channel order that matches your instance or pass ordered=False.\n",
      "  return mne.pick_channels(info['ch_names'], include=channel_names)\n",
      "/mnt/diskus/fnirs-data-analysis-git/functions_fnirs.py:562: FutureWarning: The default for pick_channels will change from ordered=False to ordered=True in 1.5 and this will result in a change of behavior because the resulting channel order will not match. Either use a channel order that matches your instance or pass ordered=False.\n",
      "  return mne.pick_channels(info['ch_names'], include=channel_names)\n",
      "/mnt/diskus/fnirs-data-analysis-git/functions_fnirs.py:562: FutureWarning: The default for pick_channels will change from ordered=False to ordered=True in 1.5 and this will result in a change of behavior because the resulting channel order will not match. Either use a channel order that matches your instance or pass ordered=False.\n",
      "  return mne.pick_channels(info['ch_names'], include=channel_names)\n",
      "/home/avaldamon/.cache/pypoetry/virtualenvs/fnirs-pEil43oO-py3.8/lib/python3.8/site-packages/numpy/core/fromnumeric.py:3432: RuntimeWarning: Mean of empty slice.\n",
      "  return _methods._mean(a, axis=axis, dtype=dtype,\n",
      "/home/avaldamon/.cache/pypoetry/virtualenvs/fnirs-pEil43oO-py3.8/lib/python3.8/site-packages/numpy/core/_methods.py:190: RuntimeWarning: invalid value encountered in double_scalars\n",
      "  ret = ret.dtype.type(ret / rcount)\n"
     ]
    },
    {
     "name": "stdout",
     "output_type": "stream",
     "text": [
      "AL_ME\n",
      "Setting channel interpolation method to {'fnirs': 'nearest'}.\n",
      "Interpolating bad channels.\n",
      "    Automatic origin fit: head of radius 91.4 mm\n"
     ]
    },
    {
     "name": "stderr",
     "output_type": "stream",
     "text": [
      "/mnt/diskus/fnirs-data-analysis-git/functions_fnirs.py:180: FutureWarning: The default for pick_channels will change from ordered=False to ordered=True in 1.5 and this will result in a change of behavior because the resulting channel order will not match. Either use a channel order that matches your instance or pass ordered=False.\n",
      "  raw_od.interpolate_bads()\n"
     ]
    },
    {
     "name": "stdout",
     "output_type": "stream",
     "text": [
      "NOTE: pick_types() is a legacy function. New code should use inst.pick(...).\n",
      "NOTE: pick_types() is a legacy function. New code should use inst.pick(...).\n",
      "M1_evoked_rest (20, 33)\n",
      "Peak time 7.5 rel peak time 6.5\n",
      "(20, 33)\n"
     ]
    },
    {
     "name": "stderr",
     "output_type": "stream",
     "text": [
      "/mnt/diskus/fnirs-data-analysis-git/functions_fnirs.py:430: FutureWarning: The current default of copy=False will change to copy=True in 1.7. Set the value of copy explicitly to avoid this warning\n",
      "  smr_epochs, rest_epochs = smr_epochs.get_data(), rest_epochs.get_data()\n",
      "/mnt/diskus/fnirs-data-analysis-git/functions_fnirs.py:430: FutureWarning: The current default of copy=False will change to copy=True in 1.7. Set the value of copy explicitly to avoid this warning\n",
      "  smr_epochs, rest_epochs = smr_epochs.get_data(), rest_epochs.get_data()\n",
      "/mnt/diskus/fnirs-data-analysis-git/functions_fnirs.py:562: FutureWarning: The default for pick_channels will change from ordered=False to ordered=True in 1.5 and this will result in a change of behavior because the resulting channel order will not match. Either use a channel order that matches your instance or pass ordered=False.\n",
      "  return mne.pick_channels(info['ch_names'], include=channel_names)\n",
      "/mnt/diskus/fnirs-data-analysis-git/functions_fnirs.py:562: FutureWarning: The default for pick_channels will change from ordered=False to ordered=True in 1.5 and this will result in a change of behavior because the resulting channel order will not match. Either use a channel order that matches your instance or pass ordered=False.\n",
      "  return mne.pick_channels(info['ch_names'], include=channel_names)\n",
      "/mnt/diskus/fnirs-data-analysis-git/functions_fnirs.py:562: FutureWarning: The default for pick_channels will change from ordered=False to ordered=True in 1.5 and this will result in a change of behavior because the resulting channel order will not match. Either use a channel order that matches your instance or pass ordered=False.\n",
      "  return mne.pick_channels(info['ch_names'], include=channel_names)\n",
      "/mnt/diskus/fnirs-data-analysis-git/functions_fnirs.py:562: FutureWarning: The default for pick_channels will change from ordered=False to ordered=True in 1.5 and this will result in a change of behavior because the resulting channel order will not match. Either use a channel order that matches your instance or pass ordered=False.\n",
      "  return mne.pick_channels(info['ch_names'], include=channel_names)\n",
      "/mnt/diskus/fnirs-data-analysis-git/functions_fnirs.py:562: FutureWarning: The default for pick_channels will change from ordered=False to ordered=True in 1.5 and this will result in a change of behavior because the resulting channel order will not match. Either use a channel order that matches your instance or pass ordered=False.\n",
      "  return mne.pick_channels(info['ch_names'], include=channel_names)\n",
      "/mnt/diskus/fnirs-data-analysis-git/functions_fnirs.py:562: FutureWarning: The default for pick_channels will change from ordered=False to ordered=True in 1.5 and this will result in a change of behavior because the resulting channel order will not match. Either use a channel order that matches your instance or pass ordered=False.\n",
      "  return mne.pick_channels(info['ch_names'], include=channel_names)\n",
      "/mnt/diskus/fnirs-data-analysis-git/functions_fnirs.py:562: FutureWarning: The default for pick_channels will change from ordered=False to ordered=True in 1.5 and this will result in a change of behavior because the resulting channel order will not match. Either use a channel order that matches your instance or pass ordered=False.\n",
      "  return mne.pick_channels(info['ch_names'], include=channel_names)\n",
      "/mnt/diskus/fnirs-data-analysis-git/functions_fnirs.py:562: FutureWarning: The default for pick_channels will change from ordered=False to ordered=True in 1.5 and this will result in a change of behavior because the resulting channel order will not match. Either use a channel order that matches your instance or pass ordered=False.\n",
      "  return mne.pick_channels(info['ch_names'], include=channel_names)\n",
      "/mnt/diskus/fnirs-data-analysis-git/functions_fnirs.py:562: FutureWarning: The default for pick_channels will change from ordered=False to ordered=True in 1.5 and this will result in a change of behavior because the resulting channel order will not match. Either use a channel order that matches your instance or pass ordered=False.\n",
      "  return mne.pick_channels(info['ch_names'], include=channel_names)\n"
     ]
    },
    {
     "name": "stdout",
     "output_type": "stream",
     "text": [
      "AL_MI\n"
     ]
    },
    {
     "ename": "KeyboardInterrupt",
     "evalue": "",
     "output_type": "error",
     "traceback": [
      "\u001b[0;31m---------------------------------------------------------------------------\u001b[0m",
      "\u001b[0;31mKeyboardInterrupt\u001b[0m                         Traceback (most recent call last)",
      "Cell \u001b[0;32mIn[3], line 42\u001b[0m\n\u001b[1;32m     36\u001b[0m CONDITION \u001b[38;5;241m=\u001b[39m subj_and_cond\u001b[38;5;241m.\u001b[39msplit(\u001b[38;5;124m'\u001b[39m\u001b[38;5;124m_\u001b[39m\u001b[38;5;124m'\u001b[39m)[\u001b[38;5;241m1\u001b[39m]\n\u001b[1;32m     37\u001b[0m SUBJECT \u001b[38;5;241m=\u001b[39m subj_and_cond\u001b[38;5;241m.\u001b[39msplit(\u001b[38;5;124m'\u001b[39m\u001b[38;5;124m_\u001b[39m\u001b[38;5;124m'\u001b[39m)[\u001b[38;5;241m0\u001b[39m]\n\u001b[1;32m     41\u001b[0m epochs, smr_epochs, rest_epochs, info_hbo_total, info_hbr_total, \\\n\u001b[0;32m---> 42\u001b[0m info_left_smz, info_right_smz, bad_channels \u001b[38;5;241m=\u001b[39m \u001b[43mepochs_preparation\u001b[49m\u001b[43m(\u001b[49m\u001b[43mfilename\u001b[49m\u001b[43m,\u001b[49m\u001b[43m \u001b[49m\u001b[43mSUBJECT\u001b[49m\u001b[43m,\u001b[49m\u001b[43m \u001b[49m\u001b[43mCONDITION\u001b[49m\u001b[43m)\u001b[49m\n\u001b[1;32m     43\u001b[0m \u001b[38;5;66;03m# np.save(f'{DIRS_TO_SAVE_STUFF[\"epochs_folder\"]}/{SUBJECT}_{CONDITION}_REST_EPOCHS.npy', rest_epochs)\u001b[39;00m\n\u001b[1;32m     44\u001b[0m \u001b[38;5;66;03m# np.save(f'{DIRS_TO_SAVE_STUFF[\"epochs_folder\"]}/{SUBJECT}_{CONDITION}_SMR_EPOCHS.npy', smr_epochs)\u001b[39;00m\n\u001b[1;32m     45\u001b[0m \u001b[38;5;66;03m# info_hbo_total.save('info_hbo_total_info.fif')\u001b[39;00m\n\u001b[1;32m     46\u001b[0m \u001b[38;5;66;03m# info_hbr_total.save('info_hbr_total_info.fif')\u001b[39;00m\n\u001b[1;32m     47\u001b[0m \u001b[38;5;66;03m# info_left_smz.save('info_left_smz_info.fif')\u001b[39;00m\n\u001b[1;32m     48\u001b[0m \u001b[38;5;66;03m# info_right_smz.save('info_right_smz_info.fif')\u001b[39;00m\n\u001b[1;32m     50\u001b[0m smr_epochs \u001b[38;5;241m=\u001b[39m replace_with_median(smr_epochs, N\u001b[38;5;241m=\u001b[39m\u001b[38;5;241m5\u001b[39m)\n",
      "File \u001b[0;32m/mnt/diskus/fnirs-data-analysis-git/functions_fnirs.py:428\u001b[0m, in \u001b[0;36mepochs_preparation\u001b[0;34m(filename, subject, condition)\u001b[0m\n\u001b[1;32m    426\u001b[0m \u001b[38;5;28;01mdef\u001b[39;00m \u001b[38;5;21mepochs_preparation\u001b[39m(filename, subject, condition):\n\u001b[1;32m    427\u001b[0m         epochs, smr_epochs, rest_epochs, info_hbo_total, info_hbr_total, \\\n\u001b[0;32m--> 428\u001b[0m         info_left_smz, info_right_smz, bad_channels \u001b[38;5;241m=\u001b[39m \u001b[43mget_epochs\u001b[49m\u001b[43m(\u001b[49m\u001b[43mfilename\u001b[49m\u001b[43m,\u001b[49m\u001b[43m \u001b[49m\u001b[43mTMIN\u001b[49m\u001b[43m,\u001b[49m\u001b[43m \u001b[49m\u001b[43mTMAX\u001b[49m\u001b[43m,\u001b[49m\u001b[43m \u001b[49m\u001b[43mBASELINE\u001b[49m\u001b[43m,\u001b[49m\u001b[43m \u001b[49m\u001b[43mSFREQ\u001b[49m\u001b[43m)\u001b[49m\n\u001b[1;32m    430\u001b[0m         smr_epochs, rest_epochs \u001b[38;5;241m=\u001b[39m smr_epochs\u001b[38;5;241m.\u001b[39mget_data(), rest_epochs\u001b[38;5;241m.\u001b[39mget_data()\n\u001b[1;32m    432\u001b[0m         \u001b[38;5;66;03m# smr_epochs = hbt(smr_epochs)\u001b[39;00m\n\u001b[1;32m    433\u001b[0m         \u001b[38;5;66;03m# rest_epochs = hbt(rest_epochs)\u001b[39;00m\n\u001b[1;32m    434\u001b[0m \n\u001b[1;32m    435\u001b[0m         \u001b[38;5;66;03m# smr_epochs = oxy(smr_epochs)\u001b[39;00m\n\u001b[1;32m    436\u001b[0m         \u001b[38;5;66;03m# rest_epochs = oxy(rest_epochs)\u001b[39;00m\n",
      "File \u001b[0;32m/mnt/diskus/fnirs-data-analysis-git/functions_fnirs.py:174\u001b[0m, in \u001b[0;36mget_epochs\u001b[0;34m(filename, TMIN, TMAX, BASELINE, SFREQ)\u001b[0m\n\u001b[1;32m    169\u001b[0m deviant_channels_idx \u001b[38;5;241m=\u001b[39m biggest_indices\n\u001b[1;32m    170\u001b[0m \u001b[38;5;66;03m# biggest_indices_list = biggest_indices.tolist()\u001b[39;00m\n\u001b[1;32m    171\u001b[0m \u001b[38;5;66;03m# smallest_indices_list = smallest_indices.tolist()\u001b[39;00m\n\u001b[1;32m    172\u001b[0m \u001b[38;5;66;03m# deviant_channels_idx = biggest_indices_list + smallest_indices_list\u001b[39;00m\n\u001b[0;32m--> 174\u001b[0m bad_channels_hbo \u001b[38;5;241m=\u001b[39m [raw_od\u001b[38;5;241m.\u001b[39mcopy()\u001b[38;5;241m.\u001b[39mpick([i \u001b[38;5;28;01mfor\u001b[39;00m i \u001b[38;5;129;01min\u001b[39;00m raw_od\u001b[38;5;241m.\u001b[39mch_names \u001b[38;5;28;01mif\u001b[39;00m \u001b[38;5;124m'\u001b[39m\u001b[38;5;124m760\u001b[39m\u001b[38;5;124m'\u001b[39m \u001b[38;5;129;01min\u001b[39;00m i])\u001b[38;5;241m.\u001b[39mch_names[i]\n\u001b[1;32m    175\u001b[0m                \u001b[38;5;28;01mfor\u001b[39;00m i \u001b[38;5;129;01min\u001b[39;00m deviant_channels_idx]\n\u001b[1;32m    176\u001b[0m bad_channels_hbr \u001b[38;5;241m=\u001b[39m [i\u001b[38;5;241m.\u001b[39mreplace(\u001b[38;5;124m'\u001b[39m\u001b[38;5;124m760\u001b[39m\u001b[38;5;124m'\u001b[39m, \u001b[38;5;124m'\u001b[39m\u001b[38;5;124m850\u001b[39m\u001b[38;5;124m'\u001b[39m) \u001b[38;5;28;01mfor\u001b[39;00m i \u001b[38;5;129;01min\u001b[39;00m bad_channels_hbo]\n\u001b[1;32m    177\u001b[0m bad_channels \u001b[38;5;241m=\u001b[39m bad_channels_hbo \u001b[38;5;241m+\u001b[39m bad_channels_hbr\n",
      "File \u001b[0;32m/mnt/diskus/fnirs-data-analysis-git/functions_fnirs.py:174\u001b[0m, in \u001b[0;36m<listcomp>\u001b[0;34m(.0)\u001b[0m\n\u001b[1;32m    169\u001b[0m deviant_channels_idx \u001b[38;5;241m=\u001b[39m biggest_indices\n\u001b[1;32m    170\u001b[0m \u001b[38;5;66;03m# biggest_indices_list = biggest_indices.tolist()\u001b[39;00m\n\u001b[1;32m    171\u001b[0m \u001b[38;5;66;03m# smallest_indices_list = smallest_indices.tolist()\u001b[39;00m\n\u001b[1;32m    172\u001b[0m \u001b[38;5;66;03m# deviant_channels_idx = biggest_indices_list + smallest_indices_list\u001b[39;00m\n\u001b[0;32m--> 174\u001b[0m bad_channels_hbo \u001b[38;5;241m=\u001b[39m [\u001b[43mraw_od\u001b[49m\u001b[38;5;241;43m.\u001b[39;49m\u001b[43mcopy\u001b[49m\u001b[43m(\u001b[49m\u001b[43m)\u001b[49m\u001b[38;5;241m.\u001b[39mpick([i \u001b[38;5;28;01mfor\u001b[39;00m i \u001b[38;5;129;01min\u001b[39;00m raw_od\u001b[38;5;241m.\u001b[39mch_names \u001b[38;5;28;01mif\u001b[39;00m \u001b[38;5;124m'\u001b[39m\u001b[38;5;124m760\u001b[39m\u001b[38;5;124m'\u001b[39m \u001b[38;5;129;01min\u001b[39;00m i])\u001b[38;5;241m.\u001b[39mch_names[i]\n\u001b[1;32m    175\u001b[0m                \u001b[38;5;28;01mfor\u001b[39;00m i \u001b[38;5;129;01min\u001b[39;00m deviant_channels_idx]\n\u001b[1;32m    176\u001b[0m bad_channels_hbr \u001b[38;5;241m=\u001b[39m [i\u001b[38;5;241m.\u001b[39mreplace(\u001b[38;5;124m'\u001b[39m\u001b[38;5;124m760\u001b[39m\u001b[38;5;124m'\u001b[39m, \u001b[38;5;124m'\u001b[39m\u001b[38;5;124m850\u001b[39m\u001b[38;5;124m'\u001b[39m) \u001b[38;5;28;01mfor\u001b[39;00m i \u001b[38;5;129;01min\u001b[39;00m bad_channels_hbo]\n\u001b[1;32m    177\u001b[0m bad_channels \u001b[38;5;241m=\u001b[39m bad_channels_hbo \u001b[38;5;241m+\u001b[39m bad_channels_hbr\n",
      "File \u001b[0;32m~/.cache/pypoetry/virtualenvs/fnirs-pEil43oO-py3.8/lib/python3.8/site-packages/mne/io/base.py:2045\u001b[0m, in \u001b[0;36mBaseRaw.copy\u001b[0;34m(self)\u001b[0m\n\u001b[1;32m   2037\u001b[0m \u001b[38;5;28;01mdef\u001b[39;00m \u001b[38;5;21mcopy\u001b[39m(\u001b[38;5;28mself\u001b[39m):\n\u001b[1;32m   2038\u001b[0m     \u001b[38;5;124;03m\"\"\"Return copy of Raw instance.\u001b[39;00m\n\u001b[1;32m   2039\u001b[0m \n\u001b[1;32m   2040\u001b[0m \u001b[38;5;124;03m    Returns\u001b[39;00m\n\u001b[0;32m   (...)\u001b[0m\n\u001b[1;32m   2043\u001b[0m \u001b[38;5;124;03m        A copy of the instance.\u001b[39;00m\n\u001b[1;32m   2044\u001b[0m \u001b[38;5;124;03m    \"\"\"\u001b[39;00m\n\u001b[0;32m-> 2045\u001b[0m     \u001b[38;5;28;01mreturn\u001b[39;00m \u001b[43mdeepcopy\u001b[49m\u001b[43m(\u001b[49m\u001b[38;5;28;43mself\u001b[39;49m\u001b[43m)\u001b[49m\n",
      "File \u001b[0;32m/usr/local/lib/python3.8/copy.py:172\u001b[0m, in \u001b[0;36mdeepcopy\u001b[0;34m(x, memo, _nil)\u001b[0m\n\u001b[1;32m    170\u001b[0m                 y \u001b[38;5;241m=\u001b[39m x\n\u001b[1;32m    171\u001b[0m             \u001b[38;5;28;01melse\u001b[39;00m:\n\u001b[0;32m--> 172\u001b[0m                 y \u001b[38;5;241m=\u001b[39m \u001b[43m_reconstruct\u001b[49m\u001b[43m(\u001b[49m\u001b[43mx\u001b[49m\u001b[43m,\u001b[49m\u001b[43m \u001b[49m\u001b[43mmemo\u001b[49m\u001b[43m,\u001b[49m\u001b[43m \u001b[49m\u001b[38;5;241;43m*\u001b[39;49m\u001b[43mrv\u001b[49m\u001b[43m)\u001b[49m\n\u001b[1;32m    174\u001b[0m \u001b[38;5;66;03m# If is its own copy, don't memoize.\u001b[39;00m\n\u001b[1;32m    175\u001b[0m \u001b[38;5;28;01mif\u001b[39;00m y \u001b[38;5;129;01mis\u001b[39;00m \u001b[38;5;129;01mnot\u001b[39;00m x:\n",
      "File \u001b[0;32m/usr/local/lib/python3.8/copy.py:270\u001b[0m, in \u001b[0;36m_reconstruct\u001b[0;34m(x, memo, func, args, state, listiter, dictiter, deepcopy)\u001b[0m\n\u001b[1;32m    268\u001b[0m \u001b[38;5;28;01mif\u001b[39;00m state \u001b[38;5;129;01mis\u001b[39;00m \u001b[38;5;129;01mnot\u001b[39;00m \u001b[38;5;28;01mNone\u001b[39;00m:\n\u001b[1;32m    269\u001b[0m     \u001b[38;5;28;01mif\u001b[39;00m deep:\n\u001b[0;32m--> 270\u001b[0m         state \u001b[38;5;241m=\u001b[39m \u001b[43mdeepcopy\u001b[49m\u001b[43m(\u001b[49m\u001b[43mstate\u001b[49m\u001b[43m,\u001b[49m\u001b[43m \u001b[49m\u001b[43mmemo\u001b[49m\u001b[43m)\u001b[49m\n\u001b[1;32m    271\u001b[0m     \u001b[38;5;28;01mif\u001b[39;00m \u001b[38;5;28mhasattr\u001b[39m(y, \u001b[38;5;124m'\u001b[39m\u001b[38;5;124m__setstate__\u001b[39m\u001b[38;5;124m'\u001b[39m):\n\u001b[1;32m    272\u001b[0m         y\u001b[38;5;241m.\u001b[39m__setstate__(state)\n",
      "File \u001b[0;32m/usr/local/lib/python3.8/copy.py:146\u001b[0m, in \u001b[0;36mdeepcopy\u001b[0;34m(x, memo, _nil)\u001b[0m\n\u001b[1;32m    144\u001b[0m copier \u001b[38;5;241m=\u001b[39m _deepcopy_dispatch\u001b[38;5;241m.\u001b[39mget(\u001b[38;5;28mcls\u001b[39m)\n\u001b[1;32m    145\u001b[0m \u001b[38;5;28;01mif\u001b[39;00m copier \u001b[38;5;129;01mis\u001b[39;00m \u001b[38;5;129;01mnot\u001b[39;00m \u001b[38;5;28;01mNone\u001b[39;00m:\n\u001b[0;32m--> 146\u001b[0m     y \u001b[38;5;241m=\u001b[39m \u001b[43mcopier\u001b[49m\u001b[43m(\u001b[49m\u001b[43mx\u001b[49m\u001b[43m,\u001b[49m\u001b[43m \u001b[49m\u001b[43mmemo\u001b[49m\u001b[43m)\u001b[49m\n\u001b[1;32m    147\u001b[0m \u001b[38;5;28;01melse\u001b[39;00m:\n\u001b[1;32m    148\u001b[0m     \u001b[38;5;28;01mif\u001b[39;00m \u001b[38;5;28missubclass\u001b[39m(\u001b[38;5;28mcls\u001b[39m, \u001b[38;5;28mtype\u001b[39m):\n",
      "File \u001b[0;32m/usr/local/lib/python3.8/copy.py:230\u001b[0m, in \u001b[0;36m_deepcopy_dict\u001b[0;34m(x, memo, deepcopy)\u001b[0m\n\u001b[1;32m    228\u001b[0m memo[\u001b[38;5;28mid\u001b[39m(x)] \u001b[38;5;241m=\u001b[39m y\n\u001b[1;32m    229\u001b[0m \u001b[38;5;28;01mfor\u001b[39;00m key, value \u001b[38;5;129;01min\u001b[39;00m x\u001b[38;5;241m.\u001b[39mitems():\n\u001b[0;32m--> 230\u001b[0m     y[\u001b[43mdeepcopy\u001b[49m\u001b[43m(\u001b[49m\u001b[43mkey\u001b[49m\u001b[43m,\u001b[49m\u001b[43m \u001b[49m\u001b[43mmemo\u001b[49m\u001b[43m)\u001b[49m] \u001b[38;5;241m=\u001b[39m deepcopy(value, memo)\n\u001b[1;32m    231\u001b[0m \u001b[38;5;28;01mreturn\u001b[39;00m y\n",
      "File \u001b[0;32m/usr/local/lib/python3.8/copy.py:138\u001b[0m, in \u001b[0;36mdeepcopy\u001b[0;34m(x, memo, _nil)\u001b[0m\n\u001b[1;32m    135\u001b[0m     memo \u001b[38;5;241m=\u001b[39m {}\n\u001b[1;32m    137\u001b[0m d \u001b[38;5;241m=\u001b[39m \u001b[38;5;28mid\u001b[39m(x)\n\u001b[0;32m--> 138\u001b[0m y \u001b[38;5;241m=\u001b[39m \u001b[43mmemo\u001b[49m\u001b[38;5;241;43m.\u001b[39;49m\u001b[43mget\u001b[49m\u001b[43m(\u001b[49m\u001b[43md\u001b[49m\u001b[43m,\u001b[49m\u001b[43m \u001b[49m\u001b[43m_nil\u001b[49m\u001b[43m)\u001b[49m\n\u001b[1;32m    139\u001b[0m \u001b[38;5;28;01mif\u001b[39;00m y \u001b[38;5;129;01mis\u001b[39;00m \u001b[38;5;129;01mnot\u001b[39;00m _nil:\n\u001b[1;32m    140\u001b[0m     \u001b[38;5;28;01mreturn\u001b[39;00m y\n",
      "\u001b[0;31mKeyboardInterrupt\u001b[0m: "
     ]
    }
   ],
   "source": [
    "for filename in subfolders:\n",
    "        subj_and_cond = os.path.split(filename)[-1]\n",
    "        print(subj_and_cond)\n",
    "        CONDITION = subj_and_cond.split('_')[1]\n",
    "        SUBJECT = subj_and_cond.split('_')[0]\n",
    "\n",
    "\n",
    "\n",
    "        epochs, smr_epochs, rest_epochs, info_hbo_total, info_hbr_total, \\\n",
    "        info_left_smz, info_right_smz, bad_channels = epochs_preparation(filename, SUBJECT, CONDITION)\n",
    "        # np.save(f'{DIRS_TO_SAVE_STUFF[\"epochs_folder\"]}/{SUBJECT}_{CONDITION}_REST_EPOCHS.npy', rest_epochs)\n",
    "        # np.save(f'{DIRS_TO_SAVE_STUFF[\"epochs_folder\"]}/{SUBJECT}_{CONDITION}_SMR_EPOCHS.npy', smr_epochs)\n",
    "        # info_hbo_total.save('info_hbo_total_info.fif')\n",
    "        # info_hbr_total.save('info_hbr_total_info.fif')\n",
    "        # info_left_smz.save('info_left_smz_info.fif')\n",
    "        # info_right_smz.save('info_right_smz_info.fif')\n",
    "\n",
    "        smr_epochs = replace_with_median(smr_epochs, N=5)\n",
    "        rest_epochs = replace_with_median(rest_epochs, N=5)\n",
    "        \n",
    "        epochs_evokeds_SMR_list, epochs_evokeds_REST_list = evokeds_preparation(smr_epochs, \n",
    "                                                                  rest_epochs,\n",
    "                                                                  max_norm=1,\n",
    "                                                                  min_norm=2,\n",
    "                                                                  info=info_hbo_total,\n",
    "                                                                  normalize=False,\n",
    "                                                                  general_use=False)\n",
    "        \n",
    "        evokeds_SMR_list = [np.median(i*1e6, axis=1) for i in epochs_evokeds_SMR_list]\n",
    "        evokeds_REST_list = [np.median(i*1e6, axis=1) for i in epochs_evokeds_REST_list]\n",
    "\n",
    "        M1_evoked_SMR_left = evokeds_SMR_list[0]\n",
    "        S1_evoked_SMR_left = evokeds_SMR_list[1]\n",
    "        SMZ_evoked_SMR_left = evokeds_SMR_list[2]\n",
    "\n",
    "        M1_evoked_REST_left = evokeds_REST_list[0]\n",
    "        S1_evoked_REST_left = evokeds_REST_list[1]\n",
    "        SMZ_evoked_REST_left = evokeds_REST_list[2]\n",
    "\n",
    "        \n",
    "        pochs_M1_evoked_SMR_left = epochs_evokeds_SMR_list[0]\n",
    "        pochs_S1_evoked_SMR_left = epochs_evokeds_SMR_list[1]\n",
    "        pochs_SMZ_evoked_SMR_left = epochs_evokeds_SMR_list[2]\n",
    "\n",
    "\n",
    "        pochs_M1_evoked_REST_left = epochs_evokeds_REST_list[0]\n",
    "        pochs_S1_evoked_REST_left = epochs_evokeds_REST_list[1]\n",
    "        pochs_SMZ_evoked_REST_left = epochs_evokeds_REST_list[2]\n",
    "\n",
    "        \n",
    "        if curves_hb == 'hbo':\n",
    "                evoked_SMR, evoked_REST = make_evokeds_roi(\n",
    "                                                                smr_epochs=smr_epochs, \n",
    "                                                                rest_epochs=rest_epochs,\n",
    "                                                                pick=info_hbo_total['ch_names'],\n",
    "                                                                averaging_method='median')\n",
    "                \n",
    "        if curves_hb == 'hbr':\n",
    "                evoked_SMR, evoked_REST = make_evokeds_roi(\n",
    "                                                                smr_epochs=smr_epochs, \n",
    "                                                                rest_epochs=rest_epochs,\n",
    "                                                                pick=info_hbr_total['ch_names'],\n",
    "                                                                averaging_method='median')\n",
    "                                \n",
    "        evoked_SMR = evoked_SMR*1e6\n",
    "        evoked_REST = evoked_REST*1e6\n",
    "        ### RELATIVE MEASURE ERD-STYLE ###      \n",
    "        \n",
    "        \n",
    "        print('M1_evoked_rest', M1_evoked_REST_left.shape)\n",
    "        ##RELATION LEFT###\n",
    "        relation_M1_left = relative_measure(M1_evoked_SMR_left,\n",
    "                                                M1_evoked_REST_left, SFREQ)\n",
    "        relation_S1_left = relative_measure(S1_evoked_SMR_left,\n",
    "                                                S1_evoked_REST_left, SFREQ)\n",
    "        relation_SMZ_left = relative_measure(SMZ_evoked_SMR_left,\n",
    "                                                SMZ_evoked_REST_left, SFREQ)\n",
    "\n",
    "\n",
    "        \n",
    "        z_relation_M1_left = relative_measure(pochs_M1_evoked_SMR_left,\n",
    "                                                M1_evoked_REST_left, SFREQ)\n",
    "        z_relation_S1_left = relative_measure(pochs_S1_evoked_SMR_left,\n",
    "                                                S1_evoked_REST_left, SFREQ)\n",
    "        z_relation_SMZ_left = relative_measure(pochs_SMZ_evoked_SMR_left,\n",
    "                                                SMZ_evoked_REST_left, SFREQ)\n",
    "        \n",
    "        conditions_roi_dict = dict(\n",
    "                ME_LEFT=np.median(M1_evoked_SMR_left, axis=0),\n",
    "                MI_LEFT=np.median(M1_evoked_SMR_left, axis=0),\n",
    "                TS_LEFT=np.median(S1_evoked_SMR_left, axis=0),\n",
    "                TI_LEFT=np.median(S1_evoked_SMR_left, axis=0),\n",
    "                SA_LEFT=np.median(SMZ_evoked_SMR_left, axis=0),\n",
    "                \n",
    "                rel_ME_LEFT=relation_M1_left,\n",
    "                rel_MI_LEFT=relation_M1_left,\n",
    "                rel_TS_LEFT=relation_S1_left,\n",
    "                rel_TI_LEFT=relation_S1_left,\n",
    "                rel_SA_LEFT=relation_SMZ_left,\n",
    "                )\n",
    "        \n",
    "        concatenated_smr_left = np.concatenate([\n",
    "        M1_evoked_SMR_left,\n",
    "        S1_evoked_SMR_left,\n",
    "        SMZ_evoked_SMR_left,\n",
    "    \n",
    "        ], axis=0)\n",
    "        concatenated_rest_left = np.concatenate([\n",
    "        M1_evoked_REST_left,\n",
    "        S1_evoked_REST_left,\n",
    "        SMZ_evoked_REST_left,\n",
    "    \n",
    "        ], axis=0)\n",
    "\n",
    "\n",
    "        concatenated_rel_left = np.concatenate([\n",
    "        relation_M1_left,\n",
    "        relation_S1_left,\n",
    "        relation_SMZ_left,\n",
    "        ], axis=0)\n",
    "\n",
    "\n",
    "        m1_group_left = [info_left_smz.ch_names.index(ch) for ch in different_roi['M1'][0] ]\n",
    "        s1_group_left = [info_left_smz.ch_names.index(ch) for ch in different_roi['S1'][0] ]\n",
    "        smz_group_left = [info_left_smz.ch_names.index(ch) for ch in different_roi['REMAINING'][0]]\n",
    "\n",
    "        ######################################################################\n",
    "\n",
    "        ###PLOT RELATION###\n",
    "        times = np.arange(TMIN, TMAX, 1/SFREQ)\n",
    "        linewidth = 1.5\n",
    "        # ylims=(-50, 70)\n",
    "        ylims=(-5, 10)        \n",
    "        tmin, tmax = TMIN, TMAX\n",
    "        topo_linewidth = 1\n",
    "        pointsize = 20\n",
    "        topo_width = topo_height = '30%'\n",
    "\n",
    "\n",
    "        # print('z+relation', z_relation_M1_left)\n",
    "        # print('z_rel_values', z_relation_M1_left.shape)\n",
    "        # print('M1_left', ez_median(relation_M1_left).shape)\n",
    "        # \n",
    "        #### RELATION LEFT ####\n",
    "\n",
    "        def get_max_time(cond_left, time_limits=[int((4-TMIN)*SFREQ), int((12-TMIN)*SFREQ)], median=False):\n",
    "                if median:\n",
    "                        mean_left_cond_limited = np.median(conditions_roi_dict[cond_left], axis=0)[time_limits[0]:time_limits[1]]\n",
    "                else:\n",
    "                        mean_left_cond_limited = conditions_roi_dict[cond_left][time_limits[0]:time_limits[1]]\n",
    "                peak_timestamp_left = np.argmax(mean_left_cond_limited)\n",
    "                \n",
    "                max_value_left = np.median(mean_left_cond_limited[peak_timestamp_left-1*SFREQ : peak_timestamp_left+1*SFREQ])\n",
    "                \n",
    "                return peak_timestamp_left\n",
    "\n",
    "        WINDOW_LOW, WINDOW_HIGH = 4, 10\n",
    "\n",
    "        TIME_RANGE = [int((WINDOW_LOW-TMIN)*SFREQ), int((WINDOW_HIGH-TMIN)*SFREQ)]\n",
    "        final_timestamp = get_max_time(f'{CONDITION}_LEFT')\n",
    "        rel_final_timestamp = get_max_time(f'rel_{CONDITION}_LEFT', median=True)\n",
    "        LOWER_TIME, UPPER_TIME = final_timestamp-1*SFREQ, final_timestamp+1*SFREQ\n",
    "        peak_time = final_timestamp/SFREQ + WINDOW_LOW\n",
    "        rel_peak_time = rel_final_timestamp/SFREQ + WINDOW_LOW\n",
    "        print('Peak time', peak_time, 'rel peak time', rel_peak_time)\n",
    "\n",
    "        print(conditions_roi_dict[f'rel_{CONDITION}_LEFT'].shape)\n",
    "\n",
    "\n",
    "        \n",
    "        # smr_in_peak_timestamp = np.mean(evoked_SMR[:, LOWER_TIME+TIME_RANGE[0] : UPPER_TIME+TIME_RANGE[0]], axis=1)\n",
    "        # rest_in_peak_timestamp = np.mean(evoked_REST[:, LOWER_TIME+TIME_RANGE[0] : UPPER_TIME+TIME_RANGE[0]], axis=1)\n",
    "        \n",
    "        smr_in_peak_timestamp = np.median(evoked_SMR[:, TIME_RANGE[0]:TIME_RANGE[1]], axis=1)\n",
    "        rest_in_peak_timestamp = np.median(evoked_REST[:, TIME_RANGE[0]:TIME_RANGE[1]], axis=1)\n",
    "        \n",
    "        \n",
    "        top_n_chans = 10\n",
    "        mask_SMR, top_dict_SMR = get_top_channels_mask(smr_in_peak_timestamp, \n",
    "                                                        info_hbo_total, \n",
    "                                                        top_n_chans)\n",
    "        mask_REST, top_dict_REST = get_top_channels_mask(rest_in_peak_timestamp, \n",
    "                                                        info_hbo_total, \n",
    "                                                        top_n_chans)\n",
    "\n",
    "\n",
    "\n",
    "\n",
    "\n",
    "\n",
    "        # min1, max1 = min(smr_in_peak_timestamp*1e6), max(smr_in_peak_timestamp*1e6)\n",
    "        # min2, max2 = min(rest_in_peak_timestamp*1e6), max(rest_in_peak_timestamp*1e6)\n",
    "        # ylims = (min(min1, min2), max(max1, max2))\n",
    "        ylims = (-7, 7)\n",
    "\n",
    "        fig, axes = plt.subplots(1, 2, figsize=(20, 12))\n",
    "\n",
    "        ### LEFT SMR TOPO ###\n",
    "        a = mne.viz.plot_topomap(data=smr_in_peak_timestamp,\n",
    "                                pos=info_hbo_total,\n",
    "                                axes=axes[0],\n",
    "                                vlim=ylims,\n",
    "                                contours=3,\n",
    "                                extrapolate='local',\n",
    "                                image_interp='linear',\n",
    "                                cmap=custom_cmap,\n",
    "                                sphere=(0.0, 0.03, 0.0, 0.095),\n",
    "\n",
    "                                # mask=mask_SMR,\n",
    "                                # mask_params=mask_params,\n",
    "                                names=info_hbo_total['ch_names']\n",
    "                                \n",
    "                                # show=False\n",
    "                                )\n",
    "        ### RIGHT REST TOPO ###\n",
    "        a = mne.viz.plot_topomap(data=rest_in_peak_timestamp,\n",
    "                                pos=info_hbo_total,\n",
    "                                axes=axes[1],\n",
    "                                vlim=ylims,\n",
    "                                contours=3,\n",
    "                                extrapolate='local',\n",
    "                                image_interp='linear',\n",
    "                                cmap=custom_cmap,\n",
    "                                sphere=(0.0, 0.03, 0.0, 0.095),\n",
    "\n",
    "                                # mask=mask_REST,\n",
    "                                # mask_params=mask_params,\n",
    "                                names=info_hbo_total['ch_names']\n",
    "                                # show=False\n",
    "                                )\n",
    "\n",
    "        ### TITLES ###\n",
    "        # axes[0].set_title(\n",
    "        #         f'Topography of {curves_hb} in subject {SUBJECT}\\n in {CONDITION} in time range {np.round(peak_time-1, decimals=1)}:{np.round(peak_time+1, decimals=1)}s',\n",
    "        # fontsize=18)\n",
    "\n",
    "        # axes[1].set_title(\n",
    "        #         f'Topography of {curves_hb} in subject {SUBJECT}\\n in REST  in time range {np.round(peak_time-1, decimals=1)}:{np.round(peak_time+1, decimals=1)}s',\n",
    "        # fontsize=18)\n",
    "        \n",
    "        axes[0].set_title(\n",
    "                f'Topography of {curves_hb} in subject {SUBJECT}\\n in {CONDITION} in time range {TIME_RANGE[0]/SFREQ+TMIN}:{TIME_RANGE[1]/SFREQ+TMIN}s',\n",
    "        fontsize=18)\n",
    "\n",
    "        axes[1].set_title(\n",
    "                f'Topography of {curves_hb} in subject {SUBJECT}\\n in REST  in time range {TIME_RANGE[0]/SFREQ+TMIN}:{TIME_RANGE[1]/SFREQ+TMIN}s',\n",
    "        fontsize=18)\n",
    "        ### COLORBAR SETTINGS ###\n",
    "        sm = plt.cm.ScalarMappable(cmap=custom_cmap, \n",
    "                                norm=matplotlib.colors.Normalize(vmin=ylims[0], vmax=ylims[1]))\n",
    "\n",
    "        cbaxes = fig.add_axes([0.075, 0.25, 0.02, 0.5]) # setup colorbar axes. \n",
    "        cbar = plt.colorbar(mappable=sm, cax=cbaxes, pad=0.15, orientation='vertical')\n",
    "        cbar.set_label(' Hb concentration, Δ μM\\L', loc='center', size=12)\n",
    "        cbar.ax.yaxis.set_label_coords(-0.5, 0.5)\n",
    "        plt.subplots_adjust(**two_topomaps_subplot_params)\n",
    "        # fig.savefig(rf'{DIRS_TO_SAVE_STUFF[f\"topo_path\"]}/{SUBJECT}_{CONDITION}_smr_rest_topo.png', bbox_inches='tight')\n",
    "        # fig.clear()\n",
    "        # plt.close(fig)"
   ]
  },
  {
   "cell_type": "code",
   "execution_count": 44,
   "id": "01c0cb3d",
   "metadata": {},
   "outputs": [],
   "source": [
    "a = mne.viz.plot_sensors(info_hbo_total, kind='select',\n",
    "                                                         sphere=(0.0, 0.03, 0.0, 0.095),\n",
    "\n",
    ")"
   ]
  },
  {
   "cell_type": "code",
   "execution_count": 7,
   "id": "4171f7cb",
   "metadata": {},
   "outputs": [],
   "source": [
    "bad_hbo = ['S1_D2 hbo',\n",
    "  'S1_D6 hbo',\n",
    "  'S2_D1 hbo',\n",
    "  'S2_D3 hbo',\n",
    "  'S2_D7 hbo',\n",
    "  'S3_D1 hbo',\n",
    "  'S3_D4 hbo',\n",
    "  'S3_D8 hbo',\n",
    "  'S4_D5 hbo',\n",
    "  'S4_D9 hbo',\n",
    "  'S5_D2 hbo',\n",
    "  'S6_D3 hbo',\n",
    "  'S7_D4 hbo',\n",
    "  'S8_D5 hbo',\n",
    "  'S15_D22 hbo',\n",
    "  'S18_D25 hbo',\n",
    "  'S19_D22 hbo',\n",
    "  'S22_D25 hbo',\n",
    "  'S23_D22 hbo',\n",
    "  'S23_D26 hbo',\n",
    "  'S24_D27 hbo',\n",
    "  'S25_D28 hbo',\n",
    "  'S26_D29 hbo',\n",
    "  'S27_D22 hbo',\n",
    "  'S27_D26 hbo',\n",
    "  'S27_D30 hbo',\n",
    "  'S28_D27 hbo',\n",
    "  'S29_D28 hbo',\n",
    "  'S30_D25 hbo',\n",
    "  'S30_D29 hbo',\n",
    "  'S30_D31 hbo',\n",
    "  'S31_D26 hbo',\n",
    "  'S31_D27 hbo',\n",
    "  'S31_D30 hbo',\n",
    "  'S32_D28 hbo',\n",
    "  'S32_D29 hbo',\n",
    "  'S32_D31 hbo']\n",
    "\n",
    "bad_hbr = [i.replace('hbo', 'hbr') for i in bad_hbo]\n",
    "bad_all = bad_hbo + bad_hbr"
   ]
  },
  {
   "cell_type": "code",
   "execution_count": 45,
   "id": "832f3bd6",
   "metadata": {},
   "outputs": [
    {
     "data": {
      "text/plain": [
       "(<Figure size 956x1006 with 1 Axes>,\n",
       " ['S18_D15 hbo', 'S18_D21 hbo', 'S18_D25 hbo'])"
      ]
     },
     "execution_count": 45,
     "metadata": {},
     "output_type": "execute_result"
    }
   ],
   "source": [
    "a"
   ]
  },
  {
   "cell_type": "code",
   "execution_count": 8,
   "id": "36e06cc0",
   "metadata": {
    "scrolled": true
   },
   "outputs": [
    {
     "data": {
      "text/plain": [
       "['S1_D2 hbo',\n",
       " 'S1_D6 hbo',\n",
       " 'S2_D1 hbo',\n",
       " 'S2_D3 hbo',\n",
       " 'S2_D7 hbo',\n",
       " 'S3_D1 hbo',\n",
       " 'S3_D4 hbo',\n",
       " 'S3_D8 hbo',\n",
       " 'S4_D5 hbo',\n",
       " 'S4_D9 hbo',\n",
       " 'S5_D2 hbo',\n",
       " 'S6_D3 hbo',\n",
       " 'S7_D4 hbo',\n",
       " 'S8_D5 hbo',\n",
       " 'S15_D22 hbo',\n",
       " 'S18_D25 hbo',\n",
       " 'S19_D22 hbo',\n",
       " 'S22_D25 hbo',\n",
       " 'S23_D22 hbo',\n",
       " 'S23_D26 hbo',\n",
       " 'S24_D27 hbo',\n",
       " 'S25_D28 hbo',\n",
       " 'S26_D29 hbo',\n",
       " 'S27_D22 hbo',\n",
       " 'S27_D26 hbo',\n",
       " 'S27_D30 hbo',\n",
       " 'S28_D27 hbo',\n",
       " 'S29_D28 hbo',\n",
       " 'S30_D25 hbo',\n",
       " 'S30_D29 hbo',\n",
       " 'S30_D31 hbo',\n",
       " 'S31_D26 hbo',\n",
       " 'S31_D27 hbo',\n",
       " 'S31_D30 hbo',\n",
       " 'S32_D28 hbo',\n",
       " 'S32_D29 hbo',\n",
       " 'S32_D31 hbo',\n",
       " 'S1_D2 hbr',\n",
       " 'S1_D6 hbr',\n",
       " 'S2_D1 hbr',\n",
       " 'S2_D3 hbr',\n",
       " 'S2_D7 hbr',\n",
       " 'S3_D1 hbr',\n",
       " 'S3_D4 hbr',\n",
       " 'S3_D8 hbr',\n",
       " 'S4_D5 hbr',\n",
       " 'S4_D9 hbr',\n",
       " 'S5_D2 hbr',\n",
       " 'S6_D3 hbr',\n",
       " 'S7_D4 hbr',\n",
       " 'S8_D5 hbr',\n",
       " 'S15_D22 hbr',\n",
       " 'S18_D25 hbr',\n",
       " 'S19_D22 hbr',\n",
       " 'S22_D25 hbr',\n",
       " 'S23_D22 hbr',\n",
       " 'S23_D26 hbr',\n",
       " 'S24_D27 hbr',\n",
       " 'S25_D28 hbr',\n",
       " 'S26_D29 hbr',\n",
       " 'S27_D22 hbr',\n",
       " 'S27_D26 hbr',\n",
       " 'S27_D30 hbr',\n",
       " 'S28_D27 hbr',\n",
       " 'S29_D28 hbr',\n",
       " 'S30_D25 hbr',\n",
       " 'S30_D29 hbr',\n",
       " 'S30_D31 hbr',\n",
       " 'S31_D26 hbr',\n",
       " 'S31_D27 hbr',\n",
       " 'S31_D30 hbr',\n",
       " 'S32_D28 hbr',\n",
       " 'S32_D29 hbr',\n",
       " 'S32_D31 hbr']"
      ]
     },
     "execution_count": 8,
     "metadata": {},
     "output_type": "execute_result"
    }
   ],
   "source": [
    "bad_all"
   ]
  },
  {
   "cell_type": "code",
   "execution_count": null,
   "id": "557593d2",
   "metadata": {},
   "outputs": [],
   "source": []
  },
  {
   "cell_type": "code",
   "execution_count": 53,
   "id": "172a9371",
   "metadata": {},
   "outputs": [
    {
     "ename": "ValueError",
     "evalue": "No appropriate channels found for the given picks (array([], dtype=int64))",
     "output_type": "error",
     "traceback": [
      "\u001b[0;31m---------------------------------------------------------------------------\u001b[0m",
      "\u001b[0;31mValueError\u001b[0m                                Traceback (most recent call last)",
      "Cell \u001b[0;32mIn[53], line 1\u001b[0m\n\u001b[0;32m----> 1\u001b[0m montage \u001b[38;5;241m=\u001b[39m \u001b[43mmne\u001b[49m\u001b[38;5;241;43m.\u001b[39;49m\u001b[43mchannels\u001b[49m\u001b[38;5;241;43m.\u001b[39;49m\u001b[43mmake_eeg_layout\u001b[49m\u001b[43m(\u001b[49m\u001b[43minfo\u001b[49m\u001b[38;5;241;43m=\u001b[39;49m\u001b[43minfo_hbo_total\u001b[49m\u001b[43m)\u001b[49m\n",
      "File \u001b[0;32m~/.cache/pypoetry/virtualenvs/fnirs-pEil43oO-py3.8/lib/python3.8/site-packages/mne/channels/layout.py:327\u001b[0m, in \u001b[0;36mmake_eeg_layout\u001b[0;34m(info, radius, width, height, exclude, csd)\u001b[0m\n\u001b[1;32m    325\u001b[0m     pick_kwargs\u001b[38;5;241m.\u001b[39mupdate(csd\u001b[38;5;241m=\u001b[39m\u001b[38;5;28;01mTrue\u001b[39;00m, eeg\u001b[38;5;241m=\u001b[39m\u001b[38;5;28;01mFalse\u001b[39;00m)\n\u001b[1;32m    326\u001b[0m picks \u001b[38;5;241m=\u001b[39m pick_types(info, \u001b[38;5;241m*\u001b[39m\u001b[38;5;241m*\u001b[39mpick_kwargs)\n\u001b[0;32m--> 327\u001b[0m loc2d \u001b[38;5;241m=\u001b[39m \u001b[43m_find_topomap_coords\u001b[49m\u001b[43m(\u001b[49m\u001b[43minfo\u001b[49m\u001b[43m,\u001b[49m\u001b[43m \u001b[49m\u001b[43mpicks\u001b[49m\u001b[43m)\u001b[49m\n\u001b[1;32m    328\u001b[0m names \u001b[38;5;241m=\u001b[39m [info[\u001b[38;5;124m\"\u001b[39m\u001b[38;5;124mchs\u001b[39m\u001b[38;5;124m\"\u001b[39m][i][\u001b[38;5;124m\"\u001b[39m\u001b[38;5;124mch_name\u001b[39m\u001b[38;5;124m\"\u001b[39m] \u001b[38;5;28;01mfor\u001b[39;00m i \u001b[38;5;129;01min\u001b[39;00m picks]\n\u001b[1;32m    330\u001b[0m \u001b[38;5;66;03m# Scale [x, y] to be in the range [-0.5, 0.5]\u001b[39;00m\n\u001b[1;32m    331\u001b[0m \u001b[38;5;66;03m# Don't mess with the origin or aspect ratio\u001b[39;00m\n",
      "File \u001b[0;32m~/.cache/pypoetry/virtualenvs/fnirs-pEil43oO-py3.8/lib/python3.8/site-packages/mne/channels/layout.py:731\u001b[0m, in \u001b[0;36m_find_topomap_coords\u001b[0;34m(info, picks, layout, ignore_overlap, to_sphere, sphere)\u001b[0m\n\u001b[1;32m    708\u001b[0m \u001b[38;5;129m@fill_doc\u001b[39m\n\u001b[1;32m    709\u001b[0m \u001b[38;5;28;01mdef\u001b[39;00m \u001b[38;5;21m_find_topomap_coords\u001b[39m(\n\u001b[1;32m    710\u001b[0m     info, picks, layout\u001b[38;5;241m=\u001b[39m\u001b[38;5;28;01mNone\u001b[39;00m, ignore_overlap\u001b[38;5;241m=\u001b[39m\u001b[38;5;28;01mFalse\u001b[39;00m, to_sphere\u001b[38;5;241m=\u001b[39m\u001b[38;5;28;01mTrue\u001b[39;00m, sphere\u001b[38;5;241m=\u001b[39m\u001b[38;5;28;01mNone\u001b[39;00m\n\u001b[1;32m    711\u001b[0m ):\n\u001b[1;32m    712\u001b[0m     \u001b[38;5;124;03m\"\"\"Guess the E/MEG layout and return appropriate topomap coordinates.\u001b[39;00m\n\u001b[1;32m    713\u001b[0m \n\u001b[1;32m    714\u001b[0m \u001b[38;5;124;03m    Parameters\u001b[39;00m\n\u001b[0;32m   (...)\u001b[0m\n\u001b[1;32m    729\u001b[0m \u001b[38;5;124;03m        2 dimensional coordinates for each sensor for a topomap plot.\u001b[39;00m\n\u001b[1;32m    730\u001b[0m \u001b[38;5;124;03m    \"\"\"\u001b[39;00m\n\u001b[0;32m--> 731\u001b[0m     picks \u001b[38;5;241m=\u001b[39m \u001b[43m_picks_to_idx\u001b[49m\u001b[43m(\u001b[49m\u001b[43minfo\u001b[49m\u001b[43m,\u001b[49m\u001b[43m \u001b[49m\u001b[43mpicks\u001b[49m\u001b[43m,\u001b[49m\u001b[43m \u001b[49m\u001b[38;5;124;43m\"\u001b[39;49m\u001b[38;5;124;43mall\u001b[39;49m\u001b[38;5;124;43m\"\u001b[39;49m\u001b[43m,\u001b[49m\u001b[43m \u001b[49m\u001b[43mexclude\u001b[49m\u001b[38;5;241;43m=\u001b[39;49m\u001b[43m(\u001b[49m\u001b[43m)\u001b[49m\u001b[43m,\u001b[49m\u001b[43m \u001b[49m\u001b[43mallow_empty\u001b[49m\u001b[38;5;241;43m=\u001b[39;49m\u001b[38;5;28;43;01mFalse\u001b[39;49;00m\u001b[43m)\u001b[49m\n\u001b[1;32m    733\u001b[0m     \u001b[38;5;28;01mif\u001b[39;00m layout \u001b[38;5;129;01mis\u001b[39;00m \u001b[38;5;129;01mnot\u001b[39;00m \u001b[38;5;28;01mNone\u001b[39;00m:\n\u001b[1;32m    734\u001b[0m         chs \u001b[38;5;241m=\u001b[39m [info[\u001b[38;5;124m\"\u001b[39m\u001b[38;5;124mchs\u001b[39m\u001b[38;5;124m\"\u001b[39m][i] \u001b[38;5;28;01mfor\u001b[39;00m i \u001b[38;5;129;01min\u001b[39;00m picks]\n",
      "File \u001b[0;32m~/.cache/pypoetry/virtualenvs/fnirs-pEil43oO-py3.8/lib/python3.8/site-packages/mne/_fiff/pick.py:1298\u001b[0m, in \u001b[0;36m_picks_to_idx\u001b[0;34m(info, picks, none, exclude, allow_empty, with_ref_meg, return_kind, picks_on)\u001b[0m\n\u001b[1;32m   1294\u001b[0m \u001b[38;5;66;03m#\u001b[39;00m\n\u001b[1;32m   1295\u001b[0m \u001b[38;5;66;03m# ensure we have (optionally non-empty) ndarray of valid int\u001b[39;00m\n\u001b[1;32m   1296\u001b[0m \u001b[38;5;66;03m#\u001b[39;00m\n\u001b[1;32m   1297\u001b[0m \u001b[38;5;28;01mif\u001b[39;00m \u001b[38;5;28mlen\u001b[39m(picks) \u001b[38;5;241m==\u001b[39m \u001b[38;5;241m0\u001b[39m \u001b[38;5;129;01mand\u001b[39;00m \u001b[38;5;129;01mnot\u001b[39;00m allow_empty:\n\u001b[0;32m-> 1298\u001b[0m     \u001b[38;5;28;01mraise\u001b[39;00m \u001b[38;5;167;01mValueError\u001b[39;00m(\n\u001b[1;32m   1299\u001b[0m         \u001b[38;5;124m\"\u001b[39m\u001b[38;5;124mNo appropriate \u001b[39m\u001b[38;5;132;01m%s\u001b[39;00m\u001b[38;5;124m found for the given picks \u001b[39m\u001b[38;5;124m\"\u001b[39m\n\u001b[1;32m   1300\u001b[0m         \u001b[38;5;124m\"\u001b[39m\u001b[38;5;124m(\u001b[39m\u001b[38;5;132;01m%r\u001b[39;00m\u001b[38;5;124m)\u001b[39m\u001b[38;5;124m\"\u001b[39m \u001b[38;5;241m%\u001b[39m (picks_on, orig_picks)\n\u001b[1;32m   1301\u001b[0m     )\n\u001b[1;32m   1302\u001b[0m \u001b[38;5;28;01mif\u001b[39;00m (picks \u001b[38;5;241m<\u001b[39m \u001b[38;5;241m-\u001b[39mn_chan)\u001b[38;5;241m.\u001b[39many():\n\u001b[1;32m   1303\u001b[0m     \u001b[38;5;28;01mraise\u001b[39;00m \u001b[38;5;167;01mIndexError\u001b[39;00m(\u001b[38;5;124m\"\u001b[39m\u001b[38;5;124mAll picks must be >= \u001b[39m\u001b[38;5;132;01m%d\u001b[39;00m\u001b[38;5;124m, got \u001b[39m\u001b[38;5;132;01m%r\u001b[39;00m\u001b[38;5;124m\"\u001b[39m \u001b[38;5;241m%\u001b[39m (\u001b[38;5;241m-\u001b[39mn_chan, orig_picks))\n",
      "\u001b[0;31mValueError\u001b[0m: No appropriate channels found for the given picks (array([], dtype=int64))"
     ]
    }
   ],
   "source": [
    "montage = mne.channels.make_eeg_layout(info=info_hbo_total, )"
   ]
  },
  {
   "cell_type": "code",
   "execution_count": 52,
   "id": "22b730b4",
   "metadata": {},
   "outputs": [
    {
     "data": {
      "text/plain": [
       "{'ch_pos': OrderedDict([('Fp1', array([-0.0294367,  0.0839171, -0.00699  ])),\n",
       "              ('Fpz', array([ 0.0001123,  0.088247 , -0.001713 ])),\n",
       "              ('Fp2', array([ 0.0298723,  0.0848959, -0.00708  ])),\n",
       "              ('AF9', array([-0.0489708,  0.0640872, -0.047683 ])),\n",
       "              ('AF7', array([-0.0548397,  0.0685722, -0.01059  ])),\n",
       "              ('AF5', array([-0.0454307,  0.0728622,  0.005978 ])),\n",
       "              ('AF3', array([-0.0337007,  0.0768371,  0.021227 ])),\n",
       "              ('AF1', array([-0.0184717,  0.0799041,  0.032752 ])),\n",
       "              ('AFz', array([0.0002313, 0.080771 , 0.035417 ])),\n",
       "              ('AF2', array([0.0198203, 0.0803019, 0.032764 ])),\n",
       "              ('AF4', array([0.0357123, 0.0777259, 0.021956 ])),\n",
       "              ('AF6', array([0.0465843, 0.0738078, 0.006034 ])),\n",
       "              ('AF8', array([ 0.0557433,  0.0696568, -0.010755 ])),\n",
       "              ('AF10', array([ 0.0504352,  0.0638698, -0.048005 ])),\n",
       "              ('F9', array([-0.0701019,  0.0416523, -0.049952 ])),\n",
       "              ('F7', array([-0.0702629,  0.0424743, -0.01142  ])),\n",
       "              ('F5', array([-0.0644658,  0.0480353,  0.016921 ])),\n",
       "              ('F3', array([-0.0502438,  0.0531112,  0.042192 ])),\n",
       "              ('F1', array([-0.0274958,  0.0569311,  0.060342 ])),\n",
       "              ('Fz', array([0.0003122, 0.058512 , 0.066462 ])),\n",
       "              ('F2', array([0.0295142, 0.0576019, 0.05954  ])),\n",
       "              ('F4', array([0.0518362, 0.0543048, 0.040814 ])),\n",
       "              ('F6', array([0.0679142, 0.0498297, 0.016367 ])),\n",
       "              ('F8', array([ 0.0730431,  0.0444217, -0.012    ])),\n",
       "              ('F10', array([ 0.0721141,  0.0420667, -0.050452 ])),\n",
       "              ('FT9', array([-0.0840759,  0.0145673, -0.050429 ])),\n",
       "              ('FT7', array([-0.080775 ,  0.0141203, -0.011135 ])),\n",
       "              ('FC5', array([-0.0772149,  0.0186433,  0.02446  ])),\n",
       "              ('FC3', array([-0.0601819,  0.0227162,  0.055544 ])),\n",
       "              ('FC1', array([-0.0340619,  0.0260111,  0.079987 ])),\n",
       "              ('FCz', array([0.0003761, 0.02739  , 0.088668 ])),\n",
       "              ('FC2', array([0.0347841, 0.0264379, 0.078808 ])),\n",
       "              ('FC4', array([0.0622931, 0.0237228, 0.05563  ])),\n",
       "              ('FC6', array([0.0795341, 0.0199357, 0.024438 ])),\n",
       "              ('FT8', array([ 0.0818151,  0.0154167, -0.01133  ])),\n",
       "              ('FT10', array([ 0.0841131,  0.0143647, -0.050538 ])),\n",
       "              ('T9', array([-0.0858941, -0.0158287, -0.048283 ])),\n",
       "              ('T7', array([-0.0841611, -0.0160187, -0.009346 ])),\n",
       "              ('C5', array([-0.0802801, -0.0137597,  0.02916  ])),\n",
       "              ('C3', array([-0.0653581, -0.0116317,  0.064358 ])),\n",
       "              ('C1', array([-0.036158 , -0.0099839,  0.089752 ])),\n",
       "              ('Cz', array([ 0.0004009, -0.009167 ,  0.100244 ])),\n",
       "              ('C2', array([ 0.037672 , -0.0096241,  0.088412 ])),\n",
       "              ('C4', array([ 0.0671179, -0.0109003,  0.06358  ])),\n",
       "              ('C6', array([ 0.0834559, -0.0127763,  0.029208 ])),\n",
       "              ('T8', array([ 0.0850799, -0.0150203, -0.00949  ])),\n",
       "              ('T10', array([ 0.0855599, -0.0163613, -0.048271 ])),\n",
       "              ('TP9', array([-0.0856192, -0.0465147, -0.045707 ])),\n",
       "              ('TP7', array([-0.0848302, -0.0460217, -0.007056 ])),\n",
       "              ('CP5', array([-0.0795922, -0.0465507,  0.030949 ])),\n",
       "              ('CP3', array([-0.0635562, -0.0470088,  0.065624 ])),\n",
       "              ('CP1', array([-0.0355131, -0.0472919,  0.091315 ])),\n",
       "              ('CPz', array([ 0.0003858, -0.047318 ,  0.099432 ])),\n",
       "              ('CP2', array([ 0.0383838, -0.0470731,  0.090695 ])),\n",
       "              ('CP4', array([ 0.0666118, -0.0466372,  0.06558  ])),\n",
       "              ('CP6', array([ 0.0833218, -0.0461013,  0.031206 ])),\n",
       "              ('TP8', array([ 0.0855488, -0.0455453, -0.00713  ])),\n",
       "              ('TP10', array([ 0.0861618, -0.0470353, -0.045869 ])),\n",
       "              ('P9', array([-0.0730093, -0.0737657, -0.040998 ])),\n",
       "              ('P7', array([-0.0724343, -0.0734527, -0.002487 ])),\n",
       "              ('P5', array([-0.0672723, -0.0762907,  0.028382 ])),\n",
       "              ('P3', array([-0.0530073, -0.0787878,  0.05594  ])),\n",
       "              ('P1', array([-0.0286203, -0.0805249,  0.075436 ])),\n",
       "              ('Pz', array([ 0.0003247, -0.081115 ,  0.082615 ])),\n",
       "              ('P2', array([ 0.0319197, -0.0804871,  0.076716 ])),\n",
       "              ('P4', array([ 0.0556667, -0.0785602,  0.056561 ])),\n",
       "              ('P6', array([ 0.0678877, -0.0759043,  0.028091 ])),\n",
       "              ('P8', array([ 0.0730557, -0.0730683, -0.00254  ])),\n",
       "              ('P10', array([ 0.0738947, -0.0743903, -0.04122  ])),\n",
       "              ('PO9', array([-0.0549104, -0.0980448, -0.035465 ])),\n",
       "              ('PO7', array([-0.0548404, -0.0975279,  0.002792 ])),\n",
       "              ('PO5', array([-0.0484244, -0.0993408,  0.021599 ])),\n",
       "              ('PO3', array([-0.0365114, -0.1008529,  0.037167 ])),\n",
       "              ('PO1', array([-0.0189724, -0.101768 ,  0.046536 ])),\n",
       "              ('POz', array([ 0.0002156, -0.102178 ,  0.050608 ])),\n",
       "              ('PO2', array([ 0.0198776, -0.101793 ,  0.046393 ])),\n",
       "              ('PO4', array([ 0.0367816, -0.1008491,  0.036397 ])),\n",
       "              ('PO6', array([ 0.0498196, -0.0994461,  0.021727 ])),\n",
       "              ('PO8', array([ 0.0556666, -0.0976251,  0.00273  ])),\n",
       "              ('PO10', array([ 0.0549876, -0.0980911, -0.035541 ])),\n",
       "              ('O1', array([-0.0294134, -0.112449 ,  0.008839 ])),\n",
       "              ('Oz', array([ 1.07600e-04, -1.14892e-01,  1.46570e-02])),\n",
       "              ('O2', array([ 0.0298426, -0.112156 ,  0.0088   ])),\n",
       "              ('O9', array([-0.0298184, -0.11457  , -0.029216 ])),\n",
       "              ('Iz', array([ 4.50000e-06, -1.18565e-01, -2.30780e-02])),\n",
       "              ('O10', array([ 0.0297416, -0.11426  , -0.029256 ])),\n",
       "              ('T3', array([-0.0841611, -0.0160187, -0.009346 ])),\n",
       "              ('T5', array([-0.0724343, -0.0734527, -0.002487 ])),\n",
       "              ('T4', array([ 0.0850799, -0.0150203, -0.00949  ])),\n",
       "              ('T6', array([ 0.0730557, -0.0730683, -0.00254  ])),\n",
       "              ('M1', array([-0.0860761, -0.0449897, -0.067986 ])),\n",
       "              ('M2', array([ 0.0857939, -0.0450093, -0.068031 ])),\n",
       "              ('A1', array([-0.0860761, -0.0249897, -0.067986 ])),\n",
       "              ('A2', array([ 0.0857939, -0.0250093, -0.068031 ]))]),\n",
       " 'coord_frame': 'mri',\n",
       " 'nasion': array([ 0.00146763,  0.08506715, -0.03483611], dtype=float32),\n",
       " 'lpa': array([-0.08061612, -0.02908875, -0.04131077], dtype=float32),\n",
       " 'rpa': array([ 0.08436285, -0.02850276, -0.04127743], dtype=float32),\n",
       " 'hsp': None,\n",
       " 'hpi': None}"
      ]
     },
     "execution_count": 52,
     "metadata": {},
     "output_type": "execute_result"
    }
   ],
   "source": [
    "montage.get_positions()\n"
   ]
  },
  {
   "cell_type": "code",
   "execution_count": null,
   "id": "50e0f45d",
   "metadata": {},
   "outputs": [],
   "source": []
  }
 ],
 "metadata": {
  "kernelspec": {
   "display_name": "Python 3 (ipykernel)",
   "language": "python",
   "name": "python3"
  },
  "language_info": {
   "codemirror_mode": {
    "name": "ipython",
    "version": 3
   },
   "file_extension": ".py",
   "mimetype": "text/x-python",
   "name": "python",
   "nbconvert_exporter": "python",
   "pygments_lexer": "ipython3",
   "version": "3.8.14"
  }
 },
 "nbformat": 4,
 "nbformat_minor": 5
}
