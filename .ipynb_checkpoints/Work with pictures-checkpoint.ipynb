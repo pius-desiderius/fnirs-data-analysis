{
 "cells": [
  {
   "cell_type": "code",
   "execution_count": 1,
   "id": "dd8400fb",
   "metadata": {},
   "outputs": [],
   "source": [
    "from PIL import Image, ImageDraw\n",
    "\n",
    "def create_collage(image_paths, blacklist, collage_size=(3200, 2000), frame_size=(640, 500), \n",
    "                   cols=5, bg_color=(255, 255, 255), border_color=(255, 0, 0)):\n",
    "    # Create a blank canvas for the collage\n",
    "    collage = Image.new('RGB', collage_size, color=bg_color)\n",
    "\n",
    "    # Loop through each image path\n",
    "    for idx, img_path in enumerate(image_paths):\n",
    "        # Open the image\n",
    "        img = Image.open(img_path)\n",
    "        \n",
    "        # Check if the image path contains any string from the blacklist\n",
    "        if any(word in img_path for word in blacklist):\n",
    "            # Add a border to the image with the specified color\n",
    "            img = add_border(img, border_color)\n",
    "        \n",
    "        # Calculate the position to paste the image\n",
    "        x = (idx % cols) * frame_size[0]\n",
    "        y = (idx // cols) * frame_size[1]\n",
    "        \n",
    "        # Resize the image to fit the frame\n",
    "        img.thumbnail(frame_size)\n",
    "        \n",
    "        # Paste the resized image onto the collage\n",
    "        collage.paste(img, (x, y))\n",
    "\n",
    "    # Display the collage\n",
    "    return collage\n",
    "    \n",
    "def add_border(img, color, thickness=10):\n",
    "    # Create a copy of the image with a border\n",
    "    img_with_border = Image.new('RGB', (img.width + thickness * 2, img.height + thickness * 2), color)\n",
    "    img_with_border.paste(img, (thickness, thickness))\n",
    "    return img_with_border\n"
   ]
  },
  {
   "cell_type": "code",
   "execution_count": 4,
   "id": "35c65bd5",
   "metadata": {},
   "outputs": [],
   "source": [
    "from PIL import Image\n",
    "def join_images(path1, path2, savepath):\n",
    "    image1 = Image.open(path1)\n",
    "    image2 = Image.open(path2)\n",
    "    image1_size = image1.size\n",
    "    new_image = Image.new('RGB',(2*image1_size[0], image1_size[1]), (250,250,250))\n",
    "    new_image.paste(image1,(0,0))\n",
    "    new_image.paste(image2,(image1_size[0],0))\n",
    "    new_image.save(savepath,\"PNG\")\n"
   ]
  },
  {
   "cell_type": "code",
   "execution_count": 9,
   "id": "0a19787c",
   "metadata": {},
   "outputs": [],
   "source": [
    "a = join_images('/home/avaldamon/Desktop/mean_pictures/delta/HAEMO_MI_M1S1.png',\n",
    "               '/home/avaldamon/Desktop/mean_pictures/delta/HAEMO_TI_M1S1.png',\n",
    "               '/home/avaldamon/Desktop/mean_pictures/delta/joined_curves.png')\n",
    "\n",
    "a = join_images('/home/avaldamon/Desktop/mean_pictures/delta/TOPO_DELTA_MI.png',\n",
    "               '/home/avaldamon/Desktop/mean_pictures/delta/TOPO_DELTA_TI.png',\n",
    "               '/home/avaldamon/Desktop/mean_pictures/delta/joined_topos.png')\n"
   ]
  },
  {
   "cell_type": "code",
   "execution_count": 16,
   "id": "63ebf696",
   "metadata": {},
   "outputs": [],
   "source": [
    "import numpy as np\n",
    "\n",
    "arr1 = np.load('/mnt/diskus/fnirs_pics/relation_np/AA_ME_rel_left.npy')\n",
    "arr2 = np.load('/mnt/diskus/fnirs_pics/relation_np/AA_MI_rel_left.npy')\n",
    "arr3 = np.load('/mnt/diskus/fnirs_pics/relation_np/AA_TS_rel_left.npy')\n",
    "arr4 = np.load('/mnt/diskus/fnirs_pics/relation_np/AA_TI_rel_left.npy')\n",
    "\n"
   ]
  },
  {
   "cell_type": "code",
   "execution_count": 18,
   "id": "15d9ecb8",
   "metadata": {},
   "outputs": [],
   "source": [
    "arr = np.stack((arr1, arr2, arr3, arr4))"
   ]
  },
  {
   "cell_type": "code",
   "execution_count": 39,
   "id": "c77f46e4",
   "metadata": {},
   "outputs": [
    {
     "data": {
      "text/plain": [
       "(5, 45, 33)"
      ]
     },
     "execution_count": 39,
     "metadata": {},
     "output_type": "execute_result"
    }
   ],
   "source": [
    "stacked_array.shape"
   ]
  },
  {
   "cell_type": "code",
   "execution_count": 41,
   "id": "c229da8a",
   "metadata": {},
   "outputs": [
    {
     "data": {
      "text/plain": [
       "(4, 45, 33)"
      ]
     },
     "execution_count": 41,
     "metadata": {},
     "output_type": "execute_result"
    }
   ],
   "source": [
    "arr.shape"
   ]
  },
  {
   "cell_type": "code",
   "execution_count": 44,
   "id": "3915d4c0",
   "metadata": {},
   "outputs": [],
   "source": [
    "median = np.median(arr, axis=0)\n",
    "N =  5\n",
    "stacked_array = np.stack([median] * N, axis=0)\n",
    "over_stacked = np.vstack((arr, stacked_array))"
   ]
  },
  {
   "cell_type": "code",
   "execution_count": 46,
   "id": "6faa03b1",
   "metadata": {},
   "outputs": [
    {
     "data": {
      "text/plain": [
       "(9, 45, 33)"
      ]
     },
     "execution_count": 46,
     "metadata": {},
     "output_type": "execute_result"
    }
   ],
   "source": [
    "over_stacked.shape"
   ]
  },
  {
   "cell_type": "code",
   "execution_count": null,
   "id": "b7a7e6f2",
   "metadata": {},
   "outputs": [],
   "source": []
  }
 ],
 "metadata": {
  "kernelspec": {
   "display_name": "Python 3 (ipykernel)",
   "language": "python",
   "name": "python3"
  },
  "language_info": {
   "codemirror_mode": {
    "name": "ipython",
    "version": 3
   },
   "file_extension": ".py",
   "mimetype": "text/x-python",
   "name": "python",
   "nbconvert_exporter": "python",
   "pygments_lexer": "ipython3",
   "version": "3.8.14"
  }
 },
 "nbformat": 4,
 "nbformat_minor": 5
}
