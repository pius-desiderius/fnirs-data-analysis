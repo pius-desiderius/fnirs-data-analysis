{
 "cells": [
  {
   "cell_type": "code",
   "execution_count": 1,
   "id": "43c8fb07",
   "metadata": {},
   "outputs": [
    {
     "name": "stderr",
     "output_type": "stream",
     "text": [
      "C:\\Users\\Admin\\anaconda3\\lib\\site-packages\\paramiko\\transport.py:219: CryptographyDeprecationWarning: Blowfish has been deprecated\n",
      "  \"class\": algorithms.Blowfish,\n"
     ]
    }
   ],
   "source": [
    "import os.path as op\n",
    "import matplotlib.pyplot as plt\n",
    "from itertools import compress\n",
    "import time\n",
    "import logging\n",
    "import mne\n",
    "from mne import events_from_annotations\n",
    "from collections import OrderedDict\n",
    "\n",
    "import numpy as np\n",
    "import matplotlib.pyplot as plt\n",
    "import matplotlib\n",
    "from itertools import compress\n",
    "import mne\n",
    "import mne_nirs\n",
    "from mne.preprocessing.nirs import optical_density, beer_lambert_law\n",
    "\n",
    "from mne_nirs.signal_enhancement import enhance_negative_correlation, short_channel_regression\n",
    "\n",
    "from mne.preprocessing.nirs import (optical_density,\n",
    "                                    temporal_derivative_distribution_repair,\n",
    "                                    scalp_coupling_index)\n",
    "\n",
    "import ROI\n",
    "from ROI import different_hb, different_roi\n",
    "from meta import *\n",
    "from filter_params import FILTER_DICT\n",
    "from functions_fnirs import *\n",
    "\n",
    "def fast_scanfiles(dirname, contains=None):\n",
    "    subfiles = [f.path for f in os.scandir(dirname) if f.is_file()]\n",
    "    if contains != None:\n",
    "        subfiles = [i for i in subfiles if contains in i ]\n",
    "    return subfiles"
   ]
  },
  {
   "cell_type": "code",
   "execution_count": 52,
   "id": "8244283d",
   "metadata": {},
   "outputs": [],
   "source": [
    "haemo_dict = dict(\n",
    "    \n",
    "ME_smr_left = [np.load(i) for i in fast_scanfiles(r\"C:\\Users\\Admin\\Desktop\\fnirs_python_code\\haemodynamics_np\",\n",
    "                                        contains='ME_smr_left')],\n",
    "MI_smr_left = [np.load(i) for i in fast_scanfiles(r\"C:\\Users\\Admin\\Desktop\\fnirs_python_code\\haemodynamics_np\",\n",
    "                                        contains='MI_smr_left')],\n",
    "TS_smr_left = [np.load(i) for i in fast_scanfiles(r\"C:\\Users\\Admin\\Desktop\\fnirs_python_code\\haemodynamics_np\",\n",
    "                                        contains='TS_smr_left')],\n",
    "TI_smr_left = [np.load(i) for i in fast_scanfiles(r\"C:\\Users\\Admin\\Desktop\\fnirs_python_code\\haemodynamics_np\",\n",
    "                                        contains='TI_smr_left')],\n",
    "SA_smr_left = [np.load(i) for i in fast_scanfiles(r\"C:\\Users\\Admin\\Desktop\\fnirs_python_code\\haemodynamics_np\",\n",
    "                                        contains='SA_smr_left')],\n",
    "\n",
    "ME_rest_left = [np.load(i) for i in fast_scanfiles(r\"C:\\Users\\Admin\\Desktop\\fnirs_python_code\\haemodynamics_np\",\n",
    "                                        contains='ME_rest_left')],\n",
    "MI_rest_left = [np.load(i) for i in fast_scanfiles(r\"C:\\Users\\Admin\\Desktop\\fnirs_python_code\\haemodynamics_np\",\n",
    "                                        contains='MI_rest_left')],\n",
    "TS_rest_left = [np.load(i) for i in fast_scanfiles(r\"C:\\Users\\Admin\\Desktop\\fnirs_python_code\\haemodynamics_np\",\n",
    "                                        contains='TS_rest_left')],\n",
    "TI_rest_left = [np.load(i) for i in fast_scanfiles(r\"C:\\Users\\Admin\\Desktop\\fnirs_python_code\\haemodynamics_np\",\n",
    "                                        contains='TI_rest_left')],\n",
    "SA_rest_left = [np.load(i) for i in fast_scanfiles(r\"C:\\Users\\Admin\\Desktop\\fnirs_python_code\\haemodynamics_np\",\n",
    "                                        contains='SA_rest_left')],\n",
    "\n",
    "\n",
    "ME_smr_right = [np.load(i) for i in fast_scanfiles(r\"C:\\Users\\Admin\\Desktop\\fnirs_python_code\\haemodynamics_np\",\n",
    "                                        contains='ME_smr_right')],\n",
    "MI_smr_right = [np.load(i) for i in fast_scanfiles(r\"C:\\Users\\Admin\\Desktop\\fnirs_python_code\\haemodynamics_np\",\n",
    "                                        contains='MI_smr_right')],\n",
    "TS_smr_right = [np.load(i) for i in fast_scanfiles(r\"C:\\Users\\Admin\\Desktop\\fnirs_python_code\\haemodynamics_np\",\n",
    "                                        contains='TS_smr_right')],\n",
    "TI_smr_right = [np.load(i) for i in fast_scanfiles(r\"C:\\Users\\Admin\\Desktop\\fnirs_python_code\\haemodynamics_np\",\n",
    "                                        contains='TI_smr_right')],\n",
    "SA_smr_right = [np.load(i) for i in fast_scanfiles(r\"C:\\Users\\Admin\\Desktop\\fnirs_python_code\\haemodynamics_np\",\n",
    "                                        contains='SA_smr_right')],\n",
    "\n",
    "ME_rest_right = [np.load(i) for i in fast_scanfiles(r\"C:\\Users\\Admin\\Desktop\\fnirs_python_code\\haemodynamics_np\",\n",
    "                                        contains='ME_rest_right')],\n",
    "MI_rest_right = [np.load(i) for i in fast_scanfiles(r\"C:\\Users\\Admin\\Desktop\\fnirs_python_code\\haemodynamics_np\",\n",
    "                                        contains='MI_rest_right')],\n",
    "TS_rest_right = [np.load(i) for i in fast_scanfiles(r\"C:\\Users\\Admin\\Desktop\\fnirs_python_code\\haemodynamics_np\",\n",
    "                                        contains='TS_rest_right')],\n",
    "TI_rest_right = [np.load(i) for i in fast_scanfiles(r\"C:\\Users\\Admin\\Desktop\\fnirs_python_code\\haemodynamics_np\",\n",
    "                                        contains='TI_rest_right')],\n",
    "SA_rest_right = [np.load(i) for i in fast_scanfiles(r\"C:\\Users\\Admin\\Desktop\\fnirs_python_code\\haemodynamics_np\",\n",
    "                                        contains='SA_rest_right')],\n",
    ")\n",
    "\n",
    "def make_subdicts(haemo_dict, contains):\n",
    "    new_dict = {key[3:]:value for key, value in haemo_dict.items() if contains in key}\n",
    "    return new_dict\n",
    "\n",
    "ME_subdict = make_subdicts(haemo_dict, contains='ME')\n",
    "MI_subdict = make_subdicts(haemo_dict, contains='MI')\n",
    "TS_subdict = make_subdicts(haemo_dict, contains='TS')\n",
    "TI_subdict = make_subdicts(haemo_dict, contains='TI')\n",
    "SA_subdict = make_subdicts(haemo_dict, contains='SA')"
   ]
  },
  {
   "cell_type": "code",
   "execution_count": 58,
   "id": "dd19265d",
   "metadata": {},
   "outputs": [],
   "source": [
    "def concatenate_dicts(haemo_dict):\n",
    "    new_dict = {}\n",
    "    for key in haemo_dict.keys():\n",
    "        a = np.vstack(haemo_dict[key])\n",
    "        a = a.reshape(20, 32, 30)\n",
    "        new_dict[key] = a\n",
    "    \n",
    "    return new_dict\n",
    "\n",
    "ME_subdict = concatenate_dicts(make_subdicts(haemo_dict, contains='ME'))\n",
    "MI_subdict = concatenate_dicts(make_subdicts(haemo_dict, contains='MI'))\n",
    "TS_subdict = concatenate_dicts(make_subdicts(haemo_dict, contains='TS'))\n",
    "TI_subdict = concatenate_dicts(make_subdicts(haemo_dict, contains='TI'))\n",
    "SA_subdict = concatenate_dicts(make_subdicts(haemo_dict, contains='SA'))"
   ]
  },
  {
   "cell_type": "code",
   "execution_count": 59,
   "id": "58625e3f",
   "metadata": {},
   "outputs": [],
   "source": [
    "def get_roi_evokeds(new_dict, key):\n",
    "    M1 = new_dict[key].mean(axis=0)[:6, :].mean(axis=0)\n",
    "    S1 = new_dict[key].mean(axis=0)[6:13, :].mean(axis=0)\n",
    "    SMZ = new_dict[key].mean(axis=0)[13:, :].mean(axis=0)\n",
    "    \n",
    "    return M1, S1, SMZ"
   ]
  },
  {
   "cell_type": "code",
   "execution_count": 60,
   "id": "9d62fb9d",
   "metadata": {},
   "outputs": [],
   "source": [
    "M1_smr_left, S1_smr_left, SMZ_smr_left = get_roi_evokeds(ME_subdict, key='smr_left')\n",
    "M1_smr_right, S1_smr_right, SMZ_smr_right = get_roi_evokeds(ME_subdict, key='smr_right')\n",
    "M1_rest_left, S1_rest_left, SMZ_rest_left = get_roi_evokeds(ME_subdict, key='rest_left')\n",
    "M1_rest_right, S1_rest_right, SMZ_rest_right = get_roi_evokeds(ME_subdict, key='rest_right')\n"
   ]
  },
  {
   "cell_type": "code",
   "execution_count": null,
   "id": "156c9e0b",
   "metadata": {},
   "outputs": [],
   "source": []
  }
 ],
 "metadata": {
  "kernelspec": {
   "display_name": "Python 3 (ipykernel)",
   "language": "python",
   "name": "python3"
  },
  "language_info": {
   "codemirror_mode": {
    "name": "ipython",
    "version": 3
   },
   "file_extension": ".py",
   "mimetype": "text/x-python",
   "name": "python",
   "nbconvert_exporter": "python",
   "pygments_lexer": "ipython3",
   "version": "3.9.13"
  }
 },
 "nbformat": 4,
 "nbformat_minor": 5
}
