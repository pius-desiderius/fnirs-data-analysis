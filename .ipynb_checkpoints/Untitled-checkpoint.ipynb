{
 "cells": [
  {
   "cell_type": "code",
   "execution_count": 36,
   "id": "25e81551",
   "metadata": {},
   "outputs": [
    {
     "name": "stdout",
     "output_type": "stream",
     "text": [
      "/mnt/diskus/fNIRS data ME_MI_TS_TI_SA/AA/AA_SA\n",
      "Reading 0 ... 6666  =      0.000 ...   655.294 secs...\n"
     ]
    },
    {
     "name": "stderr",
     "output_type": "stream",
     "text": [
      "/mnt/diskus/fnirs-data-analysis-git/functions_fnirs.py:51: RuntimeWarning: filter_length (13429) is longer than the signal (6667), distortion is likely. Reduce filter length or filter a longer signal.\n",
      "  raw_haemo = raw_haemo.filter(**FILTER_DICT)\n"
     ]
    },
    {
     "name": "stdout",
     "output_type": "stream",
     "text": [
      "['S4_D9 hbo', 'S2_D7 hbr', 'S3_D8 hbo', 'S4_D9 hbr', 'S6_D6 hbo', 'S17_D20 hbr', 'S6_D10 hbo', 'S6_D10 hbr', 'S27_D26 hbr', 'S10_D19 hbr', 'S2_D7 hbo', 'S3_D8 hbr', 'S6_D6 hbr', 'S27_D26 hbo', 'S11_D20 hbo', 'S11_D20 hbr', 'S11_D8 hbr', 'S26_D29 hbr', 'S17_D20 hbo', 'S10_D19 hbo', 'S26_D29 hbo', 'S11_D8 hbo'] \n",
      " 22\n",
      "Interpolating bad channels\n",
      "    Automatic origin fit: head of radius 91.4 mm\n",
      "Used Annotations descriptions: ['1.0', '2.0']\n",
      "Dropped 2 epochs: 6, 10\n",
      "Dropped 2 epochs: 3, 19\n"
     ]
    }
   ],
   "source": [
    "import os.path as op\n",
    "import matplotlib.pyplot as plt\n",
    "from itertools import compress\n",
    "import time\n",
    "import logging\n",
    "import mne\n",
    "from mne import events_from_annotations\n",
    "from collections import OrderedDict\n",
    "\n",
    "from functions_fnirs import *\n",
    "from meta import *\n",
    "from file_scanning import *\n",
    "from topomaps import topomaps_plotter\n",
    "\n",
    "start = time.time()\n",
    "logging.basicConfig(filename=\"log_one_channel.txt\", format=\"%(asctime)s %(message)s\", filemode=\"w\", level=logging.INFO)\n",
    "\n",
    "splitting_slash = '/'\n",
    "fnirs_dir = r\"/mnt/diskus/fNIRS data ME_MI_TS_TI_SA\"\n",
    "subfolders = fast_scandir(fnirs_dir)\n",
    "subj_names = sorted([(i.split('\\\\')[-1]) for i in subfolders if len(i.split(splitting_slash)[-1])==2])\n",
    "recordings_names = sorted([i for i in subfolders if len(i.split(splitting_slash)[-1])!=2])\n",
    "\n",
    "filename = '/mnt/diskus/fNIRS data ME_MI_TS_TI_SA/AA/AA_SA'\n",
    "print (filename)\n",
    "CONDITION = filename.split(splitting_slash)[-1].split('_')[-1]\n",
    "SUBJECT = filename.split(splitting_slash)[-1].split('_')[0]\n",
    "\n",
    "threshold = 1.3*10**-5\n",
    "raw_haemo = get_raw_haemo(filename)\n",
    "\n",
    "# logging.info(f'{SUBJECT} {CONDITION} interpolated channels N={len(channels_to_interpolate)}: {channels_to_interpolate}')\n",
    "\n",
    "chnames = raw_haemo.ch_names\n",
    "\n",
    "ids_target= 'SMR'\n",
    "ids_rest = 'REST'\n",
    "\n",
    "events, ids = events_from_annotations(raw_haemo)\n",
    "ids[ids_target] = 1\n",
    "ids[ids_rest] = 2\n",
    "\n",
    "\n",
    "ids_to_pop = IDS_TO_POP\n",
    "for i in ids_to_pop:\n",
    "    popper(ids, i)\n",
    "\n",
    "\n",
    "smr_epochs, rest_epochs = clean_epochs( \n",
    "                        raw_haemo, \n",
    "                        events=events, \n",
    "                        ids=ids, \n",
    "                        tmin=TMIN, \n",
    "                        tmax=TMAX, \n",
    "                        baseline=(0,1) \n",
    "                        )\n",
    "#reassign channels to pick\n",
    "picks_hbo_left, picks_hbr_left = C3_chans_of_interest_hbo, C3_chans_of_interest_hbr\n",
    "picks_hbo_right, picks_hbr_right = C4_chans_of_interest_hbo, C4_chans_of_interest_hbr\n",
    "\n",
    "#save epochs with selected channels\n",
    "smr_epochs_left = smr_epochs.copy().pick_channels(picks_hbo_left + picks_hbr_left)\n",
    "smr_epochs_right = smr_epochs.copy().pick_channels(picks_hbo_right + picks_hbr_right)\n",
    "rest_epochs_left = rest_epochs.copy().pick_channels(picks_hbo_left + picks_hbr_left)\n",
    "rest_epochs_right = rest_epochs.copy().pick_channels(picks_hbo_right + picks_hbr_right)\n",
    "\n",
    "evoked_dict_left = {f'{CONDITION}/HbO': smr_epochs_left.copy().average(picks=picks_hbo_left),\n",
    "            f'{CONDITION}/HbR': smr_epochs_left.copy().average(picks=picks_hbr_left),\n",
    "            'Rest/HbO': rest_epochs_left.copy().average(picks=picks_hbo_left),\n",
    "            'Rest/HbR': rest_epochs_left.copy().average(picks=picks_hbr_left)}\n",
    "\n",
    "evoked_dict_right = {f'{CONDITION}/HbO': smr_epochs_right.copy().average(picks=picks_hbo_right),\n",
    "            f'{CONDITION}/HbR': smr_epochs_right.copy().average(picks=picks_hbr_right),\n",
    "            'Rest/HbO': rest_epochs_right.copy().average(picks=picks_hbo_right),\n",
    "            'Rest/HbR': rest_epochs_right.copy().average(picks=picks_hbr_right)}\n",
    "\n",
    "evoked_info_hbo = smr_epochs_left.copy().average(picks=picks_hbo_left).info\n",
    "evoked_info_hbr = smr_epochs_left.copy().average(picks=picks_hbr_left).info\n",
    "\n",
    "# evoked_dict_left = {f'{CONDITION}/HbO': smr_epochs_left.copy().get_data().mean(axis=[0, 1]),\n",
    "#             f'{CONDITION}/HbR': smr_epochs_left.copy().get_data().mean(axis=[0, 1]),\n",
    "#             'Rest/HbO': rest_epochs_left.copy().get_data().mean(axis=[0, 1]),\n",
    "#             'Rest/HbR': rest_epochs_left.copy().get_data().mean(axis=[0, 1])}\n",
    "\n",
    "# evoked_dict_right = {f'{CONDITION}/HbO': smr_epochs_right.copy().get_data().mean(axis=[0, 1]),\n",
    "#             f'{CONDITION}/HbR': smr_epochs_right.copy().get_data().mean(axis=[0, 1]),\n",
    "#             'Rest/HbO': rest_epochs_right.copy().get_data().mean(axis=[0, 1]),\n",
    "#             'Rest/HbR': rest_epochs_right.copy().get_data().mean(axis=[0, 1])}\n",
    "\n",
    "\n",
    "target_right_hbo = evoked_dict_right[f'{CONDITION}/HbO'].get_data()\n",
    "target_right_hbr = evoked_dict_right[f'{CONDITION}/HbR'].get_data()\n",
    "target_right_hbt = hbt_total(target_right_hbr, target_right_hbo)\n",
    "\n",
    "rest_right_hbo = evoked_dict_right['Rest/HbO'].get_data()\n",
    "rest_right_hbr = evoked_dict_right['Rest/HbR'].get_data()\n",
    "rest_right_hbt = hbt_total(rest_right_hbr, rest_right_hbo)\n",
    "\n",
    "target_left_hbo = evoked_dict_left[f'{CONDITION}/HbO'].get_data()\n",
    "target_left_hbr = evoked_dict_left[f'{CONDITION}/HbR'].get_data()\n",
    "target_left_hbt = hbt_total(target_left_hbr, target_left_hbo)\n",
    "\n",
    "rest_left_hbo = evoked_dict_left['Rest/HbO'].get_data()\n",
    "rest_left_hbr = evoked_dict_left['Rest/HbR'].get_data()\n",
    "rest_left_hbt = hbt_total(rest_left_hbr, rest_left_hbo)\n",
    "\n",
    "\n",
    "def relative_measure_new(arr1, arr2):\n",
    "    relation = np.abs(arr1 / arr2)\n",
    "    return relation\n",
    "\n",
    "right_hbo_relation = relative_measure_new(target_right_hbo, rest_right_hbo)\n",
    "right_hbr_relation = relative_measure_new(target_right_hbr, rest_right_hbr)\n",
    "right_hbt_relation = relative_measure_new(target_right_hbt, rest_right_hbt)\n",
    "left_hbo_relation = relative_measure_new(target_left_hbo, rest_left_hbo)\n",
    "left_hbr_relation = relative_measure_new(target_left_hbr, rest_left_hbr)\n",
    "left_hbt_relation = relative_measure_new(target_left_hbt, rest_left_hbt)"
   ]
  },
  {
   "cell_type": "code",
   "execution_count": 45,
   "id": "a5874e0f",
   "metadata": {
    "scrolled": true
   },
   "outputs": [
    {
     "data": {
      "text/plain": [
       "array([[ 3.94909867e-07, -3.94909867e-07, -1.13525883e-06,\n",
       "        -1.50746579e-06, -1.34695904e-06, -6.71918778e-07,\n",
       "         2.42168909e-07,  1.08649191e-06,  1.60063110e-06,\n",
       "         1.75740570e-06,  1.64619242e-06,  1.45142443e-06,\n",
       "         1.24884284e-06,  1.05312836e-06,  7.67050632e-07],\n",
       "       [ 8.85535880e-08, -8.85535880e-08,  2.58116315e-07,\n",
       "         1.07010648e-06,  2.08781950e-06,  2.99485394e-06,\n",
       "         3.58045661e-06,  3.82380808e-06,  3.83523493e-06,\n",
       "         3.72786809e-06,  3.50898630e-06,  3.08470477e-06,\n",
       "         2.34834198e-06,  1.29421426e-06,  5.75448895e-08],\n",
       "       [ 5.16376396e-07, -5.16376396e-07, -8.33890424e-07,\n",
       "        -3.20799943e-07,  8.60797951e-07,  2.35807665e-06,\n",
       "         3.72603202e-06,  4.64298145e-06,  4.98545759e-06,\n",
       "         4.86684048e-06,  4.47689040e-06,  3.97742533e-06,\n",
       "         3.38452391e-06,  2.65962552e-06,  1.78865085e-06],\n",
       "       [ 6.27299404e-07, -6.27299404e-07, -9.51723239e-07,\n",
       "        -3.42085970e-07,  8.65511324e-07,  2.22085082e-06,\n",
       "         3.34672291e-06,  4.10177275e-06,  4.52635150e-06,\n",
       "         4.76494465e-06,  4.90618897e-06,  4.95876899e-06,\n",
       "         4.83246445e-06,  4.45141754e-06,  3.80076434e-06],\n",
       "       [ 2.54192228e-08, -2.54192228e-08,  1.23036695e-07,\n",
       "         4.05350222e-07,  6.35388609e-07,  6.58859662e-07,\n",
       "         4.39025731e-07,  1.24603156e-07, -7.79878805e-08,\n",
       "        -1.61117431e-08,  2.84234242e-07,  6.91509105e-07,\n",
       "         1.04632675e-06,  1.28839730e-06,  1.42012170e-06],\n",
       "       [ 6.59310172e-08, -6.59310172e-08,  2.38870752e-07,\n",
       "         8.75188381e-07,  1.64616106e-06,  2.40566738e-06,\n",
       "         3.04738804e-06,  3.53594492e-06,  3.82307867e-06,\n",
       "         3.89266035e-06,  3.71995365e-06,  3.32143766e-06,\n",
       "         2.68326517e-06,  1.81552748e-06,  7.44552487e-07],\n",
       "       [ 4.81456300e-07, -4.81456300e-07, -1.00479446e-06,\n",
       "        -9.04782755e-07, -2.68163637e-07,  6.62549537e-07,\n",
       "         1.59397346e-06,  2.36341540e-06,  2.89581721e-06,\n",
       "         3.18829543e-06,  3.19810986e-06,  2.91604706e-06,\n",
       "         2.36650270e-06,  1.68526413e-06,  1.01553445e-06],\n",
       "       [ 3.62980014e-07, -3.62980014e-07, -4.98377708e-07,\n",
       "        -5.77148214e-08,  7.28389605e-07,  1.59768552e-06,\n",
       "         2.32006364e-06,  2.80129731e-06,  3.00615724e-06,\n",
       "         2.97669986e-06,  2.74962240e-06,  2.40112940e-06,\n",
       "         1.96948785e-06,  1.49466961e-06,  9.62451403e-07],\n",
       "       [ 4.35524890e-07, -4.35524890e-07, -1.20510061e-06,\n",
       "        -1.76854559e-06, -1.97779988e-06, -1.64824520e-06,\n",
       "        -7.16931495e-07,  7.30792759e-07,  2.39372460e-06,\n",
       "         3.88809070e-06,  4.82157161e-06,  4.97972290e-06,\n",
       "         4.33673557e-06,  3.09781953e-06,  1.55134960e-06],\n",
       "       [ 5.54872526e-07, -5.54872526e-07, -1.19920961e-06,\n",
       "        -1.33485092e-06, -1.07091263e-06, -5.38523574e-07,\n",
       "         1.14043590e-07,  7.88167930e-07,  1.37714509e-06,\n",
       "         1.82420018e-06,  2.08232984e-06,  2.16793894e-06,\n",
       "         2.08268373e-06,  1.84426350e-06,  1.43772264e-06],\n",
       "       [ 7.01786757e-07, -7.01786757e-07, -1.41586726e-06,\n",
       "        -1.31149401e-06, -5.89268894e-07,  4.22725511e-07,\n",
       "         1.33834067e-06,  1.99125454e-06,  2.38431214e-06,\n",
       "         2.72235624e-06,  3.13592340e-06,  3.65679531e-06,\n",
       "         4.08208546e-06,  4.19764907e-06,  3.82572545e-06],\n",
       "       [ 4.97354495e-07, -4.97354495e-07, -1.24731876e-06,\n",
       "        -1.63841500e-06, -1.69847214e-06, -1.46702628e-06,\n",
       "        -1.02032938e-06, -3.90768912e-07,  3.35809190e-07,\n",
       "         1.09000828e-06,  1.75765595e-06,  2.27160518e-06,\n",
       "         2.52840187e-06,  2.46627581e-06,  2.02115076e-06]])"
      ]
     },
     "execution_count": 45,
     "metadata": {},
     "output_type": "execute_result"
    }
   ],
   "source": [
    "rest_left_hbo"
   ]
  },
  {
   "cell_type": "code",
   "execution_count": 46,
   "id": "3a16f5cf",
   "metadata": {},
   "outputs": [
    {
     "data": {
      "text/plain": [
       "array([[-1.53019052e-07,  1.53019052e-07,  4.39888299e-07,\n",
       "         5.84110462e-07,  5.21917563e-07,  2.60354027e-07,\n",
       "        -9.38352263e-08, -4.20992169e-07, -6.20210011e-07,\n",
       "        -6.80956784e-07, -6.37864039e-07, -5.62395645e-07,\n",
       "        -4.83899651e-07, -4.08064516e-07, -2.97215568e-07],\n",
       "       [-3.00727270e-08,  3.00727270e-08, -8.76560922e-08,\n",
       "        -3.63407297e-07, -7.09021817e-07, -1.01704998e-06,\n",
       "        -1.21592017e-06, -1.29856214e-06, -1.30244269e-06,\n",
       "        -1.26598099e-06, -1.19164891e-06, -1.04756325e-06,\n",
       "        -7.97495040e-07, -4.39514117e-07, -1.95421980e-08],\n",
       "       [-1.57550017e-07,  1.57550017e-07,  2.54425747e-07,\n",
       "         9.78782857e-08, -2.62635420e-07, -7.19465528e-07,\n",
       "        -1.13683819e-06, -1.41660582e-06, -1.52109766e-06,\n",
       "        -1.48490676e-06, -1.36593029e-06, -1.21354003e-06,\n",
       "        -1.03264170e-06, -8.11470178e-07, -5.45729768e-07],\n",
       "       [-1.96531974e-07,  1.96531974e-07,  2.98173481e-07,\n",
       "         1.07175028e-07, -2.71163415e-07, -6.95789272e-07,\n",
       "        -1.04852333e-06, -1.28507933e-06, -1.41809922e-06,\n",
       "        -1.49285010e-06, -1.53710173e-06, -1.55357498e-06,\n",
       "        -1.51400395e-06, -1.39462252e-06, -1.19077384e-06],\n",
       "       [-9.82340769e-09,  9.82340769e-09, -4.75482521e-08,\n",
       "        -1.56649970e-07, -2.45549653e-07, -2.54620180e-07,\n",
       "        -1.69664068e-07, -4.81536203e-08,  3.01388737e-08,\n",
       "         6.22647759e-09, -1.09843990e-07, -2.67237748e-07,\n",
       "        -4.04359108e-07, -4.97908692e-07, -5.48814356e-07],\n",
       "       [-2.24505267e-08,  2.24505267e-08, -8.13391696e-08,\n",
       "        -2.98015122e-07, -5.60543191e-07, -8.19166792e-07,\n",
       "        -1.03768256e-06, -1.20404370e-06, -1.30181716e-06,\n",
       "        -1.32551079e-06, -1.26670151e-06, -1.13100067e-06,\n",
       "        -9.13693113e-07, -6.18215067e-07, -2.53531588e-07],\n",
       "       [-1.33882229e-07,  1.33882229e-07,  2.79410868e-07,\n",
       "         2.51599849e-07,  7.45703100e-08, -1.84240209e-07,\n",
       "        -4.43248369e-07, -6.57212966e-07, -8.05262002e-07,\n",
       "        -8.86593654e-07, -8.89322827e-07, -8.10887471e-07,\n",
       "        -6.58071474e-07, -4.68634265e-07, -2.82397417e-07],\n",
       "       [-1.31392576e-07,  1.31392576e-07,  1.80404232e-07,\n",
       "         2.08917812e-08, -2.63664617e-07, -5.78334915e-07,\n",
       "        -8.39823478e-07, -1.01402186e-06, -1.08817766e-06,\n",
       "        -1.07751459e-06, -9.95316426e-07, -8.69167901e-07,\n",
       "        -7.12921020e-07, -5.41044912e-07, -3.48390997e-07],\n",
       "       [-1.31869177e-07,  1.31869177e-07,  3.64882994e-07,\n",
       "         5.35484097e-07,  5.98842567e-07,  4.99059280e-07,\n",
       "         2.17074084e-07, -2.21271028e-07, -7.24777161e-07,\n",
       "        -1.17724459e-06, -1.45988598e-06, -1.50777138e-06,\n",
       "        -1.31308627e-06, -9.37964563e-07, -4.69721021e-07],\n",
       "       [-2.11787607e-07,  2.11787607e-07,  4.57722671e-07,\n",
       "         5.09495187e-07,  4.08753387e-07,  2.05547426e-07,\n",
       "        -4.35289511e-08, -3.00833420e-07, -5.25638323e-07,\n",
       "        -6.96273421e-07, -7.94798144e-07, -8.27474022e-07,\n",
       "        -7.94933220e-07, -7.03931327e-07, -5.48759983e-07],\n",
       "       [-2.48932694e-07,  2.48932694e-07,  5.02226137e-07,\n",
       "         4.65203617e-07,  2.09021176e-07, -1.49946119e-07,\n",
       "        -4.74726468e-07, -7.06323326e-07, -8.45745860e-07,\n",
       "        -9.65654403e-07, -1.11235194e-06, -1.29711183e-06,\n",
       "        -1.44796766e-06, -1.48895955e-06, -1.35703350e-06],\n",
       "       [-1.42408047e-07,  1.42408047e-07,  3.57146121e-07,\n",
       "         4.69129128e-07,  4.86325354e-07,  4.20055211e-07,\n",
       "         2.92152007e-07,  1.11889283e-07, -9.61526063e-08,\n",
       "        -3.12103242e-07, -5.03271518e-07, -6.50431152e-07,\n",
       "        -7.23960024e-07, -7.06171405e-07, -5.78718268e-07]])"
      ]
     },
     "execution_count": 46,
     "metadata": {},
     "output_type": "execute_result"
    }
   ],
   "source": [
    "rest_left_hbr"
   ]
  },
  {
   "cell_type": "code",
   "execution_count": 29,
   "id": "36704e0c",
   "metadata": {},
   "outputs": [
    {
     "name": "stdout",
     "output_type": "stream",
     "text": [
      "/mnt/diskus/fNIRS data ME_MI_TS_TI_SA/AA/AA_SA\n",
      "Reading 0 ... 6666  =      0.000 ...   655.294 secs...\n"
     ]
    },
    {
     "name": "stderr",
     "output_type": "stream",
     "text": [
      "/mnt/diskus/fnirs-data-analysis-git/functions_fnirs.py:51: RuntimeWarning: filter_length (13429) is longer than the signal (6667), distortion is likely. Reduce filter length or filter a longer signal.\n",
      "  raw_haemo = raw_haemo.filter(**FILTER_DICT)\n"
     ]
    },
    {
     "name": "stdout",
     "output_type": "stream",
     "text": [
      "['S4_D9 hbo', 'S2_D7 hbr', 'S3_D8 hbo', 'S4_D9 hbr', 'S6_D6 hbo', 'S17_D20 hbr', 'S6_D10 hbo', 'S6_D10 hbr', 'S27_D26 hbr', 'S10_D19 hbr', 'S2_D7 hbo', 'S3_D8 hbr', 'S6_D6 hbr', 'S27_D26 hbo', 'S11_D20 hbo', 'S11_D20 hbr', 'S11_D8 hbr', 'S26_D29 hbr', 'S17_D20 hbo', 'S10_D19 hbo', 'S26_D29 hbo', 'S11_D8 hbo'] \n",
      " 22\n",
      "Interpolating bad channels\n",
      "    Automatic origin fit: head of radius 91.4 mm\n",
      "Used Annotations descriptions: ['1.0', '2.0']\n",
      "Dropped 2 epochs: 6, 10\n",
      "Dropped 2 epochs: 3, 19\n",
      "Applying baseline correction (mode: mean)\n",
      "Applying baseline correction (mode: mean)\n",
      "Applying baseline correction (mode: mean)\n",
      "Applying baseline correction (mode: mean)\n",
      "Applying baseline correction (mode: mean)\n",
      "Applying baseline correction (mode: mean)\n",
      "Applying baseline correction (mode: mean)\n",
      "Applying baseline correction (mode: mean)\n",
      "combining channels using \"mean\"\n",
      "combining channels using \"mean\"\n",
      "combining channels using \"mean\"\n",
      "combining channels using \"mean\"\n",
      "combining channels using \"mean\"\n",
      "combining channels using \"mean\"\n",
      "combining channels using \"mean\"\n",
      "combining channels using \"mean\"\n"
     ]
    },
    {
     "name": "stderr",
     "output_type": "stream",
     "text": [
      "/tmp/ipykernel_29927/1263903543.py:225: DeprecationWarning: The truth value of an empty array is ambiguous. Returning False, but in future this will result in an error. Use `array.size > 0` to check that an array is not empty.\n",
      "  y_min = min(evoked_dict_left[f'{CONDITION}/HbO'].get_data().min(),\n",
      "/tmp/ipykernel_29927/1263903543.py:227: DeprecationWarning: The truth value of an empty array is ambiguous. Returning False, but in future this will result in an error. Use `array.size > 0` to check that an array is not empty.\n",
      "  y_max = max(evoked_dict_left[f'{CONDITION}/HbO'].get_data().max(),\n"
     ]
    },
    {
     "name": "stdout",
     "output_type": "stream",
     "text": [
      "combining channels using \"mean\"\n",
      "combining channels using \"mean\"\n",
      "combining channels using \"mean\"\n",
      "combining channels using \"mean\"\n",
      "combining channels using \"mean\"\n",
      "combining channels using \"mean\"\n",
      "combining channels using \"mean\"\n",
      "combining channels using \"mean\"\n"
     ]
    },
    {
     "data": {
      "text/plain": [
       "[<Figure size 2000x1200 with 2 Axes>]"
      ]
     },
     "execution_count": 29,
     "metadata": {},
     "output_type": "execute_result"
    },
    {
     "data": {
      "text/plain": [
       "<Figure size 2000x1200 with 0 Axes>"
      ]
     },
     "metadata": {},
     "output_type": "display_data"
    },
    {
     "data": {
      "text/plain": [
       "<Figure size 2000x1200 with 0 Axes>"
      ]
     },
     "metadata": {},
     "output_type": "display_data"
    },
    {
     "data": {
      "image/png": "[encoded data removed]",
      "text/plain": [
       "<Figure size 2000x1200 with 2 Axes>"
      ]
     },
     "metadata": {},
     "output_type": "display_data"
    }
   ],
   "source": [
    "def make_evoked_array(data, info):\n",
    "    return mne.EvokedArray(data=data, \n",
    "                            info=info, \n",
    "                            tmin=0.0, \n",
    "                            nave=1, \n",
    "                            kind='average', \n",
    "                            baseline=(0,0),\n",
    "                            verbose=None)\n",
    "\n",
    "hbt_evoked_dict_right = {\n",
    "                    f'{CONDITION} hbt' : make_evoked_array(data=target_right_hbt, info=evoked_info_hbo),\n",
    "                    'Rest hbt' : make_evoked_array(data=rest_right_hbt, info=evoked_info_hbo),\n",
    "}\n",
    "\n",
    "hbt_evoked_dict_left = { 'Rest hbt' : make_evoked_array(data=rest_left_hbt, info=evoked_info_hbo),\n",
    "                     f'{CONDITION} hbt': make_evoked_array(data=target_left_hbt, info=evoked_info_hbo),\n",
    "}\n",
    "\n",
    "relation_dict_right = {\n",
    "                    f'{CONDITION} hbo relation' : make_evoked_array(data=right_hbo_relation, info=evoked_info_hbo),\n",
    "                    f'{CONDITION} hbr relation' : make_evoked_array(data=right_hbr_relation, info=evoked_info_hbo),\n",
    "#                     f'{CONDITION} hbt relation' : make_evoked_array(data=right_hbt_relation, info=evoked_info_hbo),\n",
    "\n",
    "}\n",
    "\n",
    "relation_dict_left = {\n",
    "                    f'{CONDITION} hbo relation' : make_evoked_array(data=left_hbo_relation, info=evoked_info_hbo),\n",
    "                    f'{CONDITION} hbr relation' : make_evoked_array(data=left_hbr_relation, info=evoked_info_hbo),\n",
    "#                     f'{CONDITION} hbt relation' : make_evoked_array(data=left_hbt_relation, info=evoked_info_hbo),\n",
    "\n",
    "}\n",
    "\n",
    "right_arrays_od = OrderedDict(\n",
    "                hbo=[target_right_hbo, rest_right_hbo],\n",
    "                hbr=[target_right_hbr, rest_right_hbr],\n",
    "                hbt=[target_right_hbt, rest_right_hbt],\n",
    "                # oxy=[target_right_oxy, rest_right_oxy]\n",
    "                )\n",
    "right_arrays = [\n",
    "                np.stack(arrays=[right_arrays_od['hbo']]),\n",
    "                np.stack(arrays=[right_arrays_od['hbr']]),\n",
    "                np.stack(arrays=[right_arrays_od['hbt']]),\n",
    "                # np.stack(arrays=[right_arrays_od['oxy']])\n",
    "]\n",
    "\n",
    "\n",
    "\n",
    "right_arrays_od_relation = OrderedDict(\n",
    "                hbo_relation=[right_hbo_relation],\n",
    "                hbr_relation=[right_hbr_relation],\n",
    "                hbt_relation=[right_hbt_relation],\n",
    "                # oxy=[target_right_oxy, rest_right_oxy]\n",
    "                )\n",
    "right_arrays_relation = [\n",
    "                np.stack(arrays=[right_arrays_od_relation['hbo_relation']]),\n",
    "                np.stack(arrays=[right_arrays_od_relation['hbr_relation']]),\n",
    "                np.stack(arrays=[right_arrays_od_relation['hbt_relation']]),\n",
    "                # np.stack(arrays=[right_arrays_od['oxy']])\n",
    "]\n",
    "\n",
    "for idx, item in enumerate(right_arrays):\n",
    "    npy_path = op.join(DIRS_TO_SAVE_STUFF['haemo_folder_path_np'], f'{SUBJECT} {CONDITION} {list(right_arrays_od_relation.keys())[idx]} right.npy')\n",
    "    np.save(npy_path, item)\n",
    "\n",
    "\n",
    "left_arrays_od = OrderedDict(\n",
    "                hbo=[target_left_hbo, rest_left_hbo],\n",
    "                hbr=[target_left_hbr, rest_left_hbr],\n",
    "                hbt=[target_left_hbt, rest_left_hbt],\n",
    "                # oxy=[target_left_oxy, rest_left_oxy]\n",
    "                )\n",
    "\n",
    "left_arrays = [\n",
    "                np.stack(arrays=[left_arrays_od['hbo']]),\n",
    "                np.stack(arrays=[left_arrays_od['hbr']]),\n",
    "                np.stack(arrays=[left_arrays_od['hbt']]),\n",
    "                # np.stack(arrays=[left_arrays_od['oxy']])\n",
    "]\n",
    "\n",
    "left_arrays_od_relation = OrderedDict(\n",
    "                hbo_relation=[left_hbo_relation],\n",
    "                hbr_relation=[left_hbr_relation],\n",
    "                hbt_relation=[left_hbt_relation],\n",
    "                # oxy=[target_right_oxy, rest_right_oxy]\n",
    "                )\n",
    "left_arrays_relation = [\n",
    "                np.stack(arrays=[left_arrays_od_relation['hbo_relation']]),\n",
    "                np.stack(arrays=[left_arrays_od_relation['hbr_relation']]),\n",
    "                np.stack(arrays=[left_arrays_od_relation['hbt_relation']]),\n",
    "                # np.stack(arrays=[right_arrays_od['oxy']])\n",
    "]\n",
    "\n",
    "for idx, item in enumerate(left_arrays):\n",
    "    npy_path = op.join(DIRS_TO_SAVE_STUFF['haemo_folder_path_np'], f'{SUBJECT} {CONDITION} {list(left_arrays_od.keys())[idx]} left.npy')\n",
    "    np.save(npy_path, item)\n",
    "\n",
    "for condition in evoked_dict_left:\n",
    "    evoked_dict_left[condition].rename_channels(lambda x: x[:-4])\n",
    "for condition in evoked_dict_right:\n",
    "    evoked_dict_right[condition].rename_channels(lambda x: x[:-4])\n",
    "\n",
    "color_dict = dict(HbO='#AA3377', HbR='b')\n",
    "styles_dict = dict(Rest=dict(linestyle='dashed'))\n",
    "\n",
    "#this is made of scales unification\n",
    "y_min = min(evoked_dict_left[f'{CONDITION}/HbO'].get_data().min(),\n",
    "            evoked_dict_right[f'{CONDITION}/HbO'].get_data().min(),()) * 1.5*10**6\n",
    "y_max = max(evoked_dict_left[f'{CONDITION}/HbO'].get_data().max(),\n",
    "            evoked_dict_right[f'{CONDITION}/HbO'].get_data().max(),()) * 1.5*10**6\n",
    "ylim = {'hbo':[y_min, y_max],\n",
    "        'hbr':[y_min, y_max]}\n",
    "\n",
    "fig, axes = plt.subplots(1, 2, figsize=(20, 12))\n",
    "mne.viz.plot_compare_evokeds(evoked_dict_left,\n",
    "                                        combine=\"mean\",\n",
    "                                        ci=0.95,\n",
    "                                        colors=color_dict,\n",
    "                                        styles=styles_dict,\n",
    "                                        title=f'{CONDITION} and Rest trials LEFT hemisphere\\nSubject {SUBJECT}',\n",
    "                                        axes=axes[0],\n",
    "                                        ylim=ylim,\n",
    "                                        truncate_xaxis=False, \n",
    "                                        show=False\n",
    "                                        ) \n",
    "mne.viz.plot_compare_evokeds(evoked_dict_right,\n",
    "                                        combine=\"mean\",\n",
    "                                        ci=0.95,\n",
    "                                        colors=color_dict,\n",
    "                                        styles=styles_dict,\n",
    "                                        title=f'{CONDITION} and Rest trials RIGHT hemisphere\\nSubject {SUBJECT}',\n",
    "                                        axes=axes[1],\n",
    "                                        ylim=ylim,\n",
    "                                        truncate_xaxis=False, \n",
    "                                        show=False \n",
    "                                        )\n",
    "fig.savefig(rf'{DIRS_TO_SAVE_STUFF[\"haemo_folder_path\"]}/{SUBJECT} {CONDITION} haemodynamic response.png', bbox_inches='tight') #this is a figure for our hemodynamic curves for epochs and haemo types\n",
    "\n",
    "fig.clear()\n",
    "\n",
    "color_dict = {'Rest hbt':'r', f'{CONDITION} hbt':'r'}\n",
    "styles_dict = {'Rest hbt':dict(linestyle='dashed')}\n",
    "fig, axes = plt.subplots(1, 2, figsize=(20, 12))\n",
    "mne.viz.plot_compare_evokeds(hbt_evoked_dict_left,\n",
    "                                        combine=\"mean\",\n",
    "                                        ci=0.95,\n",
    "                                        colors=color_dict,\n",
    "                                        styles=styles_dict,\n",
    "                                        title=f'{CONDITION} and Rest trials LEFT hemisphere HbT \\nSubject {SUBJECT}',\n",
    "                                        axes=axes[0],\n",
    "                                        ylim=ylim,\n",
    "                                        truncate_xaxis=False, \n",
    "                                        show=False\n",
    "                                        ) \n",
    "\n",
    "mne.viz.plot_compare_evokeds(hbt_evoked_dict_right,\n",
    "                                        combine=\"mean\",\n",
    "                                        ci=0.95,\n",
    "                                        colors=color_dict,\n",
    "                                        styles=styles_dict,\n",
    "                                        title=f'{CONDITION} and Rest trials RIGHT hemisphere HbT \\nSubject {SUBJECT}',\n",
    "                                        axes=axes[1],\n",
    "                                        ylim=ylim,\n",
    "                                        truncate_xaxis=False, \n",
    "                                        show=False \n",
    "                                        )\n",
    "\n",
    "fig.savefig(rf'{DIRS_TO_SAVE_STUFF[\"haemo_folder_path\"]}/{SUBJECT} {CONDITION} haemodynamic response HbT.png', bbox_inches='tight') #this is a figure for our hemodynamic curves for epochs and haemo types\n",
    "\n",
    "fig.clear()\n",
    "\n",
    "\n",
    "color_dict = {f'{CONDITION} hbo relation':'r', \n",
    "              f'{CONDITION} hbr relation':'blue',  \n",
    "#               f'{CONDITION} hbt relation':'black'\n",
    "             }\n",
    "styles_dict = {'Rest hbt':dict(linestyle='dashed')}\n",
    "ylim = {f'{CONDITION} hbo_relation' : [-2, 2],\n",
    "        f'{CONDITION} hbr_relation': [-2, 2],\n",
    "#         f'{CONDITION} hbr_relation':[-2, 2]\n",
    "       }\n",
    "\n",
    "fig, axes = plt.subplots(1, 2, figsize=(20, 12))\n",
    "\n",
    "mne.viz.plot_compare_evokeds(relation_dict_left,\n",
    "                                        combine=\"mean\",\n",
    "                                        ci=0.95,\n",
    "                                        colors=color_dict,\n",
    "                                        # styles=styles_dict,\n",
    "                                        title=f'{CONDITION} relation between task and rest LEFT in subject {SUBJECT}',\n",
    "                                        axes=axes[0],\n",
    "                                        ylim=ylim,\n",
    "                                        truncate_xaxis=False, \n",
    "                                        show=False\n",
    "                                        ) \n",
    "\n",
    "mne.viz.plot_compare_evokeds(relation_dict_right,\n",
    "                                        combine=\"mean\",\n",
    "                                        ci=0.95,\n",
    "                                        colors=color_dict,\n",
    "                                        # styles=styles_dict,\n",
    "                                        title=f'{CONDITION} relation between task and rest RIGHT in subject {SUBJECT}',\n",
    "                                        axes=axes[1],\n",
    "                                        ylim=ylim,\n",
    "                                        truncate_xaxis=False, \n",
    "                                        show=False \n",
    "                                        )"
   ]
  },
  {
   "cell_type": "code",
   "execution_count": 2,
   "id": "c3751dd1",
   "metadata": {},
   "outputs": [
    {
     "ename": "KeyError",
     "evalue": "'SA hbt relation'",
     "output_type": "error",
     "traceback": [
      "\u001b[0;31m---------------------------------------------------------------------------\u001b[0m",
      "\u001b[0;31mKeyError\u001b[0m                                  Traceback (most recent call last)",
      "Cell \u001b[0;32mIn[2], line 1\u001b[0m\n\u001b[0;32m----> 1\u001b[0m \u001b[43mrelation_dict_left\u001b[49m\u001b[43m[\u001b[49m\u001b[38;5;124;43m'\u001b[39;49m\u001b[38;5;124;43mSA hbt relation\u001b[39;49m\u001b[38;5;124;43m'\u001b[39;49m\u001b[43m]\u001b[49m\u001b[38;5;241m.\u001b[39mget_data()\u001b[38;5;241m.\u001b[39mshape\n",
      "\u001b[0;31mKeyError\u001b[0m: 'SA hbt relation'"
     ]
    }
   ],
   "source": [
    "relation_dict_left['SA hbt relation'].get_data().shape"
   ]
  },
  {
   "cell_type": "code",
   "execution_count": 3,
   "id": "2aa65293",
   "metadata": {},
   "outputs": [
    {
     "data": {
      "text/plain": [
       "array([[ 3.94909867e-07, -3.94909867e-07, -1.13525883e-06,\n",
       "        -1.50746579e-06, -1.34695904e-06, -6.71918778e-07,\n",
       "         2.42168909e-07,  1.08649191e-06,  1.60063110e-06,\n",
       "         1.75740570e-06,  1.64619242e-06,  1.45142443e-06,\n",
       "         1.24884284e-06,  1.05312836e-06,  7.67050632e-07],\n",
       "       [ 8.85535880e-08, -8.85535880e-08,  2.58116315e-07,\n",
       "         1.07010648e-06,  2.08781950e-06,  2.99485394e-06,\n",
       "         3.58045661e-06,  3.82380808e-06,  3.83523493e-06,\n",
       "         3.72786809e-06,  3.50898630e-06,  3.08470477e-06,\n",
       "         2.34834198e-06,  1.29421426e-06,  5.75448895e-08],\n",
       "       [ 5.16376396e-07, -5.16376396e-07, -8.33890424e-07,\n",
       "        -3.20799943e-07,  8.60797951e-07,  2.35807665e-06,\n",
       "         3.72603202e-06,  4.64298145e-06,  4.98545759e-06,\n",
       "         4.86684048e-06,  4.47689040e-06,  3.97742533e-06,\n",
       "         3.38452391e-06,  2.65962552e-06,  1.78865085e-06],\n",
       "       [ 6.27299404e-07, -6.27299404e-07, -9.51723239e-07,\n",
       "        -3.42085970e-07,  8.65511324e-07,  2.22085082e-06,\n",
       "         3.34672291e-06,  4.10177275e-06,  4.52635150e-06,\n",
       "         4.76494465e-06,  4.90618897e-06,  4.95876899e-06,\n",
       "         4.83246445e-06,  4.45141754e-06,  3.80076434e-06],\n",
       "       [ 2.54192228e-08, -2.54192228e-08,  1.23036695e-07,\n",
       "         4.05350222e-07,  6.35388609e-07,  6.58859662e-07,\n",
       "         4.39025731e-07,  1.24603156e-07, -7.79878805e-08,\n",
       "        -1.61117431e-08,  2.84234242e-07,  6.91509105e-07,\n",
       "         1.04632675e-06,  1.28839730e-06,  1.42012170e-06],\n",
       "       [ 6.59310172e-08, -6.59310172e-08,  2.38870752e-07,\n",
       "         8.75188381e-07,  1.64616106e-06,  2.40566738e-06,\n",
       "         3.04738804e-06,  3.53594492e-06,  3.82307867e-06,\n",
       "         3.89266035e-06,  3.71995365e-06,  3.32143766e-06,\n",
       "         2.68326517e-06,  1.81552748e-06,  7.44552487e-07],\n",
       "       [ 4.81456300e-07, -4.81456300e-07, -1.00479446e-06,\n",
       "        -9.04782755e-07, -2.68163637e-07,  6.62549537e-07,\n",
       "         1.59397346e-06,  2.36341540e-06,  2.89581721e-06,\n",
       "         3.18829543e-06,  3.19810986e-06,  2.91604706e-06,\n",
       "         2.36650270e-06,  1.68526413e-06,  1.01553445e-06],\n",
       "       [ 3.62980014e-07, -3.62980014e-07, -4.98377708e-07,\n",
       "        -5.77148214e-08,  7.28389605e-07,  1.59768552e-06,\n",
       "         2.32006364e-06,  2.80129731e-06,  3.00615724e-06,\n",
       "         2.97669986e-06,  2.74962240e-06,  2.40112940e-06,\n",
       "         1.96948785e-06,  1.49466961e-06,  9.62451403e-07],\n",
       "       [ 4.35524890e-07, -4.35524890e-07, -1.20510061e-06,\n",
       "        -1.76854559e-06, -1.97779988e-06, -1.64824520e-06,\n",
       "        -7.16931495e-07,  7.30792759e-07,  2.39372460e-06,\n",
       "         3.88809070e-06,  4.82157161e-06,  4.97972290e-06,\n",
       "         4.33673557e-06,  3.09781953e-06,  1.55134960e-06],\n",
       "       [ 5.54872526e-07, -5.54872526e-07, -1.19920961e-06,\n",
       "        -1.33485092e-06, -1.07091263e-06, -5.38523574e-07,\n",
       "         1.14043590e-07,  7.88167930e-07,  1.37714509e-06,\n",
       "         1.82420018e-06,  2.08232984e-06,  2.16793894e-06,\n",
       "         2.08268373e-06,  1.84426350e-06,  1.43772264e-06],\n",
       "       [ 7.01786757e-07, -7.01786757e-07, -1.41586726e-06,\n",
       "        -1.31149401e-06, -5.89268894e-07,  4.22725511e-07,\n",
       "         1.33834067e-06,  1.99125454e-06,  2.38431214e-06,\n",
       "         2.72235624e-06,  3.13592340e-06,  3.65679531e-06,\n",
       "         4.08208546e-06,  4.19764907e-06,  3.82572545e-06],\n",
       "       [ 4.97354495e-07, -4.97354495e-07, -1.24731876e-06,\n",
       "        -1.63841500e-06, -1.69847214e-06, -1.46702628e-06,\n",
       "        -1.02032938e-06, -3.90768912e-07,  3.35809190e-07,\n",
       "         1.09000828e-06,  1.75765595e-06,  2.27160518e-06,\n",
       "         2.52840187e-06,  2.46627581e-06,  2.02115076e-06]])"
      ]
     },
     "execution_count": 3,
     "metadata": {},
     "output_type": "execute_result"
    }
   ],
   "source": [
    "evoked_dict_left['Rest/HbO'].get_data()\n"
   ]
  },
  {
   "cell_type": "code",
   "execution_count": 5,
   "id": "074fadd8",
   "metadata": {},
   "outputs": [
    {
     "data": {
      "text/plain": [
       "array([[ 2.12733024e-07, -2.12733024e-07,  1.73264026e-07,\n",
       "         1.60797757e-06,  3.95831182e-06,  6.70435281e-06,\n",
       "         9.09758700e-06,  1.05430692e-05,  1.08261387e-05,\n",
       "         1.01802921e-05,  9.04683461e-06,  7.84804226e-06,\n",
       "         6.78193739e-06,  5.87077781e-06,  5.04431306e-06],\n",
       "       [ 4.02762160e-07, -4.02762160e-07, -5.22232683e-07,\n",
       "         6.82891762e-08,  1.10683664e-06,  2.24516525e-06,\n",
       "         3.16172409e-06,  3.71866982e-06,  3.92023656e-06,\n",
       "         3.91034185e-06,  3.82555863e-06,  3.76483840e-06,\n",
       "         3.69304097e-06,  3.52967306e-06,  3.18248551e-06],\n",
       "       [ 6.64767951e-08, -6.64767951e-08,  1.77417939e-07,\n",
       "         6.45416919e-07,  1.00052612e-06,  1.00199924e-06,\n",
       "         5.95227642e-07, -2.19708812e-08, -5.86351654e-07,\n",
       "        -8.67076570e-07, -8.44410926e-07, -6.58753813e-07,\n",
       "        -5.86182741e-07, -8.23203920e-07, -1.43011299e-06],\n",
       "       [ 6.20603569e-08, -6.20603569e-08,  2.44531589e-07,\n",
       "         9.79755345e-07,  1.99982792e-06,  3.04445507e-06,\n",
       "         3.85193928e-06,  4.26413750e-06,  4.29771918e-06,\n",
       "         4.09222121e-06,  3.81238452e-06,  3.52962014e-06,\n",
       "         3.20168202e-06,  2.71468822e-06,  1.99849796e-06],\n",
       "       [ 3.09468486e-08, -3.09468486e-08, -1.10255567e-07,\n",
       "        -2.06812270e-07, -4.57513318e-07, -9.47913163e-07,\n",
       "        -1.77721235e-06, -2.88377126e-06, -4.16798145e-06,\n",
       "        -5.41199812e-06, -6.51421959e-06, -7.44828285e-06,\n",
       "        -8.39766941e-06, -9.50310150e-06, -1.08412464e-05],\n",
       "       [-2.75461647e-07,  2.75461647e-07,  1.02554166e-06,\n",
       "         1.77336749e-06,  2.18833404e-06,  2.08786903e-06,\n",
       "         1.49766199e-06,  7.36852067e-07,  1.52096047e-07,\n",
       "        -1.43571056e-08,  1.67695092e-07,  4.83487939e-07,\n",
       "         6.75943018e-07,  7.11852373e-07,  7.09145878e-07],\n",
       "       [-1.32917478e-07,  1.32917478e-07,  1.00244629e-06,\n",
       "         2.08838368e-06,  2.83662860e-06,  2.94606916e-06,\n",
       "         2.47058151e-06,  1.85061355e-06,  1.51709797e-06,\n",
       "         1.67055453e-06,  2.06636603e-06,  2.28874075e-06,\n",
       "         1.97615478e-06,  1.16873911e-06,  2.01945926e-07],\n",
       "       [-9.84304927e-08,  9.84304927e-08,  5.34231485e-07,\n",
       "         1.03566405e-06,  1.38878695e-06,  1.49074510e-06,\n",
       "         1.29378560e-06,  9.01741456e-07,  4.41736033e-07,\n",
       "         8.21907865e-08, -1.41215536e-07, -2.62781600e-07,\n",
       "        -4.35186639e-07, -7.34826113e-07, -1.17735767e-06],\n",
       "       [ 1.04273270e-07, -1.04273270e-07,  1.90141264e-07,\n",
       "         8.92247786e-07,  1.76975667e-06,  2.62542458e-06,\n",
       "         3.34149043e-06,  3.94738794e-06,  4.49599587e-06,\n",
       "         5.01520468e-06,  5.40351554e-06,  5.52218073e-06,\n",
       "         5.23632867e-06,  4.55036375e-06,  3.57145647e-06],\n",
       "       [ 2.40568847e-07, -2.40568847e-07, -1.76402208e-07,\n",
       "         3.84069057e-07,  1.26465335e-06,  2.26744484e-06,\n",
       "         3.17424418e-06,  3.83892249e-06,  4.17952230e-06,\n",
       "         4.23163970e-06,  4.06013979e-06,  3.75038605e-06,\n",
       "         3.33060672e-06,  2.82811894e-06,  2.23300982e-06],\n",
       "       [-8.19890244e-09,  8.19890244e-09,  7.52940483e-08,\n",
       "         1.81051699e-07,  3.47050885e-07,  5.86997252e-07,\n",
       "         9.05385831e-07,  1.25635312e-06,  1.58047932e-06,\n",
       "         1.81636629e-06,  1.96620390e-06,  2.08034167e-06,\n",
       "         2.25147075e-06,  2.53385740e-06,  2.93522548e-06],\n",
       "       [ 7.10930552e-07, -7.10930552e-07, -1.76383419e-06,\n",
       "        -2.26138776e-06, -2.23697403e-06, -1.83812790e-06,\n",
       "        -1.29975330e-06, -7.91471176e-07, -4.25052627e-07,\n",
       "        -1.82006383e-07, -1.55557029e-08,  1.49173950e-07,\n",
       "         2.89941717e-07,  3.37504086e-07,  1.55690077e-07]])"
      ]
     },
     "execution_count": 5,
     "metadata": {},
     "output_type": "execute_result"
    }
   ],
   "source": [
    "rest_right_hbo"
   ]
  },
  {
   "cell_type": "code",
   "execution_count": 6,
   "id": "72094cc5",
   "metadata": {},
   "outputs": [
    {
     "data": {
      "text/plain": [
       "0.009519723398101927"
      ]
     },
     "execution_count": 6,
     "metadata": {},
     "output_type": "execute_result"
    }
   ],
   "source": [
    "np.max(np.abs(target_right_hbo / rest_right_hbo))\n",
    "np.min(np.abs(target_right_hbo / rest_right_hbo))"
   ]
  },
  {
   "cell_type": "code",
   "execution_count": 7,
   "id": "291c24b8",
   "metadata": {},
   "outputs": [
    {
     "data": {
      "text/plain": [
       "(12, 15)"
      ]
     },
     "execution_count": 7,
     "metadata": {},
     "output_type": "execute_result"
    }
   ],
   "source": [
    "evoked_dict_right['SA/HbO'].get_data().shape"
   ]
  },
  {
   "cell_type": "code",
   "execution_count": 8,
   "id": "4b9fa9f3",
   "metadata": {},
   "outputs": [
    {
     "data": {
      "text/plain": [
       "(15,)"
      ]
     },
     "execution_count": 8,
     "metadata": {},
     "output_type": "execute_result"
    }
   ],
   "source": [
    "mean_in_channel = np.mean(evoked_dict_right['SA/HbO'].get_data(), axis=0)\n",
    "mean_in_channel.shape"
   ]
  },
  {
   "cell_type": "code",
   "execution_count": 9,
   "id": "856bed57",
   "metadata": {},
   "outputs": [
    {
     "data": {
      "text/plain": [
       "[<matplotlib.lines.Line2D at 0x7f8daf3aa640>]"
      ]
     },
     "execution_count": 9,
     "metadata": {},
     "output_type": "execute_result"
    },
    {
     "data": {
      "image/png": "[encoded data removed]",
      "text/plain": [
       "<Figure size 640x480 with 1 Axes>"
      ]
     },
     "metadata": {},
     "output_type": "display_data"
    }
   ],
   "source": [
    "plt.plot(mean_in_channel)"
   ]
  },
  {
   "cell_type": "code",
   "execution_count": 18,
   "id": "1e5f55e6",
   "metadata": {},
   "outputs": [],
   "source": [
    "arr = np.abs(np.mean(relation_dict_right['SA hbo relation'].get_data(), axis=0))"
   ]
  },
  {
   "cell_type": "code",
   "execution_count": 19,
   "id": "0dfd4324",
   "metadata": {},
   "outputs": [
    {
     "data": {
      "text/plain": [
       "[<matplotlib.lines.Line2D at 0x7f8dad8c6610>]"
      ]
     },
     "execution_count": 19,
     "metadata": {},
     "output_type": "execute_result"
    },
    {
     "data": {
      "image/png": "[encoded data removed]",
      "text/plain": [
       "<Figure size 640x480 with 1 Axes>"
      ]
     },
     "metadata": {},
     "output_type": "display_data"
    }
   ],
   "source": [
    "plt.plot(arr)"
   ]
  },
  {
   "cell_type": "code",
   "execution_count": 20,
   "id": "aa7a24e8",
   "metadata": {},
   "outputs": [],
   "source": [
    "arr = np.abs(np.mean(relation_dict_right['SA hbr relation'].get_data(), axis=0))"
   ]
  },
  {
   "cell_type": "code",
   "execution_count": 21,
   "id": "20003fe5",
   "metadata": {
    "scrolled": true
   },
   "outputs": [
    {
     "data": {
      "text/plain": [
       "[<matplotlib.lines.Line2D at 0x7f8dad01dfa0>]"
      ]
     },
     "execution_count": 21,
     "metadata": {},
     "output_type": "execute_result"
    },
    {
     "data": {
      "image/png": "[encoded data removed]",
      "text/plain": [
       "<Figure size 640x480 with 1 Axes>"
      ]
     },
     "metadata": {},
     "output_type": "display_data"
    }
   ],
   "source": [
    "plt.plot(arr)"
   ]
  },
  {
   "cell_type": "code",
   "execution_count": 23,
   "id": "b136c3b5",
   "metadata": {},
   "outputs": [
    {
     "data": {
      "text/plain": [
       "[<matplotlib.lines.Line2D at 0x7f8dacb79f70>]"
      ]
     },
     "execution_count": 23,
     "metadata": {},
     "output_type": "execute_result"
    },
    {
     "data": {
      "image/png": "[encoded data removed]",
      "text/plain": [
       "<Figure size 640x480 with 1 Axes>"
      ]
     },
     "metadata": {},
     "output_type": "display_data"
    }
   ],
   "source": [
    "plt.plot(np.abs(np.mean(right_hbo_relation, axis=0)))"
   ]
  },
  {
   "cell_type": "code",
   "execution_count": 24,
   "id": "1778d662",
   "metadata": {},
   "outputs": [
    {
     "data": {
      "text/plain": [
       "[<matplotlib.lines.Line2D at 0x7f8dacc59c10>]"
      ]
     },
     "execution_count": 24,
     "metadata": {},
     "output_type": "execute_result"
    },
    {
     "data": {
      "image/png": "[encoded data removed]",
      "text/plain": [
       "<Figure size 640x480 with 1 Axes>"
      ]
     },
     "metadata": {},
     "output_type": "display_data"
    }
   ],
   "source": [
    "plt.plot(np.abs(np.mean(right_hbr_relation, axis=0)))"
   ]
  },
  {
   "cell_type": "code",
   "execution_count": 26,
   "id": "32b40f38",
   "metadata": {},
   "outputs": [
    {
     "data": {
      "text/plain": [
       "array([[ 0.00000000e+00,  1.11022302e-16,  6.30250608e-01,\n",
       "        -5.70835092e-01, -3.80372627e-01, -3.32860365e-01,\n",
       "        -3.06208358e-01, -2.81231984e-01, -2.57327213e-01,\n",
       "        -2.39705817e-01, -2.40814585e-01, -2.79544419e-01,\n",
       "        -3.97196910e-01, -7.30812643e-01, -2.59330273e+00],\n",
       "       [ 0.00000000e+00,  4.44089210e-16,  5.23555889e-02,\n",
       "         7.68907350e-01, -1.75380288e-01, -9.77662132e-02,\n",
       "        -6.59354652e-02, -3.15238986e-02,  1.02852158e-02,\n",
       "         5.39897739e-02,  8.22974625e-02,  8.01489914e-02,\n",
       "         2.87321963e-02, -1.18347628e-01, -6.34882558e-01],\n",
       "       [ 0.00000000e+00, -1.11022302e-15,  3.61316425e-01,\n",
       "        -5.85578474e+00, -5.54472141e-01, -2.17947247e-01,\n",
       "        -2.56664248e-02,  1.21244629e-01,  2.21837234e-01,\n",
       "         2.57384329e-01,  2.42017221e-01,  2.08565866e-01,\n",
       "         1.99523189e-01,  2.46180098e-01,  3.95580966e-01],\n",
       "       [ 0.00000000e+00,  4.44089210e-16,  8.54786938e-01,\n",
       "        -8.44793019e-01, -4.75199243e-01, -3.77282505e-01,\n",
       "        -3.24779788e-01, -2.88227628e-01, -2.61496902e-01,\n",
       "        -2.46522338e-01, -2.47811209e-01, -2.70294670e-01,\n",
       "        -3.17750494e-01, -3.98569971e-01, -5.43321832e-01],\n",
       "       [ 0.00000000e+00, -6.77236045e-15, -4.68374518e-01,\n",
       "         5.27755003e-01,  4.04834523e-01,  4.21990313e-01,\n",
       "         4.99241036e-01,  6.06066008e-01,  7.56121541e-01,\n",
       "         9.27010161e-01,  1.12454009e+00,  1.32280179e+00,\n",
       "         1.58197996e+00,  1.94560222e+00,  2.58307079e+00],\n",
       "       [ 0.00000000e+00,  1.73194792e-14,  1.98872598e+00,\n",
       "         2.22494992e+00,  2.31023196e+00,  2.36038996e+00,\n",
       "         2.38969786e+00,  2.40516796e+00,  1.84392100e+00,\n",
       "         2.88435711e+00,  3.44865373e+00,  1.27557239e+00,\n",
       "         2.07212667e+00,  2.17067762e+00,  1.84603704e+00],\n",
       "       [ 0.00000000e+00,  6.43929354e-15, -1.89402072e+00,\n",
       "        -1.44235784e+00, -1.33820137e+00, -1.28620348e+00,\n",
       "        -1.25498030e+00, -1.21347785e+00, -1.16259348e+00,\n",
       "        -1.11722529e+00, -1.09303755e+00, -1.06629202e+00,\n",
       "        -1.02687335e+00, -9.50857698e-01, -7.56432532e-01],\n",
       "       [ 0.00000000e+00, -1.03916875e-13, -3.15637238e+00,\n",
       "        -2.40750920e+00, -2.16162516e+00, -1.99067444e+00,\n",
       "        -1.85489763e+00, -1.74020143e+00, -1.65002864e+00,\n",
       "        -1.59092468e+00, -1.55644728e+00, -1.53485972e+00,\n",
       "        -1.49443932e+00, -1.40107000e+00, -1.20130216e+00],\n",
       "       [ 0.00000000e+00, -2.22044605e-16,  3.47122505e-01,\n",
       "         3.63173903e+00, -1.69744994e+00, -9.77465987e-01,\n",
       "        -7.66818415e-01, -6.30215081e-01, -5.24796012e-01,\n",
       "        -4.44132120e-01, -3.93721532e-01, -3.69918523e-01,\n",
       "        -3.74134347e-01, -4.11425877e-01, -5.07304374e-01],\n",
       "       [ 0.00000000e+00, -1.66533454e-16,  3.23404195e-01,\n",
       "         4.58220126e+00, -8.79716085e-01, -2.73837846e-01,\n",
       "        -1.87908368e-02,  1.39757241e-01,  2.40379498e-01,\n",
       "         3.01161512e-01,  3.28212173e-01,  3.23294275e-01,\n",
       "         2.79404802e-01,  1.75425833e-01, -5.69574053e-02],\n",
       "       [ 0.00000000e+00,  1.32160949e-11, -5.37838514e+01,\n",
       "        -5.48541562e+01, -5.51718672e+01, -5.55083369e+01,\n",
       "        -5.56645761e+01, -5.57597303e+01, -5.57809284e+01,\n",
       "        -5.57584712e+01, -5.56525985e+01, -5.54329902e+01,\n",
       "        -5.49958410e+01, -5.43748738e+01, -5.38219770e+01],\n",
       "       [ 0.00000000e+00,  1.66533454e-16,  1.89634329e-02,\n",
       "         2.80885424e-02,  2.43632404e-02, -3.01770221e-02,\n",
       "        -3.72114056e-01,  1.40793656e+00,  6.38536349e-01,\n",
       "         5.41058720e-01,  5.09231891e-01,  4.87095977e-01,\n",
       "         4.65986747e-01,  4.46262940e-01,  4.56989287e-01]])"
      ]
     },
     "execution_count": 26,
     "metadata": {},
     "output_type": "execute_result"
    }
   ],
   "source": [
    "right_hbr_relation"
   ]
  },
  {
   "cell_type": "code",
   "execution_count": 25,
   "id": "6d437c7e",
   "metadata": {
    "scrolled": true
   },
   "outputs": [
    {
     "data": {
      "text/plain": [
       "array([[ 0.00000000e+00,  1.11022302e-16,  6.30250608e-01,\n",
       "        -5.70835092e-01, -3.80372627e-01, -3.32860365e-01,\n",
       "        -3.06208358e-01, -2.81231984e-01, -2.57327213e-01,\n",
       "        -2.39705817e-01, -2.40814585e-01, -2.79544419e-01,\n",
       "        -3.97196910e-01, -7.30812643e-01, -2.59330273e+00],\n",
       "       [ 0.00000000e+00,  4.44089210e-16,  5.23555889e-02,\n",
       "         7.68907350e-01, -1.75380288e-01, -9.77662132e-02,\n",
       "        -6.59354652e-02, -3.15238986e-02,  1.02852158e-02,\n",
       "         5.39897739e-02,  8.22974625e-02,  8.01489914e-02,\n",
       "         2.87321963e-02, -1.18347628e-01, -6.34882558e-01],\n",
       "       [ 0.00000000e+00, -1.11022302e-15,  3.61316425e-01,\n",
       "        -5.85578474e+00, -5.54472141e-01, -2.17947247e-01,\n",
       "        -2.56664248e-02,  1.21244629e-01,  2.21837234e-01,\n",
       "         2.57384329e-01,  2.42017221e-01,  2.08565866e-01,\n",
       "         1.99523189e-01,  2.46180098e-01,  3.95580966e-01],\n",
       "       [ 0.00000000e+00,  4.44089210e-16,  8.54786938e-01,\n",
       "        -8.44793019e-01, -4.75199243e-01, -3.77282505e-01,\n",
       "        -3.24779788e-01, -2.88227628e-01, -2.61496902e-01,\n",
       "        -2.46522338e-01, -2.47811209e-01, -2.70294670e-01,\n",
       "        -3.17750494e-01, -3.98569971e-01, -5.43321832e-01],\n",
       "       [ 0.00000000e+00, -6.77236045e-15, -4.68374518e-01,\n",
       "         5.27755003e-01,  4.04834523e-01,  4.21990313e-01,\n",
       "         4.99241036e-01,  6.06066008e-01,  7.56121541e-01,\n",
       "         9.27010161e-01,  1.12454009e+00,  1.32280179e+00,\n",
       "         1.58197996e+00,  1.94560222e+00,  2.58307079e+00],\n",
       "       [ 0.00000000e+00,  1.73194792e-14,  1.98872598e+00,\n",
       "         2.22494992e+00,  2.31023196e+00,  2.36038996e+00,\n",
       "         2.38969786e+00,  2.40516796e+00,  1.84392100e+00,\n",
       "         2.88435711e+00,  3.44865373e+00,  1.27557239e+00,\n",
       "         2.07212667e+00,  2.17067762e+00,  1.84603704e+00],\n",
       "       [ 0.00000000e+00,  6.43929354e-15, -1.89402072e+00,\n",
       "        -1.44235784e+00, -1.33820137e+00, -1.28620348e+00,\n",
       "        -1.25498030e+00, -1.21347785e+00, -1.16259348e+00,\n",
       "        -1.11722529e+00, -1.09303755e+00, -1.06629202e+00,\n",
       "        -1.02687335e+00, -9.50857698e-01, -7.56432532e-01],\n",
       "       [ 0.00000000e+00, -1.03916875e-13, -3.15637238e+00,\n",
       "        -2.40750920e+00, -2.16162516e+00, -1.99067444e+00,\n",
       "        -1.85489763e+00, -1.74020143e+00, -1.65002864e+00,\n",
       "        -1.59092468e+00, -1.55644728e+00, -1.53485972e+00,\n",
       "        -1.49443932e+00, -1.40107000e+00, -1.20130216e+00],\n",
       "       [ 0.00000000e+00, -2.22044605e-16,  3.47122505e-01,\n",
       "         3.63173903e+00, -1.69744994e+00, -9.77465987e-01,\n",
       "        -7.66818415e-01, -6.30215081e-01, -5.24796012e-01,\n",
       "        -4.44132120e-01, -3.93721532e-01, -3.69918523e-01,\n",
       "        -3.74134347e-01, -4.11425877e-01, -5.07304374e-01],\n",
       "       [ 0.00000000e+00, -1.66533454e-16,  3.23404195e-01,\n",
       "         4.58220126e+00, -8.79716085e-01, -2.73837846e-01,\n",
       "        -1.87908368e-02,  1.39757241e-01,  2.40379498e-01,\n",
       "         3.01161512e-01,  3.28212173e-01,  3.23294275e-01,\n",
       "         2.79404802e-01,  1.75425833e-01, -5.69574053e-02],\n",
       "       [ 0.00000000e+00,  1.32160949e-11, -5.37838514e+01,\n",
       "        -5.48541562e+01, -5.51718672e+01, -5.55083369e+01,\n",
       "        -5.56645761e+01, -5.57597303e+01, -5.57809284e+01,\n",
       "        -5.57584712e+01, -5.56525985e+01, -5.54329902e+01,\n",
       "        -5.49958410e+01, -5.43748738e+01, -5.38219770e+01],\n",
       "       [ 0.00000000e+00,  1.66533454e-16,  1.89634329e-02,\n",
       "         2.80885424e-02,  2.43632404e-02, -3.01770221e-02,\n",
       "        -3.72114056e-01,  1.40793656e+00,  6.38536349e-01,\n",
       "         5.41058720e-01,  5.09231891e-01,  4.87095977e-01,\n",
       "         4.65986747e-01,  4.46262940e-01,  4.56989287e-01]])"
      ]
     },
     "execution_count": 25,
     "metadata": {},
     "output_type": "execute_result"
    }
   ],
   "source": [
    "right_hbr_relation"
   ]
  },
  {
   "cell_type": "code",
   "execution_count": 28,
   "id": "87cfadf6",
   "metadata": {},
   "outputs": [
    {
     "data": {
      "text/plain": [
       "array([[-1.91865526e-07,  1.91865526e-07,  3.04522818e-07,\n",
       "         2.46323010e-08, -5.77774211e-07, -1.35426431e-06,\n",
       "        -2.05244865e-06, -2.53641906e-06, -2.73510455e-06,\n",
       "        -2.73217773e-06, -2.58328948e-06, -2.35989387e-06,\n",
       "        -2.01771923e-06, -1.53929863e-06, -8.85387773e-07],\n",
       "       [-1.48656276e-07,  1.48656276e-07,  1.70583678e-07,\n",
       "        -7.00830813e-08, -5.04163467e-07, -1.04133134e-06,\n",
       "        -1.59409544e-06, -2.09412226e-06, -2.47973311e-06,\n",
       "        -2.69223843e-06, -2.67913124e-06, -2.42463463e-06,\n",
       "        -1.96766666e-06, -1.40777631e-06, -8.76820495e-07],\n",
       "       [-1.18523515e-07,  1.18523515e-07,  1.32967227e-07,\n",
       "        -1.16044274e-07, -5.61327295e-07, -1.09724047e-06,\n",
       "        -1.59719524e-06, -2.00211148e-06, -2.28046745e-06,\n",
       "        -2.43505418e-06, -2.42719485e-06, -2.21811100e-06,\n",
       "        -1.76122920e-06, -1.08583655e-06, -2.76056005e-07],\n",
       "       [-1.68479777e-07,  1.68479777e-07,  2.01523667e-07,\n",
       "        -1.10962471e-07, -6.80725990e-07, -1.36840088e-06,\n",
       "        -2.01598048e-06, -2.53785797e-06, -2.88931726e-06,\n",
       "        -3.06581923e-06, -3.02191657e-06, -2.70031765e-06,\n",
       "        -2.03696562e-06, -1.06649417e-06,  6.87210738e-08],\n",
       "       [-6.65184758e-08,  6.65184758e-08,  1.69784499e-07,\n",
       "         2.36252538e-07,  3.00302573e-07,  3.67283279e-07,\n",
       "         4.43000669e-07,  4.90517395e-07,  4.92310437e-07,\n",
       "         4.26913968e-07,  3.30578526e-07,  2.50610625e-07,\n",
       "         2.64193437e-07,  3.90385909e-07,  6.05040010e-07],\n",
       "       [-1.10644091e-07,  1.10644091e-07,  9.06544644e-08,\n",
       "        -1.74908334e-07, -6.10199254e-07, -1.13537517e-06,\n",
       "        -1.64375433e-06, -2.08620372e-06, -2.41694093e-06,\n",
       "        -2.62727439e-06, -2.66716614e-06, -2.50859485e-06,\n",
       "        -2.12852276e-06, -1.60654049e-06, -1.07199774e-06],\n",
       "       [-1.13196994e-07,  1.13196994e-07,  1.32363381e-07,\n",
       "        -1.04721132e-07, -5.70300307e-07, -1.19666048e-06,\n",
       "        -1.83966549e-06, -2.36911414e-06, -2.66991112e-06,\n",
       "        -2.72319262e-06, -2.54782437e-06, -2.20672951e-06,\n",
       "        -1.71504992e-06, -1.08660257e-06, -3.27503123e-07],\n",
       "       [-1.21541462e-07,  1.21541462e-07,  2.09221997e-07,\n",
       "         9.15757070e-08, -2.19245958e-07, -7.09683863e-07,\n",
       "        -1.29922997e-06, -1.91535202e-06, -2.43778308e-06,\n",
       "        -2.77862696e-06, -2.83280734e-06, -2.56689773e-06,\n",
       "        -1.97553733e-06, -1.16324600e-06, -2.72980759e-07],\n",
       "       [-1.85851261e-07,  1.85851261e-07,  3.06692433e-07,\n",
       "         1.14113685e-07, -3.31528257e-07, -9.24723657e-07,\n",
       "        -1.51519355e-06, -2.01015158e-06, -2.33098192e-06,\n",
       "        -2.45891844e-06, -2.37188466e-06, -2.10034153e-06,\n",
       "        -1.66704024e-06, -1.12849878e-06, -5.13102858e-07],\n",
       "       [-1.58057858e-07,  1.58057858e-07,  2.99975906e-07,\n",
       "         1.95043553e-07, -1.42948068e-07, -6.76967730e-07,\n",
       "        -1.30283667e-06, -1.94435396e-06, -2.50308602e-06,\n",
       "        -2.91667993e-06, -3.08159143e-06, -2.92831372e-06,\n",
       "        -2.39764511e-06, -1.55630317e-06, -5.49901663e-07],\n",
       "       [-1.79917495e-07,  1.79917495e-07,  3.71562886e-07,\n",
       "         3.27587175e-07,  8.01895766e-08, -3.83287468e-07,\n",
       "        -9.90899449e-07, -1.69571481e-06, -2.33809097e-06,\n",
       "        -2.79410343e-06, -2.89774377e-06, -2.62058215e-06,\n",
       "        -1.97074037e-06, -1.11078049e-06, -1.94484572e-07],\n",
       "       [-1.56491022e-07,  1.56491022e-07,  3.67216232e-07,\n",
       "         3.89182403e-07,  2.11649252e-07, -1.50981116e-07,\n",
       "        -5.98962606e-07, -1.05221232e-06, -1.41040616e-06,\n",
       "        -1.63091486e-06, -1.64842781e-06, -1.44261814e-06,\n",
       "        -9.86876486e-07, -3.49316017e-07,  3.64909318e-07]])"
      ]
     },
     "execution_count": 28,
     "metadata": {},
     "output_type": "execute_result"
    }
   ],
   "source": [
    "target_left_hbr"
   ]
  },
  {
   "cell_type": "code",
   "execution_count": 27,
   "id": "b835ee1e",
   "metadata": {
    "scrolled": true
   },
   "outputs": [
    {
     "data": {
      "text/plain": [
       "array([[ 5.50301802e-07, -5.50301802e-07, -6.66258830e-07,\n",
       "         2.84576395e-07,  2.04667110e-06,  4.25658040e-06,\n",
       "         6.45365941e-06,  8.28281272e-06,  9.36714225e-06,\n",
       "         9.45366325e-06,  8.36387644e-06,  6.20790957e-06,\n",
       "         3.25058136e-06, -5.58881809e-08, -3.28799860e-06],\n",
       "       [ 4.58172922e-07, -4.58172922e-07, -7.34754401e-07,\n",
       "        -2.95097267e-07,  6.13992225e-07,  1.72446388e-06,\n",
       "         2.76182642e-06,  3.72845043e-06,  4.64794574e-06,\n",
       "         5.53881624e-06,  6.09750398e-06,  5.94660208e-06,\n",
       "         4.71768173e-06,  2.49194315e-06, -2.96406095e-07],\n",
       "       [ 5.02373333e-07, -5.02373333e-07, -9.03188086e-07,\n",
       "        -5.37354785e-07,  4.89829427e-07,  1.99075003e-06,\n",
       "         3.58098409e-06,  5.03480554e-06,  6.17195483e-06,\n",
       "         7.03744639e-06,  7.59130426e-06,  7.84222069e-06,\n",
       "         7.67754743e-06,  7.18891797e-06,  6.56112897e-06],\n",
       "       [ 4.18021431e-07, -4.18021431e-07, -5.81576399e-07,\n",
       "         2.60881585e-08,  1.30857308e-06,  2.96568748e-06,\n",
       "         4.63157096e-06,  5.94941414e-06,  6.70043584e-06,\n",
       "         6.79734894e-06,  6.29785314e-06,  5.30403562e-06,\n",
       "         3.96058305e-06,  2.42832177e-06,  9.72838778e-07],\n",
       "       [ 1.59819478e-07, -1.59819478e-07, -6.45872045e-08,\n",
       "         7.72597898e-07,  2.34330556e-06,  4.59701076e-06,\n",
       "         7.05057065e-06,  9.38106141e-06,  1.11859940e-05,\n",
       "         1.24884822e-05,  1.32835323e-05,  1.38660189e-05,\n",
       "         1.43125370e-05,  1.48318089e-05,  1.53195331e-05],\n",
       "       [ 1.81026208e-07, -1.81026208e-07,  7.93239433e-08,\n",
       "         7.89372819e-07,  1.41861827e-06,  1.66364141e-06,\n",
       "         1.34294541e-06,  7.02978862e-07, -1.03489386e-08,\n",
       "        -4.26399654e-07, -4.83075724e-07, -1.88922223e-07,\n",
       "         1.24174947e-07,  2.42049501e-07, -4.69458961e-08],\n",
       "       [ 3.36662149e-07, -3.36662149e-07, -1.95094821e-07,\n",
       "         5.55189983e-07,  1.29943200e-06,  1.70196880e-06,\n",
       "         1.62923706e-06,  1.44754511e-06,  1.45631724e-06,\n",
       "         1.92317578e-06,  2.62283584e-06,  3.24069727e-06,\n",
       "         3.30061896e-06,  2.74683267e-06,  1.73872689e-06],\n",
       "       [ 1.60795400e-07, -1.60795400e-07, -1.95697416e-07,\n",
       "         2.13312957e-07,  9.92021358e-07,  2.12427705e-06,\n",
       "         3.38370395e-06,  4.66793030e-06,  5.71664077e-06,\n",
       "         6.42779512e-06,  6.60355984e-06,  6.31213480e-06,\n",
       "         5.62462759e-06,  4.88101379e-06,  4.30034566e-06],\n",
       "       [ 5.87202987e-07, -5.87202987e-07, -1.15864650e-06,\n",
       "        -1.14857152e-06, -8.12224626e-07, -2.98465200e-07,\n",
       "         2.99998756e-07,  1.10680102e-06,  2.15888186e-06,\n",
       "         3.41470011e-06,  4.51993943e-06,  5.08278372e-06,\n",
       "         4.73891522e-06,  3.54314410e-06,  1.85544419e-06],\n",
       "       [ 1.12311690e-07, -1.12311690e-07, -3.15894929e-07,\n",
       "        -4.82536376e-07, -4.54728318e-07,  1.05434853e-07,\n",
       "         1.35702622e-06,  3.24433118e-06,  5.29035038e-06,\n",
       "         6.88765282e-06,  7.42486191e-06,  6.71285097e-06,\n",
       "         4.94781120e-06,  2.75770372e-06,  7.89937693e-07],\n",
       "       [ 8.34335218e-09, -8.34335218e-09, -1.00597034e-07,\n",
       "        -2.76072332e-07, -5.65640496e-07, -1.05613987e-06,\n",
       "        -1.73224215e-06, -2.51293325e-06, -3.19548543e-06,\n",
       "        -3.63077585e-06, -3.74243745e-06, -3.64856509e-06,\n",
       "        -3.52802553e-06, -3.59641582e-06, -3.93442648e-06],\n",
       "       [ 6.91419663e-07, -6.91419663e-07, -1.85063151e-06,\n",
       "        -2.46097409e-06, -2.39834568e-06, -1.58397822e-06,\n",
       "        -1.78800720e-07,  1.66992700e-06,  3.65543038e-06,\n",
       "         5.51908906e-06,  6.85204211e-06,  7.36190586e-06,\n",
       "         6.78702899e-06,  5.22328528e-06,  2.96015483e-06]])"
      ]
     },
     "execution_count": 27,
     "metadata": {},
     "output_type": "execute_result"
    }
   ],
   "source": [
    "target_right_hbo"
   ]
  },
  {
   "cell_type": "code",
   "execution_count": null,
   "id": "3b175af2",
   "metadata": {},
   "outputs": [],
   "source": []
  }
 ],
 "metadata": {
  "kernelspec": {
   "display_name": "Python 3 (ipykernel)",
   "language": "python",
   "name": "python3"
  },
  "language_info": {
   "codemirror_mode": {
    "name": "ipython",
    "version": 3
   },
   "file_extension": ".py",
   "mimetype": "text/x-python",
   "name": "python",
   "nbconvert_exporter": "python",
   "pygments_lexer": "ipython3",
   "version": "3.8.14"
  }
 },
 "nbformat": 4,
 "nbformat_minor": 5
}
