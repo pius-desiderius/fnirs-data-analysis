{
 "cells": [
  {
   "cell_type": "code",
   "execution_count": 2,
   "id": "a0ecafa7",
   "metadata": {},
   "outputs": [],
   "source": [
    "import os.path as op\n",
    "import matplotlib.pyplot as plt\n",
    "from itertools import compress\n",
    "import time\n",
    "import logging\n",
    "import mne\n",
    "from mne import events_from_annotations\n",
    "from collections import OrderedDict\n",
    "\n",
    "from ROI import different_roi\n",
    "from functions_fnirs import *\n",
    "from meta import *\n",
    "from file_scanning import *\n",
    "# from topomaps import topomaps_plotter\n",
    "\n",
    "start = time.time()\n",
    "logging.basicConfig(filename=\"log_.txt\", format=\"%(asctime)s %(message)s\", filemode=\"w\", level=logging.INFO)\n",
    "\n",
    "splitting_slash = '/'\n",
    "fnirs_dir = r\"/mnt/diskus/fNIRS data ME_MI_TS_TI_SA\"\n",
    "subfolders = fast_scandir(fnirs_dir)\n",
    "subj_names = sorted([(i.split('\\\\')[-1]) for i in subfolders if len(i.split(splitting_slash)[-1])==2])\n",
    "recordings_names = sorted([i for i in subfolders if len(i.split(splitting_slash)[-1])!=2])"
   ]
  },
  {
   "cell_type": "code",
   "execution_count": 2,
   "id": "dee5891e",
   "metadata": {},
   "outputs": [
    {
     "ename": "ValueError",
     "evalue": "data mapping points must start with x=0 and end with x=1",
     "output_type": "error",
     "traceback": [
      "\u001b[0;31m---------------------------------------------------------------------------\u001b[0m",
      "\u001b[0;31mValueError\u001b[0m                                Traceback (most recent call last)",
      "File \u001b[0;32m~/.cache/pypoetry/virtualenvs/fnirs-pEil43oO-py3.8/lib/python3.8/site-packages/IPython/core/formatters.py:342\u001b[0m, in \u001b[0;36mBaseFormatter.__call__\u001b[0;34m(self, obj)\u001b[0m\n\u001b[1;32m    340\u001b[0m     method \u001b[38;5;241m=\u001b[39m get_real_method(obj, \u001b[38;5;28mself\u001b[39m\u001b[38;5;241m.\u001b[39mprint_method)\n\u001b[1;32m    341\u001b[0m     \u001b[38;5;28;01mif\u001b[39;00m method \u001b[38;5;129;01mis\u001b[39;00m \u001b[38;5;129;01mnot\u001b[39;00m \u001b[38;5;28;01mNone\u001b[39;00m:\n\u001b[0;32m--> 342\u001b[0m         \u001b[38;5;28;01mreturn\u001b[39;00m \u001b[43mmethod\u001b[49m\u001b[43m(\u001b[49m\u001b[43m)\u001b[49m\n\u001b[1;32m    343\u001b[0m     \u001b[38;5;28;01mreturn\u001b[39;00m \u001b[38;5;28;01mNone\u001b[39;00m\n\u001b[1;32m    344\u001b[0m \u001b[38;5;28;01melse\u001b[39;00m:\n",
      "File \u001b[0;32m~/.cache/pypoetry/virtualenvs/fnirs-pEil43oO-py3.8/lib/python3.8/site-packages/matplotlib/colors.py:910\u001b[0m, in \u001b[0;36mColormap._repr_html_\u001b[0;34m(self)\u001b[0m\n\u001b[1;32m    908\u001b[0m \u001b[38;5;28;01mdef\u001b[39;00m \u001b[38;5;21m_repr_html_\u001b[39m(\u001b[38;5;28mself\u001b[39m):\n\u001b[1;32m    909\u001b[0m     \u001b[38;5;124;03m\"\"\"Generate an HTML representation of the Colormap.\"\"\"\u001b[39;00m\n\u001b[0;32m--> 910\u001b[0m     png_bytes \u001b[38;5;241m=\u001b[39m \u001b[38;5;28;43mself\u001b[39;49m\u001b[38;5;241;43m.\u001b[39;49m\u001b[43m_repr_png_\u001b[49m\u001b[43m(\u001b[49m\u001b[43m)\u001b[49m\n\u001b[1;32m    911\u001b[0m     png_base64 \u001b[38;5;241m=\u001b[39m base64\u001b[38;5;241m.\u001b[39mb64encode(png_bytes)\u001b[38;5;241m.\u001b[39mdecode(\u001b[38;5;124m'\u001b[39m\u001b[38;5;124mascii\u001b[39m\u001b[38;5;124m'\u001b[39m)\n\u001b[1;32m    912\u001b[0m     \u001b[38;5;28;01mdef\u001b[39;00m \u001b[38;5;21mcolor_block\u001b[39m(color):\n",
      "File \u001b[0;32m~/.cache/pypoetry/virtualenvs/fnirs-pEil43oO-py3.8/lib/python3.8/site-packages/matplotlib/colors.py:896\u001b[0m, in \u001b[0;36mColormap._repr_png_\u001b[0;34m(self)\u001b[0m\n\u001b[1;32m    893\u001b[0m \u001b[38;5;124;03m\"\"\"Generate a PNG representation of the Colormap.\"\"\"\u001b[39;00m\n\u001b[1;32m    894\u001b[0m X \u001b[38;5;241m=\u001b[39m np\u001b[38;5;241m.\u001b[39mtile(np\u001b[38;5;241m.\u001b[39mlinspace(\u001b[38;5;241m0\u001b[39m, \u001b[38;5;241m1\u001b[39m, _REPR_PNG_SIZE[\u001b[38;5;241m0\u001b[39m]),\n\u001b[1;32m    895\u001b[0m             (_REPR_PNG_SIZE[\u001b[38;5;241m1\u001b[39m], \u001b[38;5;241m1\u001b[39m))\n\u001b[0;32m--> 896\u001b[0m pixels \u001b[38;5;241m=\u001b[39m \u001b[38;5;28;43mself\u001b[39;49m\u001b[43m(\u001b[49m\u001b[43mX\u001b[49m\u001b[43m,\u001b[49m\u001b[43m \u001b[49m\u001b[38;5;28;43mbytes\u001b[39;49m\u001b[38;5;241;43m=\u001b[39;49m\u001b[38;5;28;43;01mTrue\u001b[39;49;00m\u001b[43m)\u001b[49m\n\u001b[1;32m    897\u001b[0m png_bytes \u001b[38;5;241m=\u001b[39m io\u001b[38;5;241m.\u001b[39mBytesIO()\n\u001b[1;32m    898\u001b[0m title \u001b[38;5;241m=\u001b[39m \u001b[38;5;28mself\u001b[39m\u001b[38;5;241m.\u001b[39mname \u001b[38;5;241m+\u001b[39m \u001b[38;5;124m'\u001b[39m\u001b[38;5;124m colormap\u001b[39m\u001b[38;5;124m'\u001b[39m\n",
      "File \u001b[0;32m~/.cache/pypoetry/virtualenvs/fnirs-pEil43oO-py3.8/lib/python3.8/site-packages/matplotlib/colors.py:707\u001b[0m, in \u001b[0;36mColormap.__call__\u001b[0;34m(self, X, alpha, bytes)\u001b[0m\n\u001b[1;32m    684\u001b[0m \u001b[38;5;124;03m\"\"\"\u001b[39;00m\n\u001b[1;32m    685\u001b[0m \u001b[38;5;124;03mParameters\u001b[39;00m\n\u001b[1;32m    686\u001b[0m \u001b[38;5;124;03m----------\u001b[39;00m\n\u001b[0;32m   (...)\u001b[0m\n\u001b[1;32m    704\u001b[0m \u001b[38;5;124;03mRGBA values with a shape of ``X.shape + (4, )``.\u001b[39;00m\n\u001b[1;32m    705\u001b[0m \u001b[38;5;124;03m\"\"\"\u001b[39;00m\n\u001b[1;32m    706\u001b[0m \u001b[38;5;28;01mif\u001b[39;00m \u001b[38;5;129;01mnot\u001b[39;00m \u001b[38;5;28mself\u001b[39m\u001b[38;5;241m.\u001b[39m_isinit:\n\u001b[0;32m--> 707\u001b[0m     \u001b[38;5;28;43mself\u001b[39;49m\u001b[38;5;241;43m.\u001b[39;49m\u001b[43m_init\u001b[49m\u001b[43m(\u001b[49m\u001b[43m)\u001b[49m\n\u001b[1;32m    709\u001b[0m \u001b[38;5;66;03m# Take the bad mask from a masked array, or in all other cases defer\u001b[39;00m\n\u001b[1;32m    710\u001b[0m \u001b[38;5;66;03m# np.isnan() to after we have converted to an array.\u001b[39;00m\n\u001b[1;32m    711\u001b[0m mask_bad \u001b[38;5;241m=\u001b[39m X\u001b[38;5;241m.\u001b[39mmask \u001b[38;5;28;01mif\u001b[39;00m np\u001b[38;5;241m.\u001b[39mma\u001b[38;5;241m.\u001b[39mis_masked(X) \u001b[38;5;28;01melse\u001b[39;00m \u001b[38;5;28;01mNone\u001b[39;00m\n",
      "File \u001b[0;32m~/.cache/pypoetry/virtualenvs/fnirs-pEil43oO-py3.8/lib/python3.8/site-packages/matplotlib/colors.py:1009\u001b[0m, in \u001b[0;36mLinearSegmentedColormap._init\u001b[0;34m(self)\u001b[0m\n\u001b[1;32m   1007\u001b[0m \u001b[38;5;28;01mdef\u001b[39;00m \u001b[38;5;21m_init\u001b[39m(\u001b[38;5;28mself\u001b[39m):\n\u001b[1;32m   1008\u001b[0m     \u001b[38;5;28mself\u001b[39m\u001b[38;5;241m.\u001b[39m_lut \u001b[38;5;241m=\u001b[39m np\u001b[38;5;241m.\u001b[39mones((\u001b[38;5;28mself\u001b[39m\u001b[38;5;241m.\u001b[39mN \u001b[38;5;241m+\u001b[39m \u001b[38;5;241m3\u001b[39m, \u001b[38;5;241m4\u001b[39m), \u001b[38;5;28mfloat\u001b[39m)\n\u001b[0;32m-> 1009\u001b[0m     \u001b[38;5;28mself\u001b[39m\u001b[38;5;241m.\u001b[39m_lut[:\u001b[38;5;241m-\u001b[39m\u001b[38;5;241m3\u001b[39m, \u001b[38;5;241m0\u001b[39m] \u001b[38;5;241m=\u001b[39m \u001b[43m_create_lookup_table\u001b[49m\u001b[43m(\u001b[49m\n\u001b[1;32m   1010\u001b[0m \u001b[43m        \u001b[49m\u001b[38;5;28;43mself\u001b[39;49m\u001b[38;5;241;43m.\u001b[39;49m\u001b[43mN\u001b[49m\u001b[43m,\u001b[49m\u001b[43m \u001b[49m\u001b[38;5;28;43mself\u001b[39;49m\u001b[38;5;241;43m.\u001b[39;49m\u001b[43m_segmentdata\u001b[49m\u001b[43m[\u001b[49m\u001b[38;5;124;43m'\u001b[39;49m\u001b[38;5;124;43mred\u001b[39;49m\u001b[38;5;124;43m'\u001b[39;49m\u001b[43m]\u001b[49m\u001b[43m,\u001b[49m\u001b[43m \u001b[49m\u001b[38;5;28;43mself\u001b[39;49m\u001b[38;5;241;43m.\u001b[39;49m\u001b[43m_gamma\u001b[49m\u001b[43m)\u001b[49m\n\u001b[1;32m   1011\u001b[0m     \u001b[38;5;28mself\u001b[39m\u001b[38;5;241m.\u001b[39m_lut[:\u001b[38;5;241m-\u001b[39m\u001b[38;5;241m3\u001b[39m, \u001b[38;5;241m1\u001b[39m] \u001b[38;5;241m=\u001b[39m _create_lookup_table(\n\u001b[1;32m   1012\u001b[0m         \u001b[38;5;28mself\u001b[39m\u001b[38;5;241m.\u001b[39mN, \u001b[38;5;28mself\u001b[39m\u001b[38;5;241m.\u001b[39m_segmentdata[\u001b[38;5;124m'\u001b[39m\u001b[38;5;124mgreen\u001b[39m\u001b[38;5;124m'\u001b[39m], \u001b[38;5;28mself\u001b[39m\u001b[38;5;241m.\u001b[39m_gamma)\n\u001b[1;32m   1013\u001b[0m     \u001b[38;5;28mself\u001b[39m\u001b[38;5;241m.\u001b[39m_lut[:\u001b[38;5;241m-\u001b[39m\u001b[38;5;241m3\u001b[39m, \u001b[38;5;241m2\u001b[39m] \u001b[38;5;241m=\u001b[39m _create_lookup_table(\n\u001b[1;32m   1014\u001b[0m         \u001b[38;5;28mself\u001b[39m\u001b[38;5;241m.\u001b[39mN, \u001b[38;5;28mself\u001b[39m\u001b[38;5;241m.\u001b[39m_segmentdata[\u001b[38;5;124m'\u001b[39m\u001b[38;5;124mblue\u001b[39m\u001b[38;5;124m'\u001b[39m], \u001b[38;5;28mself\u001b[39m\u001b[38;5;241m.\u001b[39m_gamma)\n",
      "File \u001b[0;32m~/.cache/pypoetry/virtualenvs/fnirs-pEil43oO-py3.8/lib/python3.8/site-packages/matplotlib/colors.py:624\u001b[0m, in \u001b[0;36m_create_lookup_table\u001b[0;34m(N, data, gamma)\u001b[0m\n\u001b[1;32m    621\u001b[0m y1 \u001b[38;5;241m=\u001b[39m adata[:, \u001b[38;5;241m2\u001b[39m]\n\u001b[1;32m    623\u001b[0m \u001b[38;5;28;01mif\u001b[39;00m x[\u001b[38;5;241m0\u001b[39m] \u001b[38;5;241m!=\u001b[39m \u001b[38;5;241m0.\u001b[39m \u001b[38;5;129;01mor\u001b[39;00m x[\u001b[38;5;241m-\u001b[39m\u001b[38;5;241m1\u001b[39m] \u001b[38;5;241m!=\u001b[39m \u001b[38;5;241m1.0\u001b[39m:\n\u001b[0;32m--> 624\u001b[0m     \u001b[38;5;28;01mraise\u001b[39;00m \u001b[38;5;167;01mValueError\u001b[39;00m(\n\u001b[1;32m    625\u001b[0m         \u001b[38;5;124m\"\u001b[39m\u001b[38;5;124mdata mapping points must start with x=0 and end with x=1\u001b[39m\u001b[38;5;124m\"\u001b[39m)\n\u001b[1;32m    626\u001b[0m \u001b[38;5;28;01mif\u001b[39;00m (np\u001b[38;5;241m.\u001b[39mdiff(x) \u001b[38;5;241m<\u001b[39m \u001b[38;5;241m0\u001b[39m)\u001b[38;5;241m.\u001b[39many():\n\u001b[1;32m    627\u001b[0m     \u001b[38;5;28;01mraise\u001b[39;00m \u001b[38;5;167;01mValueError\u001b[39;00m(\u001b[38;5;124m\"\u001b[39m\u001b[38;5;124mdata mapping points must have x in increasing order\u001b[39m\u001b[38;5;124m\"\u001b[39m)\n",
      "\u001b[0;31mValueError\u001b[0m: data mapping points must start with x=0 and end with x=1"
     ]
    },
    {
     "ename": "ValueError",
     "evalue": "data mapping points must start with x=0 and end with x=1",
     "output_type": "error",
     "traceback": [
      "\u001b[0;31m---------------------------------------------------------------------------\u001b[0m",
      "\u001b[0;31mValueError\u001b[0m                                Traceback (most recent call last)",
      "File \u001b[0;32m~/.cache/pypoetry/virtualenvs/fnirs-pEil43oO-py3.8/lib/python3.8/site-packages/IPython/core/formatters.py:342\u001b[0m, in \u001b[0;36mBaseFormatter.__call__\u001b[0;34m(self, obj)\u001b[0m\n\u001b[1;32m    340\u001b[0m     method \u001b[38;5;241m=\u001b[39m get_real_method(obj, \u001b[38;5;28mself\u001b[39m\u001b[38;5;241m.\u001b[39mprint_method)\n\u001b[1;32m    341\u001b[0m     \u001b[38;5;28;01mif\u001b[39;00m method \u001b[38;5;129;01mis\u001b[39;00m \u001b[38;5;129;01mnot\u001b[39;00m \u001b[38;5;28;01mNone\u001b[39;00m:\n\u001b[0;32m--> 342\u001b[0m         \u001b[38;5;28;01mreturn\u001b[39;00m \u001b[43mmethod\u001b[49m\u001b[43m(\u001b[49m\u001b[43m)\u001b[49m\n\u001b[1;32m    343\u001b[0m     \u001b[38;5;28;01mreturn\u001b[39;00m \u001b[38;5;28;01mNone\u001b[39;00m\n\u001b[1;32m    344\u001b[0m \u001b[38;5;28;01melse\u001b[39;00m:\n",
      "File \u001b[0;32m~/.cache/pypoetry/virtualenvs/fnirs-pEil43oO-py3.8/lib/python3.8/site-packages/matplotlib/colors.py:896\u001b[0m, in \u001b[0;36mColormap._repr_png_\u001b[0;34m(self)\u001b[0m\n\u001b[1;32m    893\u001b[0m \u001b[38;5;124;03m\"\"\"Generate a PNG representation of the Colormap.\"\"\"\u001b[39;00m\n\u001b[1;32m    894\u001b[0m X \u001b[38;5;241m=\u001b[39m np\u001b[38;5;241m.\u001b[39mtile(np\u001b[38;5;241m.\u001b[39mlinspace(\u001b[38;5;241m0\u001b[39m, \u001b[38;5;241m1\u001b[39m, _REPR_PNG_SIZE[\u001b[38;5;241m0\u001b[39m]),\n\u001b[1;32m    895\u001b[0m             (_REPR_PNG_SIZE[\u001b[38;5;241m1\u001b[39m], \u001b[38;5;241m1\u001b[39m))\n\u001b[0;32m--> 896\u001b[0m pixels \u001b[38;5;241m=\u001b[39m \u001b[38;5;28;43mself\u001b[39;49m\u001b[43m(\u001b[49m\u001b[43mX\u001b[49m\u001b[43m,\u001b[49m\u001b[43m \u001b[49m\u001b[38;5;28;43mbytes\u001b[39;49m\u001b[38;5;241;43m=\u001b[39;49m\u001b[38;5;28;43;01mTrue\u001b[39;49;00m\u001b[43m)\u001b[49m\n\u001b[1;32m    897\u001b[0m png_bytes \u001b[38;5;241m=\u001b[39m io\u001b[38;5;241m.\u001b[39mBytesIO()\n\u001b[1;32m    898\u001b[0m title \u001b[38;5;241m=\u001b[39m \u001b[38;5;28mself\u001b[39m\u001b[38;5;241m.\u001b[39mname \u001b[38;5;241m+\u001b[39m \u001b[38;5;124m'\u001b[39m\u001b[38;5;124m colormap\u001b[39m\u001b[38;5;124m'\u001b[39m\n",
      "File \u001b[0;32m~/.cache/pypoetry/virtualenvs/fnirs-pEil43oO-py3.8/lib/python3.8/site-packages/matplotlib/colors.py:707\u001b[0m, in \u001b[0;36mColormap.__call__\u001b[0;34m(self, X, alpha, bytes)\u001b[0m\n\u001b[1;32m    684\u001b[0m \u001b[38;5;124;03m\"\"\"\u001b[39;00m\n\u001b[1;32m    685\u001b[0m \u001b[38;5;124;03mParameters\u001b[39;00m\n\u001b[1;32m    686\u001b[0m \u001b[38;5;124;03m----------\u001b[39;00m\n\u001b[0;32m   (...)\u001b[0m\n\u001b[1;32m    704\u001b[0m \u001b[38;5;124;03mRGBA values with a shape of ``X.shape + (4, )``.\u001b[39;00m\n\u001b[1;32m    705\u001b[0m \u001b[38;5;124;03m\"\"\"\u001b[39;00m\n\u001b[1;32m    706\u001b[0m \u001b[38;5;28;01mif\u001b[39;00m \u001b[38;5;129;01mnot\u001b[39;00m \u001b[38;5;28mself\u001b[39m\u001b[38;5;241m.\u001b[39m_isinit:\n\u001b[0;32m--> 707\u001b[0m     \u001b[38;5;28;43mself\u001b[39;49m\u001b[38;5;241;43m.\u001b[39;49m\u001b[43m_init\u001b[49m\u001b[43m(\u001b[49m\u001b[43m)\u001b[49m\n\u001b[1;32m    709\u001b[0m \u001b[38;5;66;03m# Take the bad mask from a masked array, or in all other cases defer\u001b[39;00m\n\u001b[1;32m    710\u001b[0m \u001b[38;5;66;03m# np.isnan() to after we have converted to an array.\u001b[39;00m\n\u001b[1;32m    711\u001b[0m mask_bad \u001b[38;5;241m=\u001b[39m X\u001b[38;5;241m.\u001b[39mmask \u001b[38;5;28;01mif\u001b[39;00m np\u001b[38;5;241m.\u001b[39mma\u001b[38;5;241m.\u001b[39mis_masked(X) \u001b[38;5;28;01melse\u001b[39;00m \u001b[38;5;28;01mNone\u001b[39;00m\n",
      "File \u001b[0;32m~/.cache/pypoetry/virtualenvs/fnirs-pEil43oO-py3.8/lib/python3.8/site-packages/matplotlib/colors.py:1009\u001b[0m, in \u001b[0;36mLinearSegmentedColormap._init\u001b[0;34m(self)\u001b[0m\n\u001b[1;32m   1007\u001b[0m \u001b[38;5;28;01mdef\u001b[39;00m \u001b[38;5;21m_init\u001b[39m(\u001b[38;5;28mself\u001b[39m):\n\u001b[1;32m   1008\u001b[0m     \u001b[38;5;28mself\u001b[39m\u001b[38;5;241m.\u001b[39m_lut \u001b[38;5;241m=\u001b[39m np\u001b[38;5;241m.\u001b[39mones((\u001b[38;5;28mself\u001b[39m\u001b[38;5;241m.\u001b[39mN \u001b[38;5;241m+\u001b[39m \u001b[38;5;241m3\u001b[39m, \u001b[38;5;241m4\u001b[39m), \u001b[38;5;28mfloat\u001b[39m)\n\u001b[0;32m-> 1009\u001b[0m     \u001b[38;5;28mself\u001b[39m\u001b[38;5;241m.\u001b[39m_lut[:\u001b[38;5;241m-\u001b[39m\u001b[38;5;241m3\u001b[39m, \u001b[38;5;241m0\u001b[39m] \u001b[38;5;241m=\u001b[39m \u001b[43m_create_lookup_table\u001b[49m\u001b[43m(\u001b[49m\n\u001b[1;32m   1010\u001b[0m \u001b[43m        \u001b[49m\u001b[38;5;28;43mself\u001b[39;49m\u001b[38;5;241;43m.\u001b[39;49m\u001b[43mN\u001b[49m\u001b[43m,\u001b[49m\u001b[43m \u001b[49m\u001b[38;5;28;43mself\u001b[39;49m\u001b[38;5;241;43m.\u001b[39;49m\u001b[43m_segmentdata\u001b[49m\u001b[43m[\u001b[49m\u001b[38;5;124;43m'\u001b[39;49m\u001b[38;5;124;43mred\u001b[39;49m\u001b[38;5;124;43m'\u001b[39;49m\u001b[43m]\u001b[49m\u001b[43m,\u001b[49m\u001b[43m \u001b[49m\u001b[38;5;28;43mself\u001b[39;49m\u001b[38;5;241;43m.\u001b[39;49m\u001b[43m_gamma\u001b[49m\u001b[43m)\u001b[49m\n\u001b[1;32m   1011\u001b[0m     \u001b[38;5;28mself\u001b[39m\u001b[38;5;241m.\u001b[39m_lut[:\u001b[38;5;241m-\u001b[39m\u001b[38;5;241m3\u001b[39m, \u001b[38;5;241m1\u001b[39m] \u001b[38;5;241m=\u001b[39m _create_lookup_table(\n\u001b[1;32m   1012\u001b[0m         \u001b[38;5;28mself\u001b[39m\u001b[38;5;241m.\u001b[39mN, \u001b[38;5;28mself\u001b[39m\u001b[38;5;241m.\u001b[39m_segmentdata[\u001b[38;5;124m'\u001b[39m\u001b[38;5;124mgreen\u001b[39m\u001b[38;5;124m'\u001b[39m], \u001b[38;5;28mself\u001b[39m\u001b[38;5;241m.\u001b[39m_gamma)\n\u001b[1;32m   1013\u001b[0m     \u001b[38;5;28mself\u001b[39m\u001b[38;5;241m.\u001b[39m_lut[:\u001b[38;5;241m-\u001b[39m\u001b[38;5;241m3\u001b[39m, \u001b[38;5;241m2\u001b[39m] \u001b[38;5;241m=\u001b[39m _create_lookup_table(\n\u001b[1;32m   1014\u001b[0m         \u001b[38;5;28mself\u001b[39m\u001b[38;5;241m.\u001b[39mN, \u001b[38;5;28mself\u001b[39m\u001b[38;5;241m.\u001b[39m_segmentdata[\u001b[38;5;124m'\u001b[39m\u001b[38;5;124mblue\u001b[39m\u001b[38;5;124m'\u001b[39m], \u001b[38;5;28mself\u001b[39m\u001b[38;5;241m.\u001b[39m_gamma)\n",
      "File \u001b[0;32m~/.cache/pypoetry/virtualenvs/fnirs-pEil43oO-py3.8/lib/python3.8/site-packages/matplotlib/colors.py:624\u001b[0m, in \u001b[0;36m_create_lookup_table\u001b[0;34m(N, data, gamma)\u001b[0m\n\u001b[1;32m    621\u001b[0m y1 \u001b[38;5;241m=\u001b[39m adata[:, \u001b[38;5;241m2\u001b[39m]\n\u001b[1;32m    623\u001b[0m \u001b[38;5;28;01mif\u001b[39;00m x[\u001b[38;5;241m0\u001b[39m] \u001b[38;5;241m!=\u001b[39m \u001b[38;5;241m0.\u001b[39m \u001b[38;5;129;01mor\u001b[39;00m x[\u001b[38;5;241m-\u001b[39m\u001b[38;5;241m1\u001b[39m] \u001b[38;5;241m!=\u001b[39m \u001b[38;5;241m1.0\u001b[39m:\n\u001b[0;32m--> 624\u001b[0m     \u001b[38;5;28;01mraise\u001b[39;00m \u001b[38;5;167;01mValueError\u001b[39;00m(\n\u001b[1;32m    625\u001b[0m         \u001b[38;5;124m\"\u001b[39m\u001b[38;5;124mdata mapping points must start with x=0 and end with x=1\u001b[39m\u001b[38;5;124m\"\u001b[39m)\n\u001b[1;32m    626\u001b[0m \u001b[38;5;28;01mif\u001b[39;00m (np\u001b[38;5;241m.\u001b[39mdiff(x) \u001b[38;5;241m<\u001b[39m \u001b[38;5;241m0\u001b[39m)\u001b[38;5;241m.\u001b[39many():\n\u001b[1;32m    627\u001b[0m     \u001b[38;5;28;01mraise\u001b[39;00m \u001b[38;5;167;01mValueError\u001b[39;00m(\u001b[38;5;124m\"\u001b[39m\u001b[38;5;124mdata mapping points must have x in increasing order\u001b[39m\u001b[38;5;124m\"\u001b[39m)\n",
      "\u001b[0;31mValueError\u001b[0m: data mapping points must start with x=0 and end with x=1"
     ]
    },
    {
     "data": {
      "text/plain": [
       "<matplotlib.colors.LinearSegmentedColormap at 0x7f58723ff730>"
      ]
     },
     "execution_count": 2,
     "metadata": {},
     "output_type": "execute_result"
    }
   ],
   "source": [
    "from matplotlib.colors import LinearSegmentedColormap\n",
    "fnirs_colors = dict(\n",
    "#     hbo='#C91111',\n",
    "#     hbt= '#5B324B',\n",
    "#     hbr='#004E7C',\n",
    "    \n",
    "    hbo='#C91111',\n",
    "    hbt= '#A4C210',\n",
    "    hbr='#135181',\n",
    "  )\n",
    "color_list = [(0, fnirs_colors['hbr']), (0.5, 'hbt'), (1, fnirs_colors['hbo'])]\n",
    "\n",
    "custom_cmap = LinearSegmentedColormap.from_list('Custom_cmap', list(fnirs_colors.items()), )\n",
    "custom_cmap"
   ]
  },
  {
   "cell_type": "code",
   "execution_count": 47,
   "id": "309337a9",
   "metadata": {},
   "outputs": [],
   "source": [
    "rec_1_fnirs = '/mnt/diskus/fNIRS data ME_MI_TS_TI_SA/MM/MM_TS'\n",
    "rec_2_fnirs = '/mnt/diskus/fNIRS data ME_MI_TS_TI_SA/OK/OK_TS'\n",
    "\n",
    "rec_1_eeg = '/mnt/diskus/EEG data ME_MI_TS_TI_SA/MM_04_10/MM_TS_right_hand.vhdr'\n",
    "rec_2_eeg = '/mnt/diskus/EEG data ME_MI_TS_TI_SA/OK_17_07/OK_TS_right hand.vhdr'\n",
    "\n",
    "# rec_1_fnirs = mne.io.read_raw_nirx(rec_1_fnirs)\n",
    "# rec_2_fnirs = mne.io.read_raw_nirx(rec_2_fnirs)\n",
    "\n",
    "# rec_1_eeg = mne.io.read_raw_brainvision(rec_1_eeg)\n",
    "# rec_2_eeg = mne.io.read_raw_brainvision(rec_2_eeg)"
   ]
  },
  {
   "cell_type": "code",
   "execution_count": 50,
   "id": "73318a84",
   "metadata": {},
   "outputs": [],
   "source": [
    "def preproc_eeg(raw_path):\n",
    "    raw = mne.io.read_raw_brainvision(raw_path,  preload=True)\n",
    "\n",
    "# raw_1 = mne.io.read_raw_brainvision(r'subj06_TI_rf_01.vhdr',  preload=True)\n",
    "# raw_2 = mne.io.read_raw_brainvision(r'subj06_TI_rf_02.vhdr',  preload=True)\n",
    "# raw = mne.concatenate_raws([raw_1, raw_2], preload = True)\n",
    "\n",
    "    def removekey(d, key):\n",
    "        r = dict(d)\n",
    "        del r[key]\n",
    "        return r\n",
    "\n",
    "    ###PREPROCESSING\n",
    "    mne.set_eeg_reference(raw)\n",
    "    raw.filter(0.1, 30, fir_design='firwin', skip_by_annotation='edge')\n",
    "    events, ids = mne.events_from_annotations(raw)\n",
    "    \n",
    "    events_to_exclude = [99999, 12, 1003]\n",
    "    events = mne.pick_events(events, exclude=events_to_exclude)\n",
    "\n",
    "\n",
    "    try:\n",
    "        ids = removekey(ids, 'New Segment/')\n",
    "    except KeyError:\n",
    "        pass\n",
    "\n",
    "    try:\n",
    "        ids = removekey(ids, 'Stimulus/S 12')\n",
    "    except KeyError:\n",
    "        pass \n",
    "    \n",
    "    try:\n",
    "        ids = removekey(ids, 'Response/R  3')\n",
    "    except KeyError:\n",
    "        pass \n",
    "    \n",
    "    ids['smr'] = ids.pop('Motor/M  1')\n",
    "    ids['rest'] = ids.pop('Rest/R  1')\n",
    "    \n",
    "    epochs = mne.Epochs(raw, events, event_id=ids, tmin=-1.0, tmax=5.0, baseline=(-1, 0), preload=True)\n",
    "    epochs.resample(500)\n",
    "    return epochs"
   ]
  },
  {
   "cell_type": "code",
   "execution_count": 84,
   "id": "a1090035",
   "metadata": {},
   "outputs": [
    {
     "name": "stdout",
     "output_type": "stream",
     "text": [
      "Extracting parameters from /mnt/diskus/EEG data ME_MI_TS_TI_SA/LJ_08_07/LJ_TS_right hand.vhdr...\n",
      "Setting channel info structure...\n",
      "Reading 0 ... 337879  =      0.000 ...   675.758 secs...\n"
     ]
    },
    {
     "name": "stderr",
     "output_type": "stream",
     "text": [
      "/tmp/ipykernel_11001/3328342659.py:2: RuntimeWarning: Online software filter detected. Using software filter settings and ignoring hardware values\n",
      "  raw = mne.io.read_raw_brainvision(raw_path,  preload=True)\n"
     ]
    },
    {
     "name": "stdout",
     "output_type": "stream",
     "text": [
      "EEG channel type selected for re-referencing\n",
      "Applying average reference.\n",
      "Applying a custom ('EEG',) reference.\n",
      "Filtering raw data in 1 contiguous segment\n",
      "Setting up band-pass filter from 0.1 - 30 Hz\n",
      "\n",
      "FIR filter parameters\n",
      "---------------------\n",
      "Designing a one-pass, zero-phase, non-causal bandpass filter:\n",
      "- Windowed time-domain design (firwin) method\n",
      "- Hamming window with 0.0194 passband ripple and 53 dB stopband attenuation\n",
      "- Lower passband edge: 0.10\n",
      "- Lower transition bandwidth: 0.10 Hz (-6 dB cutoff frequency: 0.05 Hz)\n",
      "- Upper passband edge: 30.00 Hz\n",
      "- Upper transition bandwidth: 7.50 Hz (-6 dB cutoff frequency: 33.75 Hz)\n",
      "- Filter length: 16501 samples (33.002 s)\n",
      "\n"
     ]
    },
    {
     "name": "stderr",
     "output_type": "stream",
     "text": [
      "[Parallel(n_jobs=1)]: Using backend SequentialBackend with 1 concurrent workers.\n",
      "[Parallel(n_jobs=1)]: Done   1 out of   1 | elapsed:    0.0s remaining:    0.0s\n",
      "[Parallel(n_jobs=1)]: Done   2 out of   2 | elapsed:    0.0s remaining:    0.0s\n",
      "[Parallel(n_jobs=1)]: Done   3 out of   3 | elapsed:    0.1s remaining:    0.0s\n",
      "[Parallel(n_jobs=1)]: Done   4 out of   4 | elapsed:    0.1s remaining:    0.0s\n"
     ]
    },
    {
     "name": "stdout",
     "output_type": "stream",
     "text": [
      "Used Annotations descriptions: ['Motor/M  1', 'New Segment/', 'Response/R  3', 'Rest/R  1']\n",
      "Not setting metadata\n",
      "40 matching events found\n",
      "Applying baseline correction (mode: mean)\n",
      "0 projection items activated\n",
      "Using data from preloaded Raw for 40 events and 3001 original time points ...\n",
      "0 bad epochs dropped\n",
      "Sampling frequency of the instance is already 500.0, returning unmodified.\n"
     ]
    },
    {
     "name": "stderr",
     "output_type": "stream",
     "text": [
      "[Parallel(n_jobs=1)]: Done  24 out of  24 | elapsed:    0.4s finished\n"
     ]
    }
   ],
   "source": [
    "raw_1 = preproc_eeg('/mnt/diskus/EEG data ME_MI_TS_TI_SA/LJ_08_07/LJ_TS_right hand.vhdr')"
   ]
  },
  {
   "cell_type": "code",
   "execution_count": 85,
   "id": "dcdc1c84",
   "metadata": {},
   "outputs": [],
   "source": [
    "import seaborn as sns"
   ]
  },
  {
   "cell_type": "code",
   "execution_count": 87,
   "id": "8cbd6ef1",
   "metadata": {},
   "outputs": [
    {
     "name": "stdout",
     "output_type": "stream",
     "text": [
      "    Using multitaper spectrum estimation with 7 DPSS windows\n"
     ]
    },
    {
     "name": "stderr",
     "output_type": "stream",
     "text": [
      "/tmp/ipykernel_11001/2724409073.py:2: FutureWarning: The current default of copy=False will change to copy=True in 1.7. Set the value of copy explicitly to avoid this warning\n",
      "  rst_full, ffreqs = mne.time_frequency.psd_array_multitaper(raw_1['rest'].get_data(), sfreq=500,\n"
     ]
    },
    {
     "name": "stdout",
     "output_type": "stream",
     "text": [
      "    Using multitaper spectrum estimation with 7 DPSS windows\n"
     ]
    },
    {
     "name": "stderr",
     "output_type": "stream",
     "text": [
      "/tmp/ipykernel_11001/2724409073.py:4: FutureWarning: The current default of copy=False will change to copy=True in 1.7. Set the value of copy explicitly to avoid this warning\n",
      "  ts_full, ffreqs = mne.time_frequency.psd_array_multitaper(raw_1['smr'].get_data(), sfreq=500,\n"
     ]
    },
    {
     "name": "stdout",
     "output_type": "stream",
     "text": [
      "Plotting on data from C3\n"
     ]
    }
   ],
   "source": [
    "###FULL SPECTRUM CALCULATION\n",
    "rst_full, ffreqs = mne.time_frequency.psd_array_multitaper(raw_1['rest'].get_data(), sfreq=500,\n",
    "                                                           fmin = 1, fmax = 30, normalization='full')\n",
    "ts_full, ffreqs = mne.time_frequency.psd_array_multitaper(raw_1['smr'].get_data(), sfreq=500,\n",
    "                                                          fmin = 1, fmax = 30, normalization='full')\n",
    "\n",
    "rst_full = 10 * np.log10(rst_full)  # convert to dB\n",
    "ts_full = 10 * np.log10(ts_full)\n",
    "\n",
    "###FULL SPECTRUM VIZUALIZATION\n",
    "sns.set_style('darkgrid')\n",
    "sns.set_context(\"notebook\", font_scale=1.1)\n",
    "\n",
    "if '_rh' or '_rf' in filename:\n",
    "    sns.lineplot(x=ffreqs, y=rst_full.mean(0)[raw_1.info.ch_names.index('C3')],color='black', label=\"покой\", linewidth=1.5)\n",
    "    sns.lineplot(x=ffreqs, y=ts_full.mean(0)[raw_1.info.ch_names.index('C3')], color='red', label='тактильная стимуляция', linewidth=1.5)\n",
    "    print('Plotting on data from C3')\n",
    "elif '_lh' or '_rf' in filename:\n",
    "    sns.lineplot(x=ffreqs, y=rst_full.mean(0)[raw_1.info.ch_names.index('C4')],color='black', label=\"покой\", linewidth=1.5)\n",
    "    sns.lineplot(x=ffreqs, y=ts_full.mean(0)[raw_1.info.ch_names.index('C4')], color='red', label='тактильная стимуляция', linewidth=1.5)\n",
    "    print('Plotting on data from C4')\n",
    "elif '_rl' or '_ll' in filename:\n",
    "    sns.lineplot(x=ffreqs, y=rst_full.mean(0)[raw_1.info.ch_names.index('Cz')],color='black', label=\"покой\", linewidth=1.5)\n",
    "    sns.lineplot(x=ffreqs, y=ts_full.mean(0)[raw_1.info.ch_names.index('Cz')], color='red', label='тактильная стимуляция', linewidth=1.5)\n",
    "    print('Plotting on data from Cz')"
   ]
  },
  {
   "cell_type": "code",
   "execution_count": 3,
   "id": "9fc7145c",
   "metadata": {},
   "outputs": [
    {
     "name": "stdout",
     "output_type": "stream",
     "text": [
      "/mnt/diskus/fNIRS data ME_MI_TS_TI_SA/AA/AA_ME\n",
      "Reading 0 ... 6704  =      0.000 ...   659.030 secs...\n"
     ]
    },
    {
     "name": "stderr",
     "output_type": "stream",
     "text": [
      "/mnt/diskus/fnirs-data-analysis-git/functions_fnirs.py:52: RuntimeWarning: filter_length (13429) is longer than the signal (6705), distortion is likely. Reduce filter length or filter a longer signal.\n",
      "  raw_haemo = raw_haemo.filter(**FILTER_DICT)\n"
     ]
    },
    {
     "name": "stdout",
     "output_type": "stream",
     "text": [
      "['S11_D20 hbr', 'S3_D8 hbo', 'S11_D8 hbo', 'S7_D8 hbo', 'S10_D19 hbo', 'S26_D29 hbo', 'S31_D27 hbr', 'S4_D9 hbr', 'S11_D8 hbr', 'S11_D20 hbo', 'S7_D14 hbr', 'S26_D29 hbr', 'S4_D9 hbo', 'S7_D8 hbr', 'S6_D10 hbr', 'S7_D14 hbo', 'S2_D7 hbo', 'S6_D6 hbo', 'S31_D27 hbo', 'S17_D24 hbr', 'S17_D24 hbo', 'S3_D8 hbr', 'S2_D7 hbr', 'S6_D10 hbo', 'S10_D19 hbr', 'S6_D6 hbr'] \n",
      " 26\n",
      "Interpolating bad channels\n",
      "    Automatic origin fit: head of radius 91.4 mm\n",
      "Used Annotations descriptions: ['1.0', '2.0', '33.0']\n",
      "M1\n",
      "Applying baseline correction (mode: mean)\n",
      "Applying baseline correction (mode: mean)\n",
      "Applying baseline correction (mode: mean)\n",
      "Applying baseline correction (mode: mean)\n",
      "Applying baseline correction (mode: mean)\n",
      "Applying baseline correction (mode: mean)\n",
      "Applying baseline correction (mode: mean)\n",
      "Applying baseline correction (mode: mean)\n",
      "Applying baseline correction (mode: mean)\n",
      "Applying baseline correction (mode: mean)\n",
      "Applying baseline correction (mode: mean)\n",
      "Applying baseline correction (mode: mean)\n",
      "Applying baseline correction (mode: mean)\n",
      "Applying baseline correction (mode: mean)\n",
      "Applying baseline correction (mode: mean)\n",
      "Applying baseline correction (mode: mean)\n",
      "combining channels using \"mean\"\n",
      "combining channels using \"mean\"\n",
      "combining channels using \"mean\"\n",
      "combining channels using \"mean\"\n",
      "combining channels using \"mean\"\n",
      "combining channels using \"mean\"\n",
      "combining channels using \"mean\"\n",
      "combining channels using \"mean\"\n"
     ]
    },
    {
     "name": "stderr",
     "output_type": "stream",
     "text": [
      "/tmp/ipykernel_25513/3047147362.py:210: DeprecationWarning: The truth value of an empty array is ambiguous. Returning False, but in future this will result in an error. Use `array.size > 0` to check that an array is not empty.\n",
      "  y_min = min(evoked_dict_left[f'{CONDITION}/HbO'].get_data().min(),\n",
      "/tmp/ipykernel_25513/3047147362.py:212: DeprecationWarning: The truth value of an empty array is ambiguous. Returning False, but in future this will result in an error. Use `array.size > 0` to check that an array is not empty.\n",
      "  y_max = max(evoked_dict_left[f'{CONDITION}/HbO'].get_data().max(),\n"
     ]
    },
    {
     "name": "stdout",
     "output_type": "stream",
     "text": [
      "combining channels using \"mean\"\n",
      "combining channels using \"mean\"\n",
      "combining channels using \"mean\"\n",
      "combining channels using \"mean\"\n",
      "combining channels using \"mean\"\n",
      "combining channels using \"mean\"\n",
      "combining channels using \"mean\"\n",
      "combining channels using \"mean\"\n",
      "combining channels using \"mean\"\n",
      "combining channels using \"mean\"\n",
      "combining channels using \"mean\"\n",
      "combining channels using \"mean\"\n",
      "combining channels using \"mean\"\n",
      "combining channels using \"mean\"\n",
      "combining channels using \"mean\"\n",
      "combining channels using \"mean\"\n",
      "S1\n",
      "Applying baseline correction (mode: mean)\n",
      "Applying baseline correction (mode: mean)\n",
      "Applying baseline correction (mode: mean)\n",
      "Applying baseline correction (mode: mean)\n",
      "Applying baseline correction (mode: mean)\n",
      "Applying baseline correction (mode: mean)\n",
      "Applying baseline correction (mode: mean)\n",
      "Applying baseline correction (mode: mean)\n",
      "Applying baseline correction (mode: mean)\n",
      "Applying baseline correction (mode: mean)\n",
      "Applying baseline correction (mode: mean)\n",
      "Applying baseline correction (mode: mean)\n",
      "Applying baseline correction (mode: mean)\n",
      "Applying baseline correction (mode: mean)\n",
      "Applying baseline correction (mode: mean)\n",
      "Applying baseline correction (mode: mean)\n",
      "combining channels using \"mean\"\n",
      "combining channels using \"mean\"\n",
      "combining channels using \"mean\"\n",
      "combining channels using \"mean\"\n",
      "combining channels using \"mean\"\n",
      "combining channels using \"mean\"\n",
      "combining channels using \"mean\"\n",
      "combining channels using \"mean\"\n",
      "combining channels using \"mean\"\n",
      "combining channels using \"mean\"\n",
      "combining channels using \"mean\"\n",
      "combining channels using \"mean\"\n",
      "combining channels using \"mean\"\n",
      "combining channels using \"mean\"\n",
      "combining channels using \"mean\"\n",
      "combining channels using \"mean\"\n",
      "combining channels using \"mean\"\n",
      "combining channels using \"mean\"\n",
      "combining channels using \"mean\"\n",
      "combining channels using \"mean\"\n",
      "combining channels using \"mean\"\n",
      "combining channels using \"mean\"\n",
      "combining channels using \"mean\"\n",
      "combining channels using \"mean\"\n",
      "SMZ\n",
      "Applying baseline correction (mode: mean)\n",
      "Applying baseline correction (mode: mean)\n",
      "Applying baseline correction (mode: mean)\n",
      "Applying baseline correction (mode: mean)\n",
      "Applying baseline correction (mode: mean)\n",
      "Applying baseline correction (mode: mean)\n",
      "Applying baseline correction (mode: mean)\n",
      "Applying baseline correction (mode: mean)\n",
      "Applying baseline correction (mode: mean)\n",
      "Applying baseline correction (mode: mean)\n",
      "Applying baseline correction (mode: mean)\n",
      "Applying baseline correction (mode: mean)\n",
      "Applying baseline correction (mode: mean)\n",
      "Applying baseline correction (mode: mean)\n",
      "Applying baseline correction (mode: mean)\n",
      "Applying baseline correction (mode: mean)\n",
      "combining channels using \"mean\"\n",
      "combining channels using \"mean\"\n",
      "combining channels using \"mean\"\n",
      "combining channels using \"mean\"\n",
      "combining channels using \"mean\"\n",
      "combining channels using \"mean\"\n",
      "combining channels using \"mean\"\n",
      "combining channels using \"mean\"\n",
      "combining channels using \"mean\"\n",
      "combining channels using \"mean\"\n",
      "combining channels using \"mean\"\n",
      "combining channels using \"mean\"\n",
      "combining channels using \"mean\"\n",
      "combining channels using \"mean\"\n",
      "combining channels using \"mean\"\n",
      "combining channels using \"mean\"\n",
      "combining channels using \"mean\"\n",
      "combining channels using \"mean\"\n",
      "combining channels using \"mean\"\n",
      "combining channels using \"mean\"\n",
      "combining channels using \"mean\"\n",
      "combining channels using \"mean\"\n",
      "combining channels using \"mean\"\n",
      "combining channels using \"mean\"\n",
      "/mnt/diskus/fNIRS data ME_MI_TS_TI_SA/AA/AA_MI\n",
      "Reading 0 ... 7525  =      0.000 ...   739.738 secs...\n"
     ]
    },
    {
     "name": "stderr",
     "output_type": "stream",
     "text": [
      "/mnt/diskus/fnirs-data-analysis-git/functions_fnirs.py:52: RuntimeWarning: filter_length (13429) is longer than the signal (7526), distortion is likely. Reduce filter length or filter a longer signal.\n",
      "  raw_haemo = raw_haemo.filter(**FILTER_DICT)\n"
     ]
    },
    {
     "name": "stdout",
     "output_type": "stream",
     "text": [
      "['S1_D2 hbr', 'S26_D29 hbo', 'S11_D20 hbr', 'S3_D8 hbr', 'S11_D8 hbr', 'S1_D2 hbo', 'S26_D29 hbr', 'S2_D7 hbr', 'S2_D7 hbo', 'S3_D8 hbo', 'S11_D8 hbo', 'S11_D20 hbo', 'S6_D6 hbo', 'S10_D19 hbo', 'S10_D19 hbr', 'S17_D20 hbo', 'S17_D20 hbr', 'S6_D6 hbr'] \n",
      " 18\n",
      "Interpolating bad channels\n",
      "    Automatic origin fit: head of radius 91.4 mm\n",
      "Used Annotations descriptions: ['1.0', '2.0']\n",
      "M1\n",
      "Applying baseline correction (mode: mean)\n",
      "Applying baseline correction (mode: mean)\n",
      "Applying baseline correction (mode: mean)\n",
      "Applying baseline correction (mode: mean)\n",
      "Applying baseline correction (mode: mean)\n",
      "Applying baseline correction (mode: mean)\n",
      "Applying baseline correction (mode: mean)\n",
      "Applying baseline correction (mode: mean)\n",
      "Applying baseline correction (mode: mean)\n",
      "Applying baseline correction (mode: mean)\n",
      "Applying baseline correction (mode: mean)\n",
      "Applying baseline correction (mode: mean)\n",
      "Applying baseline correction (mode: mean)\n",
      "Applying baseline correction (mode: mean)\n",
      "Applying baseline correction (mode: mean)\n",
      "Applying baseline correction (mode: mean)\n",
      "combining channels using \"mean\"\n",
      "combining channels using \"mean\"\n",
      "combining channels using \"mean\"\n",
      "combining channels using \"mean\"\n",
      "combining channels using \"mean\"\n",
      "combining channels using \"mean\"\n",
      "combining channels using \"mean\"\n",
      "combining channels using \"mean\"\n"
     ]
    },
    {
     "name": "stderr",
     "output_type": "stream",
     "text": [
      "/tmp/ipykernel_25513/3047147362.py:210: DeprecationWarning: The truth value of an empty array is ambiguous. Returning False, but in future this will result in an error. Use `array.size > 0` to check that an array is not empty.\n",
      "  y_min = min(evoked_dict_left[f'{CONDITION}/HbO'].get_data().min(),\n",
      "/tmp/ipykernel_25513/3047147362.py:212: DeprecationWarning: The truth value of an empty array is ambiguous. Returning False, but in future this will result in an error. Use `array.size > 0` to check that an array is not empty.\n",
      "  y_max = max(evoked_dict_left[f'{CONDITION}/HbO'].get_data().max(),\n"
     ]
    },
    {
     "name": "stdout",
     "output_type": "stream",
     "text": [
      "combining channels using \"mean\"\n",
      "combining channels using \"mean\"\n",
      "combining channels using \"mean\"\n",
      "combining channels using \"mean\"\n",
      "combining channels using \"mean\"\n",
      "combining channels using \"mean\"\n",
      "combining channels using \"mean\"\n",
      "combining channels using \"mean\"\n",
      "combining channels using \"mean\"\n",
      "combining channels using \"mean\"\n",
      "combining channels using \"mean\"\n",
      "combining channels using \"mean\"\n",
      "combining channels using \"mean\"\n",
      "combining channels using \"mean\"\n",
      "combining channels using \"mean\"\n",
      "combining channels using \"mean\"\n",
      "S1\n",
      "Applying baseline correction (mode: mean)\n",
      "Applying baseline correction (mode: mean)\n",
      "Applying baseline correction (mode: mean)\n",
      "Applying baseline correction (mode: mean)\n",
      "Applying baseline correction (mode: mean)\n",
      "Applying baseline correction (mode: mean)\n",
      "Applying baseline correction (mode: mean)\n",
      "Applying baseline correction (mode: mean)\n",
      "Applying baseline correction (mode: mean)\n",
      "Applying baseline correction (mode: mean)\n",
      "Applying baseline correction (mode: mean)\n",
      "Applying baseline correction (mode: mean)\n",
      "Applying baseline correction (mode: mean)\n",
      "Applying baseline correction (mode: mean)\n",
      "Applying baseline correction (mode: mean)\n",
      "Applying baseline correction (mode: mean)\n",
      "combining channels using \"mean\"\n",
      "combining channels using \"mean\"\n",
      "combining channels using \"mean\"\n",
      "combining channels using \"mean\"\n",
      "combining channels using \"mean\"\n",
      "combining channels using \"mean\"\n",
      "combining channels using \"mean\"\n",
      "combining channels using \"mean\"\n",
      "combining channels using \"mean\"\n",
      "combining channels using \"mean\"\n",
      "combining channels using \"mean\"\n",
      "combining channels using \"mean\"\n",
      "combining channels using \"mean\"\n",
      "combining channels using \"mean\"\n",
      "combining channels using \"mean\"\n",
      "combining channels using \"mean\"\n",
      "combining channels using \"mean\"\n",
      "combining channels using \"mean\"\n",
      "combining channels using \"mean\"\n",
      "combining channels using \"mean\"\n",
      "combining channels using \"mean\"\n",
      "combining channels using \"mean\"\n",
      "combining channels using \"mean\"\n",
      "combining channels using \"mean\"\n",
      "SMZ\n",
      "Applying baseline correction (mode: mean)\n",
      "Applying baseline correction (mode: mean)\n",
      "Applying baseline correction (mode: mean)\n",
      "Applying baseline correction (mode: mean)\n",
      "Applying baseline correction (mode: mean)\n",
      "Applying baseline correction (mode: mean)\n",
      "Applying baseline correction (mode: mean)\n",
      "Applying baseline correction (mode: mean)\n",
      "Applying baseline correction (mode: mean)\n",
      "Applying baseline correction (mode: mean)\n",
      "Applying baseline correction (mode: mean)\n",
      "Applying baseline correction (mode: mean)\n",
      "Applying baseline correction (mode: mean)\n",
      "Applying baseline correction (mode: mean)\n",
      "Applying baseline correction (mode: mean)\n",
      "Applying baseline correction (mode: mean)\n",
      "combining channels using \"mean\"\n",
      "combining channels using \"mean\"\n",
      "combining channels using \"mean\"\n",
      "combining channels using \"mean\"\n",
      "combining channels using \"mean\"\n",
      "combining channels using \"mean\"\n",
      "combining channels using \"mean\"\n",
      "combining channels using \"mean\"\n",
      "combining channels using \"mean\"\n",
      "combining channels using \"mean\"\n",
      "combining channels using \"mean\"\n",
      "combining channels using \"mean\"\n",
      "combining channels using \"mean\"\n",
      "combining channels using \"mean\"\n",
      "combining channels using \"mean\"\n",
      "combining channels using \"mean\"\n",
      "combining channels using \"mean\"\n",
      "combining channels using \"mean\"\n",
      "combining channels using \"mean\"\n",
      "combining channels using \"mean\"\n",
      "combining channels using \"mean\"\n",
      "combining channels using \"mean\"\n",
      "combining channels using \"mean\"\n",
      "combining channels using \"mean\"\n"
     ]
    },
    {
     "data": {
      "text/plain": [
       "<Figure size 2000x1200 with 0 Axes>"
      ]
     },
     "metadata": {},
     "output_type": "display_data"
    },
    {
     "data": {
      "text/plain": [
       "<Figure size 2000x1200 with 0 Axes>"
      ]
     },
     "metadata": {},
     "output_type": "display_data"
    },
    {
     "data": {
      "text/plain": [
       "<Figure size 2000x1200 with 0 Axes>"
      ]
     },
     "metadata": {},
     "output_type": "display_data"
    },
    {
     "data": {
      "text/plain": [
       "<Figure size 2000x1200 with 0 Axes>"
      ]
     },
     "metadata": {},
     "output_type": "display_data"
    },
    {
     "data": {
      "text/plain": [
       "<Figure size 2000x1200 with 0 Axes>"
      ]
     },
     "metadata": {},
     "output_type": "display_data"
    },
    {
     "data": {
      "text/plain": [
       "<Figure size 2000x1200 with 0 Axes>"
      ]
     },
     "metadata": {},
     "output_type": "display_data"
    },
    {
     "data": {
      "text/plain": [
       "<Figure size 2000x1200 with 0 Axes>"
      ]
     },
     "metadata": {},
     "output_type": "display_data"
    },
    {
     "data": {
      "text/plain": [
       "<Figure size 2000x1200 with 0 Axes>"
      ]
     },
     "metadata": {},
     "output_type": "display_data"
    },
    {
     "data": {
      "text/plain": [
       "<Figure size 2000x1200 with 0 Axes>"
      ]
     },
     "metadata": {},
     "output_type": "display_data"
    },
    {
     "data": {
      "text/plain": [
       "<Figure size 2000x1200 with 0 Axes>"
      ]
     },
     "metadata": {},
     "output_type": "display_data"
    },
    {
     "data": {
      "text/plain": [
       "<Figure size 2000x1200 with 0 Axes>"
      ]
     },
     "metadata": {},
     "output_type": "display_data"
    },
    {
     "data": {
      "text/plain": [
       "<Figure size 2000x1200 with 0 Axes>"
      ]
     },
     "metadata": {},
     "output_type": "display_data"
    },
    {
     "data": {
      "text/plain": [
       "<Figure size 2000x1200 with 0 Axes>"
      ]
     },
     "metadata": {},
     "output_type": "display_data"
    },
    {
     "data": {
      "text/plain": [
       "<Figure size 2000x1200 with 0 Axes>"
      ]
     },
     "metadata": {},
     "output_type": "display_data"
    },
    {
     "data": {
      "text/plain": [
       "<Figure size 2000x1200 with 0 Axes>"
      ]
     },
     "metadata": {},
     "output_type": "display_data"
    },
    {
     "data": {
      "text/plain": [
       "<Figure size 2000x1200 with 0 Axes>"
      ]
     },
     "metadata": {},
     "output_type": "display_data"
    },
    {
     "data": {
      "text/plain": [
       "<Figure size 2000x1200 with 0 Axes>"
      ]
     },
     "metadata": {},
     "output_type": "display_data"
    },
    {
     "data": {
      "text/plain": [
       "<Figure size 2000x1200 with 0 Axes>"
      ]
     },
     "metadata": {},
     "output_type": "display_data"
    }
   ],
   "source": [
    "for items in DIRS_TO_SAVE_STUFF.values():\n",
    "    os.makedirs(items, exist_ok=True)\n",
    "\n",
    "#########################################################\n",
    "for filename in recordings_names[0:2]:\n",
    "    print (filename)\n",
    "#########################################################\n",
    "    CONDITION = filename.split(splitting_slash)[-1].split('_')[-1]\n",
    "    SUBJECT = filename.split(splitting_slash)[-1].split('_')[0]\n",
    "    \n",
    "    threshold = 1.3*10**-5\n",
    "    raw_haemo, channels_to_interpolate = get_raw_haemo(filename)\n",
    "    \n",
    "    logging.info(f'{SUBJECT} {CONDITION} interpolated channels N={len(channels_to_interpolate)}: {channels_to_interpolate}')\n",
    "    \n",
    "    chnames = raw_haemo.ch_names\n",
    "\n",
    "    ids_target= 'SMR'\n",
    "    ids_rest = 'REST'\n",
    "    \n",
    "    events, ids = events_from_annotations(raw_haemo)\n",
    "    ids[ids_target] = 1\n",
    "    ids[ids_rest] = 2\n",
    "    \n",
    "        \n",
    "    ids_to_pop = IDS_TO_POP\n",
    "    for i in ids_to_pop:\n",
    "        popper(ids, i)\n",
    "        \n",
    "\n",
    "    smr_epochs, rest_epochs = clean_epochs( \n",
    "                            raw_haemo, \n",
    "                            events=events, \n",
    "                            ids=ids, \n",
    "                            tmin=TMIN, \n",
    "                            tmax=TMAX,\n",
    "                            baseline=BASELINE,\n",
    "                            drop_epochs_flag=False\n",
    "                            )\n",
    "    smr_epochs.resample(1)\n",
    "    rest_epochs.resample(1)\n",
    "    \n",
    "    for roi in different_roi.keys():\n",
    "        \n",
    "        print(roi)\n",
    "        \n",
    "        evoked_dict_left, evoked_dict_right = make_evokeds(\n",
    "                                                            smr_epochs=smr_epochs, \n",
    "                                                            rest_epochs=rest_epochs,\n",
    "                                                            roi_left_hbo=different_roi[roi][0],\n",
    "                                                            roi_left_hbr=different_roi[roi][1],\n",
    "                                                            roi_right_hbo=different_roi[roi][2],\n",
    "                                                            roi_right_hbr=different_roi[roi][3],\n",
    "                                                            condition=CONDITION\n",
    "                                                            )\n",
    "    \n",
    "        \n",
    "        evoked_info_hbo = evoked_dict_right[f'{CONDITION}/HbO'].info\n",
    "        \n",
    "        target_right_hbo = evoked_dict_right[f'{CONDITION}/HbO'].get_data()\n",
    "        target_right_hbr = evoked_dict_right[f'{CONDITION}/HbR'].get_data()\n",
    "        target_right_hbt = hbt_total(target_right_hbr, target_right_hbo)\n",
    "        \n",
    "        rest_right_hbo = evoked_dict_right['Rest/HbO'].get_data()\n",
    "        rest_right_hbr = evoked_dict_right['Rest/HbR'].get_data()\n",
    "        rest_right_hbt = hbt_total(rest_right_hbr, rest_right_hbo)\n",
    "        \n",
    "        target_left_hbo = evoked_dict_left[f'{CONDITION}/HbO'].get_data()\n",
    "        target_left_hbr = evoked_dict_left[f'{CONDITION}/HbR'].get_data()\n",
    "        target_left_hbt = hbt_total(target_left_hbr, target_left_hbo)\n",
    "        \n",
    "        rest_left_hbo = evoked_dict_left['Rest/HbO'].get_data()\n",
    "        rest_left_hbr = evoked_dict_left['Rest/HbR'].get_data()\n",
    "        rest_left_hbt = hbt_total(rest_left_hbr, rest_left_hbo)\n",
    "        \n",
    "        \n",
    "        target_right_hbo_relation = relative_measure(target_right_hbo)\n",
    "        target_right_hbr_relation = relative_measure(target_right_hbr)\n",
    "        target_right_hbt_relation = relative_measure(target_right_hbt)\n",
    "        target_left_hbo_relation = relative_measure(target_left_hbo)\n",
    "        target_left_hbr_relation = relative_measure(target_left_hbr)\n",
    "        target_left_hbt_relation = relative_measure(target_left_hbt)\n",
    "        \n",
    "        rest_right_hbo_relation = relative_measure(rest_right_hbo)\n",
    "        rest_right_hbr_relation = relative_measure(rest_right_hbr)\n",
    "        rest_right_hbt_relation = relative_measure(rest_right_hbt)\n",
    "        rest_left_hbo_relation = relative_measure(rest_left_hbo)\n",
    "        rest_left_hbr_relation = relative_measure(rest_left_hbr)\n",
    "        rest_left_hbt_relation = relative_measure(rest_left_hbt)\n",
    "\n",
    "\n",
    "        \n",
    "        hbt_evoked_dict_right = {\n",
    "                            f'{CONDITION} hbt' : make_evoked_array(data=target_right_hbt, info=evoked_info_hbo),\n",
    "                            'Rest hbt' : make_evoked_array(data=rest_right_hbt, info=evoked_info_hbo),\n",
    "        }\n",
    "        \n",
    "        hbt_evoked_dict_left = { 'Rest hbt' : make_evoked_array(data=rest_left_hbt, info=evoked_info_hbo),\n",
    "                            f'{CONDITION} hbt': make_evoked_array(data=target_left_hbt, info=evoked_info_hbo),\n",
    "        }\n",
    "        \n",
    "        relation_dict_right = {\n",
    "                            f'{CONDITION} hbo relation' : make_evoked_array(data=target_right_hbo_relation, info=evoked_info_hbo),\n",
    "                            f'{CONDITION} hbr relation' : make_evoked_array(data=target_right_hbr_relation, info=evoked_info_hbo),\n",
    "                            f'{CONDITION} hbt relation' : make_evoked_array(data=target_right_hbt_relation, info=evoked_info_hbo),\n",
    "                            'Rest hbo relation' : make_evoked_array(data=rest_right_hbo_relation, info=evoked_info_hbo),\n",
    "                            'Rest hbr relation' : make_evoked_array(data=rest_right_hbr_relation, info=evoked_info_hbo),\n",
    "                            'Rest hbt relation' : make_evoked_array(data=rest_right_hbt_relation, info=evoked_info_hbo),\n",
    "                            \n",
    "        }\n",
    "        \n",
    "        relation_dict_left = {\n",
    "                            f'{CONDITION} hbo relation' : make_evoked_array(data=target_left_hbo_relation, info=evoked_info_hbo),\n",
    "                            f'{CONDITION} hbr relation' : make_evoked_array(data=target_left_hbr_relation, info=evoked_info_hbo),\n",
    "                            f'{CONDITION} hbt relation' : make_evoked_array(data=target_left_hbt_relation, info=evoked_info_hbo),\n",
    "                            'Rest hbo relation' : make_evoked_array(data=rest_left_hbo_relation, info=evoked_info_hbo),\n",
    "                            'Rest hbr relation' : make_evoked_array(data=rest_left_hbr_relation, info=evoked_info_hbo),\n",
    "                            'Rest hbt relation' : make_evoked_array(data=rest_left_hbt_relation, info=evoked_info_hbo),\n",
    "                            \n",
    "        }\n",
    "        \n",
    "        right_arrays_od = OrderedDict(\n",
    "                        hbo=[target_right_hbo, rest_right_hbo],\n",
    "                        hbr=[target_right_hbr, rest_right_hbr],\n",
    "                        hbt=[target_right_hbt, rest_right_hbt],\n",
    "                        rel_hbo=[target_right_hbo_relation, \n",
    "                                 rest_right_hbo_relation\n",
    "                        ],\n",
    "                        rel_hbr=[target_right_hbr_relation, \n",
    "                                 rest_right_hbr_relation\n",
    "                                 ],\n",
    "                        rel_hbt=[target_right_hbt_relation, \n",
    "                                 rest_right_hbt_relation\n",
    "                                 ])\n",
    "        right_arrays = [\n",
    "                        np.stack(arrays=[right_arrays_od['hbo']]),\n",
    "                        np.stack(arrays=[right_arrays_od['hbr']]),\n",
    "                        np.stack(arrays=[right_arrays_od['hbt']]),\n",
    "                        np.stack(arrays=[right_arrays_od['rel_hbo']]),\n",
    "                        np.stack(arrays=[right_arrays_od['rel_hbr']]),\n",
    "                        np.stack(arrays=[right_arrays_od['rel_hbt']]),\n",
    "        ]\n",
    "        \n",
    "        for idx, item in enumerate(right_arrays):\n",
    "            npy_path = op.join(DIRS_TO_SAVE_STUFF[f'haemo_{roi}_folder_path_np'], f'{SUBJECT}_{CONDITION}_{roi}_{list(right_arrays_od.keys())[idx]}_right.npy')\n",
    "            np.save(npy_path, item)\n",
    "        \n",
    "        \n",
    "        left_arrays_od = OrderedDict(\n",
    "                        hbo=[target_left_hbo, rest_left_hbo],\n",
    "                        hbr=[target_left_hbr, rest_left_hbr],\n",
    "                        hbt=[target_left_hbt, rest_left_hbt],\n",
    "                        rel_hbo=[target_left_hbo_relation, \n",
    "                                 rest_left_hbo_relation\n",
    "                                 ],\n",
    "                        rel_hbr=[target_left_hbr_relation, \n",
    "                                 rest_left_hbr_relation\n",
    "                                 ],\n",
    "                        rel_hbt=[target_left_hbt_relation, \n",
    "                                 rest_left_hbt_relation\n",
    "                                 ])\n",
    "        \n",
    "        left_arrays = [\n",
    "                        np.stack(arrays=[left_arrays_od['hbo']]),\n",
    "                        np.stack(arrays=[left_arrays_od['hbr']]),\n",
    "                        np.stack(arrays=[left_arrays_od['hbt']]),\n",
    "                        np.stack(arrays=[left_arrays_od['rel_hbo']]),\n",
    "                        np.stack(arrays=[left_arrays_od['rel_hbr']]),\n",
    "                        np.stack(arrays=[left_arrays_od['rel_hbt']]),\n",
    "        ]\n",
    "        \n",
    "\n",
    "        for idx, item in enumerate(left_arrays):\n",
    "            npy_path = op.join(DIRS_TO_SAVE_STUFF[f'haemo_{roi}_folder_path_np'], f'{SUBJECT}_{CONDITION}_{roi}_{list(left_arrays_od.keys())[idx]} left.npy')\n",
    "            np.save(npy_path, item)\n",
    "            \n",
    "        for condition in evoked_dict_left:\n",
    "            evoked_dict_left[condition].rename_channels(lambda x: x[:-4])\n",
    "        for condition in evoked_dict_right:\n",
    "            evoked_dict_right[condition].rename_channels(lambda x: x[:-4])\n",
    "\n",
    "        color_dict = dict(HbO='#AA3377', HbR='b')\n",
    "        styles_dict = dict(Rest=dict(linestyle='dashed'))\n",
    "\n",
    "        #this is made of scales unification\n",
    "        y_min = min(evoked_dict_left[f'{CONDITION}/HbO'].get_data().min(),\n",
    "                    evoked_dict_right[f'{CONDITION}/HbO'].get_data().min(),()) * 1.5*10**6\n",
    "        y_max = max(evoked_dict_left[f'{CONDITION}/HbO'].get_data().max(),\n",
    "                    evoked_dict_right[f'{CONDITION}/HbO'].get_data().max(),()) * 1.5*10**6\n",
    "        ylim = {'hbo':[y_min, y_max],\n",
    "                'hbr':[y_min, y_max]}\n",
    "\n",
    "        fig, axes = plt.subplots(1, 2, figsize=(20, 12))\n",
    "        mne.viz.plot_compare_evokeds(evoked_dict_left,\n",
    "                                                combine=\"mean\",\n",
    "                                                ci=0.95,\n",
    "                                                colors=color_dict,\n",
    "                                                styles=styles_dict,\n",
    "                                                title=f'{CONDITION} and Rest trials LEFT hemisphere\\nSubject {SUBJECT} ROI {roi}',\n",
    "                                                axes=axes[0],\n",
    "                                                ylim=ylim,\n",
    "                                                truncate_xaxis=False, \n",
    "                                                show=False\n",
    "                                                ) \n",
    "        mne.viz.plot_compare_evokeds(evoked_dict_right,\n",
    "                                                combine=\"mean\",\n",
    "                                                ci=0.95,\n",
    "                                                colors=color_dict,\n",
    "                                                styles=styles_dict,\n",
    "                                                title=f'{CONDITION} and Rest trials RIGHT hemisphere\\nSubject {SUBJECT} ROI {roi}',\n",
    "                                                axes=axes[1],\n",
    "                                                ylim=ylim,\n",
    "                                                truncate_xaxis=False, \n",
    "                                                show=False \n",
    "                                                )\n",
    "        fig.savefig(rf'{DIRS_TO_SAVE_STUFF[f\"haemo_{roi}_folder_path\"]}/{SUBJECT} {CONDITION} haemodynamic response.png', bbox_inches='tight') #this is a figure for our hemodynamic curves for epochs and haemo types\n",
    "\n",
    "        fig.clear()\n",
    "        \n",
    "        color_dict = {'Rest hbt':'r', f'{CONDITION} hbt':'r'}\n",
    "        styles_dict = {'Rest hbt':dict(linestyle='dashed')}\n",
    "        fig, axes = plt.subplots(1, 2, figsize=(20, 12))\n",
    "        mne.viz.plot_compare_evokeds(hbt_evoked_dict_left,\n",
    "                                                combine=\"mean\",\n",
    "                                                ci=0.95,\n",
    "                                                colors=color_dict,\n",
    "                                                styles=styles_dict,\n",
    "                                                title=f'{CONDITION} and Rest trials LEFT hemisphere HbT \\nSubject {SUBJECT} ROI {roi}',\n",
    "                                                axes=axes[0],\n",
    "                                                ylim=ylim,\n",
    "                                                truncate_xaxis=False, \n",
    "                                                show=False\n",
    "                                                ) \n",
    "\n",
    "        mne.viz.plot_compare_evokeds(hbt_evoked_dict_right,\n",
    "                                                combine=\"mean\",\n",
    "                                                ci=0.95,\n",
    "                                                colors=color_dict,\n",
    "                                                styles=styles_dict,\n",
    "                                                title=f'{CONDITION} and Rest trials RIGHT hemisphere HbT \\nSubject {SUBJECT} ROI {roi}',\n",
    "                                                axes=axes[1],\n",
    "                                                ylim=ylim,\n",
    "                                                truncate_xaxis=False, \n",
    "                                                show=False \n",
    "                                                )\n",
    "        \n",
    "        fig.savefig(rf'{DIRS_TO_SAVE_STUFF[f\"haemo_{roi}_folder_path\"]}/{SUBJECT} {CONDITION} haemodynamic response HbT.png', bbox_inches='tight') #this is a figure for our hemodynamic curves for epochs and haemo types\n",
    "\n",
    "        fig.clear()\n",
    "        \n",
    "        \n",
    "        color_dict = {f'{CONDITION} hbo relation':'#AA3377', \n",
    "                      f'{CONDITION} hbr relation':'blue',  \n",
    "                      f'{CONDITION} hbt relation':'black',\n",
    "                      f'Rest hbo relation':'#AA3377', \n",
    "                      f'Rest hbr relation':'blue',  \n",
    "                      f'Rest hbt relation':'black',\n",
    "                      }\n",
    "        styles_dict = {\n",
    "                        f'Rest hbo relation':dict(linestyle='dashed'),\n",
    "                      f'Rest hbr relation':dict(linestyle='dashed'), \n",
    "                      f'Rest hbt relation':dict(linestyle='dashed'),\n",
    "                       }\n",
    "        ylim = {      f'{CONDITION} hbo relation':[-2000, 2000],\n",
    "                      f'{CONDITION} hbr relation':[-2000, 2000], \n",
    "                      f'{CONDITION} hbt relation':[-2000, 2000],\n",
    "                      f'Rest hbo relation':[-2000, 2000],\n",
    "                      f'Rest hbr relation':[-2000, 2000] ,\n",
    "                      f'Rest hbt relation':[-2000, 2000],\n",
    "                      }\n",
    "        fig, axes = plt.subplots(1, 2, figsize=(20, 12))\n",
    "        \n",
    "        mne.viz.plot_compare_evokeds(relation_dict_left,\n",
    "                                                combine=\"mean\",\n",
    "                                                ci=True,\n",
    "                                                colors=color_dict,\n",
    "                                                styles=styles_dict,\n",
    "                                                title=f'{CONDITION} relation between task and rest LEFT in subject {SUBJECT} ROI {roi}',\n",
    "                                                axes=axes[0],\n",
    "                                                ylim=ylim,\n",
    "                                                truncate_xaxis=False, \n",
    "                                                show=False\n",
    "                                                ) \n",
    "\n",
    "        mne.viz.plot_compare_evokeds(relation_dict_right,\n",
    "                                                combine=\"mean\",\n",
    "                                                ci=True,\n",
    "                                                colors=color_dict,\n",
    "                                                styles=styles_dict,\n",
    "                                                title=f'{CONDITION} relation between task and rest RIGHT in subject {SUBJECT} ROI {roi}',\n",
    "                                                axes=axes[1],\n",
    "                                                ylim=ylim,\n",
    "                                                truncate_xaxis=False, \n",
    "                                                show=False \n",
    "                                                )\n",
    "        \n",
    "        fig.savefig(rf'{DIRS_TO_SAVE_STUFF[f\"haemo_{roi}_folder_path\"]}/{SUBJECT} {CONDITION} haemodynamic response relations.png', bbox_inches='tight') #this is a figure for our hemodynamic curves for epochs and haemo types\n",
    "\n",
    "        fig.clear()\n",
    "\n",
    "    \n",
    "    # topomaps_plotter('hbo', smr_epochs=smr_epochs, rest_epochs=rest_epochs, SUBJECT=SUBJECT, CONDITION=CONDITION)\n",
    "    # topomaps_plotter('hbr', smr_epochs=smr_epochs, rest_epochs=rest_epochs, SUBJECT=SUBJECT, CONDITION=CONDITION)\n",
    "    # topomaps_plotter('hbt', smr_epochs=smr_epochs, rest_epochs=rest_epochs, SUBJECT=SUBJECT, CONDITION=CONDITION)\n",
    "\n",
    "# et = time.time()\n",
    "\n",
    "# elapsed_time = et - start\n",
    "# print('Execution time:', str(elapsed_time), 'seconds')"
   ]
  },
  {
   "cell_type": "code",
   "execution_count": 4,
   "id": "9c9faa19",
   "metadata": {},
   "outputs": [
    {
     "data": {
      "text/plain": [
       "array([ 0.        , -3.14403167, -5.4145597 , -5.15287126, -2.70064167,\n",
       "        2.46027508,  8.98377716, 16.37191812, 22.77513165, 27.7490682 ,\n",
       "       30.06184639, 30.18814335, 27.63620492, 23.4031924 , 17.01480279,\n",
       "       10.35777441])"
      ]
     },
     "execution_count": 4,
     "metadata": {},
     "output_type": "execute_result"
    }
   ],
   "source": [
    "relation_dict_left['MI hbo relation'].get_data().mean(axis=0)"
   ]
  },
  {
   "cell_type": "code",
   "execution_count": 5,
   "id": "cb3c3aa1",
   "metadata": {},
   "outputs": [
    {
     "data": {
      "text/plain": [
       "array([ 0.        , -3.58237704, -6.18268584, -8.23666967, -8.51080014,\n",
       "       -7.8241024 , -5.70996355, -3.39686536, -0.75166829,  0.9905061 ,\n",
       "        2.12645591,  1.79412711,  0.84644374, -1.15978372, -3.00262419,\n",
       "       -5.08135227])"
      ]
     },
     "execution_count": 5,
     "metadata": {},
     "output_type": "execute_result"
    }
   ],
   "source": [
    "relation_dict_left['Rest hbo relation'].get_data().mean(axis=0)"
   ]
  },
  {
   "cell_type": "code",
   "execution_count": 14,
   "id": "5382f990",
   "metadata": {},
   "outputs": [
    {
     "data": {
      "text/plain": [
       "(16,)"
      ]
     },
     "execution_count": 14,
     "metadata": {},
     "output_type": "execute_result"
    }
   ],
   "source": [
    "x1 = relation_dict_left['MI hbo relation'].get_data().mean(axis=0)\n",
    "x2 = relation_dict_left['MI hbr relation'].get_data().mean(axis=0)\n",
    "\n",
    "x1.shape"
   ]
  },
  {
   "cell_type": "code",
   "execution_count": 6,
   "id": "df3c2c3e",
   "metadata": {},
   "outputs": [
    {
     "data": {
      "text/plain": [
       "{'MI hbo relation': <Evoked | '' (average, N=1), 0 – 15 sec, baseline 0 – 0 sec, 19 ch, ~73 kB>,\n",
       " 'MI hbr relation': <Evoked | '' (average, N=1), 0 – 15 sec, baseline 0 – 0 sec, 19 ch, ~73 kB>,\n",
       " 'MI hbt relation': <Evoked | '' (average, N=1), 0 – 15 sec, baseline 0 – 0 sec, 19 ch, ~73 kB>,\n",
       " 'Rest hbo relation': <Evoked | '' (average, N=1), 0 – 15 sec, baseline 0 – 0 sec, 19 ch, ~73 kB>,\n",
       " 'Rest hbr relation': <Evoked | '' (average, N=1), 0 – 15 sec, baseline 0 – 0 sec, 19 ch, ~73 kB>,\n",
       " 'Rest hbt relation': <Evoked | '' (average, N=1), 0 – 15 sec, baseline 0 – 0 sec, 19 ch, ~73 kB>}"
      ]
     },
     "execution_count": 6,
     "metadata": {},
     "output_type": "execute_result"
    }
   ],
   "source": [
    "relation_dict_left"
   ]
  },
  {
   "cell_type": "code",
   "execution_count": 19,
   "id": "2d76a926",
   "metadata": {},
   "outputs": [],
   "source": [
    "new_dict = {key:value.get_data().mean(axis=0) for (key,value) in relation_dict_left.items()}"
   ]
  },
  {
   "cell_type": "code",
   "execution_count": 8,
   "id": "bc97581e",
   "metadata": {},
   "outputs": [],
   "source": [
    "import seaborn as sns"
   ]
  },
  {
   "cell_type": "code",
   "execution_count": 20,
   "id": "eff536ef",
   "metadata": {},
   "outputs": [],
   "source": [
    "import pandas as pd\n",
    "\n",
    "df = pd.DataFrame.from_dict(new_dict)"
   ]
  },
  {
   "cell_type": "code",
   "execution_count": 72,
   "id": "e48d9fc9",
   "metadata": {},
   "outputs": [
    {
     "name": "stdout",
     "output_type": "stream",
     "text": [
      "LJ_TS_SMZ_hbt left.npy\n",
      "AA_TS_SMZ_hbt left.npy\n",
      "EI_TS_SMZ_hbt_right.npy\n",
      "GF_TS_SMZ_hbt left.npy\n",
      "VL_TS_SMZ_hbt_right.npy\n",
      "IM_TS_SMZ_hbt left.npy\n",
      "NB_TS_SMZ_hbt_right.npy\n",
      "DT_TS_SMZ_hbt left.npy\n",
      "GF_TS_SMZ_hbt_right.npy\n",
      "MM_TS_SMZ_hbt left.npy\n",
      "OK_TS_SMZ_hbt left.npy\n",
      "EI_TS_SMZ_hbt left.npy\n",
      "AM_TS_SMZ_hbt_right.npy\n",
      "ET_TS_SMZ_hbt_right.npy\n",
      "OK_TS_SMZ_hbt_right.npy\n",
      "NS_TS_SMZ_hbt left.npy\n",
      "NB_TS_SMZ_hbt left.npy\n",
      "VP_TS_SMZ_hbt_right.npy\n",
      "MK_TS_SMZ_hbt left.npy\n",
      "AM_TS_SMZ_hbt left.npy\n",
      "OP_TS_SMZ_hbt_right.npy\n",
      "VL_TS_SMZ_hbt left.npy\n",
      "OP_TS_SMZ_hbt left.npy\n",
      "AL_TS_SMZ_hbt left.npy\n",
      "VP_TS_SMZ_hbt left.npy\n",
      "LJ_TS_SMZ_hbt_right.npy\n",
      "IV_TS_SMZ_hbt_right.npy\n",
      "AA_TS_SMZ_hbt_right.npy\n",
      "AB_TS_SMZ_hbt left.npy\n",
      "ET_TS_SMZ_hbt left.npy\n",
      "DK_TS_SMZ_hbt_right.npy\n",
      "MK_TS_SMZ_hbt_right.npy\n",
      "IV_TS_SMZ_hbt left.npy\n",
      "AB_TS_SMZ_hbt_right.npy\n",
      "IM_TS_SMZ_hbt_right.npy\n",
      "NS_TS_SMZ_hbt_right.npy\n",
      "MM_TS_SMZ_hbt_right.npy\n",
      "DT_TS_SMZ_hbt_right.npy\n",
      "AL_TS_SMZ_hbt_right.npy\n",
      "DK_TS_SMZ_hbt left.npy\n"
     ]
    }
   ],
   "source": [
    "haemo = 'hbt'\n",
    "CONDITION = 'TS_SMZ'\n",
    "cond_haemo_list_left = []\n",
    "cond_haemo_list_right = []\n",
    "\n",
    "\n",
    "dirname = '/mnt/diskus/pictures and arrays fNIRS/haemodynamics_SMZ_np'\n",
    "for i in os.listdir(dirname):\n",
    "    if f'{CONDITION}_{haemo}' in i:\n",
    "        print(i)\n",
    "        if 'left' in i:\n",
    "            cond_haemo_list_left.append(np.load(dirname + '/' + i))\n",
    "        elif 'right' in i:\n",
    "            cond_haemo_list_right.append(np.load(dirname + '/' + i))\n",
    "            "
   ]
  },
  {
   "cell_type": "code",
   "execution_count": 76,
   "id": "4823f239",
   "metadata": {},
   "outputs": [],
   "source": [
    "arr = cond_haemo_list_left[0][0, :, :, ]\n",
    "new_arr_1 = arr[0, :, :].mean(axis=0)\n",
    "new_arr_2 = arr[1, :, :].mean(axis=0)"
   ]
  },
  {
   "cell_type": "code",
   "execution_count": 74,
   "id": "e3e078aa",
   "metadata": {},
   "outputs": [],
   "source": [
    "arr = cond_haemo_list_right[0][0, :, :, ]\n",
    "new_arr_1 = arr[0, :, :].mean(axis=0)\n",
    "new_arr_2 = arr[1, :, :].mean(axis=0)"
   ]
  },
  {
   "cell_type": "code",
   "execution_count": 77,
   "id": "bae17141",
   "metadata": {},
   "outputs": [
    {
     "data": {
      "text/plain": [
       "<AxesSubplot: >"
      ]
     },
     "execution_count": 77,
     "metadata": {},
     "output_type": "execute_result"
    },
    {
     "data": {
      "image/png": "[encoded data removed]",
      "text/plain": [
       "<Figure size 640x480 with 1 Axes>"
      ]
     },
     "metadata": {},
     "output_type": "display_data"
    }
   ],
   "source": [
    "sns.lineplot(new_arr_1)\n",
    "sns.lineplot(new_arr_2)"
   ]
  },
  {
   "cell_type": "code",
   "execution_count": 44,
   "id": "b427218a",
   "metadata": {},
   "outputs": [],
   "source": [
    "haemo = 'hbt'\n",
    "CONDITION = 'SA'\n",
    "\n",
    "cond_haemo_list_smr = []\n",
    "cond_haemo_list_rest = []\n",
    "\n",
    "\n",
    "dirname = '/mnt/diskus/pictures and arrays fNIRS/topomaps_hbo_np'\n",
    "for i in os.listdir(dirname):\n",
    "    if CONDITION in i:\n",
    "        if 'smr' in i:\n",
    "            \n",
    "            cond_haemo_list_smr.append(np.load(dirname + '/' + i))\n",
    "        elif 'rest' in i:\n",
    "            cond_haemo_list_smr.append(np.load(dirname + '/' + i))\n",
    "            \n",
    "            \n"
   ]
  },
  {
   "cell_type": "code",
   "execution_count": null,
   "id": "032aa057",
   "metadata": {},
   "outputs": [],
   "source": []
  }
 ],
 "metadata": {
  "kernelspec": {
   "display_name": "Python 3 (ipykernel)",
   "language": "python",
   "name": "python3"
  },
  "language_info": {
   "codemirror_mode": {
    "name": "ipython",
    "version": 3
   },
   "file_extension": ".py",
   "mimetype": "text/x-python",
   "name": "python",
   "nbconvert_exporter": "python",
   "pygments_lexer": "ipython3",
   "version": "3.8.14"
  }
 },
 "nbformat": 4,
 "nbformat_minor": 5
}
