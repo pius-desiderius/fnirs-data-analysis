{
 "cells": [
  {
   "cell_type": "code",
   "execution_count": 3,
   "metadata": {},
   "outputs": [
    {
     "name": "stdout",
     "output_type": "stream",
     "text": [
      "/mnt/diskus/fNIRS data ME_MI_TS_TI_SA/AA/AA_ME\n",
      "Reading 0 ... 6704  =      0.000 ...   659.030 secs...\n"
     ]
    },
    {
     "name": "stderr",
     "output_type": "stream",
     "text": [
      "/mnt/diskus/fnirs-data-analysis-git/functions_fnirs.py:52: RuntimeWarning: filter_length (13429) is longer than the signal (6705), distortion is likely. Reduce filter length or filter a longer signal.\n",
      "  raw_haemo = raw_haemo.filter(**FILTER_DICT)\n"
     ]
    },
    {
     "name": "stdout",
     "output_type": "stream",
     "text": [
      "['S11_D20 hbr', 'S3_D8 hbo', 'S11_D8 hbo', 'S7_D8 hbo', 'S10_D19 hbo', 'S26_D29 hbo', 'S31_D27 hbr', 'S4_D9 hbr', 'S11_D8 hbr', 'S11_D20 hbo', 'S7_D14 hbr', 'S26_D29 hbr', 'S4_D9 hbo', 'S7_D8 hbr', 'S6_D10 hbr', 'S7_D14 hbo', 'S2_D7 hbo', 'S6_D6 hbo', 'S31_D27 hbo', 'S17_D24 hbr', 'S17_D24 hbo', 'S3_D8 hbr', 'S2_D7 hbr', 'S6_D10 hbo', 'S10_D19 hbr', 'S6_D6 hbr'] \n",
      " 26\n",
      "Interpolating bad channels\n",
      "    Automatic origin fit: head of radius 91.4 mm\n",
      "Used Annotations descriptions: ['1.0', '2.0', '33.0']\n",
      "M1\n",
      "Applying baseline correction (mode: mean)\n",
      "Applying baseline correction (mode: mean)\n",
      "Applying baseline correction (mode: mean)\n",
      "Applying baseline correction (mode: mean)\n",
      "Applying baseline correction (mode: mean)\n",
      "Applying baseline correction (mode: mean)\n",
      "Applying baseline correction (mode: mean)\n",
      "Applying baseline correction (mode: mean)\n",
      "Applying baseline correction (mode: mean)\n",
      "Applying baseline correction (mode: mean)\n",
      "Applying baseline correction (mode: mean)\n",
      "Applying baseline correction (mode: mean)\n",
      "Applying baseline correction (mode: mean)\n",
      "Applying baseline correction (mode: mean)\n",
      "Applying baseline correction (mode: mean)\n",
      "Applying baseline correction (mode: mean)\n",
      "combining channels using \"mean\"\n",
      "combining channels using \"mean\"\n",
      "combining channels using \"mean\"\n",
      "combining channels using \"mean\"\n",
      "combining channels using \"mean\"\n",
      "combining channels using \"mean\"\n",
      "combining channels using \"mean\"\n",
      "combining channels using \"mean\"\n"
     ]
    },
    {
     "name": "stderr",
     "output_type": "stream",
     "text": [
      "/tmp/ipykernel_25513/3047147362.py:210: DeprecationWarning: The truth value of an empty array is ambiguous. Returning False, but in future this will result in an error. Use `array.size > 0` to check that an array is not empty.\n",
      "  y_min = min(evoked_dict_left[f'{CONDITION}/HbO'].get_data().min(),\n",
      "/tmp/ipykernel_25513/3047147362.py:212: DeprecationWarning: The truth value of an empty array is ambiguous. Returning False, but in future this will result in an error. Use `array.size > 0` to check that an array is not empty.\n",
      "  y_max = max(evoked_dict_left[f'{CONDITION}/HbO'].get_data().max(),\n"
     ]
    },
    {
     "name": "stdout",
     "output_type": "stream",
     "text": [
      "combining channels using \"mean\"\n",
      "combining channels using \"mean\"\n",
      "combining channels using \"mean\"\n",
      "combining channels using \"mean\"\n",
      "combining channels using \"mean\"\n",
      "combining channels using \"mean\"\n",
      "combining channels using \"mean\"\n",
      "combining channels using \"mean\"\n",
      "combining channels using \"mean\"\n",
      "combining channels using \"mean\"\n",
      "combining channels using \"mean\"\n",
      "combining channels using \"mean\"\n",
      "combining channels using \"mean\"\n",
      "combining channels using \"mean\"\n",
      "combining channels using \"mean\"\n",
      "combining channels using \"mean\"\n",
      "S1\n",
      "Applying baseline correction (mode: mean)\n",
      "Applying baseline correction (mode: mean)\n",
      "Applying baseline correction (mode: mean)\n",
      "Applying baseline correction (mode: mean)\n",
      "Applying baseline correction (mode: mean)\n",
      "Applying baseline correction (mode: mean)\n",
      "Applying baseline correction (mode: mean)\n",
      "Applying baseline correction (mode: mean)\n",
      "Applying baseline correction (mode: mean)\n",
      "Applying baseline correction (mode: mean)\n",
      "Applying baseline correction (mode: mean)\n",
      "Applying baseline correction (mode: mean)\n",
      "Applying baseline correction (mode: mean)\n",
      "Applying baseline correction (mode: mean)\n",
      "Applying baseline correction (mode: mean)\n",
      "Applying baseline correction (mode: mean)\n",
      "combining channels using \"mean\"\n",
      "combining channels using \"mean\"\n",
      "combining channels using \"mean\"\n",
      "combining channels using \"mean\"\n",
      "combining channels using \"mean\"\n",
      "combining channels using \"mean\"\n",
      "combining channels using \"mean\"\n",
      "combining channels using \"mean\"\n",
      "combining channels using \"mean\"\n",
      "combining channels using \"mean\"\n",
      "combining channels using \"mean\"\n",
      "combining channels using \"mean\"\n",
      "combining channels using \"mean\"\n",
      "combining channels using \"mean\"\n",
      "combining channels using \"mean\"\n",
      "combining channels using \"mean\"\n",
      "combining channels using \"mean\"\n",
      "combining channels using \"mean\"\n",
      "combining channels using \"mean\"\n",
      "combining channels using \"mean\"\n",
      "combining channels using \"mean\"\n",
      "combining channels using \"mean\"\n",
      "combining channels using \"mean\"\n",
      "combining channels using \"mean\"\n",
      "SMZ\n",
      "Applying baseline correction (mode: mean)\n",
      "Applying baseline correction (mode: mean)\n",
      "Applying baseline correction (mode: mean)\n",
      "Applying baseline correction (mode: mean)\n",
      "Applying baseline correction (mode: mean)\n",
      "Applying baseline correction (mode: mean)\n",
      "Applying baseline correction (mode: mean)\n",
      "Applying baseline correction (mode: mean)\n",
      "Applying baseline correction (mode: mean)\n",
      "Applying baseline correction (mode: mean)\n",
      "Applying baseline correction (mode: mean)\n",
      "Applying baseline correction (mode: mean)\n",
      "Applying baseline correction (mode: mean)\n",
      "Applying baseline correction (mode: mean)\n",
      "Applying baseline correction (mode: mean)\n",
      "Applying baseline correction (mode: mean)\n",
      "combining channels using \"mean\"\n",
      "combining channels using \"mean\"\n",
      "combining channels using \"mean\"\n",
      "combining channels using \"mean\"\n",
      "combining channels using \"mean\"\n",
      "combining channels using \"mean\"\n",
      "combining channels using \"mean\"\n",
      "combining channels using \"mean\"\n",
      "combining channels using \"mean\"\n",
      "combining channels using \"mean\"\n",
      "combining channels using \"mean\"\n",
      "combining channels using \"mean\"\n",
      "combining channels using \"mean\"\n",
      "combining channels using \"mean\"\n",
      "combining channels using \"mean\"\n",
      "combining channels using \"mean\"\n",
      "combining channels using \"mean\"\n",
      "combining channels using \"mean\"\n",
      "combining channels using \"mean\"\n",
      "combining channels using \"mean\"\n",
      "combining channels using \"mean\"\n",
      "combining channels using \"mean\"\n",
      "combining channels using \"mean\"\n",
      "combining channels using \"mean\"\n",
      "/mnt/diskus/fNIRS data ME_MI_TS_TI_SA/AA/AA_MI\n",
      "Reading 0 ... 7525  =      0.000 ...   739.738 secs...\n"
     ]
    },
    {
     "name": "stderr",
     "output_type": "stream",
     "text": [
      "/mnt/diskus/fnirs-data-analysis-git/functions_fnirs.py:52: RuntimeWarning: filter_length (13429) is longer than the signal (7526), distortion is likely. Reduce filter length or filter a longer signal.\n",
      "  raw_haemo = raw_haemo.filter(**FILTER_DICT)\n"
     ]
    },
    {
     "name": "stdout",
     "output_type": "stream",
     "text": [
      "['S1_D2 hbr', 'S26_D29 hbo', 'S11_D20 hbr', 'S3_D8 hbr', 'S11_D8 hbr', 'S1_D2 hbo', 'S26_D29 hbr', 'S2_D7 hbr', 'S2_D7 hbo', 'S3_D8 hbo', 'S11_D8 hbo', 'S11_D20 hbo', 'S6_D6 hbo', 'S10_D19 hbo', 'S10_D19 hbr', 'S17_D20 hbo', 'S17_D20 hbr', 'S6_D6 hbr'] \n",
      " 18\n",
      "Interpolating bad channels\n",
      "    Automatic origin fit: head of radius 91.4 mm\n",
      "Used Annotations descriptions: ['1.0', '2.0']\n",
      "M1\n",
      "Applying baseline correction (mode: mean)\n",
      "Applying baseline correction (mode: mean)\n",
      "Applying baseline correction (mode: mean)\n",
      "Applying baseline correction (mode: mean)\n",
      "Applying baseline correction (mode: mean)\n",
      "Applying baseline correction (mode: mean)\n",
      "Applying baseline correction (mode: mean)\n",
      "Applying baseline correction (mode: mean)\n",
      "Applying baseline correction (mode: mean)\n",
      "Applying baseline correction (mode: mean)\n",
      "Applying baseline correction (mode: mean)\n",
      "Applying baseline correction (mode: mean)\n",
      "Applying baseline correction (mode: mean)\n",
      "Applying baseline correction (mode: mean)\n",
      "Applying baseline correction (mode: mean)\n",
      "Applying baseline correction (mode: mean)\n",
      "combining channels using \"mean\"\n",
      "combining channels using \"mean\"\n",
      "combining channels using \"mean\"\n",
      "combining channels using \"mean\"\n",
      "combining channels using \"mean\"\n",
      "combining channels using \"mean\"\n",
      "combining channels using \"mean\"\n",
      "combining channels using \"mean\"\n"
     ]
    },
    {
     "name": "stderr",
     "output_type": "stream",
     "text": [
      "/tmp/ipykernel_25513/3047147362.py:210: DeprecationWarning: The truth value of an empty array is ambiguous. Returning False, but in future this will result in an error. Use `array.size > 0` to check that an array is not empty.\n",
      "  y_min = min(evoked_dict_left[f'{CONDITION}/HbO'].get_data().min(),\n",
      "/tmp/ipykernel_25513/3047147362.py:212: DeprecationWarning: The truth value of an empty array is ambiguous. Returning False, but in future this will result in an error. Use `array.size > 0` to check that an array is not empty.\n",
      "  y_max = max(evoked_dict_left[f'{CONDITION}/HbO'].get_data().max(),\n"
     ]
    },
    {
     "name": "stdout",
     "output_type": "stream",
     "text": [
      "combining channels using \"mean\"\n",
      "combining channels using \"mean\"\n",
      "combining channels using \"mean\"\n",
      "combining channels using \"mean\"\n",
      "combining channels using \"mean\"\n",
      "combining channels using \"mean\"\n",
      "combining channels using \"mean\"\n",
      "combining channels using \"mean\"\n",
      "combining channels using \"mean\"\n",
      "combining channels using \"mean\"\n",
      "combining channels using \"mean\"\n",
      "combining channels using \"mean\"\n",
      "combining channels using \"mean\"\n",
      "combining channels using \"mean\"\n",
      "combining channels using \"mean\"\n",
      "combining channels using \"mean\"\n",
      "S1\n",
      "Applying baseline correction (mode: mean)\n",
      "Applying baseline correction (mode: mean)\n",
      "Applying baseline correction (mode: mean)\n",
      "Applying baseline correction (mode: mean)\n",
      "Applying baseline correction (mode: mean)\n",
      "Applying baseline correction (mode: mean)\n",
      "Applying baseline correction (mode: mean)\n",
      "Applying baseline correction (mode: mean)\n",
      "Applying baseline correction (mode: mean)\n",
      "Applying baseline correction (mode: mean)\n",
      "Applying baseline correction (mode: mean)\n",
      "Applying baseline correction (mode: mean)\n",
      "Applying baseline correction (mode: mean)\n",
      "Applying baseline correction (mode: mean)\n",
      "Applying baseline correction (mode: mean)\n",
      "Applying baseline correction (mode: mean)\n",
      "combining channels using \"mean\"\n",
      "combining channels using \"mean\"\n",
      "combining channels using \"mean\"\n",
      "combining channels using \"mean\"\n",
      "combining channels using \"mean\"\n",
      "combining channels using \"mean\"\n",
      "combining channels using \"mean\"\n",
      "combining channels using \"mean\"\n",
      "combining channels using \"mean\"\n",
      "combining channels using \"mean\"\n",
      "combining channels using \"mean\"\n",
      "combining channels using \"mean\"\n",
      "combining channels using \"mean\"\n",
      "combining channels using \"mean\"\n",
      "combining channels using \"mean\"\n",
      "combining channels using \"mean\"\n",
      "combining channels using \"mean\"\n",
      "combining channels using \"mean\"\n",
      "combining channels using \"mean\"\n",
      "combining channels using \"mean\"\n",
      "combining channels using \"mean\"\n",
      "combining channels using \"mean\"\n",
      "combining channels using \"mean\"\n",
      "combining channels using \"mean\"\n",
      "SMZ\n",
      "Applying baseline correction (mode: mean)\n",
      "Applying baseline correction (mode: mean)\n",
      "Applying baseline correction (mode: mean)\n",
      "Applying baseline correction (mode: mean)\n",
      "Applying baseline correction (mode: mean)\n",
      "Applying baseline correction (mode: mean)\n",
      "Applying baseline correction (mode: mean)\n",
      "Applying baseline correction (mode: mean)\n",
      "Applying baseline correction (mode: mean)\n",
      "Applying baseline correction (mode: mean)\n",
      "Applying baseline correction (mode: mean)\n",
      "Applying baseline correction (mode: mean)\n",
      "Applying baseline correction (mode: mean)\n",
      "Applying baseline correction (mode: mean)\n",
      "Applying baseline correction (mode: mean)\n",
      "Applying baseline correction (mode: mean)\n",
      "combining channels using \"mean\"\n",
      "combining channels using \"mean\"\n",
      "combining channels using \"mean\"\n",
      "combining channels using \"mean\"\n",
      "combining channels using \"mean\"\n",
      "combining channels using \"mean\"\n",
      "combining channels using \"mean\"\n",
      "combining channels using \"mean\"\n",
      "combining channels using \"mean\"\n",
      "combining channels using \"mean\"\n",
      "combining channels using \"mean\"\n",
      "combining channels using \"mean\"\n",
      "combining channels using \"mean\"\n",
      "combining channels using \"mean\"\n",
      "combining channels using \"mean\"\n",
      "combining channels using \"mean\"\n",
      "combining channels using \"mean\"\n",
      "combining channels using \"mean\"\n",
      "combining channels using \"mean\"\n",
      "combining channels using \"mean\"\n",
      "combining channels using \"mean\"\n",
      "combining channels using \"mean\"\n",
      "combining channels using \"mean\"\n",
      "combining channels using \"mean\"\n"
     ]
    },
    {
     "data": {
      "text/plain": [
       "<Figure size 2000x1200 with 0 Axes>"
      ]
     },
     "metadata": {},
     "output_type": "display_data"
    },
    {
     "data": {
      "text/plain": [
       "<Figure size 2000x1200 with 0 Axes>"
      ]
     },
     "metadata": {},
     "output_type": "display_data"
    },
    {
     "data": {
      "text/plain": [
       "<Figure size 2000x1200 with 0 Axes>"
      ]
     },
     "metadata": {},
     "output_type": "display_data"
    },
    {
     "data": {
      "text/plain": [
       "<Figure size 2000x1200 with 0 Axes>"
      ]
     },
     "metadata": {},
     "output_type": "display_data"
    },
    {
     "data": {
      "text/plain": [
       "<Figure size 2000x1200 with 0 Axes>"
      ]
     },
     "metadata": {},
     "output_type": "display_data"
    },
    {
     "data": {
      "text/plain": [
       "<Figure size 2000x1200 with 0 Axes>"
      ]
     },
     "metadata": {},
     "output_type": "display_data"
    },
    {
     "data": {
      "text/plain": [
       "<Figure size 2000x1200 with 0 Axes>"
      ]
     },
     "metadata": {},
     "output_type": "display_data"
    },
    {
     "data": {
      "text/plain": [
       "<Figure size 2000x1200 with 0 Axes>"
      ]
     },
     "metadata": {},
     "output_type": "display_data"
    },
    {
     "data": {
      "text/plain": [
       "<Figure size 2000x1200 with 0 Axes>"
      ]
     },
     "metadata": {},
     "output_type": "display_data"
    },
    {
     "data": {
      "text/plain": [
       "<Figure size 2000x1200 with 0 Axes>"
      ]
     },
     "metadata": {},
     "output_type": "display_data"
    },
    {
     "data": {
      "text/plain": [
       "<Figure size 2000x1200 with 0 Axes>"
      ]
     },
     "metadata": {},
     "output_type": "display_data"
    },
    {
     "data": {
      "text/plain": [
       "<Figure size 2000x1200 with 0 Axes>"
      ]
     },
     "metadata": {},
     "output_type": "display_data"
    },
    {
     "data": {
      "text/plain": [
       "<Figure size 2000x1200 with 0 Axes>"
      ]
     },
     "metadata": {},
     "output_type": "display_data"
    },
    {
     "data": {
      "text/plain": [
       "<Figure size 2000x1200 with 0 Axes>"
      ]
     },
     "metadata": {},
     "output_type": "display_data"
    },
    {
     "data": {
      "text/plain": [
       "<Figure size 2000x1200 with 0 Axes>"
      ]
     },
     "metadata": {},
     "output_type": "display_data"
    },
    {
     "data": {
      "text/plain": [
       "<Figure size 2000x1200 with 0 Axes>"
      ]
     },
     "metadata": {},
     "output_type": "display_data"
    },
    {
     "data": {
      "text/plain": [
       "<Figure size 2000x1200 with 0 Axes>"
      ]
     },
     "metadata": {},
     "output_type": "display_data"
    },
    {
     "data": {
      "text/plain": [
       "<Figure size 2000x1200 with 0 Axes>"
      ]
     },
     "metadata": {},
     "output_type": "display_data"
    }
   ],
   "source": [
    "import os.path as op\n",
    "import matplotlib.pyplot as plt\n",
    "from itertools import compress\n",
    "import time\n",
    "import logging\n",
    "import mne\n",
    "from mne import events_from_annotations\n",
    "from collections import OrderedDict\n",
    "\n",
    "from ROI import different_roi\n",
    "from functions_fnirs import *\n",
    "from meta import *\n",
    "from file_scanning import *\n",
    "from topomaps import topomaps_plotter\n",
    "\n",
    "start = time.time()\n",
    "logging.basicConfig(filename=\"log_.txt\", format=\"%(asctime)s %(message)s\", filemode=\"w\", level=logging.INFO)\n",
    "\n",
    "splitting_slash = '/'\n",
    "fnirs_dir = r\"/mnt/diskus/fNIRS data ME_MI_TS_TI_SA\"\n",
    "subfolders = fast_scandir(fnirs_dir)\n",
    "subj_names = sorted([(i.split('\\\\')[-1]) for i in subfolders if len(i.split(splitting_slash)[-1])==2])\n",
    "recordings_names = sorted([i for i in subfolders if len(i.split(splitting_slash)[-1])!=2])\n",
    "\n",
    "for items in DIRS_TO_SAVE_STUFF.values():\n",
    "    os.makedirs(items, exist_ok=True)\n",
    "\n",
    "#########################################################\n",
    "for filename in recordings_names[0:2]:\n",
    "    print (filename)\n",
    "#########################################################\n",
    "    CONDITION = filename.split(splitting_slash)[-1].split('_')[-1]\n",
    "    SUBJECT = filename.split(splitting_slash)[-1].split('_')[0]\n",
    "    \n",
    "    threshold = 1.3*10**-5\n",
    "    raw_haemo, channels_to_interpolate = get_raw_haemo(filename)\n",
    "    \n",
    "    logging.info(f'{SUBJECT} {CONDITION} interpolated channels N={len(channels_to_interpolate)}: {channels_to_interpolate}')\n",
    "    \n",
    "    chnames = raw_haemo.ch_names\n",
    "\n",
    "    ids_target= 'SMR'\n",
    "    ids_rest = 'REST'\n",
    "    \n",
    "    events, ids = events_from_annotations(raw_haemo)\n",
    "    ids[ids_target] = 1\n",
    "    ids[ids_rest] = 2\n",
    "    \n",
    "        \n",
    "    ids_to_pop = IDS_TO_POP\n",
    "    for i in ids_to_pop:\n",
    "        popper(ids, i)\n",
    "        \n",
    "\n",
    "    smr_epochs, rest_epochs = clean_epochs( \n",
    "                            raw_haemo, \n",
    "                            events=events, \n",
    "                            ids=ids, \n",
    "                            tmin=TMIN, \n",
    "                            tmax=TMAX,\n",
    "                            baseline=BASELINE,\n",
    "                            drop_epochs_flag=False\n",
    "                            )\n",
    "    smr_epochs.resample(1)\n",
    "    rest_epochs.resample(1)\n",
    "    \n",
    "    for roi in different_roi.keys():\n",
    "        \n",
    "        print(roi)\n",
    "        \n",
    "        evoked_dict_left, evoked_dict_right = make_evokeds(\n",
    "                                                            smr_epochs=smr_epochs, \n",
    "                                                            rest_epochs=rest_epochs,\n",
    "                                                            roi_left_hbo=different_roi[roi][0],\n",
    "                                                            roi_left_hbr=different_roi[roi][1],\n",
    "                                                            roi_right_hbo=different_roi[roi][2],\n",
    "                                                            roi_right_hbr=different_roi[roi][3],\n",
    "                                                            condition=CONDITION\n",
    "                                                            )\n",
    "    \n",
    "        \n",
    "        evoked_info_hbo = evoked_dict_right[f'{CONDITION}/HbO'].info\n",
    "        \n",
    "        target_right_hbo = evoked_dict_right[f'{CONDITION}/HbO'].get_data()\n",
    "        target_right_hbr = evoked_dict_right[f'{CONDITION}/HbR'].get_data()\n",
    "        target_right_hbt = hbt_total(target_right_hbr, target_right_hbo)\n",
    "        \n",
    "        rest_right_hbo = evoked_dict_right['Rest/HbO'].get_data()\n",
    "        rest_right_hbr = evoked_dict_right['Rest/HbR'].get_data()\n",
    "        rest_right_hbt = hbt_total(rest_right_hbr, rest_right_hbo)\n",
    "        \n",
    "        target_left_hbo = evoked_dict_left[f'{CONDITION}/HbO'].get_data()\n",
    "        target_left_hbr = evoked_dict_left[f'{CONDITION}/HbR'].get_data()\n",
    "        target_left_hbt = hbt_total(target_left_hbr, target_left_hbo)\n",
    "        \n",
    "        rest_left_hbo = evoked_dict_left['Rest/HbO'].get_data()\n",
    "        rest_left_hbr = evoked_dict_left['Rest/HbR'].get_data()\n",
    "        rest_left_hbt = hbt_total(rest_left_hbr, rest_left_hbo)\n",
    "        \n",
    "        \n",
    "        target_right_hbo_relation = relative_measure(target_right_hbo)\n",
    "        target_right_hbr_relation = relative_measure(target_right_hbr)\n",
    "        target_right_hbt_relation = relative_measure(target_right_hbt)\n",
    "        target_left_hbo_relation = relative_measure(target_left_hbo)\n",
    "        target_left_hbr_relation = relative_measure(target_left_hbr)\n",
    "        target_left_hbt_relation = relative_measure(target_left_hbt)\n",
    "        \n",
    "        rest_right_hbo_relation = relative_measure(rest_right_hbo)\n",
    "        rest_right_hbr_relation = relative_measure(rest_right_hbr)\n",
    "        rest_right_hbt_relation = relative_measure(rest_right_hbt)\n",
    "        rest_left_hbo_relation = relative_measure(rest_left_hbo)\n",
    "        rest_left_hbr_relation = relative_measure(rest_left_hbr)\n",
    "        rest_left_hbt_relation = relative_measure(rest_left_hbt)\n",
    "\n",
    "\n",
    "        \n",
    "        hbt_evoked_dict_right = {\n",
    "                            f'{CONDITION} hbt' : make_evoked_array(data=target_right_hbt, info=evoked_info_hbo),\n",
    "                            'Rest hbt' : make_evoked_array(data=rest_right_hbt, info=evoked_info_hbo),\n",
    "        }\n",
    "        \n",
    "        hbt_evoked_dict_left = { 'Rest hbt' : make_evoked_array(data=rest_left_hbt, info=evoked_info_hbo),\n",
    "                            f'{CONDITION} hbt': make_evoked_array(data=target_left_hbt, info=evoked_info_hbo),\n",
    "        }\n",
    "        \n",
    "        relation_dict_right = {\n",
    "                            f'{CONDITION} hbo relation' : make_evoked_array(data=target_right_hbo_relation, info=evoked_info_hbo),\n",
    "                            f'{CONDITION} hbr relation' : make_evoked_array(data=target_right_hbr_relation, info=evoked_info_hbo),\n",
    "                            f'{CONDITION} hbt relation' : make_evoked_array(data=target_right_hbt_relation, info=evoked_info_hbo),\n",
    "                            'Rest hbo relation' : make_evoked_array(data=rest_right_hbo_relation, info=evoked_info_hbo),\n",
    "                            'Rest hbr relation' : make_evoked_array(data=rest_right_hbr_relation, info=evoked_info_hbo),\n",
    "                            'Rest hbt relation' : make_evoked_array(data=rest_right_hbt_relation, info=evoked_info_hbo),\n",
    "                            \n",
    "        }\n",
    "        \n",
    "        relation_dict_left = {\n",
    "                            f'{CONDITION} hbo relation' : make_evoked_array(data=target_left_hbo_relation, info=evoked_info_hbo),\n",
    "                            f'{CONDITION} hbr relation' : make_evoked_array(data=target_left_hbr_relation, info=evoked_info_hbo),\n",
    "                            f'{CONDITION} hbt relation' : make_evoked_array(data=target_left_hbt_relation, info=evoked_info_hbo),\n",
    "                            'Rest hbo relation' : make_evoked_array(data=rest_left_hbo_relation, info=evoked_info_hbo),\n",
    "                            'Rest hbr relation' : make_evoked_array(data=rest_left_hbr_relation, info=evoked_info_hbo),\n",
    "                            'Rest hbt relation' : make_evoked_array(data=rest_left_hbt_relation, info=evoked_info_hbo),\n",
    "                            \n",
    "        }\n",
    "        \n",
    "        right_arrays_od = OrderedDict(\n",
    "                        hbo=[target_right_hbo, rest_right_hbo],\n",
    "                        hbr=[target_right_hbr, rest_right_hbr],\n",
    "                        hbt=[target_right_hbt, rest_right_hbt],\n",
    "                        rel_hbo=[target_right_hbo_relation, \n",
    "                                 rest_right_hbo_relation\n",
    "                        ],\n",
    "                        rel_hbr=[target_right_hbr_relation, \n",
    "                                 rest_right_hbr_relation\n",
    "                                 ],\n",
    "                        rel_hbt=[target_right_hbt_relation, \n",
    "                                 rest_right_hbt_relation\n",
    "                                 ])\n",
    "        right_arrays = [\n",
    "                        np.stack(arrays=[right_arrays_od['hbo']]),\n",
    "                        np.stack(arrays=[right_arrays_od['hbr']]),\n",
    "                        np.stack(arrays=[right_arrays_od['hbt']]),\n",
    "                        np.stack(arrays=[right_arrays_od['rel_hbo']]),\n",
    "                        np.stack(arrays=[right_arrays_od['rel_hbr']]),\n",
    "                        np.stack(arrays=[right_arrays_od['rel_hbt']]),\n",
    "        ]\n",
    "        \n",
    "        for idx, item in enumerate(right_arrays):\n",
    "            npy_path = op.join(DIRS_TO_SAVE_STUFF[f'haemo_{roi}_folder_path_np'], f'{SUBJECT}_{CONDITION}_{roi}_{list(right_arrays_od.keys())[idx]}_right.npy')\n",
    "            np.save(npy_path, item)\n",
    "        \n",
    "        \n",
    "        left_arrays_od = OrderedDict(\n",
    "                        hbo=[target_left_hbo, rest_left_hbo],\n",
    "                        hbr=[target_left_hbr, rest_left_hbr],\n",
    "                        hbt=[target_left_hbt, rest_left_hbt],\n",
    "                        rel_hbo=[target_left_hbo_relation, \n",
    "                                 rest_left_hbo_relation\n",
    "                                 ],\n",
    "                        rel_hbr=[target_left_hbr_relation, \n",
    "                                 rest_left_hbr_relation\n",
    "                                 ],\n",
    "                        rel_hbt=[target_left_hbt_relation, \n",
    "                                 rest_left_hbt_relation\n",
    "                                 ])\n",
    "        \n",
    "        left_arrays = [\n",
    "                        np.stack(arrays=[left_arrays_od['hbo']]),\n",
    "                        np.stack(arrays=[left_arrays_od['hbr']]),\n",
    "                        np.stack(arrays=[left_arrays_od['hbt']]),\n",
    "                        np.stack(arrays=[left_arrays_od['rel_hbo']]),\n",
    "                        np.stack(arrays=[left_arrays_od['rel_hbr']]),\n",
    "                        np.stack(arrays=[left_arrays_od['rel_hbt']]),\n",
    "        ]\n",
    "        \n",
    "\n",
    "        for idx, item in enumerate(left_arrays):\n",
    "            npy_path = op.join(DIRS_TO_SAVE_STUFF[f'haemo_{roi}_folder_path_np'], f'{SUBJECT}_{CONDITION}_{roi}_{list(left_arrays_od.keys())[idx]} left.npy')\n",
    "            np.save(npy_path, item)\n",
    "            \n",
    "        for condition in evoked_dict_left:\n",
    "            evoked_dict_left[condition].rename_channels(lambda x: x[:-4])\n",
    "        for condition in evoked_dict_right:\n",
    "            evoked_dict_right[condition].rename_channels(lambda x: x[:-4])\n",
    "\n",
    "        color_dict = dict(HbO='#AA3377', HbR='b')\n",
    "        styles_dict = dict(Rest=dict(linestyle='dashed'))\n",
    "\n",
    "        #this is made of scales unification\n",
    "        y_min = min(evoked_dict_left[f'{CONDITION}/HbO'].get_data().min(),\n",
    "                    evoked_dict_right[f'{CONDITION}/HbO'].get_data().min(),()) * 1.5*10**6\n",
    "        y_max = max(evoked_dict_left[f'{CONDITION}/HbO'].get_data().max(),\n",
    "                    evoked_dict_right[f'{CONDITION}/HbO'].get_data().max(),()) * 1.5*10**6\n",
    "        ylim = {'hbo':[y_min, y_max],\n",
    "                'hbr':[y_min, y_max]}\n",
    "\n",
    "        fig, axes = plt.subplots(1, 2, figsize=(20, 12))\n",
    "        mne.viz.plot_compare_evokeds(evoked_dict_left,\n",
    "                                                combine=\"mean\",\n",
    "                                                ci=0.95,\n",
    "                                                colors=color_dict,\n",
    "                                                styles=styles_dict,\n",
    "                                                title=f'{CONDITION} and Rest trials LEFT hemisphere\\nSubject {SUBJECT} ROI {roi}',\n",
    "                                                axes=axes[0],\n",
    "                                                ylim=ylim,\n",
    "                                                truncate_xaxis=False, \n",
    "                                                show=False\n",
    "                                                ) \n",
    "        mne.viz.plot_compare_evokeds(evoked_dict_right,\n",
    "                                                combine=\"mean\",\n",
    "                                                ci=0.95,\n",
    "                                                colors=color_dict,\n",
    "                                                styles=styles_dict,\n",
    "                                                title=f'{CONDITION} and Rest trials RIGHT hemisphere\\nSubject {SUBJECT} ROI {roi}',\n",
    "                                                axes=axes[1],\n",
    "                                                ylim=ylim,\n",
    "                                                truncate_xaxis=False, \n",
    "                                                show=False \n",
    "                                                )\n",
    "        fig.savefig(rf'{DIRS_TO_SAVE_STUFF[f\"haemo_{roi}_folder_path\"]}/{SUBJECT} {CONDITION} haemodynamic response.png', bbox_inches='tight') #this is a figure for our hemodynamic curves for epochs and haemo types\n",
    "\n",
    "        fig.clear()\n",
    "        \n",
    "        color_dict = {'Rest hbt':'r', f'{CONDITION} hbt':'r'}\n",
    "        styles_dict = {'Rest hbt':dict(linestyle='dashed')}\n",
    "        fig, axes = plt.subplots(1, 2, figsize=(20, 12))\n",
    "        mne.viz.plot_compare_evokeds(hbt_evoked_dict_left,\n",
    "                                                combine=\"mean\",\n",
    "                                                ci=0.95,\n",
    "                                                colors=color_dict,\n",
    "                                                styles=styles_dict,\n",
    "                                                title=f'{CONDITION} and Rest trials LEFT hemisphere HbT \\nSubject {SUBJECT} ROI {roi}',\n",
    "                                                axes=axes[0],\n",
    "                                                ylim=ylim,\n",
    "                                                truncate_xaxis=False, \n",
    "                                                show=False\n",
    "                                                ) \n",
    "\n",
    "        mne.viz.plot_compare_evokeds(hbt_evoked_dict_right,\n",
    "                                                combine=\"mean\",\n",
    "                                                ci=0.95,\n",
    "                                                colors=color_dict,\n",
    "                                                styles=styles_dict,\n",
    "                                                title=f'{CONDITION} and Rest trials RIGHT hemisphere HbT \\nSubject {SUBJECT} ROI {roi}',\n",
    "                                                axes=axes[1],\n",
    "                                                ylim=ylim,\n",
    "                                                truncate_xaxis=False, \n",
    "                                                show=False \n",
    "                                                )\n",
    "        \n",
    "        fig.savefig(rf'{DIRS_TO_SAVE_STUFF[f\"haemo_{roi}_folder_path\"]}/{SUBJECT} {CONDITION} haemodynamic response HbT.png', bbox_inches='tight') #this is a figure for our hemodynamic curves for epochs and haemo types\n",
    "\n",
    "        fig.clear()\n",
    "        \n",
    "        \n",
    "        color_dict = {f'{CONDITION} hbo relation':'#AA3377', \n",
    "                      f'{CONDITION} hbr relation':'blue',  \n",
    "                      f'{CONDITION} hbt relation':'black',\n",
    "                      f'Rest hbo relation':'#AA3377', \n",
    "                      f'Rest hbr relation':'blue',  \n",
    "                      f'Rest hbt relation':'black',\n",
    "                      }\n",
    "        styles_dict = {\n",
    "                        f'Rest hbo relation':dict(linestyle='dashed'),\n",
    "                      f'Rest hbr relation':dict(linestyle='dashed'), \n",
    "                      f'Rest hbt relation':dict(linestyle='dashed'),\n",
    "                       }\n",
    "        ylim = {      f'{CONDITION} hbo relation':[-2000, 2000],\n",
    "                      f'{CONDITION} hbr relation':[-2000, 2000], \n",
    "                      f'{CONDITION} hbt relation':[-2000, 2000],\n",
    "                      f'Rest hbo relation':[-2000, 2000],\n",
    "                      f'Rest hbr relation':[-2000, 2000] ,\n",
    "                      f'Rest hbt relation':[-2000, 2000],\n",
    "                      }\n",
    "        fig, axes = plt.subplots(1, 2, figsize=(20, 12))\n",
    "        \n",
    "        mne.viz.plot_compare_evokeds(relation_dict_left,\n",
    "                                                combine=\"mean\",\n",
    "                                                ci=True,\n",
    "                                                colors=color_dict,\n",
    "                                                styles=styles_dict,\n",
    "                                                title=f'{CONDITION} relation between task and rest LEFT in subject {SUBJECT} ROI {roi}',\n",
    "                                                axes=axes[0],\n",
    "                                                ylim=ylim,\n",
    "                                                truncate_xaxis=False, \n",
    "                                                show=False\n",
    "                                                ) \n",
    "\n",
    "        mne.viz.plot_compare_evokeds(relation_dict_right,\n",
    "                                                combine=\"mean\",\n",
    "                                                ci=True,\n",
    "                                                colors=color_dict,\n",
    "                                                styles=styles_dict,\n",
    "                                                title=f'{CONDITION} relation between task and rest RIGHT in subject {SUBJECT} ROI {roi}',\n",
    "                                                axes=axes[1],\n",
    "                                                ylim=ylim,\n",
    "                                                truncate_xaxis=False, \n",
    "                                                show=False \n",
    "                                                )\n",
    "        \n",
    "        fig.savefig(rf'{DIRS_TO_SAVE_STUFF[f\"haemo_{roi}_folder_path\"]}/{SUBJECT} {CONDITION} haemodynamic response relations.png', bbox_inches='tight') #this is a figure for our hemodynamic curves for epochs and haemo types\n",
    "\n",
    "        fig.clear()\n",
    "\n",
    "    \n",
    "    # topomaps_plotter('hbo', smr_epochs=smr_epochs, rest_epochs=rest_epochs, SUBJECT=SUBJECT, CONDITION=CONDITION)\n",
    "    # topomaps_plotter('hbr', smr_epochs=smr_epochs, rest_epochs=rest_epochs, SUBJECT=SUBJECT, CONDITION=CONDITION)\n",
    "    # topomaps_plotter('hbt', smr_epochs=smr_epochs, rest_epochs=rest_epochs, SUBJECT=SUBJECT, CONDITION=CONDITION)\n",
    "\n",
    "# et = time.time()\n",
    "\n",
    "# elapsed_time = et - start\n",
    "# print('Execution time:', str(elapsed_time), 'seconds')\n"
   ]
  },
  {
   "cell_type": "code",
   "execution_count": 4,
   "metadata": {},
   "outputs": [
    {
     "data": {
      "text/plain": [
       "array([ 0.        , -3.14403167, -5.4145597 , -5.15287126, -2.70064167,\n",
       "        2.46027508,  8.98377716, 16.37191812, 22.77513165, 27.7490682 ,\n",
       "       30.06184639, 30.18814335, 27.63620492, 23.4031924 , 17.01480279,\n",
       "       10.35777441])"
      ]
     },
     "execution_count": 4,
     "metadata": {},
     "output_type": "execute_result"
    }
   ],
   "source": [
    "relation_dict_left['MI hbo relation'].get_data().mean(axis=0)"
   ]
  },
  {
   "cell_type": "code",
   "execution_count": 5,
   "metadata": {},
   "outputs": [
    {
     "data": {
      "text/plain": [
       "array([ 0.        , -3.58237704, -6.18268584, -8.23666967, -8.51080014,\n",
       "       -7.8241024 , -5.70996355, -3.39686536, -0.75166829,  0.9905061 ,\n",
       "        2.12645591,  1.79412711,  0.84644374, -1.15978372, -3.00262419,\n",
       "       -5.08135227])"
      ]
     },
     "execution_count": 5,
     "metadata": {},
     "output_type": "execute_result"
    }
   ],
   "source": [
    "relation_dict_left['Rest hbo relation'].get_data().mean(axis=0)"
   ]
  },
  {
   "cell_type": "code",
   "execution_count": 14,
   "metadata": {},
   "outputs": [
    {
     "data": {
      "text/plain": [
       "(16,)"
      ]
     },
     "execution_count": 14,
     "metadata": {},
     "output_type": "execute_result"
    }
   ],
   "source": [
    "x1 = relation_dict_left['MI hbo relation'].get_data().mean(axis=0)\n",
    "x2 = relation_dict_left['MI hbr relation'].get_data().mean(axis=0)\n",
    "\n",
    "x1.shape"
   ]
  },
  {
   "cell_type": "code",
   "execution_count": 6,
   "metadata": {},
   "outputs": [
    {
     "data": {
      "text/plain": [
       "{'MI hbo relation': <Evoked | '' (average, N=1), 0 – 15 sec, baseline 0 – 0 sec, 19 ch, ~73 kB>,\n",
       " 'MI hbr relation': <Evoked | '' (average, N=1), 0 – 15 sec, baseline 0 – 0 sec, 19 ch, ~73 kB>,\n",
       " 'MI hbt relation': <Evoked | '' (average, N=1), 0 – 15 sec, baseline 0 – 0 sec, 19 ch, ~73 kB>,\n",
       " 'Rest hbo relation': <Evoked | '' (average, N=1), 0 – 15 sec, baseline 0 – 0 sec, 19 ch, ~73 kB>,\n",
       " 'Rest hbr relation': <Evoked | '' (average, N=1), 0 – 15 sec, baseline 0 – 0 sec, 19 ch, ~73 kB>,\n",
       " 'Rest hbt relation': <Evoked | '' (average, N=1), 0 – 15 sec, baseline 0 – 0 sec, 19 ch, ~73 kB>}"
      ]
     },
     "execution_count": 6,
     "metadata": {},
     "output_type": "execute_result"
    }
   ],
   "source": [
    "relation_dict_left"
   ]
  },
  {
   "cell_type": "code",
   "execution_count": 19,
   "metadata": {},
   "outputs": [],
   "source": [
    "new_dict = {key:value.get_data().mean(axis=0) for (key,value) in relation_dict_left.items()}"
   ]
  },
  {
   "cell_type": "code",
   "execution_count": 8,
   "metadata": {},
   "outputs": [],
   "source": [
    "import seaborn as sns"
   ]
  },
  {
   "cell_type": "code",
   "execution_count": 20,
   "metadata": {},
   "outputs": [],
   "source": [
    "import pandas as pd\n",
    "\n",
    "df = pd.DataFrame.from_dict(new_dict)"
   ]
  },
  {
   "cell_type": "code",
   "execution_count": 21,
   "metadata": {},
   "outputs": [
    {
     "data": {
      "text/plain": [
       "{'MI hbo relation': array([ 0.        , -3.14403167, -5.4145597 , -5.15287126, -2.70064167,\n",
       "         2.46027508,  8.98377716, 16.37191812, 22.77513165, 27.7490682 ,\n",
       "        30.06184639, 30.18814335, 27.63620492, 23.4031924 , 17.01480279,\n",
       "        10.35777441]),\n",
       " 'MI hbr relation': array([ 0.        , -2.93404186, -4.87411426, -3.81906862, -0.62806199,\n",
       "         5.45656505, 12.70294736, 20.94308715, 27.99505868, 33.62804475,\n",
       "        36.10726366, 36.08723819, 32.75095642, 27.71104728, 20.46134283,\n",
       "        13.64090396]),\n",
       " 'MI hbt relation': array([ 0.        , -3.91669907, -6.82702459, -6.87196058, -4.22997714,\n",
       "         1.61900669,  9.21568173, 17.80399944, 25.28840858, 31.0312491 ,\n",
       "        33.76559992, 33.98601497, 31.24371055, 26.46887874, 19.0997229 ,\n",
       "        11.0848435 ]),\n",
       " 'Rest hbo relation': array([ 0.        , -3.58237704, -6.18268584, -8.23666967, -8.51080014,\n",
       "        -7.8241024 , -5.70996355, -3.39686536, -0.75166829,  0.9905061 ,\n",
       "         2.12645591,  1.79412711,  0.84644374, -1.15978372, -3.00262419,\n",
       "        -5.08135227]),\n",
       " 'Rest hbr relation': array([ 0.        , -3.01656461, -5.01491616, -6.8119763 , -7.13355248,\n",
       "        -6.84342884, -5.1847604 , -3.34124206, -1.01822843,  0.40264942,\n",
       "         1.27448538,  0.62309492, -0.52348717, -2.67243687, -4.4500324 ,\n",
       "        -6.46333258]),\n",
       " 'Rest hbt relation': array([ 0.        , -3.9886568 , -6.98251176, -9.23463054, -9.49304824,\n",
       "        -8.57987169, -6.16327224, -3.53407977, -0.63820039,  1.32534838,\n",
       "         2.6338115 ,  2.45542652,  1.58005109, -0.41666157, -2.35202975,\n",
       "        -4.53091621])}"
      ]
     },
     "execution_count": 21,
     "metadata": {},
     "output_type": "execute_result"
    }
   ],
   "source": [
    "new_dict"
   ]
  },
  {
   "cell_type": "code",
   "execution_count": 31,
   "metadata": {},
   "outputs": [
    {
     "data": {
      "text/plain": [
       "<matplotlib.lines.Line2D at 0x7fc99d763e80>"
      ]
     },
     "execution_count": 31,
     "metadata": {},
     "output_type": "execute_result"
    },
    {
     "data": {
      "image/png": "[encoded data removed]",
      "text/plain": [
       "<Figure size 640x480 with 1 Axes>"
      ]
     },
     "metadata": {},
     "output_type": "display_data"
    }
   ],
   "source": [
    "sns.lineplot(data=df)\n",
    "plt.axhline(y=0, color='black', alpha=0.5) \n",
    "plt.axvline(x=0, color='black', alpha=0.5) "
   ]
  },
  {
   "cell_type": "code",
   "execution_count": null,
   "metadata": {},
   "outputs": [],
   "source": []
  }
 ],
 "metadata": {
  "kernelspec": {
   "display_name": "Python 3 (ipykernel)",
   "language": "python",
   "name": "python3"
  },
  "language_info": {
   "codemirror_mode": {
    "name": "ipython",
    "version": 3
   },
   "file_extension": ".py",
   "mimetype": "text/x-python",
   "name": "python",
   "nbconvert_exporter": "python",
   "pygments_lexer": "ipython3",
   "version": "3.8.14"
  }
 },
 "nbformat": 4,
 "nbformat_minor": 5
}
