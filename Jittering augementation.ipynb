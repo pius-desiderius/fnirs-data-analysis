{
 "cells": [
  {
   "cell_type": "code",
   "execution_count": 3,
   "id": "d3a1b7fb",
   "metadata": {},
   "outputs": [],
   "source": [
    "import os.path as op\n",
    "import matplotlib.pyplot as plt\n",
    "from itertools import compress\n",
    "import numpy as np\n",
    "import mne\n",
    "from mne import events_from_annotations\n"
   ]
  },
  {
   "cell_type": "code",
   "execution_count": 8,
   "id": "9c491a06",
   "metadata": {},
   "outputs": [
    {
     "name": "stdout",
     "output_type": "stream",
     "text": [
      "Reading /home/avaldamon/Downloads/subj_04.fif ...\n",
      "    Found the data of interest:\n",
      "        t =    -300.00 ...    1000.00 ms\n",
      "        0 CTF compensation matrices available\n",
      "Not setting metadata\n",
      "162 matching events found\n",
      "No baseline correction applied\n",
      "0 projection items activated\n"
     ]
    },
    {
     "name": "stderr",
     "output_type": "stream",
     "text": [
      "/tmp/ipykernel_22030/3283231882.py:3: RuntimeWarning: This filename (/home/avaldamon/Downloads/subj_04.fif) does not conform to MNE naming conventions. All epochs files should end with -epo.fif, -epo.fif.gz, _epo.fif or _epo.fif.gz\n",
      "  epochs_raw = mne.read_epochs(filepath)\n"
     ]
    }
   ],
   "source": [
    "filepath = '/home/avaldamon/Downloads/subj_04.fif'\n",
    "\n",
    "epochs_raw = mne.read_epochs(filepath)\n",
    "SFREQ = epochs_raw.info['sfreq']\n",
    "epochs_data = epochs_raw.get_data()"
   ]
  },
  {
   "cell_type": "code",
   "execution_count": 7,
   "id": "f97b6ea9",
   "metadata": {},
   "outputs": [
    {
     "data": {
      "text/plain": [
       "(162, 31, 651)"
      ]
     },
     "execution_count": 7,
     "metadata": {},
     "output_type": "execute_result"
    }
   ],
   "source": [
    "epochs_data.shape"
   ]
  },
  {
   "cell_type": "code",
   "execution_count": 9,
   "id": "9a3f2f1a",
   "metadata": {},
   "outputs": [
    {
     "data": {
      "text/plain": [
       "500.0"
      ]
     },
     "execution_count": 9,
     "metadata": {},
     "output_type": "execute_result"
    }
   ],
   "source": [
    "SFREQ"
   ]
  },
  {
   "cell_type": "code",
   "execution_count": null,
   "id": "b4bf7c67",
   "metadata": {},
   "outputs": [],
   "source": [
    "np.random.random_sample()"
   ]
  },
  {
   "cell_type": "code",
   "execution_count": 71,
   "id": "2f8eba17",
   "metadata": {},
   "outputs": [],
   "source": [
    "sample_epoch = epochs_data[0, :, :]"
   ]
  },
  {
   "cell_type": "code",
   "execution_count": 74,
   "id": "7196b864",
   "metadata": {},
   "outputs": [
    {
     "data": {
      "text/plain": [
       "4.154168251840064e-06"
      ]
     },
     "execution_count": 74,
     "metadata": {},
     "output_type": "execute_result"
    }
   ],
   "source": [
    "np.std(sample_epoch)"
   ]
  },
  {
   "cell_type": "code",
   "execution_count": 45,
   "id": "9499048d",
   "metadata": {},
   "outputs": [],
   "source": [
    "interval = [-np.std(sample_epoch)/10, np.std(sample_epoch)/10]"
   ]
  },
  {
   "cell_type": "code",
   "execution_count": 68,
   "id": "fc135faa",
   "metadata": {},
   "outputs": [
    {
     "data": {
      "text/plain": [
       "array([ 2.58592606e-08,  2.85935857e-08, -2.52281656e-07, -2.31256001e-07,\n",
       "        1.67798564e-07,  1.82977672e-07,  2.50718704e-07, -1.99554641e-07,\n",
       "        1.92199093e-07,  5.08927276e-08, -2.43917186e-07,  2.97505704e-07,\n",
       "       -2.17987155e-07, -1.93210794e-07, -1.48126384e-07, -1.86012926e-08,\n",
       "       -1.41580011e-07,  1.16334376e-07, -9.85070663e-08, -1.33057088e-07,\n",
       "       -2.86491433e-07, -2.61683153e-07,  9.37891868e-08, -1.56078218e-07,\n",
       "       -1.61725058e-07,  2.49775674e-07,  2.04328143e-07, -7.15491499e-08,\n",
       "       -1.29337552e-07, -9.59237411e-09,  2.38690085e-07, -1.19368802e-07,\n",
       "        1.38346125e-07, -2.05700374e-07, -1.51977953e-08,  1.56792741e-07,\n",
       "       -2.94742208e-07, -2.40818107e-07, -2.69055989e-07,  1.39351854e-07,\n",
       "       -8.56121423e-08, -1.23732954e-07, -1.49277968e-07, -1.52584035e-07,\n",
       "       -2.27986757e-07,  2.88354786e-07,  1.89255013e-07,  1.72003023e-08,\n",
       "        5.99714671e-08, -1.91030976e-07, -6.96017534e-08,  2.23849414e-07,\n",
       "        4.45258520e-08, -9.77838599e-08, -2.56064884e-07, -1.08123688e-07,\n",
       "       -2.12085767e-07, -2.86984841e-08, -2.45702464e-07,  9.27429066e-08,\n",
       "        2.67476805e-07, -6.96706861e-08, -2.43531582e-08,  2.46742594e-08,\n",
       "        4.14207667e-08, -1.16529189e-07, -1.27146926e-07,  1.02348905e-07,\n",
       "        1.95976550e-07,  2.73197070e-07,  1.35958279e-07, -2.32111619e-07,\n",
       "       -1.58198320e-07, -2.16170543e-07,  2.25192132e-07,  5.40477671e-08,\n",
       "       -1.50453037e-07, -1.16942572e-08,  2.70457790e-08, -9.82435983e-09,\n",
       "        1.20942513e-07, -9.86321439e-08,  2.04114760e-07,  1.99774767e-07,\n",
       "       -3.59837352e-08,  6.04629348e-08,  7.88246303e-08,  1.15498661e-07,\n",
       "        2.25744402e-07,  7.03565608e-09, -1.30536988e-07, -2.94525280e-07,\n",
       "       -9.63583381e-08,  9.47640267e-08, -7.45143937e-08, -2.11476873e-07,\n",
       "        9.59339440e-08, -6.52631910e-08,  1.91728198e-07,  1.58177653e-07,\n",
       "        1.89236670e-07,  8.69806522e-08, -9.13511683e-08,  5.60284231e-08,\n",
       "        3.81344019e-08,  1.85087780e-07,  9.20519193e-08, -2.20101502e-07,\n",
       "       -6.76432520e-10, -2.09515755e-07, -2.87197257e-07,  2.27958413e-07,\n",
       "        1.65386249e-09, -7.30971462e-08,  2.20225282e-07, -1.73860875e-07,\n",
       "        5.70567542e-09,  1.32934479e-07,  4.66296011e-08,  2.11308128e-07,\n",
       "        2.33897588e-07, -2.23104243e-07,  1.40178083e-07,  2.00500803e-07,\n",
       "        1.81278975e-07,  9.47113749e-08, -2.83591247e-08, -3.24230856e-08,\n",
       "       -6.98995692e-08, -1.52459114e-07,  1.71462789e-09, -1.87548416e-07,\n",
       "        8.20654103e-08, -1.79686273e-07, -4.18226153e-08,  8.45184860e-08,\n",
       "        2.70976375e-07, -2.44255686e-08, -1.87103918e-07, -2.94509777e-07,\n",
       "       -3.08781017e-08,  2.61248652e-07,  4.19087022e-08,  1.99941824e-07,\n",
       "       -2.74162004e-07,  1.30279311e-08, -2.54046680e-07, -7.26666117e-08,\n",
       "        2.94898436e-07,  2.93752999e-07, -2.22636238e-07,  5.29738339e-09,\n",
       "       -1.17827643e-07, -3.88832596e-08, -1.80854609e-07, -1.26519822e-07,\n",
       "        1.24369758e-07, -2.76829849e-07,  4.88174905e-08,  1.31421249e-08,\n",
       "        6.81907318e-08, -1.97762949e-07, -7.52548667e-08, -6.28847072e-08,\n",
       "        2.25966158e-08, -1.66085448e-07,  2.47222721e-07, -1.84716152e-07,\n",
       "        7.86376379e-09, -1.17539650e-07, -2.01062402e-07, -9.23911066e-08,\n",
       "        2.80581996e-08,  1.53120703e-07, -2.66334306e-07,  2.68759241e-07,\n",
       "        2.90603199e-07,  2.49021673e-07, -1.22592264e-07,  2.61547284e-07,\n",
       "        3.75791885e-08, -5.70428572e-08, -2.21390131e-07, -2.90333608e-07,\n",
       "        2.52837850e-07, -1.54171172e-07,  2.55360704e-07,  8.29107914e-08,\n",
       "        1.11197078e-07,  2.82691686e-07, -2.87254349e-07,  1.90387635e-07,\n",
       "       -2.24365373e-08,  8.60072047e-08,  2.95232798e-08,  1.78624953e-07,\n",
       "       -8.94889755e-08,  1.78099149e-07,  1.69873298e-07,  4.10137296e-08,\n",
       "        2.22720714e-07,  7.13490621e-08,  3.15672142e-08, -1.89895869e-07,\n",
       "        1.24803923e-07, -9.15199038e-08, -3.95418525e-09, -1.09442437e-07,\n",
       "       -2.04579077e-07, -2.97213848e-07,  3.15743346e-08,  9.44428928e-08,\n",
       "        1.86468588e-07,  2.42943821e-07, -2.72559860e-07, -5.45198559e-09,\n",
       "        4.45037636e-08, -2.32536701e-07, -2.78170485e-07, -1.91337908e-07,\n",
       "        1.16487006e-07,  1.83234687e-07,  2.84162032e-08, -2.48066951e-07,\n",
       "       -1.69777945e-07,  1.81209655e-07,  3.49553678e-08, -7.85600360e-08,\n",
       "        2.68100670e-07, -1.28600918e-07, -8.18632883e-08, -1.21639701e-07,\n",
       "        2.16726055e-07, -4.10168353e-08, -1.89172677e-07, -1.81403837e-07,\n",
       "       -2.39582476e-08, -1.49989082e-08, -1.56045214e-07, -1.96972159e-08,\n",
       "       -2.86672114e-07, -9.32507663e-08, -1.66575848e-07, -9.43505793e-08,\n",
       "       -2.54541223e-08, -2.31339228e-07, -2.48148946e-07, -9.25831969e-08,\n",
       "       -8.45286728e-08, -2.63305644e-07, -3.60935443e-08,  1.20982844e-08,\n",
       "       -2.03727897e-07, -2.35774336e-07,  1.38706874e-07,  8.22291066e-08,\n",
       "       -1.32037210e-07,  1.13859262e-07, -2.06293527e-07,  6.61384521e-08,\n",
       "       -2.74729007e-07,  1.24783695e-08,  2.93339082e-07, -1.94104045e-07,\n",
       "       -1.72504685e-08, -6.31960069e-08, -1.04322785e-07,  4.42516306e-08,\n",
       "       -2.53909576e-07,  9.35808616e-08,  1.99189888e-07, -1.11924230e-07,\n",
       "       -2.88513552e-07,  2.86786848e-07, -2.78061729e-07,  1.92917738e-07,\n",
       "       -1.60552201e-07,  6.80909210e-08,  7.74850842e-08,  1.68575991e-07,\n",
       "       -1.45490470e-07, -1.97346423e-08,  2.87903818e-07, -2.55281048e-07,\n",
       "        2.09323997e-07, -4.86444148e-08,  7.86111854e-08, -2.33587575e-07,\n",
       "       -1.64022798e-07,  1.36080157e-07, -1.61595083e-07, -2.01989076e-07,\n",
       "        2.08902421e-07, -1.13471528e-07, -1.61481715e-07,  1.99476614e-07,\n",
       "       -2.93823285e-07,  2.24875072e-07,  6.61291232e-08,  6.40113020e-08,\n",
       "        2.25310998e-07, -2.83920749e-07, -5.97029339e-08,  2.17815453e-08,\n",
       "       -1.03094121e-07, -2.05847027e-08,  2.84072643e-07, -4.10790905e-08,\n",
       "        3.15099833e-09,  1.34352244e-07, -2.76081076e-08, -1.35407822e-07,\n",
       "       -1.40940692e-07, -9.26480039e-08,  2.18366554e-07, -5.59349635e-08,\n",
       "        2.24122284e-07, -2.31710189e-07, -7.75575792e-08,  6.07590918e-08,\n",
       "        2.14289497e-07, -5.22636423e-08, -2.19246282e-07, -2.86588505e-08,\n",
       "       -1.52248748e-07, -1.86506975e-08,  2.10175030e-07,  2.82555988e-07,\n",
       "       -1.73883064e-07, -6.65242168e-08,  2.89331835e-07,  1.50047786e-07,\n",
       "        1.20511031e-07,  2.79225035e-07,  2.29408923e-07, -1.24927711e-07,\n",
       "       -1.70319758e-07,  6.65035803e-08,  1.49965961e-07, -1.38916348e-07,\n",
       "       -7.83711831e-08, -1.06616228e-07,  1.36399713e-07,  1.08024229e-08,\n",
       "        2.94348445e-07, -3.80202310e-08, -1.35654818e-07,  1.86512455e-07,\n",
       "       -8.70366534e-08,  1.76879482e-07,  2.04960474e-07, -2.79573249e-07,\n",
       "       -1.46441877e-07, -2.64198706e-07,  2.54633823e-07, -1.70356364e-07,\n",
       "        1.62820081e-07,  2.97711877e-07,  1.76085177e-07, -1.29292993e-07,\n",
       "       -7.94552888e-08,  8.29967717e-08, -2.35283043e-08,  4.08436152e-08,\n",
       "        2.43822744e-07,  8.62575266e-08, -2.69123291e-08,  2.07124345e-07,\n",
       "        2.77159764e-07, -1.30518887e-07, -1.52568897e-07, -9.12885434e-08,\n",
       "        1.23641176e-07,  2.71147173e-07,  2.50673961e-07,  1.73741396e-08,\n",
       "       -2.07114523e-08,  9.36310181e-08, -1.17760102e-08,  3.09093164e-08,\n",
       "       -9.89115327e-08, -2.48918886e-07,  2.41073430e-07, -6.11746554e-08,\n",
       "        2.73171915e-07, -1.01915247e-07,  2.96507482e-07,  2.24828245e-07,\n",
       "       -2.70425595e-07,  1.40474541e-07, -1.26644978e-08,  1.60822873e-07,\n",
       "        2.37139533e-07,  1.67011428e-08,  6.68054462e-08,  2.19366503e-07,\n",
       "       -5.30487546e-08, -2.17517021e-07,  3.61666892e-08,  9.09015349e-08,\n",
       "       -2.52188047e-07,  8.64022329e-08,  1.14341638e-07, -2.32201279e-07,\n",
       "       -1.63895655e-07,  2.86445460e-07, -1.12269709e-07,  2.85661316e-07,\n",
       "        4.34231806e-08,  5.46769603e-08, -1.28059579e-07, -1.10462805e-07,\n",
       "       -2.84184571e-07, -9.71441895e-08, -7.08878909e-08, -5.75873143e-08,\n",
       "       -4.72310743e-08,  1.57763318e-07,  1.31955073e-07,  2.27982908e-07,\n",
       "       -2.42740447e-07,  2.80873621e-08, -9.10112929e-08,  1.19578685e-07,\n",
       "       -2.41237918e-07, -1.77206979e-09,  2.50811879e-07, -1.76628384e-07,\n",
       "        1.18753293e-07,  6.42091466e-08, -5.60721371e-08,  1.84665042e-08,\n",
       "       -1.55100626e-07,  2.63191642e-07,  1.54710912e-07,  2.88393932e-07,\n",
       "       -6.02713590e-08, -1.53028382e-07, -1.45781034e-07, -2.48350368e-07,\n",
       "       -2.20108328e-07,  1.05472348e-07, -2.45268783e-07,  1.18685877e-07,\n",
       "       -4.46646228e-08, -2.01917181e-07,  4.45321588e-08,  1.47391333e-07,\n",
       "       -2.48584210e-07, -2.16228822e-07,  2.96707635e-08, -1.51172261e-07,\n",
       "        9.83610824e-09,  7.85756838e-08, -2.69012966e-08, -8.67299592e-08,\n",
       "        1.40350363e-07,  2.64435876e-07, -5.57278753e-08,  1.89756325e-07,\n",
       "        1.31922649e-07,  1.62561500e-07,  4.20608208e-08, -4.72537811e-09,\n",
       "       -5.54487050e-08, -9.34271102e-08, -7.93994031e-08,  9.56539103e-08,\n",
       "       -1.79293063e-07, -1.18002280e-08,  9.08571178e-08, -5.46528681e-08,\n",
       "       -2.01575764e-07,  2.48886306e-07,  2.95025427e-07,  1.98284400e-07,\n",
       "       -1.78182935e-07, -4.19667741e-08,  5.72497605e-08, -9.95558203e-08,\n",
       "        2.42197747e-07, -2.21756785e-07,  3.62297865e-08,  2.71290619e-08,\n",
       "       -2.26410931e-07, -2.27020807e-08,  1.09767465e-07,  6.53304949e-08,\n",
       "        1.31055844e-07, -1.37027376e-07, -1.97134185e-07,  4.39042726e-08,\n",
       "        1.64006486e-07,  2.22341446e-07, -7.80847954e-08,  9.74193290e-08,\n",
       "       -2.47842877e-07,  5.79073939e-08,  2.49616261e-07,  1.40979825e-07,\n",
       "        2.54701306e-08,  1.96072018e-07, -1.32270048e-07,  3.31871622e-08,\n",
       "       -1.98358654e-07,  2.33249385e-07, -2.64554685e-07, -1.50957453e-07,\n",
       "        1.35469614e-07,  1.35749753e-07, -1.11714594e-07,  5.19617894e-08,\n",
       "       -1.97996460e-07,  1.41370836e-07,  2.51111518e-07,  6.69538490e-08,\n",
       "        2.59345601e-07,  2.72212726e-07,  8.85678701e-08, -2.01864923e-07,\n",
       "        8.30614783e-08,  1.76072663e-07, -1.41220264e-07, -2.71212738e-08,\n",
       "       -1.61820091e-07,  9.94707014e-08,  1.33826561e-07,  1.94922568e-07,\n",
       "        3.28841331e-08, -6.52510856e-08, -2.91530911e-07, -1.61605938e-07,\n",
       "        1.01311520e-07, -1.22326404e-07, -1.08966237e-07, -2.15198140e-07,\n",
       "        8.44488929e-08,  1.19981275e-07, -8.34264327e-08, -1.87861852e-07,\n",
       "       -1.33088296e-07, -3.53228999e-08, -1.71534545e-07,  2.83749078e-08,\n",
       "        2.15952531e-07,  2.80040364e-07, -9.90191895e-08, -7.37037421e-08,\n",
       "        7.25137759e-08,  2.57234584e-07,  1.58417641e-07,  2.96097723e-07,\n",
       "        2.07297014e-07,  4.10907451e-08, -2.37093099e-08,  7.05446303e-08,\n",
       "       -2.68002462e-07,  2.75211974e-07, -2.74473002e-07,  9.38869336e-08,\n",
       "       -2.48362886e-07,  1.60211407e-07, -1.59270198e-07, -4.36489589e-08,\n",
       "       -3.32597582e-09, -1.12968353e-08, -1.09636310e-07,  8.56058363e-08,\n",
       "       -3.03352109e-08,  2.80910941e-07, -1.06058705e-07,  2.96530475e-07,\n",
       "       -2.42040119e-07,  2.78849617e-08, -2.13370295e-07,  2.32202023e-07,\n",
       "        2.50103843e-08, -5.26112750e-08, -2.38278060e-07, -2.21407760e-08,\n",
       "       -1.65297226e-07, -1.25768630e-07, -1.40579714e-07, -1.45214980e-07,\n",
       "       -2.17261344e-07,  2.44560796e-07,  2.29262716e-07,  2.87852191e-07,\n",
       "        7.62598367e-08,  6.51099182e-08, -1.09045194e-07,  2.60851023e-07,\n",
       "       -2.67199546e-07, -1.63496193e-07,  1.95365858e-07,  2.09599769e-08,\n",
       "        2.67657743e-07,  2.84399585e-07,  8.10497186e-08, -1.92433885e-09,\n",
       "       -6.05677435e-08, -1.49433242e-07,  2.67777068e-07,  2.49243875e-07,\n",
       "       -5.32132244e-08, -7.71191020e-08, -1.48748909e-07, -2.16419692e-07,\n",
       "       -1.99709900e-07,  2.09717782e-07, -2.95968595e-07,  4.68162379e-08,\n",
       "       -2.56331481e-07, -2.67902596e-07,  4.34075429e-08,  2.20794808e-08,\n",
       "        1.37636906e-07,  2.29605763e-07,  1.79501263e-07,  1.40297726e-07,\n",
       "       -1.23457676e-07, -1.24401337e-07, -2.53428497e-07,  1.03205192e-07,\n",
       "       -2.88172607e-07, -2.76827579e-07,  7.17742726e-09,  6.61015775e-09,\n",
       "       -9.54779020e-10,  1.61274906e-07, -5.90996447e-08, -2.52562070e-07,\n",
       "       -7.98071261e-08,  1.93584491e-08,  1.35206397e-07, -1.13165674e-08,\n",
       "        8.11589758e-08,  2.19769993e-07, -2.60410638e-07, -1.12520910e-07,\n",
       "        2.18334798e-07,  2.22385160e-07, -2.34092012e-07,  2.85814833e-07,\n",
       "       -9.20437551e-08, -2.85919014e-07,  1.59196676e-07, -2.39905289e-07,\n",
       "       -1.89840614e-07, -1.42242989e-07, -1.85389612e-07])"
      ]
     },
     "execution_count": 68,
     "metadata": {},
     "output_type": "execute_result"
    }
   ],
   "source": [
    "augemntator"
   ]
  },
  {
   "cell_type": "code",
   "execution_count": 67,
   "id": "d172b6f3",
   "metadata": {},
   "outputs": [],
   "source": [
    "augemntator = np.random.uniform(-np.std(sample_epoch)/10, np.std(sample_epoch)/10, [sample_epoch.shape[0],])"
   ]
  },
  {
   "cell_type": "code",
   "execution_count": 69,
   "id": "ab5ed2b8",
   "metadata": {},
   "outputs": [],
   "source": [
    "augmentated_epoch = sample_epoch + augemntator"
   ]
  },
  {
   "cell_type": "code",
   "execution_count": 70,
   "id": "d22c16f2",
   "metadata": {},
   "outputs": [
    {
     "data": {
      "text/plain": [
       "[<matplotlib.lines.Line2D at 0x7f4245817490>]"
      ]
     },
     "execution_count": 70,
     "metadata": {},
     "output_type": "execute_result"
    },
    {
     "data": {
      "image/png": "[encoded data removed]",
      "text/plain": [
       "<Figure size 640x480 with 1 Axes>"
      ]
     },
     "metadata": {},
     "output_type": "display_data"
    }
   ],
   "source": [
    "plt.plot( [0.002*i for i in range(sample_epoch.shape[0])], augmentated_epoch,)"
   ]
  },
  {
   "cell_type": "code",
   "execution_count": null,
   "id": "2656bc81",
   "metadata": {},
   "outputs": [],
   "source": []
  }
 ],
 "metadata": {
  "kernelspec": {
   "display_name": "Python 3 (ipykernel)",
   "language": "python",
   "name": "python3"
  },
  "language_info": {
   "codemirror_mode": {
    "name": "ipython",
    "version": 3
   },
   "file_extension": ".py",
   "mimetype": "text/x-python",
   "name": "python",
   "nbconvert_exporter": "python",
   "pygments_lexer": "ipython3",
   "version": "3.8.14"
  }
 },
 "nbformat": 4,
 "nbformat_minor": 5
}
