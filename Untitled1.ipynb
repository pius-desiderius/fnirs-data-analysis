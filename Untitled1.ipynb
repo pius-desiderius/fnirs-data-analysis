{
 "cells": [
  {
   "cell_type": "code",
   "execution_count": 1,
   "id": "5ee8dbf0",
   "metadata": {},
   "outputs": [],
   "source": [
    "import os.path as op\n",
    "import matplotlib.pyplot as plt\n",
    "from itertools import compress\n",
    "import time\n",
    "import logging\n",
    "import mne\n",
    "from mne import events_from_annotations\n",
    "from collections import OrderedDict\n",
    "import seaborn as sns\n",
    "import pingouin as pg\n",
    "\n",
    "\n",
    "import numpy as np\n",
    "import matplotlib.pyplot as plt\n",
    "import matplotlib\n",
    "from itertools import compress\n",
    "import mne\n",
    "import mne_nirs\n",
    "from mne.preprocessing.nirs import optical_density, beer_lambert_law\n",
    "\n",
    "from mne_nirs.signal_enhancement import enhance_negative_correlation, short_channel_regression\n",
    "\n",
    "from mne.preprocessing.nirs import (optical_density,\n",
    "                                    temporal_derivative_distribution_repair,\n",
    "                                    scalp_coupling_index)\n",
    "\n",
    "from mne.stats import permutation_t_test\n",
    "\n",
    "import ROI\n",
    "from ROI import different_hb, different_roi\n",
    "from meta import *\n",
    "from filter_params import FILTER_DICT\n",
    "from functions_fnirs import *\n",
    "\n",
    "def fast_scanfiles(dirname, contains=None):\n",
    "    subfiles = [f.path for f in os.scandir(dirname) if f.is_file()]\n",
    "    if contains != None:\n",
    "        subfiles = [i for i in subfiles if contains in i ]\n",
    "    return subfiles\n",
    "\n",
    "\n",
    "def fast_scanfiles_subjfiles(dirname, contains=None):\n",
    "    subfolders = fast_scandir(dirname)\n",
    "    subfiles = []\n",
    "    subfiles.extend(fast_scanfiles(dirname, contains=contains))\n",
    "    for dirs in subfolders:\n",
    "        subfiles.extend(fast_scanfiles(dirs, contains=contains))\n",
    "    return subfiles\n",
    "\n",
    "SFREQ = 2"
   ]
  },
  {
   "cell_type": "code",
   "execution_count": 10,
   "id": "5270f9c9",
   "metadata": {},
   "outputs": [],
   "source": [
    "pathname = '/mnt/diskus/fNIRS data ME_MI_TS_TI_SA/'\n",
    "raw_intensity = mne.io.read_raw_nirx(pathname)"
   ]
  },
  {
   "cell_type": "code",
   "execution_count": 15,
   "id": "65b52a0f",
   "metadata": {},
   "outputs": [],
   "source": [
    "calibration = fast_scanfiles_subjfiles(pathname, contains='calibration')"
   ]
  },
  {
   "cell_type": "code",
   "execution_count": 6,
   "id": "4e2390f2",
   "metadata": {},
   "outputs": [],
   "source": [
    "import json\n"
   ]
  },
  {
   "cell_type": "code",
   "execution_count": 18,
   "id": "594afad2",
   "metadata": {},
   "outputs": [],
   "source": [
    "with open(calibration[0], 'r') as json_file:\n",
    "    data = json.load(json_file)\n"
   ]
  },
  {
   "cell_type": "code",
   "execution_count": 57,
   "id": "544dcb8a",
   "metadata": {},
   "outputs": [],
   "source": [
    "path = '/mnt/diskus/fNIRS data ME_MI_TS_TI_SA/AM/AM_ME'\n",
    "def bad_channels(path):\n",
    "    json_path = fast_scanfiles(path, contains='calibration')[0]\n",
    "    with open(json_path, 'r') as json_file:\n",
    "        data = json.load(json_file)\n",
    "    mask = [True if i['level']==2 or i['level']==1 else False for i in data['signal_quality']]\n",
    "    chans = raw_intensity.ch_names\n",
    "    hbo = chans[::2]\n",
    "    filtered_list = [value for value, condition in zip(hbo, mask) if condition]\n",
    "    longs, shorts = [], []\n",
    "    for i in filtered_list:\n",
    "        val = int(i.split('D')[1].split(' ')[0])\n",
    "        if val > 31:\n",
    "            shorts.append(i)\n",
    "        else:\n",
    "            longs.append(i)\n",
    "    longs.extend([i.replace('760', '850') for i in longs])\n",
    "    shorts.extend([i.replace('760', '850') for i in shorts])\n",
    "\n",
    "    return longs, shorts\n"
   ]
  },
  {
   "cell_type": "code",
   "execution_count": 58,
   "id": "307433bc",
   "metadata": {},
   "outputs": [
    {
     "name": "stdout",
     "output_type": "stream",
     "text": [
      "Loading /mnt/diskus/fNIRS data ME_MI_TS_TI_SA/AM/AM_ME\n"
     ]
    }
   ],
   "source": [
    "raw_intensity = mne.io.read_raw_nirx(path)\n",
    "chans = raw_intensity.ch_names"
   ]
  },
  {
   "cell_type": "code",
   "execution_count": 59,
   "id": "829513f5",
   "metadata": {},
   "outputs": [],
   "source": [
    "longs, short = bad_channels(path)"
   ]
  },
  {
   "cell_type": "code",
   "execution_count": 60,
   "id": "a0846621",
   "metadata": {},
   "outputs": [
    {
     "data": {
      "text/plain": [
       "['S1_D6 760',\n",
       " 'S2_D1 760',\n",
       " 'S2_D4 760',\n",
       " 'S2_D7 760',\n",
       " 'S3_D1 760',\n",
       " 'S3_D8 760',\n",
       " 'S5_D12 760',\n",
       " 'S11_D20 760',\n",
       " 'S12_D21 760',\n",
       " 'S13_D18 760',\n",
       " 'S16_D16 760',\n",
       " 'S19_D18 760',\n",
       " 'S19_D22 760',\n",
       " 'S25_D24 760',\n",
       " 'S26_D21 760',\n",
       " 'S31_D27 760',\n",
       " 'S32_D31 760',\n",
       " 'S1_D6 850',\n",
       " 'S2_D1 850',\n",
       " 'S2_D4 850',\n",
       " 'S2_D7 850',\n",
       " 'S3_D1 850',\n",
       " 'S3_D8 850',\n",
       " 'S5_D12 850',\n",
       " 'S11_D20 850',\n",
       " 'S12_D21 850',\n",
       " 'S13_D18 850',\n",
       " 'S16_D16 850',\n",
       " 'S19_D18 850',\n",
       " 'S19_D22 850',\n",
       " 'S25_D24 850',\n",
       " 'S26_D21 850',\n",
       " 'S31_D27 850',\n",
       " 'S32_D31 850']"
      ]
     },
     "execution_count": 60,
     "metadata": {},
     "output_type": "execute_result"
    }
   ],
   "source": [
    "longs"
   ]
  },
  {
   "cell_type": "code",
   "execution_count": 63,
   "id": "1419bd07",
   "metadata": {},
   "outputs": [
    {
     "name": "stdout",
     "output_type": "stream",
     "text": [
      "Using matplotlib backend: QtAgg\n"
     ]
    }
   ],
   "source": [
    "%matplotlib auto"
   ]
  },
  {
   "cell_type": "code",
   "execution_count": 65,
   "id": "167dad79",
   "metadata": {},
   "outputs": [
    {
     "name": "stderr",
     "output_type": "stream",
     "text": [
      "/home/avaldamon/.cache/pypoetry/virtualenvs/fnirs-pEil43oO-py3.8/lib/python3.8/site-packages/ipykernel/eventloops.py:113: UserWarning: constrained_layout not applied because axes sizes collapsed to zero.  Try making figure larger or axes decorations smaller.\n",
      "  app.exec_()\n"
     ]
    }
   ],
   "source": [
    "a = mne.viz.plot_sensors(kind='select', info=raw_intensity.info)"
   ]
  },
  {
   "cell_type": "code",
   "execution_count": 66,
   "id": "dc7e5a33",
   "metadata": {},
   "outputs": [
    {
     "data": {
      "text/plain": [
       "(<Figure size 1920x1008 with 1 Axes>,\n",
       " ['S23_D26 760',\n",
       "  'S23_D26 850',\n",
       "  'S24_D23 760',\n",
       "  'S24_D23 850',\n",
       "  'S24_D27 760',\n",
       "  'S24_D27 850',\n",
       "  'S25_D24 760',\n",
       "  'S25_D24 850',\n",
       "  'S25_D28 760',\n",
       "  'S25_D28 850',\n",
       "  'S26_D29 760',\n",
       "  'S26_D29 850',\n",
       "  'S27_D26 760',\n",
       "  'S27_D26 850',\n",
       "  'S27_D30 760',\n",
       "  'S27_D30 850',\n",
       "  'S28_D23 760',\n",
       "  'S28_D23 850',\n",
       "  'S28_D27 760',\n",
       "  'S28_D27 850',\n",
       "  'S29_D24 760',\n",
       "  'S29_D24 850',\n",
       "  'S29_D28 760',\n",
       "  'S29_D28 850',\n",
       "  'S30_D29 760',\n",
       "  'S30_D29 850',\n",
       "  'S30_D31 760',\n",
       "  'S30_D31 850',\n",
       "  'S31_D26 760',\n",
       "  'S31_D26 850',\n",
       "  'S31_D27 760',\n",
       "  'S31_D27 850',\n",
       "  'S31_D30 760',\n",
       "  'S31_D30 850',\n",
       "  'S32_D28 760',\n",
       "  'S32_D28 850',\n",
       "  'S32_D29 760',\n",
       "  'S32_D29 850',\n",
       "  'S32_D31 760',\n",
       "  'S32_D31 850'])"
      ]
     },
     "execution_count": 66,
     "metadata": {},
     "output_type": "execute_result"
    }
   ],
   "source": [
    "a"
   ]
  },
  {
   "cell_type": "code",
   "execution_count": null,
   "id": "72f45345",
   "metadata": {},
   "outputs": [],
   "source": []
  }
 ],
 "metadata": {
  "kernelspec": {
   "display_name": "Python 3 (ipykernel)",
   "language": "python",
   "name": "python3"
  },
  "language_info": {
   "codemirror_mode": {
    "name": "ipython",
    "version": 3
   },
   "file_extension": ".py",
   "mimetype": "text/x-python",
   "name": "python",
   "nbconvert_exporter": "python",
   "pygments_lexer": "ipython3",
   "version": "3.8.14"
  }
 },
 "nbformat": 4,
 "nbformat_minor": 5
}
