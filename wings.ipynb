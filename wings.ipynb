{
 "cells": [
  {
   "cell_type": "code",
   "execution_count": 1,
   "id": "ea5c859f",
   "metadata": {},
   "outputs": [],
   "source": [
    "import numpy as np\n",
    "import matplotlib.pyplot as plt\n",
    "import mne\n",
    "import pandas as pd\n",
    "import os\n",
    "import matplotlib\n",
    "import seaborn as sns\n",
    "import scipy\n",
    "from scipy.signal import find_peaks\n",
    "from scipy.stats import mode\n",
    "from itertools import compress\n",
    "\n",
    "import pingouin as pg\n",
    "\n",
    "from mpl_toolkits.axes_grid1 import make_axes_locatable, ImageGrid\n",
    "\n",
    "# import pickle\n",
    "# from alice_ml.models import predict_mne\n",
    "\n",
    "# from biosppy.signals import ecg\n",
    "# import pyhrv.tools as tools\n",
    "# import pyhrv\n",
    "# from hrvanalysis import remove_outliers, remove_ectopic_beats, interpolate_nan_values\n",
    "# from hrvanalysis import get_time_domain_features\n",
    "\n",
    "from scipy.stats import ttest_ind\n",
    "from mne.channels import find_ch_adjacency, make_1020_channel_selections\n",
    "from mne.stats import spatio_temporal_cluster_test"
   ]
  },
  {
   "cell_type": "code",
   "execution_count": 3,
   "id": "7bca283b",
   "metadata": {},
   "outputs": [
    {
     "data": {
      "text/plain": [
       "(204,)"
      ]
     },
     "execution_count": 3,
     "metadata": {},
     "output_type": "execute_result"
    }
   ],
   "source": [
    "arr = np.load('/home/avaldamon/Desktop/intact/topomaps_np/AA_ME_smr_rest_topo.npy')\n",
    "arr.shape"
   ]
  },
  {
   "cell_type": "code",
   "execution_count": 2,
   "id": "18f10a27",
   "metadata": {},
   "outputs": [
    {
     "name": "stdout",
     "output_type": "stream",
     "text": [
      "Loading /mnt/diskus/fNIRS data ME_MI_TS_TI_SA/OK/OK_TS\n"
     ]
    }
   ],
   "source": [
    "fnirs_data_folder = '/mnt/diskus/fNIRS data ME_MI_TS_TI_SA/OK/OK_TS'\n",
    "raw_intensity = mne.io.read_raw_nirx(fnirs_data_folder, verbose=True)"
   ]
  },
  {
   "cell_type": "code",
   "execution_count": 19,
   "id": "4b7a1b35",
   "metadata": {},
   "outputs": [
    {
     "name": "stdout",
     "output_type": "stream",
     "text": [
      "Used Annotations descriptions: ['1.0', '2.0']\n"
     ]
    }
   ],
   "source": [
    "events, event_dict = mne.events_from_annotations(raw_intensity)\n"
   ]
  },
  {
   "cell_type": "code",
   "execution_count": 31,
   "id": "2de24c20",
   "metadata": {},
   "outputs": [
    {
     "data": {
      "text/plain": [
       "array([2, 2, 1, 1, 2, 1, 1, 2, 2, 1, 1, 2, 2, 1, 1, 2, 1, 1, 2, 1, 1, 2,\n",
       "       2, 1, 1, 2, 2, 1, 2, 2, 1, 1, 2, 2, 1, 2, 2, 1, 1, 2])"
      ]
     },
     "execution_count": 31,
     "metadata": {},
     "output_type": "execute_result"
    }
   ],
   "source": [
    "events_sequence = events[:, [2]].flatten()\n",
    "events_sequence"
   ]
  },
  {
   "cell_type": "code",
   "execution_count": 16,
   "id": "1dfb7f2e",
   "metadata": {
    "scrolled": true
   },
   "outputs": [
    {
     "data": {
      "text/plain": [
       "(7214,)"
      ]
     },
     "execution_count": 16,
     "metadata": {},
     "output_type": "execute_result"
    }
   ],
   "source": [
    "raw_intensity.times.shape"
   ]
  },
  {
   "cell_type": "code",
   "execution_count": 6,
   "id": "2c6e37e3",
   "metadata": {},
   "outputs": [],
   "source": [
    "wings_file = '/mnt/diskus/fNIRS data ME_MI_TS_TI_SA/OK/OK_TS/2023-07-17_001.wings'\n",
    "df_wings = pd.read_csv(wings_file, sep=';',\n",
    "               header=None)"
   ]
  },
  {
   "cell_type": "code",
   "execution_count": 14,
   "id": "e023ec13",
   "metadata": {},
   "outputs": [
    {
     "name": "stdout",
     "output_type": "stream",
     "text": [
      "Using matplotlib backend: QtAgg\n"
     ]
    },
    {
     "data": {
      "text/plain": [
       "<AxesSubplot: ylabel='5'>"
      ]
     },
     "execution_count": 14,
     "metadata": {},
     "output_type": "execute_result"
    }
   ],
   "source": [
    "%matplotlib auto\n",
    "sns.lineplot(df_wings[5])"
   ]
  },
  {
   "cell_type": "code",
   "execution_count": 18,
   "id": "a735212b",
   "metadata": {},
   "outputs": [],
   "source": [
    "for i in range(1,13,1):\n",
    "    plt.figure()\n",
    "    plt.plot(df_wings[i])\n",
    "    plt.xlim(30000,50000)\n",
    "    plt.title(i)"
   ]
  },
  {
   "cell_type": "code",
   "execution_count": 21,
   "id": "aaa31bf0",
   "metadata": {},
   "outputs": [],
   "source": [
    "eventsInms = [raw_intensity.times[i] for i in events[:,0]]\n",
    "winxTimes = a[1].to_numpy()\n",
    "winxTimes_events = [np.where(winxTimes<i)[0][-1] for i in eventsInms]"
   ]
  },
  {
   "cell_type": "code",
   "execution_count": 40,
   "id": "487533fa",
   "metadata": {},
   "outputs": [],
   "source": [
    "wings_events = np.array(winxTimes_events)\n",
    "wings_events = np.vstack((wings_events, events_sequence))"
   ]
  },
  {
   "cell_type": "code",
   "execution_count": 42,
   "id": "a10f74ce",
   "metadata": {},
   "outputs": [
    {
     "data": {
      "text/plain": [
       "array([[ 46444,  54064,  61682,  69303,  76919,  84538,  92156,  99774,\n",
       "        107393, 115010, 122630, 130249, 137867, 145436, 153055, 160672,\n",
       "        168292, 175910, 183580, 191150, 198815, 206433, 214002, 221621,\n",
       "        229239, 236856, 244475, 252097, 259714, 267334, 274905, 282519,\n",
       "        290187, 297758, 305380, 312991, 320613, 328183, 335801, 343468],\n",
       "       [     2,      2,      1,      1,      2,      1,      1,      2,\n",
       "             2,      1,      1,      2,      2,      1,      1,      2,\n",
       "             1,      1,      2,      1,      1,      2,      2,      1,\n",
       "             1,      2,      2,      1,      2,      2,      1,      1,\n",
       "             2,      2,      1,      2,      2,      1,      1,      2]])"
      ]
     },
     "execution_count": 42,
     "metadata": {},
     "output_type": "execute_result"
    }
   ],
   "source": [
    "wings_events"
   ]
  },
  {
   "cell_type": "code",
   "execution_count": 43,
   "id": "b4b8504d",
   "metadata": {},
   "outputs": [
    {
     "name": "stdout",
     "output_type": "stream",
     "text": [
      "[ 46444  54064  61682  69303  76919  84538  92156  99774 107393 115010\n",
      " 122630 130249 137867 145436 153055 160672 168292 175910 183580 191150\n",
      " 198815 206433 214002 221621 229239 236856 244475 252097 259714 267334\n",
      " 274905 282519 290187 297758 305380 312991 320613 328183 335801 343468]\n",
      "[2 2 1 1 2 1 1 2 2 1 1 2 2 1 1 2 1 1 2 1 1 2 2 1 1 2 2 1 2 2 1 1 2 2 1 2 2\n",
      " 1 1 2]\n"
     ]
    }
   ],
   "source": [
    "for e in wings_events:\n",
    "    print(e)"
   ]
  },
  {
   "cell_type": "code",
   "execution_count": 57,
   "id": "da4cfd58",
   "metadata": {},
   "outputs": [
    {
     "name": "stdout",
     "output_type": "stream",
     "text": [
      "2\n",
      "2\n",
      "1\n",
      "1\n",
      "2\n",
      "1\n",
      "1\n",
      "2\n",
      "2\n",
      "1\n",
      "1\n",
      "2\n",
      "2\n",
      "1\n",
      "1\n",
      "2\n",
      "1\n",
      "1\n",
      "2\n",
      "1\n",
      "1\n",
      "2\n",
      "2\n",
      "1\n",
      "1\n",
      "2\n",
      "2\n",
      "1\n",
      "2\n",
      "2\n",
      "1\n",
      "1\n",
      "2\n",
      "2\n",
      "1\n",
      "2\n",
      "2\n",
      "1\n",
      "1\n",
      "2\n"
     ]
    },
    {
     "data": {
      "text/plain": [
       "(1000.0, 300000.0)"
      ]
     },
     "execution_count": 57,
     "metadata": {},
     "output_type": "execute_result"
    }
   ],
   "source": [
    "from scipy.signal import detrend\n",
    "\n",
    "signal = detrend(df_wings[5]) \n",
    "\n",
    "plt.plot(signal)\n",
    "for epochs in range(wings_events.shape[1]):\n",
    "    epoch_time = wings_events[0, epochs]\n",
    "    epoch_type = wings_events[1, epochs]\n",
    "    \n",
    "    print(epoch_type)\n",
    "    if epoch_type == 2:\n",
    "        plt.axvline(epoch_time, color='r')\n",
    "    elif epoch_type == 1:\n",
    "        plt.axvline(epoch_time, color='b')\n",
    "\n",
    "\n",
    "plt.xlim(1000,3e5)"
   ]
  },
  {
   "cell_type": "code",
   "execution_count": null,
   "id": "e6162305",
   "metadata": {},
   "outputs": [],
   "source": []
  }
 ],
 "metadata": {
  "kernelspec": {
   "display_name": "Python 3 (ipykernel)",
   "language": "python",
   "name": "python3"
  },
  "language_info": {
   "codemirror_mode": {
    "name": "ipython",
    "version": 3
   },
   "file_extension": ".py",
   "mimetype": "text/x-python",
   "name": "python",
   "nbconvert_exporter": "python",
   "pygments_lexer": "ipython3",
   "version": "3.8.14"
  }
 },
 "nbformat": 4,
 "nbformat_minor": 5
}
